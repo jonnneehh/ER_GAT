{
 "cells": [
  {
   "cell_type": "code",
   "execution_count": 1,
   "id": "5b63fd00",
   "metadata": {},
   "outputs": [],
   "source": [
    "import os, re, time, pickle, collections, importlib, datetime, torch\n",
    "import pandas as pd, numpy as np, pickle\n",
    "from chardet import detect\n",
    "from tensorflow.keras.preprocessing.text import Tokenizer\n",
    "from tensorflow.keras.preprocessing.sequence import pad_sequences\n",
    "from tensorflow.keras.preprocessing.sequence import pad_sequences\n",
    "from collections import defaultdict, Counter\n",
    "from wordebd import WORDEBD\n",
    "from vocab import Vocab, Vectors\n",
    "from munch import Munch\n",
    "from cnnlstmseq import CNNLSTMseq\n",
    "%load_ext autoreload\n",
    "%autoreload 2"
   ]
  },
  {
   "cell_type": "code",
   "execution_count": 2,
   "id": "d8e3efa4",
   "metadata": {},
   "outputs": [],
   "source": [
    "def get_encoding_type(file):\n",
    "    with open(file, 'rb') as f:\n",
    "        rawdata = f.read(),\n",
    "    return detect(rawdata['encoding'])\n",
    "\n",
    "def detect_misspelling(source):\n",
    "    pass\n",
    "def replace_spelling(source):\n",
    "    return re.sub(\"Åf\", \"'\", source)"
   ]
  },
  {
   "cell_type": "code",
   "execution_count": 3,
   "id": "7b9072d1",
   "metadata": {},
   "outputs": [],
   "source": [
    "# referenced from DialogueGCN, mastodon code\n",
    "def preprocess_text(x):\n",
    "    for punct in '!\"#$%&\\'()*+,-./:;<=>?@[\\\\]^_`{|}~\\'':\n",
    "        x = x.replace(punct, ' ')\n",
    "    x = ' '.join(x.split())\n",
    "    x = x.lower()\n",
    "\n",
    "    return x\n",
    "\n",
    "def load_pretrained_glove():\n",
    "    print(\"Loading GloVe...\")\n",
    "    glv_vector = {}\n",
    "    f = open('/embed/glove/glove.840B.300d.txt', encoding='utf-8')\n",
    "    for line in f:\n",
    "        values = line.split()\n",
    "        word, coefs = values[0], np.asarray(values[1:], dtype='float')\n",
    "        try:\n",
    "            glv_vector[word] = coefs\n",
    "\n",
    "        except ValueError:\n",
    "            continue\n",
    "    f.close()\n",
    "    start_time = time.time()\n",
    "    print(f\"Took {time.time() - start_time} seconds to load pretrained GloVe model.\")\n",
    "    return glv_vector\n",
    "\n",
    "\n",
    "def encode_labels(encoder, l):\n",
    "    return encoder[l]\n",
    "\n",
    "def load_data_from_npy(file_path):\n",
    "    try:\n",
    "        data = np.load(file_path, allow_pickle=True)\n",
    "        if isinstance(data, np.ndarray):\n",
    "            if data.ndim == 2:\n",
    "                return pd.DataFrame(data)\n",
    "            else:\n",
    "                raise ValueError(\"The loaded array is not two-dimensional.\")\n",
    "        else:\n",
    "            raise TypeError(\"The loaded object is not a NumPy array.\")\n",
    "    except FileNotFoundError:\n",
    "        print(f\"Error: File not found at {file_path}\")\n",
    "        return None\n",
    "    except Exception as e:\n",
    "        print(f\"Error: An exception occurred - {str(e)}\")\n",
    "        return None\n",
    "    \n",
    "# def sentence_embedding(sentence, embeddings):\n",
    "#     words = sentence.split()\n",
    "#     vectors = [embeddings.get(word, np.zeros(300)) for word in words]\n",
    "#     mean_vector = np.mean(vectors, axis=0)\n",
    "#     return mean_vector\n",
    "\n",
    "def _read_words(data, convmode=None):\n",
    "    '''    \n",
    "        Count the occurrences of all words\n",
    "        @param convmode: str, None for non conversational scope, 'naive' for classic or naive approach, 'conv' for conversation depth into account (one additional dim and nested values)\n",
    "        @param data: list of examples\n",
    "        @return words: list of words (with duplicates)\n",
    "    '''    \n",
    "    words = []\n",
    "    if convmode is None:\n",
    "        for example in data:\n",
    "            words += example.split()     \n",
    "    return words\n",
    "\n",
    "def _data_to_nparray(data, vocab, args):\n",
    "    '''\n",
    "        Convert the data into a dictionary of np arrays for speed.\n",
    "    '''\n",
    "    raw = np.array([e for e in data[\"Utterance\"]], dtype=object)\n",
    "    doc_label = np.array([x for x in data[\"Emotion\"]], dtype=np.int64)\n",
    "\n",
    "    # compute the max text length\n",
    "    text_len = np.array([len(e) for e in data[\"Utterance\"]])\n",
    "    max_text_len = max(text_len)\n",
    "    ids = np.array([e for e in data['Dialogue_ID']])\n",
    "    ids2 = np.array([e for e in data['Utterance_ID']])\n",
    "\n",
    "    # initialize the big numpy array by <pad>\n",
    "    text = vocab.stoi['<pad>'] * np.ones([len(data), max_text_len],\n",
    "                                     dtype=np.int64)\n",
    "\n",
    "    del_idx = []\n",
    "    # convert each token to its corresponding id\n",
    "    for i in range(len(X_train)):\n",
    "        text[i, :len(X_train['Utterance'][i])] = [vocab.stoi[x] if x in vocab.stoi else vocab.stoi['<unk>']\n",
    "                for x in X_train['Utterance'][i]]\n",
    "\n",
    "        # filter out document with only unk and pad\n",
    "        if np.max(text[i]) < 2:\n",
    "            del_idx.append(i)\n",
    "\n",
    "    vocab_size = vocab.vectors.size()[0]\n",
    "\n",
    "\n",
    "    ## Curation for padding (string instead of list of list)\n",
    "    raw = [ [\"<pad>\" if m == [\"<pad>\", \"<pad>\", \"<pad>\", \"<pad>\", \"<pad>\"] else m for m in c ] for c in raw ]\n",
    "\n",
    "    ids, ids2, text_len, text, doc_label, raw = _del_by_idx( [ids, ids2, text_len, text, doc_label, raw], del_idx, 0)\n",
    "    new_data = {\n",
    "        'ids': ids,\n",
    "        'ids2': ids2,\n",
    "        'text': text,\n",
    "        'text_len': text_len,\n",
    "        'label': doc_label,\n",
    "#         'raw': raw,\n",
    "        'vocab_size': vocab_size,\n",
    "    }\n",
    "\n",
    "    return new_data\n",
    "\n",
    "def _del_by_idx(array_list, idx, axis):\n",
    "\n",
    "    '''        \n",
    "        Delete the specified index for each array in the array_lists\",\n",
    "\n",
    "        @params: array_list: list of np arrays\n",
    "        @params: idx: list of int\n",
    "        @params: axis: int\n",
    "\n",
    "        @return: res: tuple of pruned np arrays\n",
    "    '''\n",
    "    if type(array_list) is not list:\n",
    "        array_list = [array_list]\n",
    "\n",
    "    # modified to perform operations in place\n",
    "    for i, array in enumerate(array_list):\n",
    "        array_list[i] = np.delete(array, idx, axis)\n",
    "\n",
    "    if len(array_list) == 1:\n",
    "        return array_list[0]\n",
    "    else:\n",
    "        return array_list\n",
    "\n",
    "def find_value_ranges(lst):\n",
    "    value_ranges = []\n",
    "    start_index = 0\n",
    "\n",
    "    for i in range(1, len(lst)):\n",
    "        if lst[i] != lst[i - 1]:\n",
    "            value_ranges.append((start_index, i - 1))\n",
    "            start_index = i\n",
    "\n",
    "    # Add the last range\n",
    "    value_ranges.append((start_index, len(lst) - 1))\n",
    "\n",
    "    return value_ranges\n"
   ]
  },
  {
   "cell_type": "code",
   "execution_count": 4,
   "id": "94282feb",
   "metadata": {},
   "outputs": [
    {
     "data": {
      "text/plain": [
       "['.git',\n",
       " '.gitignore',\n",
       " 'cnnlstmseq.py',\n",
       " 'context_encoder.ipynb',\n",
       " 'data',\n",
       " 'embed',\n",
       " 'emotionClassifier.ipynb',\n",
       " 'GAT.py',\n",
       " 'LICENSE',\n",
       " 'README.md',\n",
       " 'relationtype_encoder.ipynb',\n",
       " 'runs',\n",
       " 'utils',\n",
       " 'vocab.py',\n",
       " 'wordebd.py',\n",
       " '__pycache__']"
      ]
     },
     "execution_count": 4,
     "metadata": {},
     "output_type": "execute_result"
    }
   ],
   "source": [
    "os.listdir()"
   ]
  },
  {
   "cell_type": "code",
   "execution_count": 5,
   "id": "7147d96d",
   "metadata": {},
   "outputs": [
    {
     "data": {
      "text/plain": [
       "(12840, 12)"
      ]
     },
     "execution_count": 5,
     "metadata": {},
     "output_type": "execute_result"
    }
   ],
   "source": [
    "X_train = pd.read_csv('data/train_sent_emo_dya.csv', encoding='MacRoman')\n",
    "X_train.shape"
   ]
  },
  {
   "cell_type": "code",
   "execution_count": 6,
   "id": "d4a470f6",
   "metadata": {},
   "outputs": [
    {
     "data": {
      "text/html": [
       "<div>\n",
       "<style scoped>\n",
       "    .dataframe tbody tr th:only-of-type {\n",
       "        vertical-align: middle;\n",
       "    }\n",
       "\n",
       "    .dataframe tbody tr th {\n",
       "        vertical-align: top;\n",
       "    }\n",
       "\n",
       "    .dataframe thead th {\n",
       "        text-align: right;\n",
       "    }\n",
       "</style>\n",
       "<table border=\"1\" class=\"dataframe\">\n",
       "  <thead>\n",
       "    <tr style=\"text-align: right;\">\n",
       "      <th></th>\n",
       "      <th>Utterance</th>\n",
       "      <th>Speaker</th>\n",
       "      <th>Emotion</th>\n",
       "      <th>Sentiment</th>\n",
       "      <th>Dialogue_ID</th>\n",
       "      <th>Utterance_ID</th>\n",
       "    </tr>\n",
       "  </thead>\n",
       "  <tbody>\n",
       "    <tr>\n",
       "      <th>0</th>\n",
       "      <td>also I was the point person on my companyÅfs t...</td>\n",
       "      <td>Chandler</td>\n",
       "      <td>neutral</td>\n",
       "      <td>neutral</td>\n",
       "      <td>0</td>\n",
       "      <td>0</td>\n",
       "    </tr>\n",
       "    <tr>\n",
       "      <th>1</th>\n",
       "      <td>You mustÅfve had your hands full.</td>\n",
       "      <td>The Interviewer</td>\n",
       "      <td>neutral</td>\n",
       "      <td>neutral</td>\n",
       "      <td>0</td>\n",
       "      <td>1</td>\n",
       "    </tr>\n",
       "    <tr>\n",
       "      <th>2</th>\n",
       "      <td>That I did. That I did.</td>\n",
       "      <td>Chandler</td>\n",
       "      <td>neutral</td>\n",
       "      <td>neutral</td>\n",
       "      <td>0</td>\n",
       "      <td>2</td>\n",
       "    </tr>\n",
       "  </tbody>\n",
       "</table>\n",
       "</div>"
      ],
      "text/plain": [
       "                                           Utterance          Speaker  \\\n",
       "0  also I was the point person on my companyÅfs t...         Chandler   \n",
       "1                  You mustÅfve had your hands full.  The Interviewer   \n",
       "2                            That I did. That I did.         Chandler   \n",
       "\n",
       "   Emotion Sentiment  Dialogue_ID  Utterance_ID  \n",
       "0  neutral   neutral            0             0  \n",
       "1  neutral   neutral            0             1  \n",
       "2  neutral   neutral            0             2  "
      ]
     },
     "execution_count": 6,
     "metadata": {},
     "output_type": "execute_result"
    }
   ],
   "source": [
    "drop_features = list(X_train.keys()[6:])\n",
    "# drop_features.append(\"Emotion\")\n",
    "drop_features\n",
    "y_train = pd.DataFrame()\n",
    "y_train[\"Emotion\"] = X_train[\"Emotion\"].copy()\n",
    "y_train[\"Dialogue_ID\"] = X_train[\"Dialogue_ID\"].copy()\n",
    "X_train = X_train.drop(drop_features, axis=1)\n",
    "X_train[:3]"
   ]
  },
  {
   "cell_type": "code",
   "execution_count": 7,
   "id": "fd8ac980",
   "metadata": {},
   "outputs": [
    {
     "data": {
      "text/plain": [
       "(12840, 2)"
      ]
     },
     "execution_count": 7,
     "metadata": {},
     "output_type": "execute_result"
    }
   ],
   "source": [
    "y_train.shape"
   ]
  },
  {
   "cell_type": "code",
   "execution_count": 8,
   "id": "e1381d96",
   "metadata": {},
   "outputs": [
    {
     "data": {
      "text/html": [
       "<div>\n",
       "<style scoped>\n",
       "    .dataframe tbody tr th:only-of-type {\n",
       "        vertical-align: middle;\n",
       "    }\n",
       "\n",
       "    .dataframe tbody tr th {\n",
       "        vertical-align: top;\n",
       "    }\n",
       "\n",
       "    .dataframe thead th {\n",
       "        text-align: right;\n",
       "    }\n",
       "</style>\n",
       "<table border=\"1\" class=\"dataframe\">\n",
       "  <thead>\n",
       "    <tr style=\"text-align: right;\">\n",
       "      <th></th>\n",
       "      <th>Utterance</th>\n",
       "      <th>Speaker</th>\n",
       "      <th>Emotion</th>\n",
       "      <th>Sentiment</th>\n",
       "      <th>Dialogue_ID</th>\n",
       "      <th>Utterance_ID</th>\n",
       "    </tr>\n",
       "  </thead>\n",
       "  <tbody>\n",
       "    <tr>\n",
       "      <th>0</th>\n",
       "      <td>also I was the point person on my company's tr...</td>\n",
       "      <td>Chandler</td>\n",
       "      <td>neutral</td>\n",
       "      <td>neutral</td>\n",
       "      <td>0</td>\n",
       "      <td>0</td>\n",
       "    </tr>\n",
       "    <tr>\n",
       "      <th>1</th>\n",
       "      <td>You must've had your hands full.</td>\n",
       "      <td>The Interviewer</td>\n",
       "      <td>neutral</td>\n",
       "      <td>neutral</td>\n",
       "      <td>0</td>\n",
       "      <td>1</td>\n",
       "    </tr>\n",
       "    <tr>\n",
       "      <th>2</th>\n",
       "      <td>That I did. That I did.</td>\n",
       "      <td>Chandler</td>\n",
       "      <td>neutral</td>\n",
       "      <td>neutral</td>\n",
       "      <td>0</td>\n",
       "      <td>2</td>\n",
       "    </tr>\n",
       "    <tr>\n",
       "      <th>3</th>\n",
       "      <td>So let's talk a little bit about your duties.</td>\n",
       "      <td>The Interviewer</td>\n",
       "      <td>neutral</td>\n",
       "      <td>neutral</td>\n",
       "      <td>0</td>\n",
       "      <td>3</td>\n",
       "    </tr>\n",
       "    <tr>\n",
       "      <th>4</th>\n",
       "      <td>My duties?  All right.</td>\n",
       "      <td>Chandler</td>\n",
       "      <td>surprise</td>\n",
       "      <td>positive</td>\n",
       "      <td>0</td>\n",
       "      <td>4</td>\n",
       "    </tr>\n",
       "    <tr>\n",
       "      <th>5</th>\n",
       "      <td>Now you'll be heading a whole division, so you...</td>\n",
       "      <td>The Interviewer</td>\n",
       "      <td>neutral</td>\n",
       "      <td>neutral</td>\n",
       "      <td>0</td>\n",
       "      <td>5</td>\n",
       "    </tr>\n",
       "    <tr>\n",
       "      <th>6</th>\n",
       "      <td>I see.</td>\n",
       "      <td>Chandler</td>\n",
       "      <td>neutral</td>\n",
       "      <td>neutral</td>\n",
       "      <td>0</td>\n",
       "      <td>6</td>\n",
       "    </tr>\n",
       "    <tr>\n",
       "      <th>7</th>\n",
       "      <td>But there'll be perhaps 30 people under you so...</td>\n",
       "      <td>The Interviewer</td>\n",
       "      <td>neutral</td>\n",
       "      <td>neutral</td>\n",
       "      <td>0</td>\n",
       "      <td>7</td>\n",
       "    </tr>\n",
       "    <tr>\n",
       "      <th>8</th>\n",
       "      <td>Good to know.</td>\n",
       "      <td>Chandler</td>\n",
       "      <td>neutral</td>\n",
       "      <td>neutral</td>\n",
       "      <td>0</td>\n",
       "      <td>8</td>\n",
       "    </tr>\n",
       "    <tr>\n",
       "      <th>9</th>\n",
       "      <td>We can go into detail</td>\n",
       "      <td>The Interviewer</td>\n",
       "      <td>neutral</td>\n",
       "      <td>neutral</td>\n",
       "      <td>0</td>\n",
       "      <td>9</td>\n",
       "    </tr>\n",
       "    <tr>\n",
       "      <th>10</th>\n",
       "      <td>No don't I beg of you!</td>\n",
       "      <td>Chandler</td>\n",
       "      <td>fear</td>\n",
       "      <td>negative</td>\n",
       "      <td>0</td>\n",
       "      <td>10</td>\n",
       "    </tr>\n",
       "    <tr>\n",
       "      <th>11</th>\n",
       "      <td>All right then, we'll have a definite answer f...</td>\n",
       "      <td>The Interviewer</td>\n",
       "      <td>neutral</td>\n",
       "      <td>neutral</td>\n",
       "      <td>0</td>\n",
       "      <td>11</td>\n",
       "    </tr>\n",
       "    <tr>\n",
       "      <th>12</th>\n",
       "      <td>Really?!</td>\n",
       "      <td>Chandler</td>\n",
       "      <td>surprise</td>\n",
       "      <td>positive</td>\n",
       "      <td>0</td>\n",
       "      <td>12</td>\n",
       "    </tr>\n",
       "    <tr>\n",
       "      <th>13</th>\n",
       "      <td>Absolutely.  You can relax</td>\n",
       "      <td>The Interviewer</td>\n",
       "      <td>neutral</td>\n",
       "      <td>neutral</td>\n",
       "      <td>0</td>\n",
       "      <td>13</td>\n",
       "    </tr>\n",
       "  </tbody>\n",
       "</table>\n",
       "</div>"
      ],
      "text/plain": [
       "                                            Utterance          Speaker  \\\n",
       "0   also I was the point person on my company's tr...         Chandler   \n",
       "1                    You must've had your hands full.  The Interviewer   \n",
       "2                             That I did. That I did.         Chandler   \n",
       "3       So let's talk a little bit about your duties.  The Interviewer   \n",
       "4                              My duties?  All right.         Chandler   \n",
       "5   Now you'll be heading a whole division, so you...  The Interviewer   \n",
       "6                                              I see.         Chandler   \n",
       "7   But there'll be perhaps 30 people under you so...  The Interviewer   \n",
       "8                                       Good to know.         Chandler   \n",
       "9                               We can go into detail  The Interviewer   \n",
       "10                             No don't I beg of you!         Chandler   \n",
       "11  All right then, we'll have a definite answer f...  The Interviewer   \n",
       "12                                           Really?!         Chandler   \n",
       "13                         Absolutely.  You can relax  The Interviewer   \n",
       "\n",
       "     Emotion Sentiment  Dialogue_ID  Utterance_ID  \n",
       "0    neutral   neutral            0             0  \n",
       "1    neutral   neutral            0             1  \n",
       "2    neutral   neutral            0             2  \n",
       "3    neutral   neutral            0             3  \n",
       "4   surprise  positive            0             4  \n",
       "5    neutral   neutral            0             5  \n",
       "6    neutral   neutral            0             6  \n",
       "7    neutral   neutral            0             7  \n",
       "8    neutral   neutral            0             8  \n",
       "9    neutral   neutral            0             9  \n",
       "10      fear  negative            0            10  \n",
       "11   neutral   neutral            0            11  \n",
       "12  surprise  positive            0            12  \n",
       "13   neutral   neutral            0            13  "
      ]
     },
     "execution_count": 8,
     "metadata": {},
     "output_type": "execute_result"
    }
   ],
   "source": [
    "X_train[\"Utterance\"] = X_train[\"Utterance\"].apply(lambda x: replace_spelling(x))\n",
    "X_train[:14]"
   ]
  },
  {
   "cell_type": "code",
   "execution_count": 9,
   "id": "ab33f245",
   "metadata": {},
   "outputs": [
    {
     "data": {
      "text/plain": [
       "(12840, 6)"
      ]
     },
     "execution_count": 9,
     "metadata": {},
     "output_type": "execute_result"
    }
   ],
   "source": [
    "X_train.shape"
   ]
  },
  {
   "cell_type": "code",
   "execution_count": 10,
   "id": "e90851d3",
   "metadata": {},
   "outputs": [],
   "source": [
    "checkFile1 = os.path.isfile(\"data/dump/label_encoder.pkl\")\n",
    "checkFile2 = os.path.isfile(\"data/dump/label_decoder.pkl\")\n",
    "\n",
    "if checkFile1 or checkFile2 is False:\n",
    "    labels = set(y_train.Emotion)\n",
    "    label_encoder = {label: i for i, label in enumerate(labels)}\n",
    "    label_decoder = {i: label for i, label in enumerate(labels)}\n",
    "\n",
    "    pickle.dump(label_encoder, open('data/dump/label_encoder.pkl', 'wb'))\n",
    "    pickle.dump(label_decoder, open('data/dump/label_decoder.pkl', 'wb'))\n",
    "    \n",
    "else:\n",
    "    file1 = open('data/dump/label_encoder.pkl', 'rb')\n",
    "    file2 = open('data/dump/label_decoder.pkl', 'rb')\n",
    "    label_encoder = pickle.load(file1)\n",
    "    label_decoder = pickle.load(file2)\n",
    "    file1.close()\n",
    "    file2.close()"
   ]
  },
  {
   "cell_type": "code",
   "execution_count": 11,
   "id": "0503247d",
   "metadata": {},
   "outputs": [],
   "source": [
    "y_train[\"Emotion\"] = y_train[\"Emotion\"].apply(lambda x: encode_labels(label_encoder, x))"
   ]
  },
  {
   "cell_type": "code",
   "execution_count": 12,
   "id": "543f0bc9",
   "metadata": {},
   "outputs": [
    {
     "name": "stdout",
     "output_type": "stream",
     "text": [
      "Label Encoder Mapping (Emotion -> Encoded Label):\n",
      "fear: 0\n",
      "anger: 1\n",
      "surprise: 2\n",
      "joy: 3\n",
      "sadness: 4\n",
      "disgust: 5\n",
      "neutral: 6\n"
     ]
    }
   ],
   "source": [
    "# Print the label_encoder dictionary to see the mapping\n",
    "print(\"Label Encoder Mapping (Emotion -> Encoded Label):\")\n",
    "for label, encoded_label in label_encoder.items():\n",
    "    print(f\"{label}: {encoded_label}\")"
   ]
  },
  {
   "cell_type": "markdown",
   "id": "613834a8",
   "metadata": {},
   "source": [
    "### This is what each emotion represents\n",
    "neutral: 0\n",
    "\n",
    "anger: 1\n",
    "\n",
    "sadness: 2\n",
    "\n",
    "surprise: 3\n",
    "\n",
    "disgust: 4\n",
    "\n",
    "joy: 5\n",
    "\n",
    "fear: 6"
   ]
  },
  {
   "cell_type": "code",
   "execution_count": 13,
   "id": "2df87a48",
   "metadata": {},
   "outputs": [],
   "source": [
    "X_train[\"Emotion\"] = y_train[\"Emotion\"].copy()"
   ]
  },
  {
   "cell_type": "code",
   "execution_count": 14,
   "id": "e1cc4d66",
   "metadata": {},
   "outputs": [],
   "source": [
    "## save the data in pickle format ##\n",
    "checkFile = os.path.isfile(\"data/dump/train_labels.pkl\")\n",
    "if checkFile is False:\n",
    "    X_train[\"Emotion\"]\n",
    "\n",
    "    pickle.dump(X_train[\"Emotion\"],\n",
    "                open('data/dump/train_labels.pkl', 'wb'))"
   ]
  },
  {
   "cell_type": "code",
   "execution_count": 15,
   "id": "8f38cf3a",
   "metadata": {},
   "outputs": [],
   "source": [
    "# checkFile = os.path.isfile(\"data/dump/dialog_ids.pkl\")\n",
    "# if checkFile is False:\n",
    "#     dialogSpeakers, dialogInputSeq, dialogInputMaxSeqLen, dialogLabels = {}, {}, {}, {}\n",
    "#     X_train_dialog_ids = set(X_train.Dialogue_ID)\n",
    "#     all_data = X_train.copy()\n",
    "#     # all_data = X_train.append(X_test, ignore_index=True).append(X_valid, ignore_index=True)\n",
    "\n",
    "#     for item in list(X_train_dialog_ids):\n",
    "#         X_df = all_data[all_data.Dialogue_ID == item]\n",
    "#         y_df = y_train[y_train[\"Dialogue_ID\"] == item] \n",
    "\n",
    "#         dialogSpeakers[item] = list(X_df.Speaker)\n",
    "#         dialogInputSeq[item] = list(X_df.sequence)\n",
    "#         dialogInputMaxSeqLen[item] = max(list(X_df.sentence_length))\n",
    "#         dialogLabels[item] = list(y_df.Emotion)\n",
    "\n",
    "#     pickle.dump([dialogSpeakers, dialogInputSeq, dialogInputMaxSeqLen, dialogLabels, X_train_dialog_ids],\n",
    "#                 open('data/dump/per_dialog_ids.pkl', 'wb'))\n",
    "# else:\n",
    "#     file = open('data/dump/per_dialog_ids.pkl', \"rb\")\n",
    "#     dialogSpeakers, dialogInputSeq, dialogInputMaxSeqLen, dialogLabels, X_train_dialog_ids = pickle.load(file)\n",
    "#     file.close()"
   ]
  },
  {
   "cell_type": "code",
   "execution_count": 16,
   "id": "f71baeda",
   "metadata": {},
   "outputs": [],
   "source": [
    "# ## tokenize all sentences ##\n",
    "# checkFile = os.path.isfile(\"data/dump/tokenizer.pkl\")\n",
    "\n",
    "# if checkFile is False:\n",
    "#     all_text = list(X_train.Utterance)\n",
    "#     tokenizer = Tokenizer()\n",
    "#     tokenizer.fit_on_texts(all_text)\n",
    "#     pickle.dump(tokenizer, open('data/dump/tokenizer.pkl', 'wb'))\n",
    "# else:\n",
    "#     file = open('data/dump/tokenizer.pkl', 'rb')\n",
    "#     tokenizer = pickle.load(file)\n",
    "#     file.close()"
   ]
  },
  {
   "cell_type": "code",
   "execution_count": 17,
   "id": "96268d7d",
   "metadata": {},
   "outputs": [],
   "source": [
    "# ## convert the sentences into sequences ## \n",
    "# train_sequence = tokenizer.texts_to_sequences(list(X_train.Utterance)) \n",
    "# X_train['sentence_length'] = [len(item) for item in train_sequence] \n",
    " \n",
    "# max_num_tokens = 250 \n",
    "\n",
    "# train_sequence = pad_sequences(train_sequence, maxlen=max_num_tokens, padding='post') \n",
    " \n",
    "# X_train['sequence'] = list(train_sequence)"
   ]
  },
  {
   "cell_type": "code",
   "execution_count": 18,
   "id": "cad434c8",
   "metadata": {},
   "outputs": [],
   "source": [
    "# tokenizer.word_counts"
   ]
  },
  {
   "cell_type": "markdown",
   "id": "169ca725",
   "metadata": {},
   "source": [
    "Idk why glove embeddings and toknizers were used in the orig source code..."
   ]
  },
  {
   "cell_type": "code",
   "execution_count": 19,
   "id": "2911056b",
   "metadata": {},
   "outputs": [],
   "source": [
    "# ## save the data in pickle format ##\n",
    "# checkFile = os.path.isfile(\"data/dump/per_dialog_ids.pkl\")\n",
    "# if checkFile is False:\n",
    "#     dialogSpeakers, dialogInputSeq, dialogInputMaxSeqLen, dialogLabels = {}, {}, {}, {}\n",
    "#     X_train_dialog_ids = set(X_train.Dialogue_ID)\n",
    "#     all_data = X_train.copy()\n",
    "#     # all_data = X_train.append(X_test, ignore_index=True).append(X_valid, ignore_index=True)\n",
    "\n",
    "#     for item in list(X_train_dialog_ids):\n",
    "#         X_df = all_data[all_data.Dialogue_ID == item]\n",
    "#         y_df = y_train[y_train[\"Dialogue_ID\"] == item] \n",
    "\n",
    "#         dialogSpeakers[item] = list(X_df.Speaker)\n",
    "#         dialogInputSeq[item] = list(X_df.sequence)\n",
    "#         dialogInputMaxSeqLen[item] = max(list(X_df.sentence_length))\n",
    "#         dialogLabels[item] = list(y_df.Emotion)\n",
    "\n",
    "#     pickle.dump([dialogSpeakers, dialogInputSeq, dialogInputMaxSeqLen, dialogLabels, X_train_dialog_ids],\n",
    "#                 open('data/dump/per_dialog_ids.pkl', 'wb'))\n",
    "# else:\n",
    "#     file = open('data/dump/per_dialog_ids.pkl', \"rb\")\n",
    "#     dialogSpeakers, dialogInputSeq, dialogInputMaxSeqLen, dialogLabels, X_train_dialog_ids = pickle.load(file)\n",
    "#     file.close()"
   ]
  },
  {
   "cell_type": "code",
   "execution_count": 20,
   "id": "3849c0fd",
   "metadata": {},
   "outputs": [],
   "source": [
    "## save pretrained embedding matrix ## \n",
    "# file = open('data/dump/glv_embedding_matrix.npy', \"rb\") \n",
    "# if file is None: \n",
    "#     glv_vector = load_pretrained_glove() \n",
    "#     word_vector_length = len(glv_vector['the'])#dim=300 \n",
    "#     word_index = tokenizer.word_index \n",
    "#     inv_word_index = {v: k for k, v in word_index.items()} \n",
    "#     num_unique_words = len(word_index) \n",
    "#     glv_embedding_matrix = np.zeros((num_unique_words + 1, word_vector_length)) \n",
    " \n",
    "#     for j in range(1, num_unique_words + 1): \n",
    "#         glv_embedding_matrix[j] = glv_vector.get(inv_word_index[j], np.random.randn(word_vector_length) / 200) \n",
    " \n",
    "#     np.save('data/dump/glv_embedding_matrix.npy', glv_embedding_matrix) \n",
    "#     print('Done. Completed preprocessing.') \n",
    "# else: \n",
    "#     glv_embedding_matrix = np.load('data/dump/glv_embedding_matrix.npy', allow_pickle=True) \n",
    "#     file.close()"
   ]
  },
  {
   "cell_type": "code",
   "execution_count": 21,
   "id": "367963a3",
   "metadata": {},
   "outputs": [],
   "source": [
    "# vocab_size, embedding_dim = glv_embedding_matrix.shape\n",
    "# vocab_size, embedding_dim"
   ]
  },
  {
   "cell_type": "code",
   "execution_count": 22,
   "id": "a539fab3",
   "metadata": {},
   "outputs": [
    {
     "name": "stdout",
     "output_type": "stream",
     "text": [
      "c:\\School Files\\23-24 T2\\THS-ST2\\ER_GAT\\data/wiki-news-300d-1M.vec exists\n"
     ]
    }
   ],
   "source": [
    "file_path = os.path.join(os.getcwd(), \"data/wiki-news-300d-1M.vec\")\n",
    "if os.path.isfile(file_path):\n",
    "    print(f\"{file_path} exists\")\n",
    "else:\n",
    "    print(f\"The file does not exist in the current directory.\")"
   ]
  },
  {
   "cell_type": "code",
   "execution_count": 23,
   "id": "c74680f0",
   "metadata": {},
   "outputs": [],
   "source": [
    "vectors = Vectors(name=\"wiki-news-300d-1M.vec\", url=\"data/\", cache=\"data/\")\n",
    "vectors.cache(name=\"data/wiki-news-300d-1M.vec\", url=\"data/\", cache=\"data/\")"
   ]
  },
  {
   "cell_type": "code",
   "execution_count": 24,
   "id": "89ca952d",
   "metadata": {},
   "outputs": [
    {
     "name": "stdout",
     "output_type": "stream",
     "text": [
      "torch.Size([999994, 300])\n"
     ]
    }
   ],
   "source": [
    "print(vectors.vectors.shape)"
   ]
  },
  {
   "cell_type": "code",
   "execution_count": 25,
   "id": "b27c37d8",
   "metadata": {},
   "outputs": [],
   "source": [
    "vocab = Vocab(counter=collections.Counter(_read_words(X_train.Utterance)),\n",
    "                  vectors=vectors,\n",
    "                  specials=['<pad>', '<unk>'],\n",
    "                  min_freq=5)"
   ]
  },
  {
   "cell_type": "code",
   "execution_count": 26,
   "id": "f41e9829",
   "metadata": {},
   "outputs": [
    {
     "name": "stdout",
     "output_type": "stream",
     "text": [
      "Total num. of words: 2120, word vector dimension: 300\n"
     ]
    }
   ],
   "source": [
    "# print word embedding statistics \n",
    "wv_size = vocab.vectors.size() \n",
    "print('Total num. of words: {}, word vector dimension: {}'.format( \n",
    "   wv_size[0], \n",
    "   wv_size[1]))"
   ]
  },
  {
   "cell_type": "code",
   "execution_count": 27,
   "id": "0db604a0",
   "metadata": {},
   "outputs": [
    {
     "data": {
      "text/plain": [
       "WORDEBD(\n",
       "  (embedding_layer): Embedding(2120, 300)\n",
       ")"
      ]
     },
     "execution_count": 27,
     "metadata": {},
     "output_type": "execute_result"
    }
   ],
   "source": [
    "ebd = WORDEBD(vocab, False)\n",
    "ebd"
   ]
  },
  {
   "cell_type": "code",
   "execution_count": 28,
   "id": "5238db3c",
   "metadata": {},
   "outputs": [],
   "source": [
    "args = Munch({\n",
    "    \"cnn_filter_sizes\":[3,4,5],\n",
    "    \"cnn_num_filters\":100,\n",
    "    \"cuda\":-1,\n",
    "    \"mode\":\"train\",\n",
    "    \"snapshot\":'',\n",
    "})"
   ]
  },
  {
   "cell_type": "markdown",
   "id": "b8d7c0f2",
   "metadata": {},
   "source": [
    "Creating an embedding"
   ]
  },
  {
   "cell_type": "code",
   "execution_count": 29,
   "id": "87436c8d",
   "metadata": {},
   "outputs": [],
   "source": [
    "model = CNNLSTMseq(ebd, args) # ProtoSeq"
   ]
  },
  {
   "cell_type": "code",
   "execution_count": 30,
   "id": "8f3a4969",
   "metadata": {},
   "outputs": [
    {
     "name": "stdout",
     "output_type": "stream",
     "text": [
      "24/03/01 01:03:37, Building embedding\n"
     ]
    }
   ],
   "source": [
    "print(\"{}, Building embedding\".format(\n",
    "    datetime.datetime.now().strftime('%y/%m/%d %H:%M:%S')), flush=True),\n",
    "if args.snapshot != '':\n",
    "    if args.multitask:\n",
    "        print(\"{}, Loading pretrained embedding from {}\".format(\n",
    "            datetime.datetime.now().strftime('%y/%m/%d %H:%M:%S'),\n",
    "            '%s_%s.ebd' % (args.snapshot, args.task),\n",
    "            ))\n",
    "        model.load_state_dict(  torch.load( '%s_%s.ebd' % (args.snapshot, args.task) ), strict=False  )\n",
    "    else:   \n",
    "        # load pretrained models,\n",
    "        print(\"{}, Loading pretrained embedding from {}\".format(\n",
    "            datetime.datetime.now().strftime('%y/%m/%d %H:%M:%S'),\n",
    "            '{}.ebd'.format(args.snapshot)\n",
    "            ))\n",
    "        model.load_state_dict(  torch.load( '{}.ebd'.format(args.snapshot) ), strict=False  )\n",
    "# if args.cuda != -1: ,\n",
    "#     model.cuda(args.cuda),\n",
    "# else: ,"
   ]
  },
  {
   "cell_type": "code",
   "execution_count": 31,
   "id": "481c95c4",
   "metadata": {},
   "outputs": [
    {
     "data": {
      "text/plain": [
       "CNNLSTMseq(\n",
       "  (ebd): WORDEBD(\n",
       "    (embedding_layer): Embedding(2120, 300)\n",
       "  )\n",
       "  (convs): ModuleList(\n",
       "    (0): Conv1d(300, 100, kernel_size=(3,), stride=(1,))\n",
       "    (1): Conv1d(300, 100, kernel_size=(4,), stride=(1,))\n",
       "    (2): Conv1d(300, 100, kernel_size=(5,), stride=(1,))\n",
       "  )\n",
       "  (lstm): LSTM(300, 150, bidirectional=True)\n",
       ")"
      ]
     },
     "execution_count": 31,
     "metadata": {},
     "output_type": "execute_result"
    }
   ],
   "source": [
    "model.train()"
   ]
  },
  {
   "cell_type": "code",
   "execution_count": 32,
   "id": "705921fe",
   "metadata": {},
   "outputs": [],
   "source": [
    "# Convert everything into np array for fast data loading\n",
    "# _X_train = _data_to_nparray(X_train, vocab, args)"
   ]
  },
  {
   "cell_type": "code",
   "execution_count": 33,
   "id": "ff983f01",
   "metadata": {},
   "outputs": [],
   "source": [
    "# _X_train"
   ]
  },
  {
   "cell_type": "code",
   "execution_count": 34,
   "id": "d87fc320",
   "metadata": {},
   "outputs": [
    {
     "data": {
      "text/plain": [
       "CNNLSTMseq(\n",
       "  (ebd): WORDEBD(\n",
       "    (embedding_layer): Embedding(2120, 300)\n",
       "  )\n",
       "  (convs): ModuleList(\n",
       "    (0): Conv1d(300, 100, kernel_size=(3,), stride=(1,))\n",
       "    (1): Conv1d(300, 100, kernel_size=(4,), stride=(1,))\n",
       "    (2): Conv1d(300, 100, kernel_size=(5,), stride=(1,))\n",
       "  )\n",
       "  (lstm): LSTM(300, 150, bidirectional=True)\n",
       ")"
      ]
     },
     "execution_count": 34,
     "metadata": {},
     "output_type": "execute_result"
    }
   ],
   "source": [
    "model.eval()"
   ]
  },
  {
   "cell_type": "markdown",
   "id": "c5246b15",
   "metadata": {},
   "source": [
    "Testing on smaller data. Uncomment to see the size of updated representations"
   ]
  },
  {
   "cell_type": "code",
   "execution_count": 35,
   "id": "d9000ec4",
   "metadata": {},
   "outputs": [
    {
     "name": "stdout",
     "output_type": "stream",
     "text": [
      "torch.Size([1, 5, 300])\n",
      "1\n"
     ]
    }
   ],
   "source": [
    "# sample data \n",
    "data = [ \n",
    "#     [\"how are you\", \"I am great how about you\", \"good too\"], \n",
    "    [\"hes\"], \n",
    "    # ... more conversations ... \n",
    "] \n",
    "tmp_in = []         \n",
    "for conversation in data: \n",
    "    turn_indices = [torch.tensor([vocab.stoi[word] if word in vocab.stoi else vocab.stoi['<unk>'] for word in turn]) \n",
    "                for turn in conversation] \n",
    "#     print((turn_indices)) \n",
    "    # Pad sequences to a fixed length (adjust this based on your model requirements) \n",
    "    max_seq_len = max(max(len(turn), 5) for turn in turn_indices) \n",
    " \n",
    "    padded_turns = [torch.nn.functional.pad(turn, pad=(0, max_seq_len - len(turn))) for turn in turn_indices] \n",
    " \n",
    "    # Stack the padded turns along a new dimension \n",
    "    batched_input = torch.stack(padded_turns) \n",
    "    input_data = {'Utterance': batched_input} \n",
    "    tmp_in = max_seq_len \n",
    "    print(model.ebd(input_data[\"Utterance\"], None).size()) \n",
    "    print(len(model.ebd(input_data[\"Utterance\"], None))) \n",
    " \n",
    "    model(input_data) "
   ]
  },
  {
   "cell_type": "markdown",
   "id": "83d75d57",
   "metadata": {},
   "source": [
    "This is just a duplicate of code above. Using this on train data"
   ]
  },
  {
   "cell_type": "code",
   "execution_count": 36,
   "id": "6c46de26",
   "metadata": {},
   "outputs": [
    {
     "data": {
      "text/plain": [
       "(12840, 6)"
      ]
     },
     "execution_count": 36,
     "metadata": {},
     "output_type": "execute_result"
    }
   ],
   "source": [
    "X_train.shape"
   ]
  },
  {
   "cell_type": "code",
   "execution_count": 37,
   "id": "1c77dcdf",
   "metadata": {},
   "outputs": [
    {
     "data": {
      "text/plain": [
       "0     0\n",
       "1     0\n",
       "2     0\n",
       "3     0\n",
       "4     0\n",
       "5     0\n",
       "6     0\n",
       "7     0\n",
       "8     0\n",
       "9     0\n",
       "10    0\n",
       "11    0\n",
       "12    0\n",
       "13    0\n",
       "14    1\n",
       "Name: Dialogue_ID, dtype: int64"
      ]
     },
     "execution_count": 37,
     "metadata": {},
     "output_type": "execute_result"
    }
   ],
   "source": [
    "X_train[\"Dialogue_ID\"][:15]"
   ]
  },
  {
   "cell_type": "code",
   "execution_count": 38,
   "id": "22c69a9d",
   "metadata": {},
   "outputs": [
    {
     "data": {
      "text/plain": [
       "2160"
      ]
     },
     "execution_count": 38,
     "metadata": {},
     "output_type": "execute_result"
    }
   ],
   "source": [
    "ranges = find_value_ranges(X_train[\"Dialogue_ID\"])\n",
    "len(ranges)"
   ]
  },
  {
   "cell_type": "markdown",
   "id": "ce05d7f7",
   "metadata": {},
   "source": [
    "Range in index 0 is (0,13) because in X_train[\"Dialogue_ID\"] 0 is present from index 0 to 13"
   ]
  },
  {
   "cell_type": "code",
   "execution_count": 39,
   "id": "0a996dcb",
   "metadata": {},
   "outputs": [
    {
     "data": {
      "text/plain": [
       "[(0, 13), (14, 20), (21, 33), (34, 41), (42, 48)]"
      ]
     },
     "execution_count": 39,
     "metadata": {},
     "output_type": "execute_result"
    }
   ],
   "source": [
    "ranges[:5]"
   ]
  },
  {
   "cell_type": "code",
   "execution_count": 40,
   "id": "200bbb7c",
   "metadata": {},
   "outputs": [],
   "source": [
    "updated_representations = [] \n",
    " \n",
    "# checkFile = os.path.isfile(\"embed/updated_representation_list.pkl\") \n",
    "checkFile = False\n",
    "\n",
    "if checkFile is False: \n",
    "    for range_pair in ranges: \n",
    "        start_idx, end_idx = range_pair \n",
    "        conversation = X_train['Utterance'][start_idx:end_idx+1] \n",
    " \n",
    "        turn_indices = [torch.tensor([vocab.stoi[word] if word in vocab.stoi else vocab.stoi['<unk>'] for word in turn]) \n",
    "                    for turn in conversation] \n",
    "        max_seq_len = max(max(len(turn), 5) for turn in turn_indices) \n",
    "        padded_turns = [torch.nn.functional.pad(turn, pad=(0, max_seq_len - len(turn))) for turn in turn_indices] \n",
    " \n",
    "        # Stack the padded turns along a new dimension \n",
    "        batched_input = torch.stack(padded_turns) \n",
    "        input_data = {'Utterance': batched_input} \n",
    "        output_representation = model(input_data) \n",
    " \n",
    "        updated_representations.append(output_representation) \n",
    "     \n",
    "     \n",
    "    file_path = 'embed/updated_representation_list.pkl' \n",
    "    # Save the list to a file using pickle \n",
    "    with open(file_path, 'wb') as file: \n",
    "        pickle.dump(updated_representations, file) \n",
    "     \n",
    "else: \n",
    "    file_path = 'embed/updated_representation_list.pkl' \n",
    " \n",
    "    # Load the list from the file using pickle \n",
    "    with open(file_path, 'rb') as file: \n",
    "        updated_representations = pickle.load(file)"
   ]
  },
  {
   "cell_type": "code",
   "execution_count": 41,
   "id": "4aea66e4",
   "metadata": {},
   "outputs": [
    {
     "name": "stdout",
     "output_type": "stream",
     "text": [
      "Length of updated_representation: 2160\n"
     ]
    }
   ],
   "source": [
    "print(f\"Length of updated_representation: \" + str(len(updated_representations)))"
   ]
  },
  {
   "cell_type": "markdown",
   "id": "16177aa6",
   "metadata": {},
   "source": [
    "Checking the length of updated_representation[0]. Expected is 14 which we got. This is because it uses the range from (0, 13)"
   ]
  },
  {
   "cell_type": "code",
   "execution_count": 42,
   "id": "2817b383",
   "metadata": {},
   "outputs": [
    {
     "data": {
      "text/plain": [
       "14"
      ]
     },
     "execution_count": 42,
     "metadata": {},
     "output_type": "execute_result"
    }
   ],
   "source": [
    "len(updated_representations[0])"
   ]
  },
  {
   "cell_type": "code",
   "execution_count": 43,
   "id": "a1821fb3",
   "metadata": {},
   "outputs": [],
   "source": [
    "checkFile = os.path.isfile( \"data/dump/speaker_encoder.pkl\") \n",
    "encoded_speaker_list = [] \n",
    "if checkFile is False: \n",
    "    for range_pair in ranges: \n",
    "        start_idx, end_idx = range_pair \n",
    "        speaker_per_dialog = X_train['Speaker'][start_idx:end_idx+1].copy() \n",
    "        speaker_feature = set(speaker_per_dialog) \n",
    "        speaker_encoder = {feature: i for i, feature in enumerate(speaker_feature)} \n",
    "        speaker_decoder = {i: feature for i, feature in enumerate(speaker_feature)} \n",
    "        # print( \"ID:  \",  range_pair,    \", speaker_encoder) \n",
    "        # print( \"ID:  \",  speaker_per_dialog) \n",
    " \n",
    "        encoded_speaker = speaker_per_dialog.replace(speaker_encoder) \n",
    "        encoded_speaker_list.append(encoded_speaker) \n",
    " \n",
    "    file_path = 'data/dump/speaker_encoder.pkl' \n",
    "    with open(file_path, 'wb') as file: \n",
    "        pickle.dump([encoded_speaker_list, ranges], file) \n",
    "#     pickle.dump([encoded_speaker_list, ranges], open('data/dump/speaker_encoder.pkl')) \n",
    "else: \n",
    "    file = open('data/dump/speaker_encoder.pkl',  \"rb\") \n",
    "    encoded_speaker_list = pickle.load(file) \n",
    "    file.close()"
   ]
  },
  {
   "cell_type": "markdown",
   "id": "86604bb2",
   "metadata": {},
   "source": [
    "I may be wrong but this shows which speaker is talking? Speaker 1 or 2? @Elijah please help"
   ]
  },
  {
   "cell_type": "code",
   "execution_count": 44,
   "id": "6c026c6f",
   "metadata": {},
   "outputs": [
    {
     "data": {
      "text/plain": [
       "42    1\n",
       "43    1\n",
       "44    1\n",
       "45    1\n",
       "46    1\n",
       "47    1\n",
       "48    0\n",
       "Name: Speaker, dtype: int64"
      ]
     },
     "execution_count": 44,
     "metadata": {},
     "output_type": "execute_result"
    }
   ],
   "source": [
    "encoded_speaker_list[0][4]"
   ]
  },
  {
   "cell_type": "markdown",
   "id": "53400cc5",
   "metadata": {},
   "source": [
    "To check if there are 2 speakers"
   ]
  },
  {
   "cell_type": "code",
   "execution_count": 45,
   "id": "fa2f5daa",
   "metadata": {},
   "outputs": [],
   "source": [
    "# for range_pair in ranges: \n",
    "#     start_idx, end_idx = range_pair \n",
    "#     speaker_per_dialog = X_train[['Dialogue_ID','Speaker']][start_idx:end_idx+1].copy() \n",
    "#     speaker_feature = set(speaker_per_dialog[\"Speaker\"])\n",
    "#     print(start_idx, end_idx ,speaker_feature)\n",
    "#     print(list(speaker_per_dialog[\"Dialogue_ID\"]))\n",
    "#     speaker_encoder = {feature: i for i, feature in enumerate(speaker_feature)} \n",
    "#     speaker_decoder = {i: feature for i, feature in enumerate(speaker_feature)} "
   ]
  },
  {
   "cell_type": "code",
   "execution_count": 46,
   "id": "fd6c294c",
   "metadata": {},
   "outputs": [],
   "source": [
    "# encoded_speaker_list"
   ]
  },
  {
   "cell_type": "markdown",
   "id": "d24aafaa",
   "metadata": {},
   "source": [
    "# Classifier"
   ]
  },
  {
   "cell_type": "markdown",
   "id": "c95bc3fe",
   "metadata": {},
   "source": [
    "Flatten out updated_representation. Currently they are divided per ranges. We want them flatten out so that len(updated_representation) = len(y_train)"
   ]
  },
  {
   "cell_type": "code",
   "execution_count": 47,
   "id": "4212181d",
   "metadata": {},
   "outputs": [
    {
     "data": {
      "text/plain": [
       "torch.Size([12840, 300])"
      ]
     },
     "execution_count": 47,
     "metadata": {},
     "output_type": "execute_result"
    }
   ],
   "source": [
    "flattened_representation = torch.cat(updated_representations, dim=0)\n",
    "flattened_representation.shape"
   ]
  },
  {
   "cell_type": "code",
   "execution_count": 48,
   "id": "5b783ac8",
   "metadata": {},
   "outputs": [
    {
     "data": {
      "text/plain": [
       "12840"
      ]
     },
     "execution_count": 48,
     "metadata": {},
     "output_type": "execute_result"
    }
   ],
   "source": [
    "len(y_train)"
   ]
  },
  {
   "cell_type": "code",
   "execution_count": 49,
   "id": "f9f993f7",
   "metadata": {},
   "outputs": [
    {
     "data": {
      "text/plain": [
       "tensor([[ 0.1207,  0.2335, -0.3596,  ...,  0.0478,  0.0169,  0.0097],\n",
       "        [ 0.0687,  0.0382, -0.1634,  ...,  0.0445,  0.0121,  0.0091],\n",
       "        [ 0.0600, -0.0379, -0.0687,  ...,  0.0462,  0.0148,  0.0130],\n",
       "        ...,\n",
       "        [ 0.0562, -0.0685, -0.0008,  ...,  0.0221,  0.1638,  0.1174],\n",
       "        [ 0.0610, -0.0635,  0.0052,  ...,  0.0314,  0.1855,  0.2346],\n",
       "        [ 0.0559, -0.0667,  0.0065,  ...,  0.0409,  0.2184,  0.3835]],\n",
       "       grad_fn=<CatBackward0>)"
      ]
     },
     "execution_count": 49,
     "metadata": {},
     "output_type": "execute_result"
    }
   ],
   "source": [
    "flattened_representation"
   ]
  },
  {
   "cell_type": "code",
   "execution_count": 50,
   "id": "2e5b08d0",
   "metadata": {},
   "outputs": [
    {
     "data": {
      "text/html": [
       "<div>\n",
       "<style scoped>\n",
       "    .dataframe tbody tr th:only-of-type {\n",
       "        vertical-align: middle;\n",
       "    }\n",
       "\n",
       "    .dataframe tbody tr th {\n",
       "        vertical-align: top;\n",
       "    }\n",
       "\n",
       "    .dataframe thead th {\n",
       "        text-align: right;\n",
       "    }\n",
       "</style>\n",
       "<table border=\"1\" class=\"dataframe\">\n",
       "  <thead>\n",
       "    <tr style=\"text-align: right;\">\n",
       "      <th></th>\n",
       "      <th>Emotion</th>\n",
       "      <th>Dialogue_ID</th>\n",
       "    </tr>\n",
       "  </thead>\n",
       "  <tbody>\n",
       "    <tr>\n",
       "      <th>0</th>\n",
       "      <td>6</td>\n",
       "      <td>0</td>\n",
       "    </tr>\n",
       "    <tr>\n",
       "      <th>1</th>\n",
       "      <td>6</td>\n",
       "      <td>0</td>\n",
       "    </tr>\n",
       "    <tr>\n",
       "      <th>2</th>\n",
       "      <td>6</td>\n",
       "      <td>0</td>\n",
       "    </tr>\n",
       "    <tr>\n",
       "      <th>3</th>\n",
       "      <td>6</td>\n",
       "      <td>0</td>\n",
       "    </tr>\n",
       "    <tr>\n",
       "      <th>4</th>\n",
       "      <td>2</td>\n",
       "      <td>0</td>\n",
       "    </tr>\n",
       "    <tr>\n",
       "      <th>...</th>\n",
       "      <td>...</td>\n",
       "      <td>...</td>\n",
       "    </tr>\n",
       "    <tr>\n",
       "      <th>12835</th>\n",
       "      <td>5</td>\n",
       "      <td>2159</td>\n",
       "    </tr>\n",
       "    <tr>\n",
       "      <th>12836</th>\n",
       "      <td>5</td>\n",
       "      <td>2159</td>\n",
       "    </tr>\n",
       "    <tr>\n",
       "      <th>12837</th>\n",
       "      <td>2</td>\n",
       "      <td>2159</td>\n",
       "    </tr>\n",
       "    <tr>\n",
       "      <th>12838</th>\n",
       "      <td>6</td>\n",
       "      <td>2159</td>\n",
       "    </tr>\n",
       "    <tr>\n",
       "      <th>12839</th>\n",
       "      <td>3</td>\n",
       "      <td>2159</td>\n",
       "    </tr>\n",
       "  </tbody>\n",
       "</table>\n",
       "<p>12840 rows × 2 columns</p>\n",
       "</div>"
      ],
      "text/plain": [
       "       Emotion  Dialogue_ID\n",
       "0            6            0\n",
       "1            6            0\n",
       "2            6            0\n",
       "3            6            0\n",
       "4            2            0\n",
       "...        ...          ...\n",
       "12835        5         2159\n",
       "12836        5         2159\n",
       "12837        2         2159\n",
       "12838        6         2159\n",
       "12839        3         2159\n",
       "\n",
       "[12840 rows x 2 columns]"
      ]
     },
     "execution_count": 50,
     "metadata": {},
     "output_type": "execute_result"
    }
   ],
   "source": [
    "y_train"
   ]
  },
  {
   "cell_type": "markdown",
   "id": "c240fb22",
   "metadata": {},
   "source": [
    "This is just here to make sure they have the same length. If it is not the same check please delete the necessary files in embed/ or dump/"
   ]
  },
  {
   "cell_type": "code",
   "execution_count": 51,
   "id": "8aacf07e",
   "metadata": {},
   "outputs": [],
   "source": [
    "assert flattened_representation.shape[0] == len(y_train), \"The flattened representation must have the same length as y_train.\""
   ]
  },
  {
   "cell_type": "code",
   "execution_count": 72,
   "id": "f56b503f",
   "metadata": {},
   "outputs": [],
   "source": [
    "from sklearn.model_selection import train_test_split\n",
    "from sklearn.metrics import accuracy_score, classification_report\n",
    "\n",
    "from sklearn.naive_bayes import GaussianNB # Gaussian Naive Bayes\n",
    "from sklearn.svm import SVC  # Support Vector Classifier\n",
    "from sklearn.ensemble import RandomForestClassifier # Random Forest Classifier\n",
    "import xgboost as xgb # Gradient Boosting Machines\n",
    "from sklearn.neighbors import KNeighborsClassifier # KNN\n",
    "from sklearn.linear_model import LogisticRegression # Logistic Regression\n",
    "from sklearn.tree import DecisionTreeClassifier # Decision Trees\n",
    "\n",
    "from sklearn.model_selection import GridSearchCV\n",
    "\n",
    "# For the fully connected layers\n",
    "import torch.nn as nn\n",
    "import torch.nn.functional as F\n",
    "from torch.utils.data import TensorDataset, DataLoader"
   ]
  },
  {
   "cell_type": "code",
   "execution_count": 53,
   "id": "ad54e71c",
   "metadata": {},
   "outputs": [],
   "source": [
    "X = flattened_representation.detach().numpy()  # Detach and then convert to NumPy array\n",
    "y = np.array(y_train['Emotion'])  \n",
    "\n",
    "X_train, X_test, y_train, y_test = train_test_split(X, y, test_size=0.2, random_state=42)"
   ]
  },
  {
   "cell_type": "markdown",
   "id": "4db6ec1d",
   "metadata": {},
   "source": [
    "### Gaussian Naive Bayes"
   ]
  },
  {
   "cell_type": "code",
   "execution_count": 54,
   "id": "75e95135",
   "metadata": {},
   "outputs": [
    {
     "name": "stdout",
     "output_type": "stream",
     "text": [
      "Accuracy:  0.12071651090342679\n",
      "Classification Report: \n",
      "              precision    recall  f1-score   support\n",
      "\n",
      "           0       0.03      0.51      0.06        70\n",
      "           1       0.12      0.12      0.12       269\n",
      "           2       0.00      0.00      0.00       297\n",
      "           3       0.20      0.20      0.20       476\n",
      "           4       0.00      0.00      0.00       173\n",
      "           5       0.05      0.26      0.08        78\n",
      "           6       0.49      0.11      0.18      1205\n",
      "\n",
      "    accuracy                           0.12      2568\n",
      "   macro avg       0.13      0.17      0.09      2568\n",
      "weighted avg       0.28      0.12      0.14      2568\n",
      "\n"
     ]
    },
    {
     "name": "stderr",
     "output_type": "stream",
     "text": [
      "c:\\ProgramData\\anaconda3\\Lib\\site-packages\\sklearn\\metrics\\_classification.py:1469: UndefinedMetricWarning: Precision and F-score are ill-defined and being set to 0.0 in labels with no predicted samples. Use `zero_division` parameter to control this behavior.\n",
      "  _warn_prf(average, modifier, msg_start, len(result))\n",
      "c:\\ProgramData\\anaconda3\\Lib\\site-packages\\sklearn\\metrics\\_classification.py:1469: UndefinedMetricWarning: Precision and F-score are ill-defined and being set to 0.0 in labels with no predicted samples. Use `zero_division` parameter to control this behavior.\n",
      "  _warn_prf(average, modifier, msg_start, len(result))\n",
      "c:\\ProgramData\\anaconda3\\Lib\\site-packages\\sklearn\\metrics\\_classification.py:1469: UndefinedMetricWarning: Precision and F-score are ill-defined and being set to 0.0 in labels with no predicted samples. Use `zero_division` parameter to control this behavior.\n",
      "  _warn_prf(average, modifier, msg_start, len(result))\n"
     ]
    }
   ],
   "source": [
    "# Initialize and train the Gaussian Naive Bayes classifier\n",
    "gnb = GaussianNB()\n",
    "gnb.fit(X_train, y_train)\n",
    "\n",
    "# Predict on the test set\n",
    "y_pred = gnb.predict(X_test)\n",
    "\n",
    "# Evaluate the classifier\n",
    "print(\"Accuracy: \", accuracy_score(y_test, y_pred))\n",
    "print(\"Classification Report: \")\n",
    "print(classification_report(y_test, y_pred))\n"
   ]
  },
  {
   "cell_type": "code",
   "execution_count": 73,
   "id": "27b68fa8",
   "metadata": {},
   "outputs": [
    {
     "name": "stdout",
     "output_type": "stream",
     "text": [
      "Best Parameters:  {'var_smoothing': 1.0}\n",
      "Best Score:  0.24601364141417728\n",
      "Accuracy on Test Set:  0.2340342679127726\n",
      "Classification Report: \n",
      "              precision    recall  f1-score   support\n",
      "\n",
      "           0       0.03      0.19      0.06        70\n",
      "           1       0.11      0.42      0.18       269\n",
      "           2       0.00      0.00      0.00       297\n",
      "           3       0.22      0.10      0.14       476\n",
      "           4       0.00      0.00      0.00       173\n",
      "           5       0.05      0.04      0.05        78\n",
      "           6       0.47      0.35      0.40      1205\n",
      "\n",
      "    accuracy                           0.23      2568\n",
      "   macro avg       0.13      0.16      0.12      2568\n",
      "weighted avg       0.27      0.23      0.24      2568\n",
      "\n"
     ]
    },
    {
     "name": "stderr",
     "output_type": "stream",
     "text": [
      "c:\\ProgramData\\anaconda3\\Lib\\site-packages\\sklearn\\metrics\\_classification.py:1469: UndefinedMetricWarning: Precision and F-score are ill-defined and being set to 0.0 in labels with no predicted samples. Use `zero_division` parameter to control this behavior.\n",
      "  _warn_prf(average, modifier, msg_start, len(result))\n",
      "c:\\ProgramData\\anaconda3\\Lib\\site-packages\\sklearn\\metrics\\_classification.py:1469: UndefinedMetricWarning: Precision and F-score are ill-defined and being set to 0.0 in labels with no predicted samples. Use `zero_division` parameter to control this behavior.\n",
      "  _warn_prf(average, modifier, msg_start, len(result))\n",
      "c:\\ProgramData\\anaconda3\\Lib\\site-packages\\sklearn\\metrics\\_classification.py:1469: UndefinedMetricWarning: Precision and F-score are ill-defined and being set to 0.0 in labels with no predicted samples. Use `zero_division` parameter to control this behavior.\n",
      "  _warn_prf(average, modifier, msg_start, len(result))\n"
     ]
    }
   ],
   "source": [
    "# Initialize the Gaussian Naive Bayes classifier\n",
    "gnb = GaussianNB()\n",
    "\n",
    "# Define the parameter grid for 'var_smoothing'\n",
    "param_grid = {'var_smoothing': np.logspace(0,-9, num=100)}\n",
    "\n",
    "# Initialize the GridSearchCV object with GaussianNB classifier and the parameter grid\n",
    "grid_search = GridSearchCV(estimator=gnb, param_grid=param_grid, cv=5, scoring='accuracy')\n",
    "\n",
    "# Fit the model with the training data\n",
    "grid_search.fit(X_train, y_train)\n",
    "\n",
    "# Print the best parameters and the best score\n",
    "print(\"Best Parameters: \", grid_search.best_params_)\n",
    "print(\"Best Score: \", grid_search.best_score_)\n",
    "\n",
    "# Predict on the test set with the best parameters\n",
    "y_pred = grid_search.predict(X_test)\n",
    "\n",
    "# Evaluate the classifier with the best parameters\n",
    "print(\"Accuracy on Test Set: \", accuracy_score(y_test, y_pred))\n",
    "print(\"Classification Report: \")\n",
    "print(classification_report(y_test, y_pred))"
   ]
  },
  {
   "cell_type": "markdown",
   "id": "61fa0679",
   "metadata": {},
   "source": [
    "### Support Vector Machines"
   ]
  },
  {
   "cell_type": "code",
   "execution_count": 55,
   "id": "b946cb00",
   "metadata": {},
   "outputs": [
    {
     "name": "stdout",
     "output_type": "stream",
     "text": [
      "Accuracy: 0.4692367601246106\n",
      "Classification Report:\n",
      "              precision    recall  f1-score   support\n",
      "\n",
      "           0       0.00      0.00      0.00        70\n",
      "           1       0.00      0.00      0.00       269\n",
      "           2       0.00      0.00      0.00       297\n",
      "           3       0.00      0.00      0.00       476\n",
      "           4       0.00      0.00      0.00       173\n",
      "           5       0.00      0.00      0.00        78\n",
      "           6       0.47      1.00      0.64      1205\n",
      "\n",
      "    accuracy                           0.47      2568\n",
      "   macro avg       0.07      0.14      0.09      2568\n",
      "weighted avg       0.22      0.47      0.30      2568\n",
      "\n"
     ]
    },
    {
     "name": "stderr",
     "output_type": "stream",
     "text": [
      "c:\\ProgramData\\anaconda3\\Lib\\site-packages\\sklearn\\metrics\\_classification.py:1469: UndefinedMetricWarning: Precision and F-score are ill-defined and being set to 0.0 in labels with no predicted samples. Use `zero_division` parameter to control this behavior.\n",
      "  _warn_prf(average, modifier, msg_start, len(result))\n",
      "c:\\ProgramData\\anaconda3\\Lib\\site-packages\\sklearn\\metrics\\_classification.py:1469: UndefinedMetricWarning: Precision and F-score are ill-defined and being set to 0.0 in labels with no predicted samples. Use `zero_division` parameter to control this behavior.\n",
      "  _warn_prf(average, modifier, msg_start, len(result))\n",
      "c:\\ProgramData\\anaconda3\\Lib\\site-packages\\sklearn\\metrics\\_classification.py:1469: UndefinedMetricWarning: Precision and F-score are ill-defined and being set to 0.0 in labels with no predicted samples. Use `zero_division` parameter to control this behavior.\n",
      "  _warn_prf(average, modifier, msg_start, len(result))\n"
     ]
    }
   ],
   "source": [
    "# Initialize the SVM classifier\n",
    "# The default kernel for SVC is 'rbf' (Radial Basis Function), but you can experiment with other kernels like 'linear', 'poly', etc.\n",
    "svm = SVC(kernel='rbf', C=1.0, random_state=42)  # C is the regularization parameter\n",
    "\n",
    "# Train the classifier\n",
    "svm.fit(X_train, y_train)\n",
    "\n",
    "# Predict on the test set\n",
    "y_pred = svm.predict(X_test)\n",
    "\n",
    "# Evaluate the classifier\n",
    "print(\"Accuracy:\", accuracy_score(y_test, y_pred))\n",
    "print(\"Classification Report:\")\n",
    "print(classification_report(y_test, y_pred))"
   ]
  },
  {
   "cell_type": "code",
   "execution_count": 74,
   "id": "62cc1433",
   "metadata": {},
   "outputs": [
    {
     "name": "stdout",
     "output_type": "stream",
     "text": [
      "Fitting 5 folds for each of 96 candidates, totalling 480 fits\n",
      "[CV] END ...........C=0.1, degree=2, gamma=scale, kernel=rbf; total time=   9.7s\n",
      "[CV] END ...........C=0.1, degree=2, gamma=scale, kernel=rbf; total time=   8.5s\n",
      "[CV] END ...........C=0.1, degree=2, gamma=scale, kernel=rbf; total time=   8.8s\n",
      "[CV] END ...........C=0.1, degree=2, gamma=scale, kernel=rbf; total time=   8.4s\n",
      "[CV] END ...........C=0.1, degree=2, gamma=scale, kernel=rbf; total time=   8.5s\n",
      "[CV] END ........C=0.1, degree=2, gamma=scale, kernel=linear; total time=   7.0s\n",
      "[CV] END ........C=0.1, degree=2, gamma=scale, kernel=linear; total time=   7.0s\n",
      "[CV] END ........C=0.1, degree=2, gamma=scale, kernel=linear; total time=   7.0s\n",
      "[CV] END ........C=0.1, degree=2, gamma=scale, kernel=linear; total time=   6.9s\n",
      "[CV] END ........C=0.1, degree=2, gamma=scale, kernel=linear; total time=   7.0s\n",
      "[CV] END ..........C=0.1, degree=2, gamma=scale, kernel=poly; total time=   7.5s\n",
      "[CV] END ..........C=0.1, degree=2, gamma=scale, kernel=poly; total time=  10.3s\n",
      "[CV] END ..........C=0.1, degree=2, gamma=scale, kernel=poly; total time=  10.6s\n",
      "[CV] END ..........C=0.1, degree=2, gamma=scale, kernel=poly; total time=  10.3s\n",
      "[CV] END ..........C=0.1, degree=2, gamma=scale, kernel=poly; total time=   9.8s\n",
      "[CV] END .......C=0.1, degree=2, gamma=scale, kernel=sigmoid; total time=  11.5s\n",
      "[CV] END .......C=0.1, degree=2, gamma=scale, kernel=sigmoid; total time=  10.5s\n",
      "[CV] END .......C=0.1, degree=2, gamma=scale, kernel=sigmoid; total time=  10.3s\n",
      "[CV] END .......C=0.1, degree=2, gamma=scale, kernel=sigmoid; total time=   9.9s\n",
      "[CV] END .......C=0.1, degree=2, gamma=scale, kernel=sigmoid; total time=   9.0s\n",
      "[CV] END ............C=0.1, degree=2, gamma=auto, kernel=rbf; total time=   9.9s\n",
      "[CV] END ............C=0.1, degree=2, gamma=auto, kernel=rbf; total time=  10.4s\n",
      "[CV] END ............C=0.1, degree=2, gamma=auto, kernel=rbf; total time=  10.9s\n",
      "[CV] END ............C=0.1, degree=2, gamma=auto, kernel=rbf; total time=  10.7s\n",
      "[CV] END ............C=0.1, degree=2, gamma=auto, kernel=rbf; total time=  10.0s\n",
      "[CV] END .........C=0.1, degree=2, gamma=auto, kernel=linear; total time=   9.4s\n",
      "[CV] END .........C=0.1, degree=2, gamma=auto, kernel=linear; total time=   7.9s\n",
      "[CV] END .........C=0.1, degree=2, gamma=auto, kernel=linear; total time=   9.7s\n",
      "[CV] END .........C=0.1, degree=2, gamma=auto, kernel=linear; total time=  10.0s\n",
      "[CV] END .........C=0.1, degree=2, gamma=auto, kernel=linear; total time=   9.5s\n",
      "[CV] END ...........C=0.1, degree=2, gamma=auto, kernel=poly; total time=   8.9s\n",
      "[CV] END ...........C=0.1, degree=2, gamma=auto, kernel=poly; total time=   7.1s\n",
      "[CV] END ...........C=0.1, degree=2, gamma=auto, kernel=poly; total time=   7.8s\n",
      "[CV] END ...........C=0.1, degree=2, gamma=auto, kernel=poly; total time=   7.1s\n",
      "[CV] END ...........C=0.1, degree=2, gamma=auto, kernel=poly; total time=   7.8s\n",
      "[CV] END ........C=0.1, degree=2, gamma=auto, kernel=sigmoid; total time=   7.0s\n",
      "[CV] END ........C=0.1, degree=2, gamma=auto, kernel=sigmoid; total time=   7.0s\n",
      "[CV] END ........C=0.1, degree=2, gamma=auto, kernel=sigmoid; total time=   7.0s\n",
      "[CV] END ........C=0.1, degree=2, gamma=auto, kernel=sigmoid; total time=   7.1s\n",
      "[CV] END ........C=0.1, degree=2, gamma=auto, kernel=sigmoid; total time=   6.6s\n",
      "[CV] END ...........C=0.1, degree=3, gamma=scale, kernel=rbf; total time=   9.6s\n",
      "[CV] END ...........C=0.1, degree=3, gamma=scale, kernel=rbf; total time=   9.9s\n",
      "[CV] END ...........C=0.1, degree=3, gamma=scale, kernel=rbf; total time=  10.6s\n",
      "[CV] END ...........C=0.1, degree=3, gamma=scale, kernel=rbf; total time=  10.2s\n",
      "[CV] END ...........C=0.1, degree=3, gamma=scale, kernel=rbf; total time=   9.3s\n",
      "[CV] END ........C=0.1, degree=3, gamma=scale, kernel=linear; total time=   9.7s\n",
      "[CV] END ........C=0.1, degree=3, gamma=scale, kernel=linear; total time=   9.0s\n",
      "[CV] END ........C=0.1, degree=3, gamma=scale, kernel=linear; total time=   7.7s\n",
      "[CV] END ........C=0.1, degree=3, gamma=scale, kernel=linear; total time=   7.6s\n",
      "[CV] END ........C=0.1, degree=3, gamma=scale, kernel=linear; total time=   7.6s\n",
      "[CV] END ..........C=0.1, degree=3, gamma=scale, kernel=poly; total time=   7.7s\n",
      "[CV] END ..........C=0.1, degree=3, gamma=scale, kernel=poly; total time=   7.8s\n",
      "[CV] END ..........C=0.1, degree=3, gamma=scale, kernel=poly; total time=   7.7s\n",
      "[CV] END ..........C=0.1, degree=3, gamma=scale, kernel=poly; total time=   8.9s\n",
      "[CV] END ..........C=0.1, degree=3, gamma=scale, kernel=poly; total time=  10.3s\n",
      "[CV] END .......C=0.1, degree=3, gamma=scale, kernel=sigmoid; total time=  11.4s\n",
      "[CV] END .......C=0.1, degree=3, gamma=scale, kernel=sigmoid; total time=   9.5s\n",
      "[CV] END .......C=0.1, degree=3, gamma=scale, kernel=sigmoid; total time=  10.2s\n",
      "[CV] END .......C=0.1, degree=3, gamma=scale, kernel=sigmoid; total time=  11.3s\n",
      "[CV] END .......C=0.1, degree=3, gamma=scale, kernel=sigmoid; total time=   9.2s\n",
      "[CV] END ............C=0.1, degree=3, gamma=auto, kernel=rbf; total time=   8.8s\n",
      "[CV] END ............C=0.1, degree=3, gamma=auto, kernel=rbf; total time=   9.0s\n",
      "[CV] END ............C=0.1, degree=3, gamma=auto, kernel=rbf; total time=   9.3s\n",
      "[CV] END ............C=0.1, degree=3, gamma=auto, kernel=rbf; total time=   9.2s\n",
      "[CV] END ............C=0.1, degree=3, gamma=auto, kernel=rbf; total time=   9.2s\n",
      "[CV] END .........C=0.1, degree=3, gamma=auto, kernel=linear; total time=   8.3s\n",
      "[CV] END .........C=0.1, degree=3, gamma=auto, kernel=linear; total time=   8.5s\n",
      "[CV] END .........C=0.1, degree=3, gamma=auto, kernel=linear; total time=   7.9s\n",
      "[CV] END .........C=0.1, degree=3, gamma=auto, kernel=linear; total time=   8.1s\n",
      "[CV] END .........C=0.1, degree=3, gamma=auto, kernel=linear; total time=   8.2s\n",
      "[CV] END ...........C=0.1, degree=3, gamma=auto, kernel=poly; total time=   6.7s\n",
      "[CV] END ...........C=0.1, degree=3, gamma=auto, kernel=poly; total time=   6.7s\n",
      "[CV] END ...........C=0.1, degree=3, gamma=auto, kernel=poly; total time=   7.3s\n",
      "[CV] END ...........C=0.1, degree=3, gamma=auto, kernel=poly; total time=   8.2s\n",
      "[CV] END ...........C=0.1, degree=3, gamma=auto, kernel=poly; total time=   7.7s\n",
      "[CV] END ........C=0.1, degree=3, gamma=auto, kernel=sigmoid; total time=   7.8s\n",
      "[CV] END ........C=0.1, degree=3, gamma=auto, kernel=sigmoid; total time=   7.3s\n",
      "[CV] END ........C=0.1, degree=3, gamma=auto, kernel=sigmoid; total time=   7.0s\n",
      "[CV] END ........C=0.1, degree=3, gamma=auto, kernel=sigmoid; total time=   7.3s\n",
      "[CV] END ........C=0.1, degree=3, gamma=auto, kernel=sigmoid; total time=   8.9s\n",
      "[CV] END ...........C=0.1, degree=4, gamma=scale, kernel=rbf; total time=  12.6s\n",
      "[CV] END ...........C=0.1, degree=4, gamma=scale, kernel=rbf; total time=  11.1s\n",
      "[CV] END ...........C=0.1, degree=4, gamma=scale, kernel=rbf; total time=  11.4s\n",
      "[CV] END ...........C=0.1, degree=4, gamma=scale, kernel=rbf; total time=   9.5s\n",
      "[CV] END ...........C=0.1, degree=4, gamma=scale, kernel=rbf; total time=  10.4s\n",
      "[CV] END ........C=0.1, degree=4, gamma=scale, kernel=linear; total time=   8.3s\n",
      "[CV] END ........C=0.1, degree=4, gamma=scale, kernel=linear; total time=  10.2s\n",
      "[CV] END ........C=0.1, degree=4, gamma=scale, kernel=linear; total time=   9.0s\n",
      "[CV] END ........C=0.1, degree=4, gamma=scale, kernel=linear; total time=  10.8s\n",
      "[CV] END ........C=0.1, degree=4, gamma=scale, kernel=linear; total time=  10.7s\n",
      "[CV] END ..........C=0.1, degree=4, gamma=scale, kernel=poly; total time=   9.0s\n",
      "[CV] END ..........C=0.1, degree=4, gamma=scale, kernel=poly; total time=  10.1s\n",
      "[CV] END ..........C=0.1, degree=4, gamma=scale, kernel=poly; total time=   9.9s\n",
      "[CV] END ..........C=0.1, degree=4, gamma=scale, kernel=poly; total time=  10.4s\n",
      "[CV] END ..........C=0.1, degree=4, gamma=scale, kernel=poly; total time=   9.0s\n",
      "[CV] END .......C=0.1, degree=4, gamma=scale, kernel=sigmoid; total time=  11.3s\n",
      "[CV] END .......C=0.1, degree=4, gamma=scale, kernel=sigmoid; total time=  10.7s\n",
      "[CV] END .......C=0.1, degree=4, gamma=scale, kernel=sigmoid; total time=  11.8s\n",
      "[CV] END .......C=0.1, degree=4, gamma=scale, kernel=sigmoid; total time=   9.9s\n",
      "[CV] END .......C=0.1, degree=4, gamma=scale, kernel=sigmoid; total time=  12.5s\n",
      "[CV] END ............C=0.1, degree=4, gamma=auto, kernel=rbf; total time=   9.2s\n",
      "[CV] END ............C=0.1, degree=4, gamma=auto, kernel=rbf; total time=  10.1s\n",
      "[CV] END ............C=0.1, degree=4, gamma=auto, kernel=rbf; total time=   9.2s\n",
      "[CV] END ............C=0.1, degree=4, gamma=auto, kernel=rbf; total time=   9.7s\n",
      "[CV] END ............C=0.1, degree=4, gamma=auto, kernel=rbf; total time=   9.2s\n",
      "[CV] END .........C=0.1, degree=4, gamma=auto, kernel=linear; total time=   9.0s\n",
      "[CV] END .........C=0.1, degree=4, gamma=auto, kernel=linear; total time=   8.5s\n",
      "[CV] END .........C=0.1, degree=4, gamma=auto, kernel=linear; total time=   8.7s\n",
      "[CV] END .........C=0.1, degree=4, gamma=auto, kernel=linear; total time=   9.4s\n",
      "[CV] END .........C=0.1, degree=4, gamma=auto, kernel=linear; total time=   8.2s\n",
      "[CV] END ...........C=0.1, degree=4, gamma=auto, kernel=poly; total time=   7.6s\n",
      "[CV] END ...........C=0.1, degree=4, gamma=auto, kernel=poly; total time=   7.0s\n",
      "[CV] END ...........C=0.1, degree=4, gamma=auto, kernel=poly; total time=   7.5s\n",
      "[CV] END ...........C=0.1, degree=4, gamma=auto, kernel=poly; total time=   8.0s\n",
      "[CV] END ...........C=0.1, degree=4, gamma=auto, kernel=poly; total time=   8.1s\n",
      "[CV] END ........C=0.1, degree=4, gamma=auto, kernel=sigmoid; total time=   7.5s\n",
      "[CV] END ........C=0.1, degree=4, gamma=auto, kernel=sigmoid; total time=   7.4s\n",
      "[CV] END ........C=0.1, degree=4, gamma=auto, kernel=sigmoid; total time=   6.8s\n",
      "[CV] END ........C=0.1, degree=4, gamma=auto, kernel=sigmoid; total time=   6.9s\n",
      "[CV] END ........C=0.1, degree=4, gamma=auto, kernel=sigmoid; total time=   6.7s\n",
      "[CV] END .............C=1, degree=2, gamma=scale, kernel=rbf; total time=  12.0s\n",
      "[CV] END .............C=1, degree=2, gamma=scale, kernel=rbf; total time=  11.9s\n",
      "[CV] END .............C=1, degree=2, gamma=scale, kernel=rbf; total time=  11.5s\n",
      "[CV] END .............C=1, degree=2, gamma=scale, kernel=rbf; total time=  12.2s\n",
      "[CV] END .............C=1, degree=2, gamma=scale, kernel=rbf; total time=  11.5s\n",
      "[CV] END ..........C=1, degree=2, gamma=scale, kernel=linear; total time=   9.9s\n",
      "[CV] END ..........C=1, degree=2, gamma=scale, kernel=linear; total time=  10.2s\n",
      "[CV] END ..........C=1, degree=2, gamma=scale, kernel=linear; total time=   9.8s\n",
      "[CV] END ..........C=1, degree=2, gamma=scale, kernel=linear; total time=   9.8s\n",
      "[CV] END ..........C=1, degree=2, gamma=scale, kernel=linear; total time=  10.3s\n",
      "[CV] END ............C=1, degree=2, gamma=scale, kernel=poly; total time=  10.4s\n",
      "[CV] END ............C=1, degree=2, gamma=scale, kernel=poly; total time=  10.6s\n",
      "[CV] END ............C=1, degree=2, gamma=scale, kernel=poly; total time=  10.1s\n",
      "[CV] END ............C=1, degree=2, gamma=scale, kernel=poly; total time=   9.9s\n",
      "[CV] END ............C=1, degree=2, gamma=scale, kernel=poly; total time=  10.0s\n",
      "[CV] END .........C=1, degree=2, gamma=scale, kernel=sigmoid; total time=   9.5s\n",
      "[CV] END .........C=1, degree=2, gamma=scale, kernel=sigmoid; total time=  12.2s\n",
      "[CV] END .........C=1, degree=2, gamma=scale, kernel=sigmoid; total time=   8.4s\n",
      "[CV] END .........C=1, degree=2, gamma=scale, kernel=sigmoid; total time=  10.1s\n",
      "[CV] END .........C=1, degree=2, gamma=scale, kernel=sigmoid; total time=   9.9s\n",
      "[CV] END ..............C=1, degree=2, gamma=auto, kernel=rbf; total time=   9.8s\n",
      "[CV] END ..............C=1, degree=2, gamma=auto, kernel=rbf; total time=  11.0s\n",
      "[CV] END ..............C=1, degree=2, gamma=auto, kernel=rbf; total time=  10.6s\n",
      "[CV] END ..............C=1, degree=2, gamma=auto, kernel=rbf; total time=   9.9s\n",
      "[CV] END ..............C=1, degree=2, gamma=auto, kernel=rbf; total time=  10.5s\n",
      "[CV] END ...........C=1, degree=2, gamma=auto, kernel=linear; total time=  10.4s\n",
      "[CV] END ...........C=1, degree=2, gamma=auto, kernel=linear; total time=  12.3s\n",
      "[CV] END ...........C=1, degree=2, gamma=auto, kernel=linear; total time=  11.0s\n",
      "[CV] END ...........C=1, degree=2, gamma=auto, kernel=linear; total time=  11.3s\n",
      "[CV] END ...........C=1, degree=2, gamma=auto, kernel=linear; total time=  10.6s\n",
      "[CV] END .............C=1, degree=2, gamma=auto, kernel=poly; total time=   8.3s\n",
      "[CV] END .............C=1, degree=2, gamma=auto, kernel=poly; total time=   7.4s\n",
      "[CV] END .............C=1, degree=2, gamma=auto, kernel=poly; total time=   7.3s\n",
      "[CV] END .............C=1, degree=2, gamma=auto, kernel=poly; total time=   6.9s\n",
      "[CV] END .............C=1, degree=2, gamma=auto, kernel=poly; total time=   7.0s\n",
      "[CV] END ..........C=1, degree=2, gamma=auto, kernel=sigmoid; total time=   7.8s\n",
      "[CV] END ..........C=1, degree=2, gamma=auto, kernel=sigmoid; total time=   7.7s\n",
      "[CV] END ..........C=1, degree=2, gamma=auto, kernel=sigmoid; total time=   8.8s\n",
      "[CV] END ..........C=1, degree=2, gamma=auto, kernel=sigmoid; total time=   8.1s\n",
      "[CV] END ..........C=1, degree=2, gamma=auto, kernel=sigmoid; total time=   9.1s\n",
      "[CV] END .............C=1, degree=3, gamma=scale, kernel=rbf; total time=  12.8s\n",
      "[CV] END .............C=1, degree=3, gamma=scale, kernel=rbf; total time=  11.7s\n",
      "[CV] END .............C=1, degree=3, gamma=scale, kernel=rbf; total time=  12.1s\n",
      "[CV] END .............C=1, degree=3, gamma=scale, kernel=rbf; total time=  12.1s\n",
      "[CV] END .............C=1, degree=3, gamma=scale, kernel=rbf; total time=  12.6s\n",
      "[CV] END ..........C=1, degree=3, gamma=scale, kernel=linear; total time=  10.1s\n",
      "[CV] END ..........C=1, degree=3, gamma=scale, kernel=linear; total time=  10.7s\n",
      "[CV] END ..........C=1, degree=3, gamma=scale, kernel=linear; total time=  10.1s\n",
      "[CV] END ..........C=1, degree=3, gamma=scale, kernel=linear; total time=   9.9s\n",
      "[CV] END ..........C=1, degree=3, gamma=scale, kernel=linear; total time=   9.8s\n",
      "[CV] END ............C=1, degree=3, gamma=scale, kernel=poly; total time=  10.2s\n",
      "[CV] END ............C=1, degree=3, gamma=scale, kernel=poly; total time=  11.8s\n",
      "[CV] END ............C=1, degree=3, gamma=scale, kernel=poly; total time=  11.1s\n",
      "[CV] END ............C=1, degree=3, gamma=scale, kernel=poly; total time=  11.7s\n",
      "[CV] END ............C=1, degree=3, gamma=scale, kernel=poly; total time=  11.5s\n",
      "[CV] END .........C=1, degree=3, gamma=scale, kernel=sigmoid; total time=   8.7s\n",
      "[CV] END .........C=1, degree=3, gamma=scale, kernel=sigmoid; total time=  10.3s\n",
      "[CV] END .........C=1, degree=3, gamma=scale, kernel=sigmoid; total time=  10.4s\n",
      "[CV] END .........C=1, degree=3, gamma=scale, kernel=sigmoid; total time=   9.9s\n",
      "[CV] END .........C=1, degree=3, gamma=scale, kernel=sigmoid; total time=   9.1s\n",
      "[CV] END ..............C=1, degree=3, gamma=auto, kernel=rbf; total time=  10.5s\n",
      "[CV] END ..............C=1, degree=3, gamma=auto, kernel=rbf; total time=  11.6s\n",
      "[CV] END ..............C=1, degree=3, gamma=auto, kernel=rbf; total time=   9.6s\n",
      "[CV] END ..............C=1, degree=3, gamma=auto, kernel=rbf; total time=  10.2s\n",
      "[CV] END ..............C=1, degree=3, gamma=auto, kernel=rbf; total time=  10.1s\n",
      "[CV] END ...........C=1, degree=3, gamma=auto, kernel=linear; total time=  10.4s\n",
      "[CV] END ...........C=1, degree=3, gamma=auto, kernel=linear; total time=   9.7s\n",
      "[CV] END ...........C=1, degree=3, gamma=auto, kernel=linear; total time=  10.3s\n",
      "[CV] END ...........C=1, degree=3, gamma=auto, kernel=linear; total time=   9.9s\n",
      "[CV] END ...........C=1, degree=3, gamma=auto, kernel=linear; total time=  10.2s\n",
      "[CV] END .............C=1, degree=3, gamma=auto, kernel=poly; total time=   6.9s\n",
      "[CV] END .............C=1, degree=3, gamma=auto, kernel=poly; total time=   7.1s\n",
      "[CV] END .............C=1, degree=3, gamma=auto, kernel=poly; total time=   7.0s\n",
      "[CV] END .............C=1, degree=3, gamma=auto, kernel=poly; total time=   7.6s\n",
      "[CV] END .............C=1, degree=3, gamma=auto, kernel=poly; total time=   7.7s\n",
      "[CV] END ..........C=1, degree=3, gamma=auto, kernel=sigmoid; total time=   7.4s\n",
      "[CV] END ..........C=1, degree=3, gamma=auto, kernel=sigmoid; total time=   7.5s\n",
      "[CV] END ..........C=1, degree=3, gamma=auto, kernel=sigmoid; total time=   7.8s\n",
      "[CV] END ..........C=1, degree=3, gamma=auto, kernel=sigmoid; total time=   7.1s\n",
      "[CV] END ..........C=1, degree=3, gamma=auto, kernel=sigmoid; total time=   7.0s\n",
      "[CV] END .............C=1, degree=4, gamma=scale, kernel=rbf; total time=  12.0s\n",
      "[CV] END .............C=1, degree=4, gamma=scale, kernel=rbf; total time=  11.2s\n",
      "[CV] END .............C=1, degree=4, gamma=scale, kernel=rbf; total time=  11.1s\n",
      "[CV] END .............C=1, degree=4, gamma=scale, kernel=rbf; total time=  11.1s\n",
      "[CV] END .............C=1, degree=4, gamma=scale, kernel=rbf; total time=  11.7s\n",
      "[CV] END ..........C=1, degree=4, gamma=scale, kernel=linear; total time=  10.8s\n",
      "[CV] END ..........C=1, degree=4, gamma=scale, kernel=linear; total time=   9.8s\n",
      "[CV] END ..........C=1, degree=4, gamma=scale, kernel=linear; total time=  10.3s\n",
      "[CV] END ..........C=1, degree=4, gamma=scale, kernel=linear; total time=  10.5s\n",
      "[CV] END ..........C=1, degree=4, gamma=scale, kernel=linear; total time=  10.1s\n",
      "[CV] END ............C=1, degree=4, gamma=scale, kernel=poly; total time=  10.9s\n",
      "[CV] END ............C=1, degree=4, gamma=scale, kernel=poly; total time=  10.4s\n",
      "[CV] END ............C=1, degree=4, gamma=scale, kernel=poly; total time=  11.3s\n",
      "[CV] END ............C=1, degree=4, gamma=scale, kernel=poly; total time=  10.3s\n",
      "[CV] END ............C=1, degree=4, gamma=scale, kernel=poly; total time=  10.7s\n",
      "[CV] END .........C=1, degree=4, gamma=scale, kernel=sigmoid; total time=   8.7s\n",
      "[CV] END .........C=1, degree=4, gamma=scale, kernel=sigmoid; total time=   9.6s\n",
      "[CV] END .........C=1, degree=4, gamma=scale, kernel=sigmoid; total time=   8.4s\n",
      "[CV] END .........C=1, degree=4, gamma=scale, kernel=sigmoid; total time=   9.4s\n",
      "[CV] END .........C=1, degree=4, gamma=scale, kernel=sigmoid; total time=  10.1s\n",
      "[CV] END ..............C=1, degree=4, gamma=auto, kernel=rbf; total time=  10.1s\n",
      "[CV] END ..............C=1, degree=4, gamma=auto, kernel=rbf; total time=  10.3s\n",
      "[CV] END ..............C=1, degree=4, gamma=auto, kernel=rbf; total time=  10.0s\n",
      "[CV] END ..............C=1, degree=4, gamma=auto, kernel=rbf; total time=   9.4s\n",
      "[CV] END ..............C=1, degree=4, gamma=auto, kernel=rbf; total time=  10.1s\n",
      "[CV] END ...........C=1, degree=4, gamma=auto, kernel=linear; total time=  10.8s\n",
      "[CV] END ...........C=1, degree=4, gamma=auto, kernel=linear; total time=  10.9s\n",
      "[CV] END ...........C=1, degree=4, gamma=auto, kernel=linear; total time=  11.2s\n",
      "[CV] END ...........C=1, degree=4, gamma=auto, kernel=linear; total time=   9.9s\n",
      "[CV] END ...........C=1, degree=4, gamma=auto, kernel=linear; total time=  11.5s\n",
      "[CV] END .............C=1, degree=4, gamma=auto, kernel=poly; total time=   6.4s\n",
      "[CV] END .............C=1, degree=4, gamma=auto, kernel=poly; total time=   6.6s\n",
      "[CV] END .............C=1, degree=4, gamma=auto, kernel=poly; total time=   6.5s\n",
      "[CV] END .............C=1, degree=4, gamma=auto, kernel=poly; total time=   5.9s\n",
      "[CV] END .............C=1, degree=4, gamma=auto, kernel=poly; total time=   6.8s\n",
      "[CV] END ..........C=1, degree=4, gamma=auto, kernel=sigmoid; total time=   6.4s\n",
      "[CV] END ..........C=1, degree=4, gamma=auto, kernel=sigmoid; total time=   6.4s\n",
      "[CV] END ..........C=1, degree=4, gamma=auto, kernel=sigmoid; total time=   6.3s\n",
      "[CV] END ..........C=1, degree=4, gamma=auto, kernel=sigmoid; total time=   6.3s\n",
      "[CV] END ..........C=1, degree=4, gamma=auto, kernel=sigmoid; total time=   6.3s\n",
      "[CV] END ............C=10, degree=2, gamma=scale, kernel=rbf; total time=  11.6s\n",
      "[CV] END ............C=10, degree=2, gamma=scale, kernel=rbf; total time=  11.3s\n",
      "[CV] END ............C=10, degree=2, gamma=scale, kernel=rbf; total time=  11.4s\n",
      "[CV] END ............C=10, degree=2, gamma=scale, kernel=rbf; total time=  11.3s\n",
      "[CV] END ............C=10, degree=2, gamma=scale, kernel=rbf; total time=  12.3s\n",
      "[CV] END .........C=10, degree=2, gamma=scale, kernel=linear; total time=  12.2s\n",
      "[CV] END .........C=10, degree=2, gamma=scale, kernel=linear; total time=  12.3s\n",
      "[CV] END .........C=10, degree=2, gamma=scale, kernel=linear; total time=  14.9s\n",
      "[CV] END .........C=10, degree=2, gamma=scale, kernel=linear; total time=  16.5s\n",
      "[CV] END .........C=10, degree=2, gamma=scale, kernel=linear; total time=  15.6s\n",
      "[CV] END ...........C=10, degree=2, gamma=scale, kernel=poly; total time=  11.5s\n",
      "[CV] END ...........C=10, degree=2, gamma=scale, kernel=poly; total time=  11.3s\n",
      "[CV] END ...........C=10, degree=2, gamma=scale, kernel=poly; total time=  11.0s\n",
      "[CV] END ...........C=10, degree=2, gamma=scale, kernel=poly; total time=  11.6s\n",
      "[CV] END ...........C=10, degree=2, gamma=scale, kernel=poly; total time=  12.3s\n",
      "[CV] END ........C=10, degree=2, gamma=scale, kernel=sigmoid; total time=   7.4s\n",
      "[CV] END ........C=10, degree=2, gamma=scale, kernel=sigmoid; total time=   7.5s\n",
      "[CV] END ........C=10, degree=2, gamma=scale, kernel=sigmoid; total time=   7.4s\n",
      "[CV] END ........C=10, degree=2, gamma=scale, kernel=sigmoid; total time=   7.6s\n",
      "[CV] END ........C=10, degree=2, gamma=scale, kernel=sigmoid; total time=   8.0s\n",
      "[CV] END .............C=10, degree=2, gamma=auto, kernel=rbf; total time=  10.7s\n",
      "[CV] END .............C=10, degree=2, gamma=auto, kernel=rbf; total time=  11.4s\n",
      "[CV] END .............C=10, degree=2, gamma=auto, kernel=rbf; total time=  10.7s\n",
      "[CV] END .............C=10, degree=2, gamma=auto, kernel=rbf; total time=  10.1s\n",
      "[CV] END .............C=10, degree=2, gamma=auto, kernel=rbf; total time=  10.7s\n",
      "[CV] END ..........C=10, degree=2, gamma=auto, kernel=linear; total time=  13.8s\n",
      "[CV] END ..........C=10, degree=2, gamma=auto, kernel=linear; total time=  13.0s\n",
      "[CV] END ..........C=10, degree=2, gamma=auto, kernel=linear; total time=  13.4s\n",
      "[CV] END ..........C=10, degree=2, gamma=auto, kernel=linear; total time=  13.8s\n",
      "[CV] END ..........C=10, degree=2, gamma=auto, kernel=linear; total time=  14.4s\n",
      "[CV] END ............C=10, degree=2, gamma=auto, kernel=poly; total time=   7.3s\n",
      "[CV] END ............C=10, degree=2, gamma=auto, kernel=poly; total time=   7.4s\n",
      "[CV] END ............C=10, degree=2, gamma=auto, kernel=poly; total time=   7.5s\n",
      "[CV] END ............C=10, degree=2, gamma=auto, kernel=poly; total time=   7.4s\n",
      "[CV] END ............C=10, degree=2, gamma=auto, kernel=poly; total time=   7.2s\n",
      "[CV] END .........C=10, degree=2, gamma=auto, kernel=sigmoid; total time=   7.6s\n",
      "[CV] END .........C=10, degree=2, gamma=auto, kernel=sigmoid; total time=   7.9s\n",
      "[CV] END .........C=10, degree=2, gamma=auto, kernel=sigmoid; total time=   8.0s\n",
      "[CV] END .........C=10, degree=2, gamma=auto, kernel=sigmoid; total time=   7.5s\n",
      "[CV] END .........C=10, degree=2, gamma=auto, kernel=sigmoid; total time=   8.1s\n",
      "[CV] END ............C=10, degree=3, gamma=scale, kernel=rbf; total time=  14.4s\n",
      "[CV] END ............C=10, degree=3, gamma=scale, kernel=rbf; total time=  13.3s\n",
      "[CV] END ............C=10, degree=3, gamma=scale, kernel=rbf; total time=  13.1s\n",
      "[CV] END ............C=10, degree=3, gamma=scale, kernel=rbf; total time=  15.4s\n",
      "[CV] END ............C=10, degree=3, gamma=scale, kernel=rbf; total time=  14.2s\n",
      "[CV] END .........C=10, degree=3, gamma=scale, kernel=linear; total time=  15.4s\n",
      "[CV] END .........C=10, degree=3, gamma=scale, kernel=linear; total time=  13.7s\n",
      "[CV] END .........C=10, degree=3, gamma=scale, kernel=linear; total time=  14.7s\n",
      "[CV] END .........C=10, degree=3, gamma=scale, kernel=linear; total time=  15.1s\n",
      "[CV] END .........C=10, degree=3, gamma=scale, kernel=linear; total time=  15.0s\n",
      "[CV] END ...........C=10, degree=3, gamma=scale, kernel=poly; total time=  12.5s\n",
      "[CV] END ...........C=10, degree=3, gamma=scale, kernel=poly; total time=  12.8s\n",
      "[CV] END ...........C=10, degree=3, gamma=scale, kernel=poly; total time=  12.6s\n",
      "[CV] END ...........C=10, degree=3, gamma=scale, kernel=poly; total time=  13.6s\n",
      "[CV] END ...........C=10, degree=3, gamma=scale, kernel=poly; total time=  13.5s\n",
      "[CV] END ........C=10, degree=3, gamma=scale, kernel=sigmoid; total time=   8.3s\n",
      "[CV] END ........C=10, degree=3, gamma=scale, kernel=sigmoid; total time=   9.1s\n",
      "[CV] END ........C=10, degree=3, gamma=scale, kernel=sigmoid; total time=   8.9s\n",
      "[CV] END ........C=10, degree=3, gamma=scale, kernel=sigmoid; total time=   7.8s\n",
      "[CV] END ........C=10, degree=3, gamma=scale, kernel=sigmoid; total time=   8.9s\n",
      "[CV] END .............C=10, degree=3, gamma=auto, kernel=rbf; total time=   9.9s\n",
      "[CV] END .............C=10, degree=3, gamma=auto, kernel=rbf; total time=  10.0s\n",
      "[CV] END .............C=10, degree=3, gamma=auto, kernel=rbf; total time=  10.2s\n",
      "[CV] END .............C=10, degree=3, gamma=auto, kernel=rbf; total time=   9.5s\n",
      "[CV] END .............C=10, degree=3, gamma=auto, kernel=rbf; total time=  10.5s\n",
      "[CV] END ..........C=10, degree=3, gamma=auto, kernel=linear; total time=  13.2s\n",
      "[CV] END ..........C=10, degree=3, gamma=auto, kernel=linear; total time=  13.9s\n",
      "[CV] END ..........C=10, degree=3, gamma=auto, kernel=linear; total time=  13.1s\n",
      "[CV] END ..........C=10, degree=3, gamma=auto, kernel=linear; total time=  13.7s\n",
      "[CV] END ..........C=10, degree=3, gamma=auto, kernel=linear; total time=  12.5s\n",
      "[CV] END ............C=10, degree=3, gamma=auto, kernel=poly; total time=   5.9s\n",
      "[CV] END ............C=10, degree=3, gamma=auto, kernel=poly; total time=   6.0s\n",
      "[CV] END ............C=10, degree=3, gamma=auto, kernel=poly; total time=   5.9s\n",
      "[CV] END ............C=10, degree=3, gamma=auto, kernel=poly; total time=   6.2s\n",
      "[CV] END ............C=10, degree=3, gamma=auto, kernel=poly; total time=   6.5s\n",
      "[CV] END .........C=10, degree=3, gamma=auto, kernel=sigmoid; total time=   8.3s\n",
      "[CV] END .........C=10, degree=3, gamma=auto, kernel=sigmoid; total time=   7.3s\n",
      "[CV] END .........C=10, degree=3, gamma=auto, kernel=sigmoid; total time=   6.8s\n",
      "[CV] END .........C=10, degree=3, gamma=auto, kernel=sigmoid; total time=   6.9s\n",
      "[CV] END .........C=10, degree=3, gamma=auto, kernel=sigmoid; total time=   6.9s\n",
      "[CV] END ............C=10, degree=4, gamma=scale, kernel=rbf; total time=  11.4s\n",
      "[CV] END ............C=10, degree=4, gamma=scale, kernel=rbf; total time=  11.6s\n",
      "[CV] END ............C=10, degree=4, gamma=scale, kernel=rbf; total time=  11.5s\n",
      "[CV] END ............C=10, degree=4, gamma=scale, kernel=rbf; total time=  11.7s\n",
      "[CV] END ............C=10, degree=4, gamma=scale, kernel=rbf; total time=  12.8s\n",
      "[CV] END .........C=10, degree=4, gamma=scale, kernel=linear; total time=  11.9s\n",
      "[CV] END .........C=10, degree=4, gamma=scale, kernel=linear; total time=  11.7s\n",
      "[CV] END .........C=10, degree=4, gamma=scale, kernel=linear; total time=  11.5s\n",
      "[CV] END .........C=10, degree=4, gamma=scale, kernel=linear; total time=  12.1s\n",
      "[CV] END .........C=10, degree=4, gamma=scale, kernel=linear; total time=  12.0s\n",
      "[CV] END ...........C=10, degree=4, gamma=scale, kernel=poly; total time=  10.2s\n",
      "[CV] END ...........C=10, degree=4, gamma=scale, kernel=poly; total time=  11.3s\n",
      "[CV] END ...........C=10, degree=4, gamma=scale, kernel=poly; total time=  11.4s\n",
      "[CV] END ...........C=10, degree=4, gamma=scale, kernel=poly; total time=  10.6s\n",
      "[CV] END ...........C=10, degree=4, gamma=scale, kernel=poly; total time=  10.5s\n",
      "[CV] END ........C=10, degree=4, gamma=scale, kernel=sigmoid; total time=   6.8s\n",
      "[CV] END ........C=10, degree=4, gamma=scale, kernel=sigmoid; total time=   6.9s\n",
      "[CV] END ........C=10, degree=4, gamma=scale, kernel=sigmoid; total time=   7.1s\n",
      "[CV] END ........C=10, degree=4, gamma=scale, kernel=sigmoid; total time=   6.9s\n",
      "[CV] END ........C=10, degree=4, gamma=scale, kernel=sigmoid; total time=   7.0s\n",
      "[CV] END .............C=10, degree=4, gamma=auto, kernel=rbf; total time=   8.8s\n",
      "[CV] END .............C=10, degree=4, gamma=auto, kernel=rbf; total time=   8.8s\n",
      "[CV] END .............C=10, degree=4, gamma=auto, kernel=rbf; total time=   8.8s\n",
      "[CV] END .............C=10, degree=4, gamma=auto, kernel=rbf; total time=   8.8s\n",
      "[CV] END .............C=10, degree=4, gamma=auto, kernel=rbf; total time=   8.8s\n",
      "[CV] END ..........C=10, degree=4, gamma=auto, kernel=linear; total time=  11.9s\n",
      "[CV] END ..........C=10, degree=4, gamma=auto, kernel=linear; total time=  11.8s\n",
      "[CV] END ..........C=10, degree=4, gamma=auto, kernel=linear; total time=  11.6s\n",
      "[CV] END ..........C=10, degree=4, gamma=auto, kernel=linear; total time=  12.1s\n",
      "[CV] END ..........C=10, degree=4, gamma=auto, kernel=linear; total time=  12.0s\n",
      "[CV] END ............C=10, degree=4, gamma=auto, kernel=poly; total time=   5.9s\n",
      "[CV] END ............C=10, degree=4, gamma=auto, kernel=poly; total time=   5.9s\n",
      "[CV] END ............C=10, degree=4, gamma=auto, kernel=poly; total time=   6.7s\n",
      "[CV] END ............C=10, degree=4, gamma=auto, kernel=poly; total time=   6.1s\n",
      "[CV] END ............C=10, degree=4, gamma=auto, kernel=poly; total time=   7.0s\n",
      "[CV] END .........C=10, degree=4, gamma=auto, kernel=sigmoid; total time=   6.8s\n",
      "[CV] END .........C=10, degree=4, gamma=auto, kernel=sigmoid; total time=   6.9s\n",
      "[CV] END .........C=10, degree=4, gamma=auto, kernel=sigmoid; total time=   6.8s\n",
      "[CV] END .........C=10, degree=4, gamma=auto, kernel=sigmoid; total time=   6.8s\n",
      "[CV] END .........C=10, degree=4, gamma=auto, kernel=sigmoid; total time=   6.8s\n",
      "[CV] END ...........C=100, degree=2, gamma=scale, kernel=rbf; total time=  12.2s\n",
      "[CV] END ...........C=100, degree=2, gamma=scale, kernel=rbf; total time=  12.0s\n",
      "[CV] END ...........C=100, degree=2, gamma=scale, kernel=rbf; total time=  12.2s\n",
      "[CV] END ...........C=100, degree=2, gamma=scale, kernel=rbf; total time=  12.2s\n",
      "[CV] END ...........C=100, degree=2, gamma=scale, kernel=rbf; total time=  12.2s\n",
      "[CV] END ........C=100, degree=2, gamma=scale, kernel=linear; total time=  22.6s\n",
      "[CV] END ........C=100, degree=2, gamma=scale, kernel=linear; total time=  21.8s\n",
      "[CV] END ........C=100, degree=2, gamma=scale, kernel=linear; total time=  22.5s\n",
      "[CV] END ........C=100, degree=2, gamma=scale, kernel=linear; total time=  24.6s\n",
      "[CV] END ........C=100, degree=2, gamma=scale, kernel=linear; total time=  22.7s\n",
      "[CV] END ..........C=100, degree=2, gamma=scale, kernel=poly; total time=  11.7s\n",
      "[CV] END ..........C=100, degree=2, gamma=scale, kernel=poly; total time=  11.5s\n",
      "[CV] END ..........C=100, degree=2, gamma=scale, kernel=poly; total time=  12.1s\n",
      "[CV] END ..........C=100, degree=2, gamma=scale, kernel=poly; total time=  11.8s\n",
      "[CV] END ..........C=100, degree=2, gamma=scale, kernel=poly; total time=  11.7s\n",
      "[CV] END .......C=100, degree=2, gamma=scale, kernel=sigmoid; total time=   6.8s\n",
      "[CV] END .......C=100, degree=2, gamma=scale, kernel=sigmoid; total time=   6.4s\n",
      "[CV] END .......C=100, degree=2, gamma=scale, kernel=sigmoid; total time=   6.6s\n",
      "[CV] END .......C=100, degree=2, gamma=scale, kernel=sigmoid; total time=   6.3s\n",
      "[CV] END .......C=100, degree=2, gamma=scale, kernel=sigmoid; total time=   6.5s\n",
      "[CV] END ............C=100, degree=2, gamma=auto, kernel=rbf; total time=  10.3s\n",
      "[CV] END ............C=100, degree=2, gamma=auto, kernel=rbf; total time=  10.3s\n",
      "[CV] END ............C=100, degree=2, gamma=auto, kernel=rbf; total time=  10.6s\n",
      "[CV] END ............C=100, degree=2, gamma=auto, kernel=rbf; total time=  10.1s\n",
      "[CV] END ............C=100, degree=2, gamma=auto, kernel=rbf; total time=  10.3s\n",
      "[CV] END .........C=100, degree=2, gamma=auto, kernel=linear; total time=  22.4s\n",
      "[CV] END .........C=100, degree=2, gamma=auto, kernel=linear; total time=  21.8s\n",
      "[CV] END .........C=100, degree=2, gamma=auto, kernel=linear; total time=  22.4s\n",
      "[CV] END .........C=100, degree=2, gamma=auto, kernel=linear; total time=  24.2s\n",
      "[CV] END .........C=100, degree=2, gamma=auto, kernel=linear; total time=  22.8s\n",
      "[CV] END ...........C=100, degree=2, gamma=auto, kernel=poly; total time=   6.3s\n",
      "[CV] END ...........C=100, degree=2, gamma=auto, kernel=poly; total time=   6.3s\n",
      "[CV] END ...........C=100, degree=2, gamma=auto, kernel=poly; total time=   6.2s\n",
      "[CV] END ...........C=100, degree=2, gamma=auto, kernel=poly; total time=   6.3s\n",
      "[CV] END ...........C=100, degree=2, gamma=auto, kernel=poly; total time=   6.4s\n",
      "[CV] END ........C=100, degree=2, gamma=auto, kernel=sigmoid; total time=   7.9s\n",
      "[CV] END ........C=100, degree=2, gamma=auto, kernel=sigmoid; total time=   8.4s\n",
      "[CV] END ........C=100, degree=2, gamma=auto, kernel=sigmoid; total time=   8.2s\n",
      "[CV] END ........C=100, degree=2, gamma=auto, kernel=sigmoid; total time=   8.0s\n",
      "[CV] END ........C=100, degree=2, gamma=auto, kernel=sigmoid; total time=   8.2s\n",
      "[CV] END ...........C=100, degree=3, gamma=scale, kernel=rbf; total time=  12.3s\n",
      "[CV] END ...........C=100, degree=3, gamma=scale, kernel=rbf; total time=  12.0s\n",
      "[CV] END ...........C=100, degree=3, gamma=scale, kernel=rbf; total time=  12.0s\n",
      "[CV] END ...........C=100, degree=3, gamma=scale, kernel=rbf; total time=  12.3s\n",
      "[CV] END ...........C=100, degree=3, gamma=scale, kernel=rbf; total time=  12.3s\n",
      "[CV] END ........C=100, degree=3, gamma=scale, kernel=linear; total time=  22.5s\n",
      "[CV] END ........C=100, degree=3, gamma=scale, kernel=linear; total time=  21.8s\n",
      "[CV] END ........C=100, degree=3, gamma=scale, kernel=linear; total time=  22.2s\n",
      "[CV] END ........C=100, degree=3, gamma=scale, kernel=linear; total time=  24.5s\n",
      "[CV] END ........C=100, degree=3, gamma=scale, kernel=linear; total time=  23.2s\n",
      "[CV] END ..........C=100, degree=3, gamma=scale, kernel=poly; total time=  12.3s\n",
      "[CV] END ..........C=100, degree=3, gamma=scale, kernel=poly; total time=  11.1s\n",
      "[CV] END ..........C=100, degree=3, gamma=scale, kernel=poly; total time=  11.6s\n",
      "[CV] END ..........C=100, degree=3, gamma=scale, kernel=poly; total time=  11.7s\n",
      "[CV] END ..........C=100, degree=3, gamma=scale, kernel=poly; total time=  11.8s\n",
      "[CV] END .......C=100, degree=3, gamma=scale, kernel=sigmoid; total time=   6.7s\n",
      "[CV] END .......C=100, degree=3, gamma=scale, kernel=sigmoid; total time=   6.6s\n",
      "[CV] END .......C=100, degree=3, gamma=scale, kernel=sigmoid; total time=   7.0s\n",
      "[CV] END .......C=100, degree=3, gamma=scale, kernel=sigmoid; total time=   6.2s\n",
      "[CV] END .......C=100, degree=3, gamma=scale, kernel=sigmoid; total time=   6.5s\n",
      "[CV] END ............C=100, degree=3, gamma=auto, kernel=rbf; total time=  10.3s\n",
      "[CV] END ............C=100, degree=3, gamma=auto, kernel=rbf; total time=  10.5s\n",
      "[CV] END ............C=100, degree=3, gamma=auto, kernel=rbf; total time=  10.4s\n",
      "[CV] END ............C=100, degree=3, gamma=auto, kernel=rbf; total time=  10.3s\n",
      "[CV] END ............C=100, degree=3, gamma=auto, kernel=rbf; total time=  10.3s\n",
      "[CV] END .........C=100, degree=3, gamma=auto, kernel=linear; total time=  22.6s\n",
      "[CV] END .........C=100, degree=3, gamma=auto, kernel=linear; total time=  21.7s\n",
      "[CV] END .........C=100, degree=3, gamma=auto, kernel=linear; total time=  22.1s\n",
      "[CV] END .........C=100, degree=3, gamma=auto, kernel=linear; total time=  24.2s\n",
      "[CV] END .........C=100, degree=3, gamma=auto, kernel=linear; total time=  22.7s\n",
      "[CV] END ...........C=100, degree=3, gamma=auto, kernel=poly; total time=   5.8s\n",
      "[CV] END ...........C=100, degree=3, gamma=auto, kernel=poly; total time=   5.9s\n",
      "[CV] END ...........C=100, degree=3, gamma=auto, kernel=poly; total time=   5.8s\n",
      "[CV] END ...........C=100, degree=3, gamma=auto, kernel=poly; total time=   5.8s\n",
      "[CV] END ...........C=100, degree=3, gamma=auto, kernel=poly; total time=   5.9s\n",
      "[CV] END ........C=100, degree=3, gamma=auto, kernel=sigmoid; total time=   8.1s\n",
      "[CV] END ........C=100, degree=3, gamma=auto, kernel=sigmoid; total time=   8.1s\n",
      "[CV] END ........C=100, degree=3, gamma=auto, kernel=sigmoid; total time=   7.9s\n",
      "[CV] END ........C=100, degree=3, gamma=auto, kernel=sigmoid; total time=   8.1s\n",
      "[CV] END ........C=100, degree=3, gamma=auto, kernel=sigmoid; total time=   8.1s\n",
      "[CV] END ...........C=100, degree=4, gamma=scale, kernel=rbf; total time=  12.0s\n",
      "[CV] END ...........C=100, degree=4, gamma=scale, kernel=rbf; total time=  11.8s\n",
      "[CV] END ...........C=100, degree=4, gamma=scale, kernel=rbf; total time=  12.0s\n",
      "[CV] END ...........C=100, degree=4, gamma=scale, kernel=rbf; total time=  12.2s\n",
      "[CV] END ...........C=100, degree=4, gamma=scale, kernel=rbf; total time=  12.1s\n",
      "[CV] END ........C=100, degree=4, gamma=scale, kernel=linear; total time=  22.5s\n",
      "[CV] END ........C=100, degree=4, gamma=scale, kernel=linear; total time=  21.8s\n",
      "[CV] END ........C=100, degree=4, gamma=scale, kernel=linear; total time=  22.3s\n",
      "[CV] END ........C=100, degree=4, gamma=scale, kernel=linear; total time=  24.1s\n",
      "[CV] END ........C=100, degree=4, gamma=scale, kernel=linear; total time=  22.7s\n",
      "[CV] END ..........C=100, degree=4, gamma=scale, kernel=poly; total time=  11.6s\n",
      "[CV] END ..........C=100, degree=4, gamma=scale, kernel=poly; total time=  11.5s\n",
      "[CV] END ..........C=100, degree=4, gamma=scale, kernel=poly; total time=  11.8s\n",
      "[CV] END ..........C=100, degree=4, gamma=scale, kernel=poly; total time=  12.1s\n",
      "[CV] END ..........C=100, degree=4, gamma=scale, kernel=poly; total time=  13.3s\n",
      "[CV] END .......C=100, degree=4, gamma=scale, kernel=sigmoid; total time=   7.9s\n",
      "[CV] END .......C=100, degree=4, gamma=scale, kernel=sigmoid; total time=   6.3s\n",
      "[CV] END .......C=100, degree=4, gamma=scale, kernel=sigmoid; total time=   6.6s\n",
      "[CV] END .......C=100, degree=4, gamma=scale, kernel=sigmoid; total time=   6.2s\n",
      "[CV] END .......C=100, degree=4, gamma=scale, kernel=sigmoid; total time=   6.5s\n",
      "[CV] END ............C=100, degree=4, gamma=auto, kernel=rbf; total time=  10.3s\n",
      "[CV] END ............C=100, degree=4, gamma=auto, kernel=rbf; total time=  10.3s\n",
      "[CV] END ............C=100, degree=4, gamma=auto, kernel=rbf; total time=  10.4s\n",
      "[CV] END ............C=100, degree=4, gamma=auto, kernel=rbf; total time=  10.3s\n",
      "[CV] END ............C=100, degree=4, gamma=auto, kernel=rbf; total time=  10.3s\n",
      "[CV] END .........C=100, degree=4, gamma=auto, kernel=linear; total time=  22.4s\n",
      "[CV] END .........C=100, degree=4, gamma=auto, kernel=linear; total time=  22.4s\n",
      "[CV] END .........C=100, degree=4, gamma=auto, kernel=linear; total time=  21.7s\n",
      "[CV] END .........C=100, degree=4, gamma=auto, kernel=linear; total time=  24.2s\n",
      "[CV] END .........C=100, degree=4, gamma=auto, kernel=linear; total time=  22.3s\n",
      "[CV] END ...........C=100, degree=4, gamma=auto, kernel=poly; total time=   5.5s\n",
      "[CV] END ...........C=100, degree=4, gamma=auto, kernel=poly; total time=   5.5s\n",
      "[CV] END ...........C=100, degree=4, gamma=auto, kernel=poly; total time=   5.5s\n",
      "[CV] END ...........C=100, degree=4, gamma=auto, kernel=poly; total time=   5.5s\n",
      "[CV] END ...........C=100, degree=4, gamma=auto, kernel=poly; total time=   5.5s\n",
      "[CV] END ........C=100, degree=4, gamma=auto, kernel=sigmoid; total time=   7.7s\n",
      "[CV] END ........C=100, degree=4, gamma=auto, kernel=sigmoid; total time=   7.8s\n",
      "[CV] END ........C=100, degree=4, gamma=auto, kernel=sigmoid; total time=   8.6s\n",
      "[CV] END ........C=100, degree=4, gamma=auto, kernel=sigmoid; total time=   8.7s\n",
      "[CV] END ........C=100, degree=4, gamma=auto, kernel=sigmoid; total time=   8.1s\n",
      "Best Parameters:  {'C': 100, 'degree': 4, 'gamma': 'scale', 'kernel': 'poly'}\n",
      "Best Score:  0.46894524244427227\n",
      "Accuracy on Test Set:  0.470404984423676\n",
      "Classification Report: \n",
      "              precision    recall  f1-score   support\n",
      "\n",
      "           0       0.00      0.00      0.00        70\n",
      "           1       0.42      0.02      0.04       269\n",
      "           2       0.27      0.04      0.07       297\n",
      "           3       0.29      0.04      0.07       476\n",
      "           4       0.00      0.00      0.00       173\n",
      "           5       0.00      0.00      0.00        78\n",
      "           6       0.48      0.97      0.64      1205\n",
      "\n",
      "    accuracy                           0.47      2568\n",
      "   macro avg       0.21      0.15      0.12      2568\n",
      "weighted avg       0.35      0.47      0.33      2568\n",
      "\n"
     ]
    },
    {
     "name": "stderr",
     "output_type": "stream",
     "text": [
      "c:\\ProgramData\\anaconda3\\Lib\\site-packages\\sklearn\\metrics\\_classification.py:1469: UndefinedMetricWarning: Precision and F-score are ill-defined and being set to 0.0 in labels with no predicted samples. Use `zero_division` parameter to control this behavior.\n",
      "  _warn_prf(average, modifier, msg_start, len(result))\n",
      "c:\\ProgramData\\anaconda3\\Lib\\site-packages\\sklearn\\metrics\\_classification.py:1469: UndefinedMetricWarning: Precision and F-score are ill-defined and being set to 0.0 in labels with no predicted samples. Use `zero_division` parameter to control this behavior.\n",
      "  _warn_prf(average, modifier, msg_start, len(result))\n",
      "c:\\ProgramData\\anaconda3\\Lib\\site-packages\\sklearn\\metrics\\_classification.py:1469: UndefinedMetricWarning: Precision and F-score are ill-defined and being set to 0.0 in labels with no predicted samples. Use `zero_division` parameter to control this behavior.\n",
      "  _warn_prf(average, modifier, msg_start, len(result))\n"
     ]
    }
   ],
   "source": [
    "# Parameter grid for the GridSearchCV\n",
    "param_grid = {\n",
    "    'C': [0.1, 1, 10, 100],  # Regularization parameter\n",
    "    'kernel': ['rbf', 'linear', 'poly', 'sigmoid'],  # Type of SVM kernel\n",
    "    'gamma': ['scale', 'auto'],  # Kernel coefficient for 'rbf', 'poly', and 'sigmoid'\n",
    "    'degree': [2, 3, 4]  # Degree of the polynomial kernel function ('poly'). Ignored by all other kernels.\n",
    "}\n",
    "\n",
    "# Initialize the SVM classifier\n",
    "svm = SVC(random_state=42)\n",
    "\n",
    "# Initialize the GridSearchCV object with SVM classifier and the parameter grid\n",
    "grid_search = GridSearchCV(estimator=svm, param_grid=param_grid, cv=5, scoring='accuracy', verbose=2)\n",
    "\n",
    "# Fit the model with the training data\n",
    "grid_search.fit(X_train, y_train)\n",
    "\n",
    "# Print the best parameters and the best score\n",
    "print(\"Best Parameters: \", grid_search.best_params_)\n",
    "print(\"Best Score: \", grid_search.best_score_)\n",
    "\n",
    "# Predict on the test set with the best parameters\n",
    "y_pred = grid_search.predict(X_test)\n",
    "\n",
    "# Evaluate the classifier with the best parameters\n",
    "print(\"Accuracy on Test Set: \", accuracy_score(y_test, y_pred))\n",
    "print(\"Classification Report: \")\n",
    "print(classification_report(y_test, y_pred))"
   ]
  },
  {
   "cell_type": "markdown",
   "id": "65e523e7",
   "metadata": {},
   "source": [
    "### Random Forest Classifier"
   ]
  },
  {
   "cell_type": "code",
   "execution_count": 90,
   "id": "92de9147",
   "metadata": {},
   "outputs": [
    {
     "name": "stdout",
     "output_type": "stream",
     "text": [
      "Accuracy: 0.5003894080996885\n",
      "Classification Report:\n",
      "              precision    recall  f1-score   support\n",
      "\n",
      "           0       0.75      0.04      0.08        70\n",
      "           1       0.36      0.20      0.26       269\n",
      "           2       0.35      0.20      0.25       297\n",
      "           3       0.33      0.14      0.20       476\n",
      "           4       0.56      0.06      0.10       173\n",
      "           5       1.00      0.03      0.05        78\n",
      "           6       0.54      0.90      0.68      1205\n",
      "\n",
      "    accuracy                           0.50      2568\n",
      "   macro avg       0.56      0.22      0.23      2568\n",
      "weighted avg       0.48      0.50      0.42      2568\n",
      "\n"
     ]
    },
    {
     "ename": "",
     "evalue": "",
     "output_type": "error",
     "traceback": [
      "\u001b[1;31mThe Kernel crashed while executing code in the current cell or a previous cell. \n",
      "\u001b[1;31mPlease review the code in the cell(s) to identify a possible cause of the failure. \n",
      "\u001b[1;31mClick <a href='https://aka.ms/vscodeJupyterKernelCrash'>here</a> for more info. \n",
      "\u001b[1;31mView Jupyter <a href='command:jupyter.viewOutput'>log</a> for further details."
     ]
    }
   ],
   "source": [
    "# Initialize the Random Forest classifier\n",
    "# n_estimators is the number of trees in the forest, the more, the better, but also the more computational cost.\n",
    "rf = RandomForestClassifier(n_estimators=100, random_state=42)\n",
    "\n",
    "# Train the classifier\n",
    "rf.fit(X_train, y_train)\n",
    "\n",
    "# Predict on the test set\n",
    "y_pred = rf.predict(X_test)\n",
    "\n",
    "# Evaluate the classifier\n",
    "print(\"Accuracy:\", accuracy_score(y_test, y_pred))\n",
    "print(\"Classification Report:\")\n",
    "print(classification_report(y_test, y_pred))"
   ]
  },
  {
   "cell_type": "code",
   "execution_count": 87,
   "id": "a5867904",
   "metadata": {},
   "outputs": [
    {
     "name": "stdout",
     "output_type": "stream",
     "text": [
      "Fitting 5 folds for each of 216 candidates, totalling 1080 fits\n",
      "[CV] END bootstrap=True, max_depth=None, min_samples_leaf=1, min_samples_split=2, n_estimators=100; total time=  26.5s\n",
      "[CV] END bootstrap=True, max_depth=None, min_samples_leaf=1, min_samples_split=2, n_estimators=100; total time=  27.7s\n",
      "[CV] END bootstrap=True, max_depth=None, min_samples_leaf=1, min_samples_split=2, n_estimators=100; total time=  27.5s\n",
      "[CV] END bootstrap=True, max_depth=None, min_samples_leaf=1, min_samples_split=2, n_estimators=100; total time=  25.2s\n",
      "[CV] END bootstrap=True, max_depth=None, min_samples_leaf=1, min_samples_split=2, n_estimators=100; total time=  25.8s\n",
      "[CV] END bootstrap=True, max_depth=None, min_samples_leaf=1, min_samples_split=2, n_estimators=200; total time=  51.7s\n",
      "[CV] END bootstrap=True, max_depth=None, min_samples_leaf=1, min_samples_split=2, n_estimators=200; total time=  52.6s\n",
      "[CV] END bootstrap=True, max_depth=None, min_samples_leaf=1, min_samples_split=2, n_estimators=200; total time=  50.7s\n",
      "[CV] END bootstrap=True, max_depth=None, min_samples_leaf=1, min_samples_split=2, n_estimators=200; total time=  50.7s\n",
      "[CV] END bootstrap=True, max_depth=None, min_samples_leaf=1, min_samples_split=2, n_estimators=200; total time=  51.1s\n",
      "[CV] END bootstrap=True, max_depth=None, min_samples_leaf=1, min_samples_split=2, n_estimators=300; total time= 1.3min\n",
      "[CV] END bootstrap=True, max_depth=None, min_samples_leaf=1, min_samples_split=2, n_estimators=300; total time= 1.3min\n",
      "[CV] END bootstrap=True, max_depth=None, min_samples_leaf=1, min_samples_split=2, n_estimators=300; total time= 1.3min\n",
      "[CV] END bootstrap=True, max_depth=None, min_samples_leaf=1, min_samples_split=2, n_estimators=300; total time= 1.3min\n",
      "[CV] END bootstrap=True, max_depth=None, min_samples_leaf=1, min_samples_split=2, n_estimators=300; total time= 1.3min\n",
      "[CV] END bootstrap=True, max_depth=None, min_samples_leaf=1, min_samples_split=5, n_estimators=100; total time=  25.3s\n",
      "[CV] END bootstrap=True, max_depth=None, min_samples_leaf=1, min_samples_split=5, n_estimators=100; total time=  25.6s\n",
      "[CV] END bootstrap=True, max_depth=None, min_samples_leaf=1, min_samples_split=5, n_estimators=100; total time=  25.4s\n",
      "[CV] END bootstrap=True, max_depth=None, min_samples_leaf=1, min_samples_split=5, n_estimators=100; total time=  25.0s\n",
      "[CV] END bootstrap=True, max_depth=None, min_samples_leaf=1, min_samples_split=5, n_estimators=100; total time=  29.0s\n",
      "[CV] END bootstrap=True, max_depth=None, min_samples_leaf=1, min_samples_split=5, n_estimators=200; total time=  53.2s\n",
      "[CV] END bootstrap=True, max_depth=None, min_samples_leaf=1, min_samples_split=5, n_estimators=200; total time=  51.7s\n",
      "[CV] END bootstrap=True, max_depth=None, min_samples_leaf=1, min_samples_split=5, n_estimators=200; total time=  50.4s\n",
      "[CV] END bootstrap=True, max_depth=None, min_samples_leaf=1, min_samples_split=5, n_estimators=200; total time=  49.9s\n",
      "[CV] END bootstrap=True, max_depth=None, min_samples_leaf=1, min_samples_split=5, n_estimators=200; total time=  50.2s\n",
      "[CV] END bootstrap=True, max_depth=None, min_samples_leaf=1, min_samples_split=5, n_estimators=300; total time= 1.3min\n",
      "[CV] END bootstrap=True, max_depth=None, min_samples_leaf=1, min_samples_split=5, n_estimators=300; total time= 1.3min\n",
      "[CV] END bootstrap=True, max_depth=None, min_samples_leaf=1, min_samples_split=5, n_estimators=300; total time= 1.3min\n",
      "[CV] END bootstrap=True, max_depth=None, min_samples_leaf=1, min_samples_split=5, n_estimators=300; total time= 1.3min\n",
      "[CV] END bootstrap=True, max_depth=None, min_samples_leaf=1, min_samples_split=5, n_estimators=300; total time= 1.3min\n",
      "[CV] END bootstrap=True, max_depth=None, min_samples_leaf=1, min_samples_split=10, n_estimators=100; total time=  24.8s\n",
      "[CV] END bootstrap=True, max_depth=None, min_samples_leaf=1, min_samples_split=10, n_estimators=100; total time=  24.9s\n",
      "[CV] END bootstrap=True, max_depth=None, min_samples_leaf=1, min_samples_split=10, n_estimators=100; total time=  24.4s\n",
      "[CV] END bootstrap=True, max_depth=None, min_samples_leaf=1, min_samples_split=10, n_estimators=100; total time=  24.6s\n",
      "[CV] END bootstrap=True, max_depth=None, min_samples_leaf=1, min_samples_split=10, n_estimators=100; total time=  24.5s\n",
      "[CV] END bootstrap=True, max_depth=None, min_samples_leaf=1, min_samples_split=10, n_estimators=200; total time=  49.3s\n",
      "[CV] END bootstrap=True, max_depth=None, min_samples_leaf=1, min_samples_split=10, n_estimators=200; total time=  49.4s\n",
      "[CV] END bootstrap=True, max_depth=None, min_samples_leaf=1, min_samples_split=10, n_estimators=200; total time=  48.3s\n",
      "[CV] END bootstrap=True, max_depth=None, min_samples_leaf=1, min_samples_split=10, n_estimators=200; total time=  48.7s\n",
      "[CV] END bootstrap=True, max_depth=None, min_samples_leaf=1, min_samples_split=10, n_estimators=200; total time=  48.8s\n",
      "[CV] END bootstrap=True, max_depth=None, min_samples_leaf=1, min_samples_split=10, n_estimators=300; total time= 1.2min\n",
      "[CV] END bootstrap=True, max_depth=None, min_samples_leaf=1, min_samples_split=10, n_estimators=300; total time= 1.3min\n",
      "[CV] END bootstrap=True, max_depth=None, min_samples_leaf=1, min_samples_split=10, n_estimators=300; total time= 1.2min\n",
      "[CV] END bootstrap=True, max_depth=None, min_samples_leaf=1, min_samples_split=10, n_estimators=300; total time= 1.2min\n",
      "[CV] END bootstrap=True, max_depth=None, min_samples_leaf=1, min_samples_split=10, n_estimators=300; total time= 1.2min\n",
      "[CV] END bootstrap=True, max_depth=None, min_samples_leaf=2, min_samples_split=2, n_estimators=100; total time=  24.8s\n",
      "[CV] END bootstrap=True, max_depth=None, min_samples_leaf=2, min_samples_split=2, n_estimators=100; total time=  24.4s\n",
      "[CV] END bootstrap=True, max_depth=None, min_samples_leaf=2, min_samples_split=2, n_estimators=100; total time=  23.3s\n",
      "[CV] END bootstrap=True, max_depth=None, min_samples_leaf=2, min_samples_split=2, n_estimators=100; total time=  23.5s\n",
      "[CV] END bootstrap=True, max_depth=None, min_samples_leaf=2, min_samples_split=2, n_estimators=100; total time=  23.9s\n",
      "[CV] END bootstrap=True, max_depth=None, min_samples_leaf=2, min_samples_split=2, n_estimators=200; total time=  48.2s\n",
      "[CV] END bootstrap=True, max_depth=None, min_samples_leaf=2, min_samples_split=2, n_estimators=200; total time=  48.1s\n",
      "[CV] END bootstrap=True, max_depth=None, min_samples_leaf=2, min_samples_split=2, n_estimators=200; total time=  46.4s\n",
      "[CV] END bootstrap=True, max_depth=None, min_samples_leaf=2, min_samples_split=2, n_estimators=200; total time=  47.5s\n",
      "[CV] END bootstrap=True, max_depth=None, min_samples_leaf=2, min_samples_split=2, n_estimators=200; total time=  47.4s\n",
      "[CV] END bootstrap=True, max_depth=None, min_samples_leaf=2, min_samples_split=2, n_estimators=300; total time= 1.2min\n",
      "[CV] END bootstrap=True, max_depth=None, min_samples_leaf=2, min_samples_split=2, n_estimators=300; total time= 1.2min\n",
      "[CV] END bootstrap=True, max_depth=None, min_samples_leaf=2, min_samples_split=2, n_estimators=300; total time= 1.2min\n",
      "[CV] END bootstrap=True, max_depth=None, min_samples_leaf=2, min_samples_split=2, n_estimators=300; total time= 1.2min\n",
      "[CV] END bootstrap=True, max_depth=None, min_samples_leaf=2, min_samples_split=2, n_estimators=300; total time= 1.2min\n",
      "[CV] END bootstrap=True, max_depth=None, min_samples_leaf=2, min_samples_split=5, n_estimators=100; total time=  23.8s\n",
      "[CV] END bootstrap=True, max_depth=None, min_samples_leaf=2, min_samples_split=5, n_estimators=100; total time=  23.9s\n",
      "[CV] END bootstrap=True, max_depth=None, min_samples_leaf=2, min_samples_split=5, n_estimators=100; total time=  23.4s\n",
      "[CV] END bootstrap=True, max_depth=None, min_samples_leaf=2, min_samples_split=5, n_estimators=100; total time=  23.4s\n",
      "[CV] END bootstrap=True, max_depth=None, min_samples_leaf=2, min_samples_split=5, n_estimators=100; total time=  23.8s\n",
      "[CV] END bootstrap=True, max_depth=None, min_samples_leaf=2, min_samples_split=5, n_estimators=200; total time=  48.4s\n",
      "[CV] END bootstrap=True, max_depth=None, min_samples_leaf=2, min_samples_split=5, n_estimators=200; total time=  47.7s\n",
      "[CV] END bootstrap=True, max_depth=None, min_samples_leaf=2, min_samples_split=5, n_estimators=200; total time=  46.7s\n",
      "[CV] END bootstrap=True, max_depth=None, min_samples_leaf=2, min_samples_split=5, n_estimators=200; total time=  46.9s\n",
      "[CV] END bootstrap=True, max_depth=None, min_samples_leaf=2, min_samples_split=5, n_estimators=200; total time=  47.6s\n",
      "[CV] END bootstrap=True, max_depth=None, min_samples_leaf=2, min_samples_split=5, n_estimators=300; total time= 1.2min\n",
      "[CV] END bootstrap=True, max_depth=None, min_samples_leaf=2, min_samples_split=5, n_estimators=300; total time= 1.2min\n",
      "[CV] END bootstrap=True, max_depth=None, min_samples_leaf=2, min_samples_split=5, n_estimators=300; total time= 1.2min\n",
      "[CV] END bootstrap=True, max_depth=None, min_samples_leaf=2, min_samples_split=5, n_estimators=300; total time= 1.2min\n",
      "[CV] END bootstrap=True, max_depth=None, min_samples_leaf=2, min_samples_split=5, n_estimators=300; total time= 1.2min\n",
      "[CV] END bootstrap=True, max_depth=None, min_samples_leaf=2, min_samples_split=10, n_estimators=100; total time=  23.1s\n",
      "[CV] END bootstrap=True, max_depth=None, min_samples_leaf=2, min_samples_split=10, n_estimators=100; total time=  23.5s\n",
      "[CV] END bootstrap=True, max_depth=None, min_samples_leaf=2, min_samples_split=10, n_estimators=100; total time=  22.7s\n",
      "[CV] END bootstrap=True, max_depth=None, min_samples_leaf=2, min_samples_split=10, n_estimators=100; total time=  22.8s\n",
      "[CV] END bootstrap=True, max_depth=None, min_samples_leaf=2, min_samples_split=10, n_estimators=100; total time=  22.9s\n",
      "[CV] END bootstrap=True, max_depth=None, min_samples_leaf=2, min_samples_split=10, n_estimators=200; total time=  46.0s\n",
      "[CV] END bootstrap=True, max_depth=None, min_samples_leaf=2, min_samples_split=10, n_estimators=200; total time=  46.6s\n",
      "[CV] END bootstrap=True, max_depth=None, min_samples_leaf=2, min_samples_split=10, n_estimators=200; total time=  45.3s\n",
      "[CV] END bootstrap=True, max_depth=None, min_samples_leaf=2, min_samples_split=10, n_estimators=200; total time=  45.9s\n",
      "[CV] END bootstrap=True, max_depth=None, min_samples_leaf=2, min_samples_split=10, n_estimators=200; total time=  45.8s\n",
      "[CV] END bootstrap=True, max_depth=None, min_samples_leaf=2, min_samples_split=10, n_estimators=300; total time= 1.2min\n",
      "[CV] END bootstrap=True, max_depth=None, min_samples_leaf=2, min_samples_split=10, n_estimators=300; total time= 1.2min\n",
      "[CV] END bootstrap=True, max_depth=None, min_samples_leaf=2, min_samples_split=10, n_estimators=300; total time= 1.1min\n",
      "[CV] END bootstrap=True, max_depth=None, min_samples_leaf=2, min_samples_split=10, n_estimators=300; total time= 1.2min\n",
      "[CV] END bootstrap=True, max_depth=None, min_samples_leaf=2, min_samples_split=10, n_estimators=300; total time= 1.2min\n",
      "[CV] END bootstrap=True, max_depth=None, min_samples_leaf=4, min_samples_split=2, n_estimators=100; total time=  21.3s\n",
      "[CV] END bootstrap=True, max_depth=None, min_samples_leaf=4, min_samples_split=2, n_estimators=100; total time=  21.6s\n",
      "[CV] END bootstrap=True, max_depth=None, min_samples_leaf=4, min_samples_split=2, n_estimators=100; total time=  20.9s\n",
      "[CV] END bootstrap=True, max_depth=None, min_samples_leaf=4, min_samples_split=2, n_estimators=100; total time=  20.9s\n",
      "[CV] END bootstrap=True, max_depth=None, min_samples_leaf=4, min_samples_split=2, n_estimators=100; total time=  21.1s\n",
      "[CV] END bootstrap=True, max_depth=None, min_samples_leaf=4, min_samples_split=2, n_estimators=200; total time=  42.5s\n",
      "[CV] END bootstrap=True, max_depth=None, min_samples_leaf=4, min_samples_split=2, n_estimators=200; total time=  42.8s\n",
      "[CV] END bootstrap=True, max_depth=None, min_samples_leaf=4, min_samples_split=2, n_estimators=200; total time=  41.7s\n",
      "[CV] END bootstrap=True, max_depth=None, min_samples_leaf=4, min_samples_split=2, n_estimators=200; total time=  41.6s\n",
      "[CV] END bootstrap=True, max_depth=None, min_samples_leaf=4, min_samples_split=2, n_estimators=200; total time=  42.2s\n",
      "[CV] END bootstrap=True, max_depth=None, min_samples_leaf=4, min_samples_split=2, n_estimators=300; total time= 1.1min\n",
      "[CV] END bootstrap=True, max_depth=None, min_samples_leaf=4, min_samples_split=2, n_estimators=300; total time= 1.1min\n",
      "[CV] END bootstrap=True, max_depth=None, min_samples_leaf=4, min_samples_split=2, n_estimators=300; total time= 1.0min\n",
      "[CV] END bootstrap=True, max_depth=None, min_samples_leaf=4, min_samples_split=2, n_estimators=300; total time= 1.0min\n",
      "[CV] END bootstrap=True, max_depth=None, min_samples_leaf=4, min_samples_split=2, n_estimators=300; total time= 1.1min\n",
      "[CV] END bootstrap=True, max_depth=None, min_samples_leaf=4, min_samples_split=5, n_estimators=100; total time=  21.3s\n",
      "[CV] END bootstrap=True, max_depth=None, min_samples_leaf=4, min_samples_split=5, n_estimators=100; total time=  21.6s\n",
      "[CV] END bootstrap=True, max_depth=None, min_samples_leaf=4, min_samples_split=5, n_estimators=100; total time=  20.9s\n",
      "[CV] END bootstrap=True, max_depth=None, min_samples_leaf=4, min_samples_split=5, n_estimators=100; total time=  20.9s\n",
      "[CV] END bootstrap=True, max_depth=None, min_samples_leaf=4, min_samples_split=5, n_estimators=100; total time=  21.1s\n",
      "[CV] END bootstrap=True, max_depth=None, min_samples_leaf=4, min_samples_split=5, n_estimators=200; total time=  42.6s\n",
      "[CV] END bootstrap=True, max_depth=None, min_samples_leaf=4, min_samples_split=5, n_estimators=200; total time=  42.8s\n",
      "[CV] END bootstrap=True, max_depth=None, min_samples_leaf=4, min_samples_split=5, n_estimators=200; total time=  41.6s\n",
      "[CV] END bootstrap=True, max_depth=None, min_samples_leaf=4, min_samples_split=5, n_estimators=200; total time=  41.7s\n",
      "[CV] END bootstrap=True, max_depth=None, min_samples_leaf=4, min_samples_split=5, n_estimators=200; total time=  42.3s\n",
      "[CV] END bootstrap=True, max_depth=None, min_samples_leaf=4, min_samples_split=5, n_estimators=300; total time= 1.1min\n",
      "[CV] END bootstrap=True, max_depth=None, min_samples_leaf=4, min_samples_split=5, n_estimators=300; total time= 1.1min\n",
      "[CV] END bootstrap=True, max_depth=None, min_samples_leaf=4, min_samples_split=5, n_estimators=300; total time= 1.0min\n",
      "[CV] END bootstrap=True, max_depth=None, min_samples_leaf=4, min_samples_split=5, n_estimators=300; total time= 1.0min\n",
      "[CV] END bootstrap=True, max_depth=None, min_samples_leaf=4, min_samples_split=5, n_estimators=300; total time= 1.1min\n",
      "[CV] END bootstrap=True, max_depth=None, min_samples_leaf=4, min_samples_split=10, n_estimators=100; total time=  21.1s\n",
      "[CV] END bootstrap=True, max_depth=None, min_samples_leaf=4, min_samples_split=10, n_estimators=100; total time=  21.1s\n",
      "[CV] END bootstrap=True, max_depth=None, min_samples_leaf=4, min_samples_split=10, n_estimators=100; total time=  20.9s\n",
      "[CV] END bootstrap=True, max_depth=None, min_samples_leaf=4, min_samples_split=10, n_estimators=100; total time=  20.8s\n",
      "[CV] END bootstrap=True, max_depth=None, min_samples_leaf=4, min_samples_split=10, n_estimators=100; total time=  21.1s\n",
      "[CV] END bootstrap=True, max_depth=None, min_samples_leaf=4, min_samples_split=10, n_estimators=200; total time=  41.8s\n",
      "[CV] END bootstrap=True, max_depth=None, min_samples_leaf=4, min_samples_split=10, n_estimators=200; total time=  42.1s\n",
      "[CV] END bootstrap=True, max_depth=None, min_samples_leaf=4, min_samples_split=10, n_estimators=200; total time=  41.5s\n",
      "[CV] END bootstrap=True, max_depth=None, min_samples_leaf=4, min_samples_split=10, n_estimators=200; total time=  41.5s\n",
      "[CV] END bootstrap=True, max_depth=None, min_samples_leaf=4, min_samples_split=10, n_estimators=200; total time=  42.1s\n",
      "[CV] END bootstrap=True, max_depth=None, min_samples_leaf=4, min_samples_split=10, n_estimators=300; total time= 1.1min\n",
      "[CV] END bootstrap=True, max_depth=None, min_samples_leaf=4, min_samples_split=10, n_estimators=300; total time= 1.1min\n",
      "[CV] END bootstrap=True, max_depth=None, min_samples_leaf=4, min_samples_split=10, n_estimators=300; total time= 1.0min\n",
      "[CV] END bootstrap=True, max_depth=None, min_samples_leaf=4, min_samples_split=10, n_estimators=300; total time= 1.0min\n",
      "[CV] END bootstrap=True, max_depth=None, min_samples_leaf=4, min_samples_split=10, n_estimators=300; total time= 1.1min\n",
      "[CV] END bootstrap=True, max_depth=10, min_samples_leaf=1, min_samples_split=2, n_estimators=100; total time=  12.9s\n",
      "[CV] END bootstrap=True, max_depth=10, min_samples_leaf=1, min_samples_split=2, n_estimators=100; total time=  12.9s\n",
      "[CV] END bootstrap=True, max_depth=10, min_samples_leaf=1, min_samples_split=2, n_estimators=100; total time=  12.8s\n",
      "[CV] END bootstrap=True, max_depth=10, min_samples_leaf=1, min_samples_split=2, n_estimators=100; total time=  12.8s\n",
      "[CV] END bootstrap=True, max_depth=10, min_samples_leaf=1, min_samples_split=2, n_estimators=100; total time=  12.8s\n",
      "[CV] END bootstrap=True, max_depth=10, min_samples_leaf=1, min_samples_split=2, n_estimators=200; total time=  25.8s\n",
      "[CV] END bootstrap=True, max_depth=10, min_samples_leaf=1, min_samples_split=2, n_estimators=200; total time=  25.9s\n",
      "[CV] END bootstrap=True, max_depth=10, min_samples_leaf=1, min_samples_split=2, n_estimators=200; total time=  25.8s\n",
      "[CV] END bootstrap=True, max_depth=10, min_samples_leaf=1, min_samples_split=2, n_estimators=200; total time=  25.8s\n",
      "[CV] END bootstrap=True, max_depth=10, min_samples_leaf=1, min_samples_split=2, n_estimators=200; total time=  25.8s\n",
      "[CV] END bootstrap=True, max_depth=10, min_samples_leaf=1, min_samples_split=2, n_estimators=300; total time=  38.7s\n",
      "[CV] END bootstrap=True, max_depth=10, min_samples_leaf=1, min_samples_split=2, n_estimators=300; total time=  38.9s\n",
      "[CV] END bootstrap=True, max_depth=10, min_samples_leaf=1, min_samples_split=2, n_estimators=300; total time=  38.8s\n",
      "[CV] END bootstrap=True, max_depth=10, min_samples_leaf=1, min_samples_split=2, n_estimators=300; total time=  38.8s\n",
      "[CV] END bootstrap=True, max_depth=10, min_samples_leaf=1, min_samples_split=2, n_estimators=300; total time=  38.8s\n",
      "[CV] END bootstrap=True, max_depth=10, min_samples_leaf=1, min_samples_split=5, n_estimators=100; total time=  12.8s\n",
      "[CV] END bootstrap=True, max_depth=10, min_samples_leaf=1, min_samples_split=5, n_estimators=100; total time=  12.9s\n",
      "[CV] END bootstrap=True, max_depth=10, min_samples_leaf=1, min_samples_split=5, n_estimators=100; total time=  12.8s\n",
      "[CV] END bootstrap=True, max_depth=10, min_samples_leaf=1, min_samples_split=5, n_estimators=100; total time=  12.8s\n",
      "[CV] END bootstrap=True, max_depth=10, min_samples_leaf=1, min_samples_split=5, n_estimators=100; total time=  12.9s\n",
      "[CV] END bootstrap=True, max_depth=10, min_samples_leaf=1, min_samples_split=5, n_estimators=200; total time=  25.7s\n",
      "[CV] END bootstrap=True, max_depth=10, min_samples_leaf=1, min_samples_split=5, n_estimators=200; total time=  25.8s\n",
      "[CV] END bootstrap=True, max_depth=10, min_samples_leaf=1, min_samples_split=5, n_estimators=200; total time=  25.7s\n",
      "[CV] END bootstrap=True, max_depth=10, min_samples_leaf=1, min_samples_split=5, n_estimators=200; total time=  25.7s\n",
      "[CV] END bootstrap=True, max_depth=10, min_samples_leaf=1, min_samples_split=5, n_estimators=200; total time=  25.8s\n",
      "[CV] END bootstrap=True, max_depth=10, min_samples_leaf=1, min_samples_split=5, n_estimators=300; total time=  38.6s\n",
      "[CV] END bootstrap=True, max_depth=10, min_samples_leaf=1, min_samples_split=5, n_estimators=300; total time=  38.7s\n",
      "[CV] END bootstrap=True, max_depth=10, min_samples_leaf=1, min_samples_split=5, n_estimators=300; total time=  38.7s\n",
      "[CV] END bootstrap=True, max_depth=10, min_samples_leaf=1, min_samples_split=5, n_estimators=300; total time=  38.8s\n",
      "[CV] END bootstrap=True, max_depth=10, min_samples_leaf=1, min_samples_split=5, n_estimators=300; total time=  38.8s\n",
      "[CV] END bootstrap=True, max_depth=10, min_samples_leaf=1, min_samples_split=10, n_estimators=100; total time=  12.7s\n",
      "[CV] END bootstrap=True, max_depth=10, min_samples_leaf=1, min_samples_split=10, n_estimators=100; total time=  12.8s\n",
      "[CV] END bootstrap=True, max_depth=10, min_samples_leaf=1, min_samples_split=10, n_estimators=100; total time=  12.7s\n",
      "[CV] END bootstrap=True, max_depth=10, min_samples_leaf=1, min_samples_split=10, n_estimators=100; total time=  12.8s\n",
      "[CV] END bootstrap=True, max_depth=10, min_samples_leaf=1, min_samples_split=10, n_estimators=100; total time=  12.7s\n",
      "[CV] END bootstrap=True, max_depth=10, min_samples_leaf=1, min_samples_split=10, n_estimators=200; total time=  25.6s\n",
      "[CV] END bootstrap=True, max_depth=10, min_samples_leaf=1, min_samples_split=10, n_estimators=200; total time=  25.7s\n",
      "[CV] END bootstrap=True, max_depth=10, min_samples_leaf=1, min_samples_split=10, n_estimators=200; total time=  25.5s\n",
      "[CV] END bootstrap=True, max_depth=10, min_samples_leaf=1, min_samples_split=10, n_estimators=200; total time=  25.6s\n",
      "[CV] END bootstrap=True, max_depth=10, min_samples_leaf=1, min_samples_split=10, n_estimators=200; total time=  25.6s\n",
      "[CV] END bootstrap=True, max_depth=10, min_samples_leaf=1, min_samples_split=10, n_estimators=300; total time=  38.4s\n",
      "[CV] END bootstrap=True, max_depth=10, min_samples_leaf=1, min_samples_split=10, n_estimators=300; total time=  38.5s\n",
      "[CV] END bootstrap=True, max_depth=10, min_samples_leaf=1, min_samples_split=10, n_estimators=300; total time=  38.5s\n",
      "[CV] END bootstrap=True, max_depth=10, min_samples_leaf=1, min_samples_split=10, n_estimators=300; total time=  38.4s\n",
      "[CV] END bootstrap=True, max_depth=10, min_samples_leaf=1, min_samples_split=10, n_estimators=300; total time=  38.5s\n",
      "[CV] END bootstrap=True, max_depth=10, min_samples_leaf=2, min_samples_split=2, n_estimators=100; total time=  12.8s\n",
      "[CV] END bootstrap=True, max_depth=10, min_samples_leaf=2, min_samples_split=2, n_estimators=100; total time=  12.8s\n",
      "[CV] END bootstrap=True, max_depth=10, min_samples_leaf=2, min_samples_split=2, n_estimators=100; total time=  12.7s\n",
      "[CV] END bootstrap=True, max_depth=10, min_samples_leaf=2, min_samples_split=2, n_estimators=100; total time=  12.8s\n",
      "[CV] END bootstrap=True, max_depth=10, min_samples_leaf=2, min_samples_split=2, n_estimators=100; total time=  12.7s\n",
      "[CV] END bootstrap=True, max_depth=10, min_samples_leaf=2, min_samples_split=2, n_estimators=200; total time=  25.6s\n",
      "[CV] END bootstrap=True, max_depth=10, min_samples_leaf=2, min_samples_split=2, n_estimators=200; total time=  25.7s\n",
      "[CV] END bootstrap=True, max_depth=10, min_samples_leaf=2, min_samples_split=2, n_estimators=200; total time=  25.6s\n",
      "[CV] END bootstrap=True, max_depth=10, min_samples_leaf=2, min_samples_split=2, n_estimators=200; total time=  25.6s\n",
      "[CV] END bootstrap=True, max_depth=10, min_samples_leaf=2, min_samples_split=2, n_estimators=200; total time=  25.6s\n",
      "[CV] END bootstrap=True, max_depth=10, min_samples_leaf=2, min_samples_split=2, n_estimators=300; total time=  38.4s\n",
      "[CV] END bootstrap=True, max_depth=10, min_samples_leaf=2, min_samples_split=2, n_estimators=300; total time=  38.4s\n",
      "[CV] END bootstrap=True, max_depth=10, min_samples_leaf=2, min_samples_split=2, n_estimators=300; total time=  38.4s\n",
      "[CV] END bootstrap=True, max_depth=10, min_samples_leaf=2, min_samples_split=2, n_estimators=300; total time=  38.5s\n",
      "[CV] END bootstrap=True, max_depth=10, min_samples_leaf=2, min_samples_split=2, n_estimators=300; total time=  38.7s\n",
      "[CV] END bootstrap=True, max_depth=10, min_samples_leaf=2, min_samples_split=5, n_estimators=100; total time=  12.8s\n",
      "[CV] END bootstrap=True, max_depth=10, min_samples_leaf=2, min_samples_split=5, n_estimators=100; total time=  12.8s\n",
      "[CV] END bootstrap=True, max_depth=10, min_samples_leaf=2, min_samples_split=5, n_estimators=100; total time=  12.7s\n",
      "[CV] END bootstrap=True, max_depth=10, min_samples_leaf=2, min_samples_split=5, n_estimators=100; total time=  12.8s\n",
      "[CV] END bootstrap=True, max_depth=10, min_samples_leaf=2, min_samples_split=5, n_estimators=100; total time=  12.8s\n",
      "[CV] END bootstrap=True, max_depth=10, min_samples_leaf=2, min_samples_split=5, n_estimators=200; total time=  25.6s\n",
      "[CV] END bootstrap=True, max_depth=10, min_samples_leaf=2, min_samples_split=5, n_estimators=200; total time=  25.7s\n",
      "[CV] END bootstrap=True, max_depth=10, min_samples_leaf=2, min_samples_split=5, n_estimators=200; total time=  25.6s\n",
      "[CV] END bootstrap=True, max_depth=10, min_samples_leaf=2, min_samples_split=5, n_estimators=200; total time=  25.7s\n",
      "[CV] END bootstrap=True, max_depth=10, min_samples_leaf=2, min_samples_split=5, n_estimators=200; total time=  25.7s\n",
      "[CV] END bootstrap=True, max_depth=10, min_samples_leaf=2, min_samples_split=5, n_estimators=300; total time=  38.4s\n",
      "[CV] END bootstrap=True, max_depth=10, min_samples_leaf=2, min_samples_split=5, n_estimators=300; total time=  38.5s\n",
      "[CV] END bootstrap=True, max_depth=10, min_samples_leaf=2, min_samples_split=5, n_estimators=300; total time=  38.4s\n",
      "[CV] END bootstrap=True, max_depth=10, min_samples_leaf=2, min_samples_split=5, n_estimators=300; total time=  38.5s\n",
      "[CV] END bootstrap=True, max_depth=10, min_samples_leaf=2, min_samples_split=5, n_estimators=300; total time=  38.5s\n",
      "[CV] END bootstrap=True, max_depth=10, min_samples_leaf=2, min_samples_split=10, n_estimators=100; total time=  12.7s\n",
      "[CV] END bootstrap=True, max_depth=10, min_samples_leaf=2, min_samples_split=10, n_estimators=100; total time=  12.7s\n",
      "[CV] END bootstrap=True, max_depth=10, min_samples_leaf=2, min_samples_split=10, n_estimators=100; total time=  12.7s\n",
      "[CV] END bootstrap=True, max_depth=10, min_samples_leaf=2, min_samples_split=10, n_estimators=100; total time=  12.7s\n",
      "[CV] END bootstrap=True, max_depth=10, min_samples_leaf=2, min_samples_split=10, n_estimators=100; total time=  12.7s\n",
      "[CV] END bootstrap=True, max_depth=10, min_samples_leaf=2, min_samples_split=10, n_estimators=200; total time=  25.4s\n",
      "[CV] END bootstrap=True, max_depth=10, min_samples_leaf=2, min_samples_split=10, n_estimators=200; total time=  25.6s\n",
      "[CV] END bootstrap=True, max_depth=10, min_samples_leaf=2, min_samples_split=10, n_estimators=200; total time=  25.5s\n",
      "[CV] END bootstrap=True, max_depth=10, min_samples_leaf=2, min_samples_split=10, n_estimators=200; total time=  25.5s\n",
      "[CV] END bootstrap=True, max_depth=10, min_samples_leaf=2, min_samples_split=10, n_estimators=200; total time=  25.5s\n",
      "[CV] END bootstrap=True, max_depth=10, min_samples_leaf=2, min_samples_split=10, n_estimators=300; total time=  38.2s\n",
      "[CV] END bootstrap=True, max_depth=10, min_samples_leaf=2, min_samples_split=10, n_estimators=300; total time=  38.3s\n",
      "[CV] END bootstrap=True, max_depth=10, min_samples_leaf=2, min_samples_split=10, n_estimators=300; total time=  38.2s\n",
      "[CV] END bootstrap=True, max_depth=10, min_samples_leaf=2, min_samples_split=10, n_estimators=300; total time=  38.4s\n",
      "[CV] END bootstrap=True, max_depth=10, min_samples_leaf=2, min_samples_split=10, n_estimators=300; total time=  38.3s\n",
      "[CV] END bootstrap=True, max_depth=10, min_samples_leaf=4, min_samples_split=2, n_estimators=100; total time=  12.5s\n",
      "[CV] END bootstrap=True, max_depth=10, min_samples_leaf=4, min_samples_split=2, n_estimators=100; total time=  12.6s\n",
      "[CV] END bootstrap=True, max_depth=10, min_samples_leaf=4, min_samples_split=2, n_estimators=100; total time=  12.6s\n",
      "[CV] END bootstrap=True, max_depth=10, min_samples_leaf=4, min_samples_split=2, n_estimators=100; total time=  12.6s\n",
      "[CV] END bootstrap=True, max_depth=10, min_samples_leaf=4, min_samples_split=2, n_estimators=100; total time=  12.6s\n",
      "[CV] END bootstrap=True, max_depth=10, min_samples_leaf=4, min_samples_split=2, n_estimators=200; total time=  25.1s\n",
      "[CV] END bootstrap=True, max_depth=10, min_samples_leaf=4, min_samples_split=2, n_estimators=200; total time=  25.2s\n",
      "[CV] END bootstrap=True, max_depth=10, min_samples_leaf=4, min_samples_split=2, n_estimators=200; total time=  25.2s\n",
      "[CV] END bootstrap=True, max_depth=10, min_samples_leaf=4, min_samples_split=2, n_estimators=200; total time=  25.2s\n",
      "[CV] END bootstrap=True, max_depth=10, min_samples_leaf=4, min_samples_split=2, n_estimators=200; total time=  25.3s\n",
      "[CV] END bootstrap=True, max_depth=10, min_samples_leaf=4, min_samples_split=2, n_estimators=300; total time=  37.9s\n",
      "[CV] END bootstrap=True, max_depth=10, min_samples_leaf=4, min_samples_split=2, n_estimators=300; total time=  37.9s\n",
      "[CV] END bootstrap=True, max_depth=10, min_samples_leaf=4, min_samples_split=2, n_estimators=300; total time=  37.9s\n",
      "[CV] END bootstrap=True, max_depth=10, min_samples_leaf=4, min_samples_split=2, n_estimators=300; total time=  38.0s\n",
      "[CV] END bootstrap=True, max_depth=10, min_samples_leaf=4, min_samples_split=2, n_estimators=300; total time=  37.9s\n",
      "[CV] END bootstrap=True, max_depth=10, min_samples_leaf=4, min_samples_split=5, n_estimators=100; total time=  12.6s\n",
      "[CV] END bootstrap=True, max_depth=10, min_samples_leaf=4, min_samples_split=5, n_estimators=100; total time=  12.6s\n",
      "[CV] END bootstrap=True, max_depth=10, min_samples_leaf=4, min_samples_split=5, n_estimators=100; total time=  12.6s\n",
      "[CV] END bootstrap=True, max_depth=10, min_samples_leaf=4, min_samples_split=5, n_estimators=100; total time=  12.6s\n",
      "[CV] END bootstrap=True, max_depth=10, min_samples_leaf=4, min_samples_split=5, n_estimators=100; total time=  12.6s\n",
      "[CV] END bootstrap=True, max_depth=10, min_samples_leaf=4, min_samples_split=5, n_estimators=200; total time=  25.1s\n",
      "[CV] END bootstrap=True, max_depth=10, min_samples_leaf=4, min_samples_split=5, n_estimators=200; total time=  25.3s\n",
      "[CV] END bootstrap=True, max_depth=10, min_samples_leaf=4, min_samples_split=5, n_estimators=200; total time=  25.2s\n",
      "[CV] END bootstrap=True, max_depth=10, min_samples_leaf=4, min_samples_split=5, n_estimators=200; total time=  25.4s\n",
      "[CV] END bootstrap=True, max_depth=10, min_samples_leaf=4, min_samples_split=5, n_estimators=200; total time=  25.2s\n",
      "[CV] END bootstrap=True, max_depth=10, min_samples_leaf=4, min_samples_split=5, n_estimators=300; total time=  37.8s\n",
      "[CV] END bootstrap=True, max_depth=10, min_samples_leaf=4, min_samples_split=5, n_estimators=300; total time=  37.9s\n",
      "[CV] END bootstrap=True, max_depth=10, min_samples_leaf=4, min_samples_split=5, n_estimators=300; total time=  37.8s\n",
      "[CV] END bootstrap=True, max_depth=10, min_samples_leaf=4, min_samples_split=5, n_estimators=300; total time=  37.8s\n",
      "[CV] END bootstrap=True, max_depth=10, min_samples_leaf=4, min_samples_split=5, n_estimators=300; total time=  37.9s\n",
      "[CV] END bootstrap=True, max_depth=10, min_samples_leaf=4, min_samples_split=10, n_estimators=100; total time=  12.5s\n",
      "[CV] END bootstrap=True, max_depth=10, min_samples_leaf=4, min_samples_split=10, n_estimators=100; total time=  12.6s\n",
      "[CV] END bootstrap=True, max_depth=10, min_samples_leaf=4, min_samples_split=10, n_estimators=100; total time=  12.5s\n",
      "[CV] END bootstrap=True, max_depth=10, min_samples_leaf=4, min_samples_split=10, n_estimators=100; total time=  12.5s\n",
      "[CV] END bootstrap=True, max_depth=10, min_samples_leaf=4, min_samples_split=10, n_estimators=100; total time=  12.6s\n",
      "[CV] END bootstrap=True, max_depth=10, min_samples_leaf=4, min_samples_split=10, n_estimators=200; total time=  25.1s\n",
      "[CV] END bootstrap=True, max_depth=10, min_samples_leaf=4, min_samples_split=10, n_estimators=200; total time=  25.2s\n",
      "[CV] END bootstrap=True, max_depth=10, min_samples_leaf=4, min_samples_split=10, n_estimators=200; total time=  25.2s\n",
      "[CV] END bootstrap=True, max_depth=10, min_samples_leaf=4, min_samples_split=10, n_estimators=200; total time=  25.2s\n",
      "[CV] END bootstrap=True, max_depth=10, min_samples_leaf=4, min_samples_split=10, n_estimators=200; total time=  25.2s\n",
      "[CV] END bootstrap=True, max_depth=10, min_samples_leaf=4, min_samples_split=10, n_estimators=300; total time=  37.8s\n",
      "[CV] END bootstrap=True, max_depth=10, min_samples_leaf=4, min_samples_split=10, n_estimators=300; total time=  37.9s\n",
      "[CV] END bootstrap=True, max_depth=10, min_samples_leaf=4, min_samples_split=10, n_estimators=300; total time=  37.9s\n",
      "[CV] END bootstrap=True, max_depth=10, min_samples_leaf=4, min_samples_split=10, n_estimators=300; total time=  37.7s\n",
      "[CV] END bootstrap=True, max_depth=10, min_samples_leaf=4, min_samples_split=10, n_estimators=300; total time=  37.8s\n",
      "[CV] END bootstrap=True, max_depth=20, min_samples_leaf=1, min_samples_split=2, n_estimators=100; total time=  21.1s\n",
      "[CV] END bootstrap=True, max_depth=20, min_samples_leaf=1, min_samples_split=2, n_estimators=100; total time=  21.1s\n",
      "[CV] END bootstrap=True, max_depth=20, min_samples_leaf=1, min_samples_split=2, n_estimators=100; total time=  21.0s\n",
      "[CV] END bootstrap=True, max_depth=20, min_samples_leaf=1, min_samples_split=2, n_estimators=100; total time=  21.0s\n",
      "[CV] END bootstrap=True, max_depth=20, min_samples_leaf=1, min_samples_split=2, n_estimators=100; total time=  21.1s\n",
      "[CV] END bootstrap=True, max_depth=20, min_samples_leaf=1, min_samples_split=2, n_estimators=200; total time=  42.2s\n",
      "[CV] END bootstrap=True, max_depth=20, min_samples_leaf=1, min_samples_split=2, n_estimators=200; total time=  42.4s\n",
      "[CV] END bootstrap=True, max_depth=20, min_samples_leaf=1, min_samples_split=2, n_estimators=200; total time=  42.1s\n",
      "[CV] END bootstrap=True, max_depth=20, min_samples_leaf=1, min_samples_split=2, n_estimators=200; total time=  42.0s\n",
      "[CV] END bootstrap=True, max_depth=20, min_samples_leaf=1, min_samples_split=2, n_estimators=200; total time=  42.1s\n",
      "[CV] END bootstrap=True, max_depth=20, min_samples_leaf=1, min_samples_split=2, n_estimators=300; total time= 1.1min\n",
      "[CV] END bootstrap=True, max_depth=20, min_samples_leaf=1, min_samples_split=2, n_estimators=300; total time= 1.1min\n",
      "[CV] END bootstrap=True, max_depth=20, min_samples_leaf=1, min_samples_split=2, n_estimators=300; total time= 1.1min\n",
      "[CV] END bootstrap=True, max_depth=20, min_samples_leaf=1, min_samples_split=2, n_estimators=300; total time= 1.1min\n",
      "[CV] END bootstrap=True, max_depth=20, min_samples_leaf=1, min_samples_split=2, n_estimators=300; total time= 1.1min\n",
      "[CV] END bootstrap=True, max_depth=20, min_samples_leaf=1, min_samples_split=5, n_estimators=100; total time=  20.9s\n",
      "[CV] END bootstrap=True, max_depth=20, min_samples_leaf=1, min_samples_split=5, n_estimators=100; total time=  20.9s\n",
      "[CV] END bootstrap=True, max_depth=20, min_samples_leaf=1, min_samples_split=5, n_estimators=100; total time=  20.7s\n",
      "[CV] END bootstrap=True, max_depth=20, min_samples_leaf=1, min_samples_split=5, n_estimators=100; total time=  20.7s\n",
      "[CV] END bootstrap=True, max_depth=20, min_samples_leaf=1, min_samples_split=5, n_estimators=100; total time=  20.7s\n",
      "[CV] END bootstrap=True, max_depth=20, min_samples_leaf=1, min_samples_split=5, n_estimators=200; total time=  41.7s\n",
      "[CV] END bootstrap=True, max_depth=20, min_samples_leaf=1, min_samples_split=5, n_estimators=200; total time=  41.8s\n",
      "[CV] END bootstrap=True, max_depth=20, min_samples_leaf=1, min_samples_split=5, n_estimators=200; total time=  41.4s\n",
      "[CV] END bootstrap=True, max_depth=20, min_samples_leaf=1, min_samples_split=5, n_estimators=200; total time=  41.4s\n",
      "[CV] END bootstrap=True, max_depth=20, min_samples_leaf=1, min_samples_split=5, n_estimators=200; total time=  41.6s\n",
      "[CV] END bootstrap=True, max_depth=20, min_samples_leaf=1, min_samples_split=5, n_estimators=300; total time= 1.0min\n",
      "[CV] END bootstrap=True, max_depth=20, min_samples_leaf=1, min_samples_split=5, n_estimators=300; total time= 1.0min\n",
      "[CV] END bootstrap=True, max_depth=20, min_samples_leaf=1, min_samples_split=5, n_estimators=300; total time= 1.0min\n",
      "[CV] END bootstrap=True, max_depth=20, min_samples_leaf=1, min_samples_split=5, n_estimators=300; total time= 1.0min\n",
      "[CV] END bootstrap=True, max_depth=20, min_samples_leaf=1, min_samples_split=5, n_estimators=300; total time= 1.0min\n",
      "[CV] END bootstrap=True, max_depth=20, min_samples_leaf=1, min_samples_split=10, n_estimators=100; total time=  20.4s\n",
      "[CV] END bootstrap=True, max_depth=20, min_samples_leaf=1, min_samples_split=10, n_estimators=100; total time=  20.5s\n",
      "[CV] END bootstrap=True, max_depth=20, min_samples_leaf=1, min_samples_split=10, n_estimators=100; total time=  20.3s\n",
      "[CV] END bootstrap=True, max_depth=20, min_samples_leaf=1, min_samples_split=10, n_estimators=100; total time=  20.4s\n",
      "[CV] END bootstrap=True, max_depth=20, min_samples_leaf=1, min_samples_split=10, n_estimators=100; total time=  20.3s\n",
      "[CV] END bootstrap=True, max_depth=20, min_samples_leaf=1, min_samples_split=10, n_estimators=200; total time=  40.8s\n",
      "[CV] END bootstrap=True, max_depth=20, min_samples_leaf=1, min_samples_split=10, n_estimators=200; total time=  40.9s\n",
      "[CV] END bootstrap=True, max_depth=20, min_samples_leaf=1, min_samples_split=10, n_estimators=200; total time=  40.5s\n",
      "[CV] END bootstrap=True, max_depth=20, min_samples_leaf=1, min_samples_split=10, n_estimators=200; total time=  40.5s\n",
      "[CV] END bootstrap=True, max_depth=20, min_samples_leaf=1, min_samples_split=10, n_estimators=200; total time=  40.7s\n",
      "[CV] END bootstrap=True, max_depth=20, min_samples_leaf=1, min_samples_split=10, n_estimators=300; total time= 1.0min\n",
      "[CV] END bootstrap=True, max_depth=20, min_samples_leaf=1, min_samples_split=10, n_estimators=300; total time= 1.0min\n",
      "[CV] END bootstrap=True, max_depth=20, min_samples_leaf=1, min_samples_split=10, n_estimators=300; total time= 1.0min\n",
      "[CV] END bootstrap=True, max_depth=20, min_samples_leaf=1, min_samples_split=10, n_estimators=300; total time= 1.0min\n",
      "[CV] END bootstrap=True, max_depth=20, min_samples_leaf=1, min_samples_split=10, n_estimators=300; total time= 1.0min\n",
      "[CV] END bootstrap=True, max_depth=20, min_samples_leaf=2, min_samples_split=2, n_estimators=100; total time=  20.4s\n",
      "[CV] END bootstrap=True, max_depth=20, min_samples_leaf=2, min_samples_split=2, n_estimators=100; total time=  20.3s\n",
      "[CV] END bootstrap=True, max_depth=20, min_samples_leaf=2, min_samples_split=2, n_estimators=100; total time=  23.6s\n",
      "[CV] END bootstrap=True, max_depth=20, min_samples_leaf=2, min_samples_split=2, n_estimators=100; total time=  20.1s\n",
      "[CV] END bootstrap=True, max_depth=20, min_samples_leaf=2, min_samples_split=2, n_estimators=100; total time=  20.3s\n",
      "[CV] END bootstrap=True, max_depth=20, min_samples_leaf=2, min_samples_split=2, n_estimators=200; total time=  40.7s\n",
      "[CV] END bootstrap=True, max_depth=20, min_samples_leaf=2, min_samples_split=2, n_estimators=200; total time=  40.6s\n",
      "[CV] END bootstrap=True, max_depth=20, min_samples_leaf=2, min_samples_split=2, n_estimators=200; total time=  40.5s\n",
      "[CV] END bootstrap=True, max_depth=20, min_samples_leaf=2, min_samples_split=2, n_estimators=200; total time=  40.3s\n",
      "[CV] END bootstrap=True, max_depth=20, min_samples_leaf=2, min_samples_split=2, n_estimators=200; total time=  40.7s\n",
      "[CV] END bootstrap=True, max_depth=20, min_samples_leaf=2, min_samples_split=2, n_estimators=300; total time= 1.0min\n",
      "[CV] END bootstrap=True, max_depth=20, min_samples_leaf=2, min_samples_split=2, n_estimators=300; total time= 1.0min\n",
      "[CV] END bootstrap=True, max_depth=20, min_samples_leaf=2, min_samples_split=2, n_estimators=300; total time= 1.0min\n",
      "[CV] END bootstrap=True, max_depth=20, min_samples_leaf=2, min_samples_split=2, n_estimators=300; total time= 1.0min\n",
      "[CV] END bootstrap=True, max_depth=20, min_samples_leaf=2, min_samples_split=2, n_estimators=300; total time= 1.0min\n",
      "[CV] END bootstrap=True, max_depth=20, min_samples_leaf=2, min_samples_split=5, n_estimators=100; total time=  20.4s\n",
      "[CV] END bootstrap=True, max_depth=20, min_samples_leaf=2, min_samples_split=5, n_estimators=100; total time=  20.3s\n",
      "[CV] END bootstrap=True, max_depth=20, min_samples_leaf=2, min_samples_split=5, n_estimators=100; total time=  20.1s\n",
      "[CV] END bootstrap=True, max_depth=20, min_samples_leaf=2, min_samples_split=5, n_estimators=100; total time=  20.2s\n",
      "[CV] END bootstrap=True, max_depth=20, min_samples_leaf=2, min_samples_split=5, n_estimators=100; total time=  20.2s\n",
      "[CV] END bootstrap=True, max_depth=20, min_samples_leaf=2, min_samples_split=5, n_estimators=200; total time=  40.6s\n",
      "[CV] END bootstrap=True, max_depth=20, min_samples_leaf=2, min_samples_split=5, n_estimators=200; total time=  40.6s\n",
      "[CV] END bootstrap=True, max_depth=20, min_samples_leaf=2, min_samples_split=5, n_estimators=200; total time=  40.3s\n",
      "[CV] END bootstrap=True, max_depth=20, min_samples_leaf=2, min_samples_split=5, n_estimators=200; total time=  40.3s\n",
      "[CV] END bootstrap=True, max_depth=20, min_samples_leaf=2, min_samples_split=5, n_estimators=200; total time=  40.4s\n",
      "[CV] END bootstrap=True, max_depth=20, min_samples_leaf=2, min_samples_split=5, n_estimators=300; total time= 1.0min\n",
      "[CV] END bootstrap=True, max_depth=20, min_samples_leaf=2, min_samples_split=5, n_estimators=300; total time= 1.0min\n",
      "[CV] END bootstrap=True, max_depth=20, min_samples_leaf=2, min_samples_split=5, n_estimators=300; total time= 1.0min\n",
      "[CV] END bootstrap=True, max_depth=20, min_samples_leaf=2, min_samples_split=5, n_estimators=300; total time= 1.0min\n",
      "[CV] END bootstrap=True, max_depth=20, min_samples_leaf=2, min_samples_split=5, n_estimators=300; total time= 1.0min\n",
      "[CV] END bootstrap=True, max_depth=20, min_samples_leaf=2, min_samples_split=10, n_estimators=100; total time=  20.0s\n",
      "[CV] END bootstrap=True, max_depth=20, min_samples_leaf=2, min_samples_split=10, n_estimators=100; total time=  19.9s\n",
      "[CV] END bootstrap=True, max_depth=20, min_samples_leaf=2, min_samples_split=10, n_estimators=100; total time=  19.7s\n",
      "[CV] END bootstrap=True, max_depth=20, min_samples_leaf=2, min_samples_split=10, n_estimators=100; total time=  19.8s\n",
      "[CV] END bootstrap=True, max_depth=20, min_samples_leaf=2, min_samples_split=10, n_estimators=100; total time=  19.8s\n",
      "[CV] END bootstrap=True, max_depth=20, min_samples_leaf=2, min_samples_split=10, n_estimators=200; total time=  39.6s\n",
      "[CV] END bootstrap=True, max_depth=20, min_samples_leaf=2, min_samples_split=10, n_estimators=200; total time=  39.8s\n",
      "[CV] END bootstrap=True, max_depth=20, min_samples_leaf=2, min_samples_split=10, n_estimators=200; total time=  39.5s\n",
      "[CV] END bootstrap=True, max_depth=20, min_samples_leaf=2, min_samples_split=10, n_estimators=200; total time=  39.7s\n",
      "[CV] END bootstrap=True, max_depth=20, min_samples_leaf=2, min_samples_split=10, n_estimators=200; total time=  39.6s\n",
      "[CV] END bootstrap=True, max_depth=20, min_samples_leaf=2, min_samples_split=10, n_estimators=300; total time=  59.5s\n",
      "[CV] END bootstrap=True, max_depth=20, min_samples_leaf=2, min_samples_split=10, n_estimators=300; total time=  59.8s\n",
      "[CV] END bootstrap=True, max_depth=20, min_samples_leaf=2, min_samples_split=10, n_estimators=300; total time=  59.7s\n",
      "[CV] END bootstrap=True, max_depth=20, min_samples_leaf=2, min_samples_split=10, n_estimators=300; total time=  59.8s\n",
      "[CV] END bootstrap=True, max_depth=20, min_samples_leaf=2, min_samples_split=10, n_estimators=300; total time=  59.7s\n",
      "[CV] END bootstrap=True, max_depth=20, min_samples_leaf=4, min_samples_split=2, n_estimators=100; total time=  19.3s\n",
      "[CV] END bootstrap=True, max_depth=20, min_samples_leaf=4, min_samples_split=2, n_estimators=100; total time=  19.1s\n",
      "[CV] END bootstrap=True, max_depth=20, min_samples_leaf=4, min_samples_split=2, n_estimators=100; total time=  19.0s\n",
      "[CV] END bootstrap=True, max_depth=20, min_samples_leaf=4, min_samples_split=2, n_estimators=100; total time=  18.9s\n",
      "[CV] END bootstrap=True, max_depth=20, min_samples_leaf=4, min_samples_split=2, n_estimators=100; total time=  19.0s\n",
      "[CV] END bootstrap=True, max_depth=20, min_samples_leaf=4, min_samples_split=2, n_estimators=200; total time=  38.3s\n",
      "[CV] END bootstrap=True, max_depth=20, min_samples_leaf=4, min_samples_split=2, n_estimators=200; total time=  38.0s\n",
      "[CV] END bootstrap=True, max_depth=20, min_samples_leaf=4, min_samples_split=2, n_estimators=200; total time=  38.0s\n",
      "[CV] END bootstrap=True, max_depth=20, min_samples_leaf=4, min_samples_split=2, n_estimators=200; total time=  38.1s\n",
      "[CV] END bootstrap=True, max_depth=20, min_samples_leaf=4, min_samples_split=2, n_estimators=200; total time=  38.1s\n",
      "[CV] END bootstrap=True, max_depth=20, min_samples_leaf=4, min_samples_split=2, n_estimators=300; total time=  57.5s\n",
      "[CV] END bootstrap=True, max_depth=20, min_samples_leaf=4, min_samples_split=2, n_estimators=300; total time=  56.9s\n",
      "[CV] END bootstrap=True, max_depth=20, min_samples_leaf=4, min_samples_split=2, n_estimators=300; total time=  57.0s\n",
      "[CV] END bootstrap=True, max_depth=20, min_samples_leaf=4, min_samples_split=2, n_estimators=300; total time=  57.0s\n",
      "[CV] END bootstrap=True, max_depth=20, min_samples_leaf=4, min_samples_split=2, n_estimators=300; total time=  57.1s\n",
      "[CV] END bootstrap=True, max_depth=20, min_samples_leaf=4, min_samples_split=5, n_estimators=100; total time=  19.3s\n",
      "[CV] END bootstrap=True, max_depth=20, min_samples_leaf=4, min_samples_split=5, n_estimators=100; total time=  19.1s\n",
      "[CV] END bootstrap=True, max_depth=20, min_samples_leaf=4, min_samples_split=5, n_estimators=100; total time=  19.0s\n",
      "[CV] END bootstrap=True, max_depth=20, min_samples_leaf=4, min_samples_split=5, n_estimators=100; total time=  18.9s\n",
      "[CV] END bootstrap=True, max_depth=20, min_samples_leaf=4, min_samples_split=5, n_estimators=100; total time=  19.1s\n",
      "[CV] END bootstrap=True, max_depth=20, min_samples_leaf=4, min_samples_split=5, n_estimators=200; total time=  38.3s\n",
      "[CV] END bootstrap=True, max_depth=20, min_samples_leaf=4, min_samples_split=5, n_estimators=200; total time=  38.0s\n",
      "[CV] END bootstrap=True, max_depth=20, min_samples_leaf=4, min_samples_split=5, n_estimators=200; total time=  37.9s\n",
      "[CV] END bootstrap=True, max_depth=20, min_samples_leaf=4, min_samples_split=5, n_estimators=200; total time=  37.9s\n",
      "[CV] END bootstrap=True, max_depth=20, min_samples_leaf=4, min_samples_split=5, n_estimators=200; total time=  38.0s\n",
      "[CV] END bootstrap=True, max_depth=20, min_samples_leaf=4, min_samples_split=5, n_estimators=300; total time=  57.4s\n",
      "[CV] END bootstrap=True, max_depth=20, min_samples_leaf=4, min_samples_split=5, n_estimators=300; total time=  56.9s\n",
      "[CV] END bootstrap=True, max_depth=20, min_samples_leaf=4, min_samples_split=5, n_estimators=300; total time=  57.3s\n",
      "[CV] END bootstrap=True, max_depth=20, min_samples_leaf=4, min_samples_split=5, n_estimators=300; total time=  57.0s\n",
      "[CV] END bootstrap=True, max_depth=20, min_samples_leaf=4, min_samples_split=5, n_estimators=300; total time=  57.0s\n",
      "[CV] END bootstrap=True, max_depth=20, min_samples_leaf=4, min_samples_split=10, n_estimators=100; total time=  19.0s\n",
      "[CV] END bootstrap=True, max_depth=20, min_samples_leaf=4, min_samples_split=10, n_estimators=100; total time=  19.0s\n",
      "[CV] END bootstrap=True, max_depth=20, min_samples_leaf=4, min_samples_split=10, n_estimators=100; total time=  18.9s\n",
      "[CV] END bootstrap=True, max_depth=20, min_samples_leaf=4, min_samples_split=10, n_estimators=100; total time=  18.9s\n",
      "[CV] END bootstrap=True, max_depth=20, min_samples_leaf=4, min_samples_split=10, n_estimators=100; total time=  19.1s\n",
      "[CV] END bootstrap=True, max_depth=20, min_samples_leaf=4, min_samples_split=10, n_estimators=200; total time=  37.9s\n",
      "[CV] END bootstrap=True, max_depth=20, min_samples_leaf=4, min_samples_split=10, n_estimators=200; total time=  37.9s\n",
      "[CV] END bootstrap=True, max_depth=20, min_samples_leaf=4, min_samples_split=10, n_estimators=200; total time=  37.5s\n",
      "[CV] END bootstrap=True, max_depth=20, min_samples_leaf=4, min_samples_split=10, n_estimators=200; total time=  37.7s\n",
      "[CV] END bootstrap=True, max_depth=20, min_samples_leaf=4, min_samples_split=10, n_estimators=200; total time=  37.8s\n",
      "[CV] END bootstrap=True, max_depth=20, min_samples_leaf=4, min_samples_split=10, n_estimators=300; total time=  56.8s\n",
      "[CV] END bootstrap=True, max_depth=20, min_samples_leaf=4, min_samples_split=10, n_estimators=300; total time=  56.7s\n",
      "[CV] END bootstrap=True, max_depth=20, min_samples_leaf=4, min_samples_split=10, n_estimators=300; total time=  56.5s\n",
      "[CV] END bootstrap=True, max_depth=20, min_samples_leaf=4, min_samples_split=10, n_estimators=300; total time=  56.5s\n",
      "[CV] END bootstrap=True, max_depth=20, min_samples_leaf=4, min_samples_split=10, n_estimators=300; total time=  56.8s\n",
      "[CV] END bootstrap=True, max_depth=30, min_samples_leaf=1, min_samples_split=2, n_estimators=100; total time=  24.1s\n",
      "[CV] END bootstrap=True, max_depth=30, min_samples_leaf=1, min_samples_split=2, n_estimators=100; total time=  24.2s\n",
      "[CV] END bootstrap=True, max_depth=30, min_samples_leaf=1, min_samples_split=2, n_estimators=100; total time=  23.9s\n",
      "[CV] END bootstrap=True, max_depth=30, min_samples_leaf=1, min_samples_split=2, n_estimators=100; total time=  24.0s\n",
      "[CV] END bootstrap=True, max_depth=30, min_samples_leaf=1, min_samples_split=2, n_estimators=100; total time=  24.1s\n",
      "[CV] END bootstrap=True, max_depth=30, min_samples_leaf=1, min_samples_split=2, n_estimators=200; total time=  47.9s\n",
      "[CV] END bootstrap=True, max_depth=30, min_samples_leaf=1, min_samples_split=2, n_estimators=200; total time=  48.1s\n",
      "[CV] END bootstrap=True, max_depth=30, min_samples_leaf=1, min_samples_split=2, n_estimators=200; total time=  47.8s\n",
      "[CV] END bootstrap=True, max_depth=30, min_samples_leaf=1, min_samples_split=2, n_estimators=200; total time=  47.8s\n",
      "[CV] END bootstrap=True, max_depth=30, min_samples_leaf=1, min_samples_split=2, n_estimators=200; total time=  48.2s\n",
      "[CV] END bootstrap=True, max_depth=30, min_samples_leaf=1, min_samples_split=2, n_estimators=300; total time= 1.2min\n",
      "[CV] END bootstrap=True, max_depth=30, min_samples_leaf=1, min_samples_split=2, n_estimators=300; total time= 1.2min\n",
      "[CV] END bootstrap=True, max_depth=30, min_samples_leaf=1, min_samples_split=2, n_estimators=300; total time= 1.2min\n",
      "[CV] END bootstrap=True, max_depth=30, min_samples_leaf=1, min_samples_split=2, n_estimators=300; total time= 1.2min\n",
      "[CV] END bootstrap=True, max_depth=30, min_samples_leaf=1, min_samples_split=2, n_estimators=300; total time= 1.2min\n",
      "[CV] END bootstrap=True, max_depth=30, min_samples_leaf=1, min_samples_split=5, n_estimators=100; total time=  23.8s\n",
      "[CV] END bootstrap=True, max_depth=30, min_samples_leaf=1, min_samples_split=5, n_estimators=100; total time=  23.9s\n",
      "[CV] END bootstrap=True, max_depth=30, min_samples_leaf=1, min_samples_split=5, n_estimators=100; total time=  23.8s\n",
      "[CV] END bootstrap=True, max_depth=30, min_samples_leaf=1, min_samples_split=5, n_estimators=100; total time=  23.6s\n",
      "[CV] END bootstrap=True, max_depth=30, min_samples_leaf=1, min_samples_split=5, n_estimators=100; total time=  23.6s\n",
      "[CV] END bootstrap=True, max_depth=30, min_samples_leaf=1, min_samples_split=5, n_estimators=200; total time=  47.6s\n",
      "[CV] END bootstrap=True, max_depth=30, min_samples_leaf=1, min_samples_split=5, n_estimators=200; total time=  47.8s\n",
      "[CV] END bootstrap=True, max_depth=30, min_samples_leaf=1, min_samples_split=5, n_estimators=200; total time=  47.2s\n",
      "[CV] END bootstrap=True, max_depth=30, min_samples_leaf=1, min_samples_split=5, n_estimators=200; total time=  47.2s\n",
      "[CV] END bootstrap=True, max_depth=30, min_samples_leaf=1, min_samples_split=5, n_estimators=200; total time=  47.4s\n",
      "[CV] END bootstrap=True, max_depth=30, min_samples_leaf=1, min_samples_split=5, n_estimators=300; total time= 1.2min\n",
      "[CV] END bootstrap=True, max_depth=30, min_samples_leaf=1, min_samples_split=5, n_estimators=300; total time= 1.2min\n",
      "[CV] END bootstrap=True, max_depth=30, min_samples_leaf=1, min_samples_split=5, n_estimators=300; total time= 1.2min\n",
      "[CV] END bootstrap=True, max_depth=30, min_samples_leaf=1, min_samples_split=5, n_estimators=300; total time= 1.2min\n",
      "[CV] END bootstrap=True, max_depth=30, min_samples_leaf=1, min_samples_split=5, n_estimators=300; total time= 1.2min\n",
      "[CV] END bootstrap=True, max_depth=30, min_samples_leaf=1, min_samples_split=10, n_estimators=100; total time=  23.2s\n",
      "[CV] END bootstrap=True, max_depth=30, min_samples_leaf=1, min_samples_split=10, n_estimators=100; total time=  23.5s\n",
      "[CV] END bootstrap=True, max_depth=30, min_samples_leaf=1, min_samples_split=10, n_estimators=100; total time=  23.0s\n",
      "[CV] END bootstrap=True, max_depth=30, min_samples_leaf=1, min_samples_split=10, n_estimators=100; total time=  23.1s\n",
      "[CV] END bootstrap=True, max_depth=30, min_samples_leaf=1, min_samples_split=10, n_estimators=100; total time=  23.2s\n",
      "[CV] END bootstrap=True, max_depth=30, min_samples_leaf=1, min_samples_split=10, n_estimators=200; total time=  46.1s\n",
      "[CV] END bootstrap=True, max_depth=30, min_samples_leaf=1, min_samples_split=10, n_estimators=200; total time=  46.6s\n",
      "[CV] END bootstrap=True, max_depth=30, min_samples_leaf=1, min_samples_split=10, n_estimators=200; total time=  46.1s\n",
      "[CV] END bootstrap=True, max_depth=30, min_samples_leaf=1, min_samples_split=10, n_estimators=200; total time=  46.1s\n",
      "[CV] END bootstrap=True, max_depth=30, min_samples_leaf=1, min_samples_split=10, n_estimators=200; total time=  46.4s\n",
      "[CV] END bootstrap=True, max_depth=30, min_samples_leaf=1, min_samples_split=10, n_estimators=300; total time= 1.2min\n",
      "[CV] END bootstrap=True, max_depth=30, min_samples_leaf=1, min_samples_split=10, n_estimators=300; total time= 1.2min\n",
      "[CV] END bootstrap=True, max_depth=30, min_samples_leaf=1, min_samples_split=10, n_estimators=300; total time= 1.2min\n",
      "[CV] END bootstrap=True, max_depth=30, min_samples_leaf=1, min_samples_split=10, n_estimators=300; total time= 1.2min\n",
      "[CV] END bootstrap=True, max_depth=30, min_samples_leaf=1, min_samples_split=10, n_estimators=300; total time= 1.2min\n",
      "[CV] END bootstrap=True, max_depth=30, min_samples_leaf=2, min_samples_split=2, n_estimators=100; total time=  22.9s\n",
      "[CV] END bootstrap=True, max_depth=30, min_samples_leaf=2, min_samples_split=2, n_estimators=100; total time=  22.9s\n",
      "[CV] END bootstrap=True, max_depth=30, min_samples_leaf=2, min_samples_split=2, n_estimators=100; total time=  22.5s\n",
      "[CV] END bootstrap=True, max_depth=30, min_samples_leaf=2, min_samples_split=2, n_estimators=100; total time=  22.5s\n",
      "[CV] END bootstrap=True, max_depth=30, min_samples_leaf=2, min_samples_split=2, n_estimators=100; total time=  22.8s\n",
      "[CV] END bootstrap=True, max_depth=30, min_samples_leaf=2, min_samples_split=2, n_estimators=200; total time=  45.7s\n",
      "[CV] END bootstrap=True, max_depth=30, min_samples_leaf=2, min_samples_split=2, n_estimators=200; total time=  46.0s\n",
      "[CV] END bootstrap=True, max_depth=30, min_samples_leaf=2, min_samples_split=2, n_estimators=200; total time=  45.1s\n",
      "[CV] END bootstrap=True, max_depth=30, min_samples_leaf=2, min_samples_split=2, n_estimators=200; total time=  45.2s\n",
      "[CV] END bootstrap=True, max_depth=30, min_samples_leaf=2, min_samples_split=2, n_estimators=200; total time=  45.2s\n",
      "[CV] END bootstrap=True, max_depth=30, min_samples_leaf=2, min_samples_split=2, n_estimators=300; total time= 1.1min\n",
      "[CV] END bootstrap=True, max_depth=30, min_samples_leaf=2, min_samples_split=2, n_estimators=300; total time= 1.1min\n",
      "[CV] END bootstrap=True, max_depth=30, min_samples_leaf=2, min_samples_split=2, n_estimators=300; total time= 1.1min\n",
      "[CV] END bootstrap=True, max_depth=30, min_samples_leaf=2, min_samples_split=2, n_estimators=300; total time= 1.1min\n",
      "[CV] END bootstrap=True, max_depth=30, min_samples_leaf=2, min_samples_split=2, n_estimators=300; total time= 1.1min\n",
      "[CV] END bootstrap=True, max_depth=30, min_samples_leaf=2, min_samples_split=5, n_estimators=100; total time=  23.0s\n",
      "[CV] END bootstrap=True, max_depth=30, min_samples_leaf=2, min_samples_split=5, n_estimators=100; total time=  22.8s\n",
      "[CV] END bootstrap=True, max_depth=30, min_samples_leaf=2, min_samples_split=5, n_estimators=100; total time=  22.5s\n",
      "[CV] END bootstrap=True, max_depth=30, min_samples_leaf=2, min_samples_split=5, n_estimators=100; total time=  22.7s\n",
      "[CV] END bootstrap=True, max_depth=30, min_samples_leaf=2, min_samples_split=5, n_estimators=100; total time=  22.6s\n",
      "[CV] END bootstrap=True, max_depth=30, min_samples_leaf=2, min_samples_split=5, n_estimators=200; total time=  45.7s\n",
      "[CV] END bootstrap=True, max_depth=30, min_samples_leaf=2, min_samples_split=5, n_estimators=200; total time=  45.5s\n",
      "[CV] END bootstrap=True, max_depth=30, min_samples_leaf=2, min_samples_split=5, n_estimators=200; total time=  45.1s\n",
      "[CV] END bootstrap=True, max_depth=30, min_samples_leaf=2, min_samples_split=5, n_estimators=200; total time=  45.1s\n",
      "[CV] END bootstrap=True, max_depth=30, min_samples_leaf=2, min_samples_split=5, n_estimators=200; total time=  45.3s\n",
      "[CV] END bootstrap=True, max_depth=30, min_samples_leaf=2, min_samples_split=5, n_estimators=300; total time= 1.1min\n",
      "[CV] END bootstrap=True, max_depth=30, min_samples_leaf=2, min_samples_split=5, n_estimators=300; total time= 1.1min\n",
      "[CV] END bootstrap=True, max_depth=30, min_samples_leaf=2, min_samples_split=5, n_estimators=300; total time= 1.1min\n",
      "[CV] END bootstrap=True, max_depth=30, min_samples_leaf=2, min_samples_split=5, n_estimators=300; total time= 1.1min\n",
      "[CV] END bootstrap=True, max_depth=30, min_samples_leaf=2, min_samples_split=5, n_estimators=300; total time= 1.1min\n",
      "[CV] END bootstrap=True, max_depth=30, min_samples_leaf=2, min_samples_split=10, n_estimators=100; total time=  22.3s\n",
      "[CV] END bootstrap=True, max_depth=30, min_samples_leaf=2, min_samples_split=10, n_estimators=100; total time=  22.6s\n",
      "[CV] END bootstrap=True, max_depth=30, min_samples_leaf=2, min_samples_split=10, n_estimators=100; total time=  22.1s\n",
      "[CV] END bootstrap=True, max_depth=30, min_samples_leaf=2, min_samples_split=10, n_estimators=100; total time=  22.0s\n",
      "[CV] END bootstrap=True, max_depth=30, min_samples_leaf=2, min_samples_split=10, n_estimators=100; total time=  22.0s\n",
      "[CV] END bootstrap=True, max_depth=30, min_samples_leaf=2, min_samples_split=10, n_estimators=200; total time=  44.3s\n",
      "[CV] END bootstrap=True, max_depth=30, min_samples_leaf=2, min_samples_split=10, n_estimators=200; total time=  44.9s\n",
      "[CV] END bootstrap=True, max_depth=30, min_samples_leaf=2, min_samples_split=10, n_estimators=200; total time=  44.0s\n",
      "[CV] END bootstrap=True, max_depth=30, min_samples_leaf=2, min_samples_split=10, n_estimators=200; total time=  44.2s\n",
      "[CV] END bootstrap=True, max_depth=30, min_samples_leaf=2, min_samples_split=10, n_estimators=200; total time=  44.1s\n",
      "[CV] END bootstrap=True, max_depth=30, min_samples_leaf=2, min_samples_split=10, n_estimators=300; total time= 1.1min\n",
      "[CV] END bootstrap=True, max_depth=30, min_samples_leaf=2, min_samples_split=10, n_estimators=300; total time= 1.1min\n",
      "[CV] END bootstrap=True, max_depth=30, min_samples_leaf=2, min_samples_split=10, n_estimators=300; total time= 1.1min\n",
      "[CV] END bootstrap=True, max_depth=30, min_samples_leaf=2, min_samples_split=10, n_estimators=300; total time= 1.1min\n",
      "[CV] END bootstrap=True, max_depth=30, min_samples_leaf=2, min_samples_split=10, n_estimators=300; total time= 1.1min\n",
      "[CV] END bootstrap=True, max_depth=30, min_samples_leaf=4, min_samples_split=2, n_estimators=100; total time=  21.1s\n",
      "[CV] END bootstrap=True, max_depth=30, min_samples_leaf=4, min_samples_split=2, n_estimators=100; total time=  21.1s\n",
      "[CV] END bootstrap=True, max_depth=30, min_samples_leaf=4, min_samples_split=2, n_estimators=100; total time=  20.5s\n",
      "[CV] END bootstrap=True, max_depth=30, min_samples_leaf=4, min_samples_split=2, n_estimators=100; total time=  20.7s\n",
      "[CV] END bootstrap=True, max_depth=30, min_samples_leaf=4, min_samples_split=2, n_estimators=100; total time=  20.7s\n",
      "[CV] END bootstrap=True, max_depth=30, min_samples_leaf=4, min_samples_split=2, n_estimators=200; total time=  41.9s\n",
      "[CV] END bootstrap=True, max_depth=30, min_samples_leaf=4, min_samples_split=2, n_estimators=200; total time=  41.9s\n",
      "[CV] END bootstrap=True, max_depth=30, min_samples_leaf=4, min_samples_split=2, n_estimators=200; total time=  41.0s\n",
      "[CV] END bootstrap=True, max_depth=30, min_samples_leaf=4, min_samples_split=2, n_estimators=200; total time=  41.1s\n",
      "[CV] END bootstrap=True, max_depth=30, min_samples_leaf=4, min_samples_split=2, n_estimators=200; total time=  41.5s\n",
      "[CV] END bootstrap=True, max_depth=30, min_samples_leaf=4, min_samples_split=2, n_estimators=300; total time= 1.0min\n",
      "[CV] END bootstrap=True, max_depth=30, min_samples_leaf=4, min_samples_split=2, n_estimators=300; total time= 1.0min\n",
      "[CV] END bootstrap=True, max_depth=30, min_samples_leaf=4, min_samples_split=2, n_estimators=300; total time= 1.0min\n",
      "[CV] END bootstrap=True, max_depth=30, min_samples_leaf=4, min_samples_split=2, n_estimators=300; total time= 1.0min\n",
      "[CV] END bootstrap=True, max_depth=30, min_samples_leaf=4, min_samples_split=2, n_estimators=300; total time= 1.0min\n",
      "[CV] END bootstrap=True, max_depth=30, min_samples_leaf=4, min_samples_split=5, n_estimators=100; total time=  21.0s\n",
      "[CV] END bootstrap=True, max_depth=30, min_samples_leaf=4, min_samples_split=5, n_estimators=100; total time=  21.2s\n",
      "[CV] END bootstrap=True, max_depth=30, min_samples_leaf=4, min_samples_split=5, n_estimators=100; total time=  20.5s\n",
      "[CV] END bootstrap=True, max_depth=30, min_samples_leaf=4, min_samples_split=5, n_estimators=100; total time=  20.6s\n",
      "[CV] END bootstrap=True, max_depth=30, min_samples_leaf=4, min_samples_split=5, n_estimators=100; total time=  20.7s\n",
      "[CV] END bootstrap=True, max_depth=30, min_samples_leaf=4, min_samples_split=5, n_estimators=200; total time=  41.7s\n",
      "[CV] END bootstrap=True, max_depth=30, min_samples_leaf=4, min_samples_split=5, n_estimators=200; total time=  41.9s\n",
      "[CV] END bootstrap=True, max_depth=30, min_samples_leaf=4, min_samples_split=5, n_estimators=200; total time=  41.0s\n",
      "[CV] END bootstrap=True, max_depth=30, min_samples_leaf=4, min_samples_split=5, n_estimators=200; total time=  41.0s\n",
      "[CV] END bootstrap=True, max_depth=30, min_samples_leaf=4, min_samples_split=5, n_estimators=200; total time=  41.4s\n",
      "[CV] END bootstrap=True, max_depth=30, min_samples_leaf=4, min_samples_split=5, n_estimators=300; total time= 1.0min\n",
      "[CV] END bootstrap=True, max_depth=30, min_samples_leaf=4, min_samples_split=5, n_estimators=300; total time= 1.0min\n",
      "[CV] END bootstrap=True, max_depth=30, min_samples_leaf=4, min_samples_split=5, n_estimators=300; total time= 1.0min\n",
      "[CV] END bootstrap=True, max_depth=30, min_samples_leaf=4, min_samples_split=5, n_estimators=300; total time= 1.0min\n",
      "[CV] END bootstrap=True, max_depth=30, min_samples_leaf=4, min_samples_split=5, n_estimators=300; total time= 1.0min\n",
      "[CV] END bootstrap=True, max_depth=30, min_samples_leaf=4, min_samples_split=10, n_estimators=100; total time=  20.7s\n",
      "[CV] END bootstrap=True, max_depth=30, min_samples_leaf=4, min_samples_split=10, n_estimators=100; total time=  20.6s\n",
      "[CV] END bootstrap=True, max_depth=30, min_samples_leaf=4, min_samples_split=10, n_estimators=100; total time=  20.4s\n",
      "[CV] END bootstrap=True, max_depth=30, min_samples_leaf=4, min_samples_split=10, n_estimators=100; total time=  20.5s\n",
      "[CV] END bootstrap=True, max_depth=30, min_samples_leaf=4, min_samples_split=10, n_estimators=100; total time=  20.7s\n",
      "[CV] END bootstrap=True, max_depth=30, min_samples_leaf=4, min_samples_split=10, n_estimators=200; total time=  41.4s\n",
      "[CV] END bootstrap=True, max_depth=30, min_samples_leaf=4, min_samples_split=10, n_estimators=200; total time=  41.3s\n",
      "[CV] END bootstrap=True, max_depth=30, min_samples_leaf=4, min_samples_split=10, n_estimators=200; total time=  40.6s\n",
      "[CV] END bootstrap=True, max_depth=30, min_samples_leaf=4, min_samples_split=10, n_estimators=200; total time=  41.0s\n",
      "[CV] END bootstrap=True, max_depth=30, min_samples_leaf=4, min_samples_split=10, n_estimators=200; total time=  41.3s\n",
      "[CV] END bootstrap=True, max_depth=30, min_samples_leaf=4, min_samples_split=10, n_estimators=300; total time= 1.0min\n",
      "[CV] END bootstrap=True, max_depth=30, min_samples_leaf=4, min_samples_split=10, n_estimators=300; total time= 1.0min\n",
      "[CV] END bootstrap=True, max_depth=30, min_samples_leaf=4, min_samples_split=10, n_estimators=300; total time= 1.0min\n",
      "[CV] END bootstrap=True, max_depth=30, min_samples_leaf=4, min_samples_split=10, n_estimators=300; total time= 1.0min\n",
      "[CV] END bootstrap=True, max_depth=30, min_samples_leaf=4, min_samples_split=10, n_estimators=300; total time= 1.0min\n",
      "[CV] END bootstrap=False, max_depth=None, min_samples_leaf=1, min_samples_split=2, n_estimators=100; total time=  36.0s\n",
      "[CV] END bootstrap=False, max_depth=None, min_samples_leaf=1, min_samples_split=2, n_estimators=100; total time=  35.8s\n",
      "[CV] END bootstrap=False, max_depth=None, min_samples_leaf=1, min_samples_split=2, n_estimators=100; total time=  35.3s\n",
      "[CV] END bootstrap=False, max_depth=None, min_samples_leaf=1, min_samples_split=2, n_estimators=100; total time=  35.4s\n",
      "[CV] END bootstrap=False, max_depth=None, min_samples_leaf=1, min_samples_split=2, n_estimators=100; total time=  36.0s\n",
      "[CV] END bootstrap=False, max_depth=None, min_samples_leaf=1, min_samples_split=2, n_estimators=200; total time= 1.2min\n",
      "[CV] END bootstrap=False, max_depth=None, min_samples_leaf=1, min_samples_split=2, n_estimators=200; total time= 1.2min\n",
      "[CV] END bootstrap=False, max_depth=None, min_samples_leaf=1, min_samples_split=2, n_estimators=200; total time= 1.2min\n",
      "[CV] END bootstrap=False, max_depth=None, min_samples_leaf=1, min_samples_split=2, n_estimators=200; total time= 1.2min\n",
      "[CV] END bootstrap=False, max_depth=None, min_samples_leaf=1, min_samples_split=2, n_estimators=200; total time= 1.2min\n",
      "[CV] END bootstrap=False, max_depth=None, min_samples_leaf=1, min_samples_split=2, n_estimators=300; total time= 1.8min\n",
      "[CV] END bootstrap=False, max_depth=None, min_samples_leaf=1, min_samples_split=2, n_estimators=300; total time= 1.8min\n",
      "[CV] END bootstrap=False, max_depth=None, min_samples_leaf=1, min_samples_split=2, n_estimators=300; total time= 1.8min\n",
      "[CV] END bootstrap=False, max_depth=None, min_samples_leaf=1, min_samples_split=2, n_estimators=300; total time= 1.8min\n",
      "[CV] END bootstrap=False, max_depth=None, min_samples_leaf=1, min_samples_split=2, n_estimators=300; total time= 1.8min\n",
      "[CV] END bootstrap=False, max_depth=None, min_samples_leaf=1, min_samples_split=5, n_estimators=100; total time=  35.4s\n",
      "[CV] END bootstrap=False, max_depth=None, min_samples_leaf=1, min_samples_split=5, n_estimators=100; total time=  36.2s\n",
      "[CV] END bootstrap=False, max_depth=None, min_samples_leaf=1, min_samples_split=5, n_estimators=100; total time=  34.5s\n",
      "[CV] END bootstrap=False, max_depth=None, min_samples_leaf=1, min_samples_split=5, n_estimators=100; total time=  34.6s\n",
      "[CV] END bootstrap=False, max_depth=None, min_samples_leaf=1, min_samples_split=5, n_estimators=100; total time=  35.4s\n",
      "[CV] END bootstrap=False, max_depth=None, min_samples_leaf=1, min_samples_split=5, n_estimators=200; total time= 1.2min\n",
      "[CV] END bootstrap=False, max_depth=None, min_samples_leaf=1, min_samples_split=5, n_estimators=200; total time= 1.2min\n",
      "[CV] END bootstrap=False, max_depth=None, min_samples_leaf=1, min_samples_split=5, n_estimators=200; total time= 1.2min\n",
      "[CV] END bootstrap=False, max_depth=None, min_samples_leaf=1, min_samples_split=5, n_estimators=200; total time= 1.2min\n",
      "[CV] END bootstrap=False, max_depth=None, min_samples_leaf=1, min_samples_split=5, n_estimators=200; total time= 1.2min\n",
      "[CV] END bootstrap=False, max_depth=None, min_samples_leaf=1, min_samples_split=5, n_estimators=300; total time= 1.8min\n",
      "[CV] END bootstrap=False, max_depth=None, min_samples_leaf=1, min_samples_split=5, n_estimators=300; total time= 1.8min\n",
      "[CV] END bootstrap=False, max_depth=None, min_samples_leaf=1, min_samples_split=5, n_estimators=300; total time= 1.7min\n",
      "[CV] END bootstrap=False, max_depth=None, min_samples_leaf=1, min_samples_split=5, n_estimators=300; total time= 1.7min\n",
      "[CV] END bootstrap=False, max_depth=None, min_samples_leaf=1, min_samples_split=5, n_estimators=300; total time= 1.8min\n",
      "[CV] END bootstrap=False, max_depth=None, min_samples_leaf=1, min_samples_split=10, n_estimators=100; total time=  34.2s\n",
      "[CV] END bootstrap=False, max_depth=None, min_samples_leaf=1, min_samples_split=10, n_estimators=100; total time=  34.9s\n",
      "[CV] END bootstrap=False, max_depth=None, min_samples_leaf=1, min_samples_split=10, n_estimators=100; total time=  34.3s\n",
      "[CV] END bootstrap=False, max_depth=None, min_samples_leaf=1, min_samples_split=10, n_estimators=100; total time=  34.1s\n",
      "[CV] END bootstrap=False, max_depth=None, min_samples_leaf=1, min_samples_split=10, n_estimators=100; total time=  34.8s\n",
      "[CV] END bootstrap=False, max_depth=None, min_samples_leaf=1, min_samples_split=10, n_estimators=200; total time= 1.1min\n",
      "[CV] END bootstrap=False, max_depth=None, min_samples_leaf=1, min_samples_split=10, n_estimators=200; total time= 1.2min\n",
      "[CV] END bootstrap=False, max_depth=None, min_samples_leaf=1, min_samples_split=10, n_estimators=200; total time= 1.1min\n",
      "[CV] END bootstrap=False, max_depth=None, min_samples_leaf=1, min_samples_split=10, n_estimators=200; total time= 1.1min\n",
      "[CV] END bootstrap=False, max_depth=None, min_samples_leaf=1, min_samples_split=10, n_estimators=200; total time= 1.2min\n",
      "[CV] END bootstrap=False, max_depth=None, min_samples_leaf=1, min_samples_split=10, n_estimators=300; total time= 1.7min\n",
      "[CV] END bootstrap=False, max_depth=None, min_samples_leaf=1, min_samples_split=10, n_estimators=300; total time= 1.7min\n",
      "[CV] END bootstrap=False, max_depth=None, min_samples_leaf=1, min_samples_split=10, n_estimators=300; total time= 1.7min\n",
      "[CV] END bootstrap=False, max_depth=None, min_samples_leaf=1, min_samples_split=10, n_estimators=300; total time= 1.7min\n",
      "[CV] END bootstrap=False, max_depth=None, min_samples_leaf=1, min_samples_split=10, n_estimators=300; total time= 1.7min\n",
      "[CV] END bootstrap=False, max_depth=None, min_samples_leaf=2, min_samples_split=2, n_estimators=100; total time=  34.0s\n",
      "[CV] END bootstrap=False, max_depth=None, min_samples_leaf=2, min_samples_split=2, n_estimators=100; total time=  34.7s\n",
      "[CV] END bootstrap=False, max_depth=None, min_samples_leaf=2, min_samples_split=2, n_estimators=100; total time=  33.4s\n",
      "[CV] END bootstrap=False, max_depth=None, min_samples_leaf=2, min_samples_split=2, n_estimators=100; total time=  33.6s\n",
      "[CV] END bootstrap=False, max_depth=None, min_samples_leaf=2, min_samples_split=2, n_estimators=100; total time=  34.0s\n",
      "[CV] END bootstrap=False, max_depth=None, min_samples_leaf=2, min_samples_split=2, n_estimators=200; total time= 1.1min\n",
      "[CV] END bootstrap=False, max_depth=None, min_samples_leaf=2, min_samples_split=2, n_estimators=200; total time= 1.1min\n",
      "[CV] END bootstrap=False, max_depth=None, min_samples_leaf=2, min_samples_split=2, n_estimators=200; total time= 1.1min\n",
      "[CV] END bootstrap=False, max_depth=None, min_samples_leaf=2, min_samples_split=2, n_estimators=200; total time= 1.1min\n",
      "[CV] END bootstrap=False, max_depth=None, min_samples_leaf=2, min_samples_split=2, n_estimators=200; total time= 1.1min\n",
      "[CV] END bootstrap=False, max_depth=None, min_samples_leaf=2, min_samples_split=2, n_estimators=300; total time= 1.7min\n",
      "[CV] END bootstrap=False, max_depth=None, min_samples_leaf=2, min_samples_split=2, n_estimators=300; total time= 1.7min\n",
      "[CV] END bootstrap=False, max_depth=None, min_samples_leaf=2, min_samples_split=2, n_estimators=300; total time= 1.7min\n",
      "[CV] END bootstrap=False, max_depth=None, min_samples_leaf=2, min_samples_split=2, n_estimators=300; total time= 1.7min\n",
      "[CV] END bootstrap=False, max_depth=None, min_samples_leaf=2, min_samples_split=2, n_estimators=300; total time= 1.7min\n",
      "[CV] END bootstrap=False, max_depth=None, min_samples_leaf=2, min_samples_split=5, n_estimators=100; total time=  33.7s\n",
      "[CV] END bootstrap=False, max_depth=None, min_samples_leaf=2, min_samples_split=5, n_estimators=100; total time=  34.7s\n",
      "[CV] END bootstrap=False, max_depth=None, min_samples_leaf=2, min_samples_split=5, n_estimators=100; total time=  33.0s\n",
      "[CV] END bootstrap=False, max_depth=None, min_samples_leaf=2, min_samples_split=5, n_estimators=100; total time=  33.3s\n",
      "[CV] END bootstrap=False, max_depth=None, min_samples_leaf=2, min_samples_split=5, n_estimators=100; total time=  34.0s\n",
      "[CV] END bootstrap=False, max_depth=None, min_samples_leaf=2, min_samples_split=5, n_estimators=200; total time= 1.1min\n",
      "[CV] END bootstrap=False, max_depth=None, min_samples_leaf=2, min_samples_split=5, n_estimators=200; total time= 1.1min\n",
      "[CV] END bootstrap=False, max_depth=None, min_samples_leaf=2, min_samples_split=5, n_estimators=200; total time= 1.1min\n",
      "[CV] END bootstrap=False, max_depth=None, min_samples_leaf=2, min_samples_split=5, n_estimators=200; total time= 1.1min\n",
      "[CV] END bootstrap=False, max_depth=None, min_samples_leaf=2, min_samples_split=5, n_estimators=200; total time= 1.1min\n",
      "[CV] END bootstrap=False, max_depth=None, min_samples_leaf=2, min_samples_split=5, n_estimators=300; total time= 1.7min\n",
      "[CV] END bootstrap=False, max_depth=None, min_samples_leaf=2, min_samples_split=5, n_estimators=300; total time= 1.7min\n",
      "[CV] END bootstrap=False, max_depth=None, min_samples_leaf=2, min_samples_split=5, n_estimators=300; total time= 1.7min\n",
      "[CV] END bootstrap=False, max_depth=None, min_samples_leaf=2, min_samples_split=5, n_estimators=300; total time= 1.6min\n",
      "[CV] END bootstrap=False, max_depth=None, min_samples_leaf=2, min_samples_split=5, n_estimators=300; total time= 1.7min\n",
      "[CV] END bootstrap=False, max_depth=None, min_samples_leaf=2, min_samples_split=10, n_estimators=100; total time=  32.9s\n",
      "[CV] END bootstrap=False, max_depth=None, min_samples_leaf=2, min_samples_split=10, n_estimators=100; total time=  33.7s\n",
      "[CV] END bootstrap=False, max_depth=None, min_samples_leaf=2, min_samples_split=10, n_estimators=100; total time=  32.8s\n",
      "[CV] END bootstrap=False, max_depth=None, min_samples_leaf=2, min_samples_split=10, n_estimators=100; total time=  32.6s\n",
      "[CV] END bootstrap=False, max_depth=None, min_samples_leaf=2, min_samples_split=10, n_estimators=100; total time=  33.3s\n",
      "[CV] END bootstrap=False, max_depth=None, min_samples_leaf=2, min_samples_split=10, n_estimators=200; total time= 1.1min\n",
      "[CV] END bootstrap=False, max_depth=None, min_samples_leaf=2, min_samples_split=10, n_estimators=200; total time= 1.1min\n",
      "[CV] END bootstrap=False, max_depth=None, min_samples_leaf=2, min_samples_split=10, n_estimators=200; total time= 1.1min\n",
      "[CV] END bootstrap=False, max_depth=None, min_samples_leaf=2, min_samples_split=10, n_estimators=200; total time= 1.1min\n",
      "[CV] END bootstrap=False, max_depth=None, min_samples_leaf=2, min_samples_split=10, n_estimators=200; total time= 1.1min\n",
      "[CV] END bootstrap=False, max_depth=None, min_samples_leaf=2, min_samples_split=10, n_estimators=300; total time= 1.6min\n",
      "[CV] END bootstrap=False, max_depth=None, min_samples_leaf=2, min_samples_split=10, n_estimators=300; total time= 1.7min\n",
      "[CV] END bootstrap=False, max_depth=None, min_samples_leaf=2, min_samples_split=10, n_estimators=300; total time= 1.6min\n",
      "[CV] END bootstrap=False, max_depth=None, min_samples_leaf=2, min_samples_split=10, n_estimators=300; total time= 1.6min\n",
      "[CV] END bootstrap=False, max_depth=None, min_samples_leaf=2, min_samples_split=10, n_estimators=300; total time= 1.7min\n",
      "[CV] END bootstrap=False, max_depth=None, min_samples_leaf=4, min_samples_split=2, n_estimators=100; total time=  30.6s\n",
      "[CV] END bootstrap=False, max_depth=None, min_samples_leaf=4, min_samples_split=2, n_estimators=100; total time=  31.1s\n",
      "[CV] END bootstrap=False, max_depth=None, min_samples_leaf=4, min_samples_split=2, n_estimators=100; total time=  30.2s\n",
      "[CV] END bootstrap=False, max_depth=None, min_samples_leaf=4, min_samples_split=2, n_estimators=100; total time=  30.6s\n",
      "[CV] END bootstrap=False, max_depth=None, min_samples_leaf=4, min_samples_split=2, n_estimators=100; total time=  31.0s\n",
      "[CV] END bootstrap=False, max_depth=None, min_samples_leaf=4, min_samples_split=2, n_estimators=200; total time= 1.0min\n",
      "[CV] END bootstrap=False, max_depth=None, min_samples_leaf=4, min_samples_split=2, n_estimators=200; total time= 1.0min\n",
      "[CV] END bootstrap=False, max_depth=None, min_samples_leaf=4, min_samples_split=2, n_estimators=200; total time= 1.0min\n",
      "[CV] END bootstrap=False, max_depth=None, min_samples_leaf=4, min_samples_split=2, n_estimators=200; total time= 1.0min\n",
      "[CV] END bootstrap=False, max_depth=None, min_samples_leaf=4, min_samples_split=2, n_estimators=200; total time= 1.0min\n",
      "[CV] END bootstrap=False, max_depth=None, min_samples_leaf=4, min_samples_split=2, n_estimators=300; total time= 1.5min\n",
      "[CV] END bootstrap=False, max_depth=None, min_samples_leaf=4, min_samples_split=2, n_estimators=300; total time= 1.6min\n",
      "[CV] END bootstrap=False, max_depth=None, min_samples_leaf=4, min_samples_split=2, n_estimators=300; total time= 1.5min\n",
      "[CV] END bootstrap=False, max_depth=None, min_samples_leaf=4, min_samples_split=2, n_estimators=300; total time= 1.5min\n",
      "[CV] END bootstrap=False, max_depth=None, min_samples_leaf=4, min_samples_split=2, n_estimators=300; total time= 1.5min\n",
      "[CV] END bootstrap=False, max_depth=None, min_samples_leaf=4, min_samples_split=5, n_estimators=100; total time=  30.6s\n",
      "[CV] END bootstrap=False, max_depth=None, min_samples_leaf=4, min_samples_split=5, n_estimators=100; total time=  31.2s\n",
      "[CV] END bootstrap=False, max_depth=None, min_samples_leaf=4, min_samples_split=5, n_estimators=100; total time=  30.1s\n",
      "[CV] END bootstrap=False, max_depth=None, min_samples_leaf=4, min_samples_split=5, n_estimators=100; total time=  30.5s\n",
      "[CV] END bootstrap=False, max_depth=None, min_samples_leaf=4, min_samples_split=5, n_estimators=100; total time=  30.9s\n",
      "[CV] END bootstrap=False, max_depth=None, min_samples_leaf=4, min_samples_split=5, n_estimators=200; total time= 1.0min\n",
      "[CV] END bootstrap=False, max_depth=None, min_samples_leaf=4, min_samples_split=5, n_estimators=200; total time= 1.0min\n",
      "[CV] END bootstrap=False, max_depth=None, min_samples_leaf=4, min_samples_split=5, n_estimators=200; total time= 1.0min\n",
      "[CV] END bootstrap=False, max_depth=None, min_samples_leaf=4, min_samples_split=5, n_estimators=200; total time= 1.0min\n",
      "[CV] END bootstrap=False, max_depth=None, min_samples_leaf=4, min_samples_split=5, n_estimators=200; total time= 1.0min\n",
      "[CV] END bootstrap=False, max_depth=None, min_samples_leaf=4, min_samples_split=5, n_estimators=300; total time= 1.5min\n",
      "[CV] END bootstrap=False, max_depth=None, min_samples_leaf=4, min_samples_split=5, n_estimators=300; total time= 1.6min\n",
      "[CV] END bootstrap=False, max_depth=None, min_samples_leaf=4, min_samples_split=5, n_estimators=300; total time= 1.5min\n",
      "[CV] END bootstrap=False, max_depth=None, min_samples_leaf=4, min_samples_split=5, n_estimators=300; total time= 1.5min\n",
      "[CV] END bootstrap=False, max_depth=None, min_samples_leaf=4, min_samples_split=5, n_estimators=300; total time= 1.5min\n",
      "[CV] END bootstrap=False, max_depth=None, min_samples_leaf=4, min_samples_split=10, n_estimators=100; total time=  30.9s\n",
      "[CV] END bootstrap=False, max_depth=None, min_samples_leaf=4, min_samples_split=10, n_estimators=100; total time=  31.2s\n",
      "[CV] END bootstrap=False, max_depth=None, min_samples_leaf=4, min_samples_split=10, n_estimators=100; total time=  29.7s\n",
      "[CV] END bootstrap=False, max_depth=None, min_samples_leaf=4, min_samples_split=10, n_estimators=100; total time=  30.1s\n",
      "[CV] END bootstrap=False, max_depth=None, min_samples_leaf=4, min_samples_split=10, n_estimators=100; total time=  31.0s\n",
      "[CV] END bootstrap=False, max_depth=None, min_samples_leaf=4, min_samples_split=10, n_estimators=200; total time= 1.0min\n",
      "[CV] END bootstrap=False, max_depth=None, min_samples_leaf=4, min_samples_split=10, n_estimators=200; total time= 1.0min\n",
      "[CV] END bootstrap=False, max_depth=None, min_samples_leaf=4, min_samples_split=10, n_estimators=200; total time=  59.6s\n",
      "[CV] END bootstrap=False, max_depth=None, min_samples_leaf=4, min_samples_split=10, n_estimators=200; total time= 1.0min\n",
      "[CV] END bootstrap=False, max_depth=None, min_samples_leaf=4, min_samples_split=10, n_estimators=200; total time= 1.0min\n",
      "[CV] END bootstrap=False, max_depth=None, min_samples_leaf=4, min_samples_split=10, n_estimators=300; total time= 1.5min\n",
      "[CV] END bootstrap=False, max_depth=None, min_samples_leaf=4, min_samples_split=10, n_estimators=300; total time= 1.5min\n",
      "[CV] END bootstrap=False, max_depth=None, min_samples_leaf=4, min_samples_split=10, n_estimators=300; total time= 1.5min\n",
      "[CV] END bootstrap=False, max_depth=None, min_samples_leaf=4, min_samples_split=10, n_estimators=300; total time= 1.5min\n",
      "[CV] END bootstrap=False, max_depth=None, min_samples_leaf=4, min_samples_split=10, n_estimators=300; total time= 1.5min\n",
      "[CV] END bootstrap=False, max_depth=10, min_samples_leaf=1, min_samples_split=2, n_estimators=100; total time=  18.1s\n",
      "[CV] END bootstrap=False, max_depth=10, min_samples_leaf=1, min_samples_split=2, n_estimators=100; total time=  18.0s\n",
      "[CV] END bootstrap=False, max_depth=10, min_samples_leaf=1, min_samples_split=2, n_estimators=100; total time=  18.0s\n",
      "[CV] END bootstrap=False, max_depth=10, min_samples_leaf=1, min_samples_split=2, n_estimators=100; total time=  18.0s\n",
      "[CV] END bootstrap=False, max_depth=10, min_samples_leaf=1, min_samples_split=2, n_estimators=100; total time=  18.0s\n",
      "[CV] END bootstrap=False, max_depth=10, min_samples_leaf=1, min_samples_split=2, n_estimators=200; total time=  36.1s\n",
      "[CV] END bootstrap=False, max_depth=10, min_samples_leaf=1, min_samples_split=2, n_estimators=200; total time=  36.2s\n",
      "[CV] END bootstrap=False, max_depth=10, min_samples_leaf=1, min_samples_split=2, n_estimators=200; total time=  36.1s\n",
      "[CV] END bootstrap=False, max_depth=10, min_samples_leaf=1, min_samples_split=2, n_estimators=200; total time=  36.2s\n",
      "[CV] END bootstrap=False, max_depth=10, min_samples_leaf=1, min_samples_split=2, n_estimators=200; total time=  36.1s\n",
      "[CV] END bootstrap=False, max_depth=10, min_samples_leaf=1, min_samples_split=2, n_estimators=300; total time=  54.1s\n",
      "[CV] END bootstrap=False, max_depth=10, min_samples_leaf=1, min_samples_split=2, n_estimators=300; total time=  54.3s\n",
      "[CV] END bootstrap=False, max_depth=10, min_samples_leaf=1, min_samples_split=2, n_estimators=300; total time=  54.2s\n",
      "[CV] END bootstrap=False, max_depth=10, min_samples_leaf=1, min_samples_split=2, n_estimators=300; total time=  54.1s\n",
      "[CV] END bootstrap=False, max_depth=10, min_samples_leaf=1, min_samples_split=2, n_estimators=300; total time=  54.1s\n",
      "[CV] END bootstrap=False, max_depth=10, min_samples_leaf=1, min_samples_split=5, n_estimators=100; total time=  18.0s\n",
      "[CV] END bootstrap=False, max_depth=10, min_samples_leaf=1, min_samples_split=5, n_estimators=100; total time=  18.0s\n",
      "[CV] END bootstrap=False, max_depth=10, min_samples_leaf=1, min_samples_split=5, n_estimators=100; total time=  18.0s\n",
      "[CV] END bootstrap=False, max_depth=10, min_samples_leaf=1, min_samples_split=5, n_estimators=100; total time=  18.0s\n",
      "[CV] END bootstrap=False, max_depth=10, min_samples_leaf=1, min_samples_split=5, n_estimators=100; total time=  18.0s\n",
      "[CV] END bootstrap=False, max_depth=10, min_samples_leaf=1, min_samples_split=5, n_estimators=200; total time=  36.0s\n",
      "[CV] END bootstrap=False, max_depth=10, min_samples_leaf=1, min_samples_split=5, n_estimators=200; total time=  36.2s\n",
      "[CV] END bootstrap=False, max_depth=10, min_samples_leaf=1, min_samples_split=5, n_estimators=200; total time=  36.2s\n",
      "[CV] END bootstrap=False, max_depth=10, min_samples_leaf=1, min_samples_split=5, n_estimators=200; total time=  36.0s\n",
      "[CV] END bootstrap=False, max_depth=10, min_samples_leaf=1, min_samples_split=5, n_estimators=200; total time=  36.1s\n",
      "[CV] END bootstrap=False, max_depth=10, min_samples_leaf=1, min_samples_split=5, n_estimators=300; total time=  54.0s\n",
      "[CV] END bootstrap=False, max_depth=10, min_samples_leaf=1, min_samples_split=5, n_estimators=300; total time=  54.2s\n",
      "[CV] END bootstrap=False, max_depth=10, min_samples_leaf=1, min_samples_split=5, n_estimators=300; total time=  54.0s\n",
      "[CV] END bootstrap=False, max_depth=10, min_samples_leaf=1, min_samples_split=5, n_estimators=300; total time=  54.1s\n",
      "[CV] END bootstrap=False, max_depth=10, min_samples_leaf=1, min_samples_split=5, n_estimators=300; total time=  54.1s\n",
      "[CV] END bootstrap=False, max_depth=10, min_samples_leaf=1, min_samples_split=10, n_estimators=100; total time=  17.9s\n",
      "[CV] END bootstrap=False, max_depth=10, min_samples_leaf=1, min_samples_split=10, n_estimators=100; total time=  18.0s\n",
      "[CV] END bootstrap=False, max_depth=10, min_samples_leaf=1, min_samples_split=10, n_estimators=100; total time=  17.9s\n",
      "[CV] END bootstrap=False, max_depth=10, min_samples_leaf=1, min_samples_split=10, n_estimators=100; total time=  17.9s\n",
      "[CV] END bootstrap=False, max_depth=10, min_samples_leaf=1, min_samples_split=10, n_estimators=100; total time=  17.9s\n",
      "[CV] END bootstrap=False, max_depth=10, min_samples_leaf=1, min_samples_split=10, n_estimators=200; total time=  35.8s\n",
      "[CV] END bootstrap=False, max_depth=10, min_samples_leaf=1, min_samples_split=10, n_estimators=200; total time=  36.0s\n",
      "[CV] END bootstrap=False, max_depth=10, min_samples_leaf=1, min_samples_split=10, n_estimators=200; total time=  35.9s\n",
      "[CV] END bootstrap=False, max_depth=10, min_samples_leaf=1, min_samples_split=10, n_estimators=200; total time=  35.9s\n",
      "[CV] END bootstrap=False, max_depth=10, min_samples_leaf=1, min_samples_split=10, n_estimators=200; total time=  35.9s\n",
      "[CV] END bootstrap=False, max_depth=10, min_samples_leaf=1, min_samples_split=10, n_estimators=300; total time=  53.7s\n",
      "[CV] END bootstrap=False, max_depth=10, min_samples_leaf=1, min_samples_split=10, n_estimators=300; total time=  54.0s\n",
      "[CV] END bootstrap=False, max_depth=10, min_samples_leaf=1, min_samples_split=10, n_estimators=300; total time=  53.8s\n",
      "[CV] END bootstrap=False, max_depth=10, min_samples_leaf=1, min_samples_split=10, n_estimators=300; total time=  53.9s\n",
      "[CV] END bootstrap=False, max_depth=10, min_samples_leaf=1, min_samples_split=10, n_estimators=300; total time=  53.9s\n",
      "[CV] END bootstrap=False, max_depth=10, min_samples_leaf=2, min_samples_split=2, n_estimators=100; total time=  17.9s\n",
      "[CV] END bootstrap=False, max_depth=10, min_samples_leaf=2, min_samples_split=2, n_estimators=100; total time=  17.9s\n",
      "[CV] END bootstrap=False, max_depth=10, min_samples_leaf=2, min_samples_split=2, n_estimators=100; total time=  17.9s\n",
      "[CV] END bootstrap=False, max_depth=10, min_samples_leaf=2, min_samples_split=2, n_estimators=100; total time=  17.9s\n",
      "[CV] END bootstrap=False, max_depth=10, min_samples_leaf=2, min_samples_split=2, n_estimators=100; total time=  17.9s\n",
      "[CV] END bootstrap=False, max_depth=10, min_samples_leaf=2, min_samples_split=2, n_estimators=200; total time=  36.0s\n",
      "[CV] END bootstrap=False, max_depth=10, min_samples_leaf=2, min_samples_split=2, n_estimators=200; total time=  35.9s\n",
      "[CV] END bootstrap=False, max_depth=10, min_samples_leaf=2, min_samples_split=2, n_estimators=200; total time=  36.0s\n",
      "[CV] END bootstrap=False, max_depth=10, min_samples_leaf=2, min_samples_split=2, n_estimators=200; total time=  35.9s\n",
      "[CV] END bootstrap=False, max_depth=10, min_samples_leaf=2, min_samples_split=2, n_estimators=200; total time=  36.0s\n",
      "[CV] END bootstrap=False, max_depth=10, min_samples_leaf=2, min_samples_split=2, n_estimators=300; total time=  53.8s\n",
      "[CV] END bootstrap=False, max_depth=10, min_samples_leaf=2, min_samples_split=2, n_estimators=300; total time=  54.7s\n",
      "[CV] END bootstrap=False, max_depth=10, min_samples_leaf=2, min_samples_split=2, n_estimators=300; total time=  53.8s\n",
      "[CV] END bootstrap=False, max_depth=10, min_samples_leaf=2, min_samples_split=2, n_estimators=300; total time=  54.0s\n",
      "[CV] END bootstrap=False, max_depth=10, min_samples_leaf=2, min_samples_split=2, n_estimators=300; total time=  54.0s\n",
      "[CV] END bootstrap=False, max_depth=10, min_samples_leaf=2, min_samples_split=5, n_estimators=100; total time=  17.9s\n",
      "[CV] END bootstrap=False, max_depth=10, min_samples_leaf=2, min_samples_split=5, n_estimators=100; total time=  18.0s\n",
      "[CV] END bootstrap=False, max_depth=10, min_samples_leaf=2, min_samples_split=5, n_estimators=100; total time=  17.9s\n",
      "[CV] END bootstrap=False, max_depth=10, min_samples_leaf=2, min_samples_split=5, n_estimators=100; total time=  17.9s\n",
      "[CV] END bootstrap=False, max_depth=10, min_samples_leaf=2, min_samples_split=5, n_estimators=100; total time=  17.9s\n",
      "[CV] END bootstrap=False, max_depth=10, min_samples_leaf=2, min_samples_split=5, n_estimators=200; total time=  35.8s\n",
      "[CV] END bootstrap=False, max_depth=10, min_samples_leaf=2, min_samples_split=5, n_estimators=200; total time=  36.0s\n",
      "[CV] END bootstrap=False, max_depth=10, min_samples_leaf=2, min_samples_split=5, n_estimators=200; total time=  35.9s\n",
      "[CV] END bootstrap=False, max_depth=10, min_samples_leaf=2, min_samples_split=5, n_estimators=200; total time=  36.1s\n",
      "[CV] END bootstrap=False, max_depth=10, min_samples_leaf=2, min_samples_split=5, n_estimators=200; total time=  35.9s\n",
      "[CV] END bootstrap=False, max_depth=10, min_samples_leaf=2, min_samples_split=5, n_estimators=300; total time=  53.8s\n",
      "[CV] END bootstrap=False, max_depth=10, min_samples_leaf=2, min_samples_split=5, n_estimators=300; total time=  54.0s\n",
      "[CV] END bootstrap=False, max_depth=10, min_samples_leaf=2, min_samples_split=5, n_estimators=300; total time=  53.8s\n",
      "[CV] END bootstrap=False, max_depth=10, min_samples_leaf=2, min_samples_split=5, n_estimators=300; total time=  53.9s\n",
      "[CV] END bootstrap=False, max_depth=10, min_samples_leaf=2, min_samples_split=5, n_estimators=300; total time=  53.9s\n",
      "[CV] END bootstrap=False, max_depth=10, min_samples_leaf=2, min_samples_split=10, n_estimators=100; total time=  17.8s\n",
      "[CV] END bootstrap=False, max_depth=10, min_samples_leaf=2, min_samples_split=10, n_estimators=100; total time=  17.9s\n",
      "[CV] END bootstrap=False, max_depth=10, min_samples_leaf=2, min_samples_split=10, n_estimators=100; total time=  17.8s\n",
      "[CV] END bootstrap=False, max_depth=10, min_samples_leaf=2, min_samples_split=10, n_estimators=100; total time=  17.8s\n",
      "[CV] END bootstrap=False, max_depth=10, min_samples_leaf=2, min_samples_split=10, n_estimators=100; total time=  17.8s\n",
      "[CV] END bootstrap=False, max_depth=10, min_samples_leaf=2, min_samples_split=10, n_estimators=200; total time=  35.7s\n",
      "[CV] END bootstrap=False, max_depth=10, min_samples_leaf=2, min_samples_split=10, n_estimators=200; total time=  35.9s\n",
      "[CV] END bootstrap=False, max_depth=10, min_samples_leaf=2, min_samples_split=10, n_estimators=200; total time=  35.6s\n",
      "[CV] END bootstrap=False, max_depth=10, min_samples_leaf=2, min_samples_split=10, n_estimators=200; total time=  35.8s\n",
      "[CV] END bootstrap=False, max_depth=10, min_samples_leaf=2, min_samples_split=10, n_estimators=200; total time=  35.8s\n",
      "[CV] END bootstrap=False, max_depth=10, min_samples_leaf=2, min_samples_split=10, n_estimators=300; total time=  53.6s\n",
      "[CV] END bootstrap=False, max_depth=10, min_samples_leaf=2, min_samples_split=10, n_estimators=300; total time=  53.7s\n",
      "[CV] END bootstrap=False, max_depth=10, min_samples_leaf=2, min_samples_split=10, n_estimators=300; total time=  53.7s\n",
      "[CV] END bootstrap=False, max_depth=10, min_samples_leaf=2, min_samples_split=10, n_estimators=300; total time=  53.5s\n",
      "[CV] END bootstrap=False, max_depth=10, min_samples_leaf=2, min_samples_split=10, n_estimators=300; total time=  53.7s\n",
      "[CV] END bootstrap=False, max_depth=10, min_samples_leaf=4, min_samples_split=2, n_estimators=100; total time=  17.7s\n",
      "[CV] END bootstrap=False, max_depth=10, min_samples_leaf=4, min_samples_split=2, n_estimators=100; total time=  17.8s\n",
      "[CV] END bootstrap=False, max_depth=10, min_samples_leaf=4, min_samples_split=2, n_estimators=100; total time=  17.8s\n",
      "[CV] END bootstrap=False, max_depth=10, min_samples_leaf=4, min_samples_split=2, n_estimators=100; total time=  17.8s\n",
      "[CV] END bootstrap=False, max_depth=10, min_samples_leaf=4, min_samples_split=2, n_estimators=100; total time=  17.7s\n",
      "[CV] END bootstrap=False, max_depth=10, min_samples_leaf=4, min_samples_split=2, n_estimators=200; total time=  35.4s\n",
      "[CV] END bootstrap=False, max_depth=10, min_samples_leaf=4, min_samples_split=2, n_estimators=200; total time=  35.5s\n",
      "[CV] END bootstrap=False, max_depth=10, min_samples_leaf=4, min_samples_split=2, n_estimators=200; total time=  35.5s\n",
      "[CV] END bootstrap=False, max_depth=10, min_samples_leaf=4, min_samples_split=2, n_estimators=200; total time=  35.6s\n",
      "[CV] END bootstrap=False, max_depth=10, min_samples_leaf=4, min_samples_split=2, n_estimators=200; total time=  35.5s\n",
      "[CV] END bootstrap=False, max_depth=10, min_samples_leaf=4, min_samples_split=2, n_estimators=300; total time=  53.3s\n",
      "[CV] END bootstrap=False, max_depth=10, min_samples_leaf=4, min_samples_split=2, n_estimators=300; total time=  53.5s\n",
      "[CV] END bootstrap=False, max_depth=10, min_samples_leaf=4, min_samples_split=2, n_estimators=300; total time=  53.3s\n",
      "[CV] END bootstrap=False, max_depth=10, min_samples_leaf=4, min_samples_split=2, n_estimators=300; total time=  53.3s\n",
      "[CV] END bootstrap=False, max_depth=10, min_samples_leaf=4, min_samples_split=2, n_estimators=300; total time=  53.3s\n",
      "[CV] END bootstrap=False, max_depth=10, min_samples_leaf=4, min_samples_split=5, n_estimators=100; total time=  17.6s\n",
      "[CV] END bootstrap=False, max_depth=10, min_samples_leaf=4, min_samples_split=5, n_estimators=100; total time=  17.8s\n",
      "[CV] END bootstrap=False, max_depth=10, min_samples_leaf=4, min_samples_split=5, n_estimators=100; total time=  17.7s\n",
      "[CV] END bootstrap=False, max_depth=10, min_samples_leaf=4, min_samples_split=5, n_estimators=100; total time=  17.8s\n",
      "[CV] END bootstrap=False, max_depth=10, min_samples_leaf=4, min_samples_split=5, n_estimators=100; total time=  17.7s\n",
      "[CV] END bootstrap=False, max_depth=10, min_samples_leaf=4, min_samples_split=5, n_estimators=200; total time=  35.5s\n",
      "[CV] END bootstrap=False, max_depth=10, min_samples_leaf=4, min_samples_split=5, n_estimators=200; total time=  35.6s\n",
      "[CV] END bootstrap=False, max_depth=10, min_samples_leaf=4, min_samples_split=5, n_estimators=200; total time=  35.4s\n",
      "[CV] END bootstrap=False, max_depth=10, min_samples_leaf=4, min_samples_split=5, n_estimators=200; total time=  35.6s\n",
      "[CV] END bootstrap=False, max_depth=10, min_samples_leaf=4, min_samples_split=5, n_estimators=200; total time=  35.5s\n",
      "[CV] END bootstrap=False, max_depth=10, min_samples_leaf=4, min_samples_split=5, n_estimators=300; total time=  53.2s\n",
      "[CV] END bootstrap=False, max_depth=10, min_samples_leaf=4, min_samples_split=5, n_estimators=300; total time=  53.3s\n",
      "[CV] END bootstrap=False, max_depth=10, min_samples_leaf=4, min_samples_split=5, n_estimators=300; total time=  53.3s\n",
      "[CV] END bootstrap=False, max_depth=10, min_samples_leaf=4, min_samples_split=5, n_estimators=300; total time=  53.3s\n",
      "[CV] END bootstrap=False, max_depth=10, min_samples_leaf=4, min_samples_split=5, n_estimators=300; total time=  53.3s\n",
      "[CV] END bootstrap=False, max_depth=10, min_samples_leaf=4, min_samples_split=10, n_estimators=100; total time=  17.7s\n",
      "[CV] END bootstrap=False, max_depth=10, min_samples_leaf=4, min_samples_split=10, n_estimators=100; total time=  17.7s\n",
      "[CV] END bootstrap=False, max_depth=10, min_samples_leaf=4, min_samples_split=10, n_estimators=100; total time=  17.7s\n",
      "[CV] END bootstrap=False, max_depth=10, min_samples_leaf=4, min_samples_split=10, n_estimators=100; total time=  17.7s\n",
      "[CV] END bootstrap=False, max_depth=10, min_samples_leaf=4, min_samples_split=10, n_estimators=100; total time=  17.8s\n",
      "[CV] END bootstrap=False, max_depth=10, min_samples_leaf=4, min_samples_split=10, n_estimators=200; total time=  35.4s\n",
      "[CV] END bootstrap=False, max_depth=10, min_samples_leaf=4, min_samples_split=10, n_estimators=200; total time=  35.5s\n",
      "[CV] END bootstrap=False, max_depth=10, min_samples_leaf=4, min_samples_split=10, n_estimators=200; total time=  35.5s\n",
      "[CV] END bootstrap=False, max_depth=10, min_samples_leaf=4, min_samples_split=10, n_estimators=200; total time=  35.5s\n",
      "[CV] END bootstrap=False, max_depth=10, min_samples_leaf=4, min_samples_split=10, n_estimators=200; total time=  35.4s\n",
      "[CV] END bootstrap=False, max_depth=10, min_samples_leaf=4, min_samples_split=10, n_estimators=300; total time=  53.1s\n",
      "[CV] END bootstrap=False, max_depth=10, min_samples_leaf=4, min_samples_split=10, n_estimators=300; total time=  53.4s\n",
      "[CV] END bootstrap=False, max_depth=10, min_samples_leaf=4, min_samples_split=10, n_estimators=300; total time=  53.2s\n",
      "[CV] END bootstrap=False, max_depth=10, min_samples_leaf=4, min_samples_split=10, n_estimators=300; total time=  53.2s\n",
      "[CV] END bootstrap=False, max_depth=10, min_samples_leaf=4, min_samples_split=10, n_estimators=300; total time=  53.3s\n",
      "[CV] END bootstrap=False, max_depth=20, min_samples_leaf=1, min_samples_split=2, n_estimators=100; total time=  29.6s\n",
      "[CV] END bootstrap=False, max_depth=20, min_samples_leaf=1, min_samples_split=2, n_estimators=100; total time=  29.6s\n",
      "[CV] END bootstrap=False, max_depth=20, min_samples_leaf=1, min_samples_split=2, n_estimators=100; total time=  29.6s\n",
      "[CV] END bootstrap=False, max_depth=20, min_samples_leaf=1, min_samples_split=2, n_estimators=100; total time=  29.8s\n",
      "[CV] END bootstrap=False, max_depth=20, min_samples_leaf=1, min_samples_split=2, n_estimators=100; total time=  29.7s\n",
      "[CV] END bootstrap=False, max_depth=20, min_samples_leaf=1, min_samples_split=2, n_estimators=200; total time=  59.3s\n",
      "[CV] END bootstrap=False, max_depth=20, min_samples_leaf=1, min_samples_split=2, n_estimators=200; total time=  59.3s\n",
      "[CV] END bootstrap=False, max_depth=20, min_samples_leaf=1, min_samples_split=2, n_estimators=200; total time=  59.5s\n",
      "[CV] END bootstrap=False, max_depth=20, min_samples_leaf=1, min_samples_split=2, n_estimators=200; total time=  59.4s\n",
      "[CV] END bootstrap=False, max_depth=20, min_samples_leaf=1, min_samples_split=2, n_estimators=200; total time=  59.3s\n",
      "[CV] END bootstrap=False, max_depth=20, min_samples_leaf=1, min_samples_split=2, n_estimators=300; total time= 1.5min\n",
      "[CV] END bootstrap=False, max_depth=20, min_samples_leaf=1, min_samples_split=2, n_estimators=300; total time= 1.5min\n",
      "[CV] END bootstrap=False, max_depth=20, min_samples_leaf=1, min_samples_split=2, n_estimators=300; total time= 1.5min\n",
      "[CV] END bootstrap=False, max_depth=20, min_samples_leaf=1, min_samples_split=2, n_estimators=300; total time= 1.5min\n",
      "[CV] END bootstrap=False, max_depth=20, min_samples_leaf=1, min_samples_split=2, n_estimators=300; total time= 1.5min\n",
      "[CV] END bootstrap=False, max_depth=20, min_samples_leaf=1, min_samples_split=5, n_estimators=100; total time=  29.3s\n",
      "[CV] END bootstrap=False, max_depth=20, min_samples_leaf=1, min_samples_split=5, n_estimators=100; total time=  29.3s\n",
      "[CV] END bootstrap=False, max_depth=20, min_samples_leaf=1, min_samples_split=5, n_estimators=100; total time=  29.4s\n",
      "[CV] END bootstrap=False, max_depth=20, min_samples_leaf=1, min_samples_split=5, n_estimators=100; total time=  29.3s\n",
      "[CV] END bootstrap=False, max_depth=20, min_samples_leaf=1, min_samples_split=5, n_estimators=100; total time=  29.3s\n",
      "[CV] END bootstrap=False, max_depth=20, min_samples_leaf=1, min_samples_split=5, n_estimators=200; total time=  58.9s\n",
      "[CV] END bootstrap=False, max_depth=20, min_samples_leaf=1, min_samples_split=5, n_estimators=200; total time=  59.1s\n",
      "[CV] END bootstrap=False, max_depth=20, min_samples_leaf=1, min_samples_split=5, n_estimators=200; total time=  58.6s\n",
      "[CV] END bootstrap=False, max_depth=20, min_samples_leaf=1, min_samples_split=5, n_estimators=200; total time=  58.7s\n",
      "[CV] END bootstrap=False, max_depth=20, min_samples_leaf=1, min_samples_split=5, n_estimators=200; total time=  58.6s\n",
      "[CV] END bootstrap=False, max_depth=20, min_samples_leaf=1, min_samples_split=5, n_estimators=300; total time= 1.5min\n",
      "[CV] END bootstrap=False, max_depth=20, min_samples_leaf=1, min_samples_split=5, n_estimators=300; total time= 1.5min\n",
      "[CV] END bootstrap=False, max_depth=20, min_samples_leaf=1, min_samples_split=5, n_estimators=300; total time= 1.5min\n",
      "[CV] END bootstrap=False, max_depth=20, min_samples_leaf=1, min_samples_split=5, n_estimators=300; total time= 1.5min\n",
      "[CV] END bootstrap=False, max_depth=20, min_samples_leaf=1, min_samples_split=5, n_estimators=300; total time= 1.5min\n",
      "[CV] END bootstrap=False, max_depth=20, min_samples_leaf=1, min_samples_split=10, n_estimators=100; total time=  28.9s\n",
      "[CV] END bootstrap=False, max_depth=20, min_samples_leaf=1, min_samples_split=10, n_estimators=100; total time=  28.8s\n",
      "[CV] END bootstrap=False, max_depth=20, min_samples_leaf=1, min_samples_split=10, n_estimators=100; total time=  28.8s\n",
      "[CV] END bootstrap=False, max_depth=20, min_samples_leaf=1, min_samples_split=10, n_estimators=100; total time=  28.7s\n",
      "[CV] END bootstrap=False, max_depth=20, min_samples_leaf=1, min_samples_split=10, n_estimators=100; total time=  28.8s\n",
      "[CV] END bootstrap=False, max_depth=20, min_samples_leaf=1, min_samples_split=10, n_estimators=200; total time=  57.6s\n",
      "[CV] END bootstrap=False, max_depth=20, min_samples_leaf=1, min_samples_split=10, n_estimators=200; total time=  57.6s\n",
      "[CV] END bootstrap=False, max_depth=20, min_samples_leaf=1, min_samples_split=10, n_estimators=200; total time=  57.5s\n",
      "[CV] END bootstrap=False, max_depth=20, min_samples_leaf=1, min_samples_split=10, n_estimators=200; total time=  57.4s\n",
      "[CV] END bootstrap=False, max_depth=20, min_samples_leaf=1, min_samples_split=10, n_estimators=200; total time=  57.8s\n",
      "[CV] END bootstrap=False, max_depth=20, min_samples_leaf=1, min_samples_split=10, n_estimators=300; total time= 1.4min\n",
      "[CV] END bootstrap=False, max_depth=20, min_samples_leaf=1, min_samples_split=10, n_estimators=300; total time= 1.4min\n",
      "[CV] END bootstrap=False, max_depth=20, min_samples_leaf=1, min_samples_split=10, n_estimators=300; total time= 1.4min\n",
      "[CV] END bootstrap=False, max_depth=20, min_samples_leaf=1, min_samples_split=10, n_estimators=300; total time= 1.4min\n",
      "[CV] END bootstrap=False, max_depth=20, min_samples_leaf=1, min_samples_split=10, n_estimators=300; total time= 1.4min\n",
      "[CV] END bootstrap=False, max_depth=20, min_samples_leaf=2, min_samples_split=2, n_estimators=100; total time=  28.9s\n",
      "[CV] END bootstrap=False, max_depth=20, min_samples_leaf=2, min_samples_split=2, n_estimators=100; total time=  28.9s\n",
      "[CV] END bootstrap=False, max_depth=20, min_samples_leaf=2, min_samples_split=2, n_estimators=100; total time=  28.8s\n",
      "[CV] END bootstrap=False, max_depth=20, min_samples_leaf=2, min_samples_split=2, n_estimators=100; total time=  28.8s\n",
      "[CV] END bootstrap=False, max_depth=20, min_samples_leaf=2, min_samples_split=2, n_estimators=100; total time=  28.9s\n",
      "[CV] END bootstrap=False, max_depth=20, min_samples_leaf=2, min_samples_split=2, n_estimators=200; total time=  57.6s\n",
      "[CV] END bootstrap=False, max_depth=20, min_samples_leaf=2, min_samples_split=2, n_estimators=200; total time=  57.8s\n",
      "[CV] END bootstrap=False, max_depth=20, min_samples_leaf=2, min_samples_split=2, n_estimators=200; total time=  57.5s\n",
      "[CV] END bootstrap=False, max_depth=20, min_samples_leaf=2, min_samples_split=2, n_estimators=200; total time=  57.5s\n",
      "[CV] END bootstrap=False, max_depth=20, min_samples_leaf=2, min_samples_split=2, n_estimators=200; total time=  57.7s\n",
      "[CV] END bootstrap=False, max_depth=20, min_samples_leaf=2, min_samples_split=2, n_estimators=300; total time= 1.4min\n",
      "[CV] END bootstrap=False, max_depth=20, min_samples_leaf=2, min_samples_split=2, n_estimators=300; total time= 1.4min\n",
      "[CV] END bootstrap=False, max_depth=20, min_samples_leaf=2, min_samples_split=2, n_estimators=300; total time= 1.4min\n",
      "[CV] END bootstrap=False, max_depth=20, min_samples_leaf=2, min_samples_split=2, n_estimators=300; total time= 1.4min\n",
      "[CV] END bootstrap=False, max_depth=20, min_samples_leaf=2, min_samples_split=2, n_estimators=300; total time= 1.5min\n",
      "[CV] END bootstrap=False, max_depth=20, min_samples_leaf=2, min_samples_split=5, n_estimators=100; total time=  28.7s\n",
      "[CV] END bootstrap=False, max_depth=20, min_samples_leaf=2, min_samples_split=5, n_estimators=100; total time=  28.8s\n",
      "[CV] END bootstrap=False, max_depth=20, min_samples_leaf=2, min_samples_split=5, n_estimators=100; total time=  28.7s\n",
      "[CV] END bootstrap=False, max_depth=20, min_samples_leaf=2, min_samples_split=5, n_estimators=100; total time=  28.8s\n",
      "[CV] END bootstrap=False, max_depth=20, min_samples_leaf=2, min_samples_split=5, n_estimators=100; total time=  28.7s\n",
      "[CV] END bootstrap=False, max_depth=20, min_samples_leaf=2, min_samples_split=5, n_estimators=200; total time=  57.4s\n",
      "[CV] END bootstrap=False, max_depth=20, min_samples_leaf=2, min_samples_split=5, n_estimators=200; total time=  57.5s\n",
      "[CV] END bootstrap=False, max_depth=20, min_samples_leaf=2, min_samples_split=5, n_estimators=200; total time=  57.4s\n",
      "[CV] END bootstrap=False, max_depth=20, min_samples_leaf=2, min_samples_split=5, n_estimators=200; total time=  57.5s\n",
      "[CV] END bootstrap=False, max_depth=20, min_samples_leaf=2, min_samples_split=5, n_estimators=200; total time=  57.6s\n",
      "[CV] END bootstrap=False, max_depth=20, min_samples_leaf=2, min_samples_split=5, n_estimators=300; total time= 1.4min\n",
      "[CV] END bootstrap=False, max_depth=20, min_samples_leaf=2, min_samples_split=5, n_estimators=300; total time= 1.4min\n",
      "[CV] END bootstrap=False, max_depth=20, min_samples_leaf=2, min_samples_split=5, n_estimators=300; total time= 1.4min\n",
      "[CV] END bootstrap=False, max_depth=20, min_samples_leaf=2, min_samples_split=5, n_estimators=300; total time= 1.4min\n",
      "[CV] END bootstrap=False, max_depth=20, min_samples_leaf=2, min_samples_split=5, n_estimators=300; total time= 1.4min\n",
      "[CV] END bootstrap=False, max_depth=20, min_samples_leaf=2, min_samples_split=10, n_estimators=100; total time=  28.2s\n",
      "[CV] END bootstrap=False, max_depth=20, min_samples_leaf=2, min_samples_split=10, n_estimators=100; total time=  28.4s\n",
      "[CV] END bootstrap=False, max_depth=20, min_samples_leaf=2, min_samples_split=10, n_estimators=100; total time=  28.1s\n",
      "[CV] END bootstrap=False, max_depth=20, min_samples_leaf=2, min_samples_split=10, n_estimators=100; total time=  28.2s\n",
      "[CV] END bootstrap=False, max_depth=20, min_samples_leaf=2, min_samples_split=10, n_estimators=100; total time=  28.4s\n",
      "[CV] END bootstrap=False, max_depth=20, min_samples_leaf=2, min_samples_split=10, n_estimators=200; total time=  56.5s\n",
      "[CV] END bootstrap=False, max_depth=20, min_samples_leaf=2, min_samples_split=10, n_estimators=200; total time=  56.8s\n",
      "[CV] END bootstrap=False, max_depth=20, min_samples_leaf=2, min_samples_split=10, n_estimators=200; total time=  56.5s\n",
      "[CV] END bootstrap=False, max_depth=20, min_samples_leaf=2, min_samples_split=10, n_estimators=200; total time=  56.4s\n",
      "[CV] END bootstrap=False, max_depth=20, min_samples_leaf=2, min_samples_split=10, n_estimators=200; total time=  56.7s\n",
      "[CV] END bootstrap=False, max_depth=20, min_samples_leaf=2, min_samples_split=10, n_estimators=300; total time= 1.4min\n",
      "[CV] END bootstrap=False, max_depth=20, min_samples_leaf=2, min_samples_split=10, n_estimators=300; total time= 1.4min\n",
      "[CV] END bootstrap=False, max_depth=20, min_samples_leaf=2, min_samples_split=10, n_estimators=300; total time= 1.4min\n",
      "[CV] END bootstrap=False, max_depth=20, min_samples_leaf=2, min_samples_split=10, n_estimators=300; total time= 1.4min\n",
      "[CV] END bootstrap=False, max_depth=20, min_samples_leaf=2, min_samples_split=10, n_estimators=300; total time= 1.4min\n",
      "[CV] END bootstrap=False, max_depth=20, min_samples_leaf=4, min_samples_split=2, n_estimators=100; total time=  27.5s\n",
      "[CV] END bootstrap=False, max_depth=20, min_samples_leaf=4, min_samples_split=2, n_estimators=100; total time=  27.5s\n",
      "[CV] END bootstrap=False, max_depth=20, min_samples_leaf=4, min_samples_split=2, n_estimators=100; total time=  27.3s\n",
      "[CV] END bootstrap=False, max_depth=20, min_samples_leaf=4, min_samples_split=2, n_estimators=100; total time=  27.4s\n",
      "[CV] END bootstrap=False, max_depth=20, min_samples_leaf=4, min_samples_split=2, n_estimators=100; total time=  27.4s\n",
      "[CV] END bootstrap=False, max_depth=20, min_samples_leaf=4, min_samples_split=2, n_estimators=200; total time=  54.7s\n",
      "[CV] END bootstrap=False, max_depth=20, min_samples_leaf=4, min_samples_split=2, n_estimators=200; total time=  55.0s\n",
      "[CV] END bootstrap=False, max_depth=20, min_samples_leaf=4, min_samples_split=2, n_estimators=200; total time=  54.6s\n",
      "[CV] END bootstrap=False, max_depth=20, min_samples_leaf=4, min_samples_split=2, n_estimators=200; total time=  54.7s\n",
      "[CV] END bootstrap=False, max_depth=20, min_samples_leaf=4, min_samples_split=2, n_estimators=200; total time=  54.8s\n",
      "[CV] END bootstrap=False, max_depth=20, min_samples_leaf=4, min_samples_split=2, n_estimators=300; total time= 1.4min\n",
      "[CV] END bootstrap=False, max_depth=20, min_samples_leaf=4, min_samples_split=2, n_estimators=300; total time= 1.4min\n",
      "[CV] END bootstrap=False, max_depth=20, min_samples_leaf=4, min_samples_split=2, n_estimators=300; total time= 1.4min\n",
      "[CV] END bootstrap=False, max_depth=20, min_samples_leaf=4, min_samples_split=2, n_estimators=300; total time= 1.4min\n",
      "[CV] END bootstrap=False, max_depth=20, min_samples_leaf=4, min_samples_split=2, n_estimators=300; total time= 1.4min\n",
      "[CV] END bootstrap=False, max_depth=20, min_samples_leaf=4, min_samples_split=5, n_estimators=100; total time=  27.3s\n",
      "[CV] END bootstrap=False, max_depth=20, min_samples_leaf=4, min_samples_split=5, n_estimators=100; total time=  27.5s\n",
      "[CV] END bootstrap=False, max_depth=20, min_samples_leaf=4, min_samples_split=5, n_estimators=100; total time=  27.3s\n",
      "[CV] END bootstrap=False, max_depth=20, min_samples_leaf=4, min_samples_split=5, n_estimators=100; total time=  27.4s\n",
      "[CV] END bootstrap=False, max_depth=20, min_samples_leaf=4, min_samples_split=5, n_estimators=100; total time=  27.5s\n",
      "[CV] END bootstrap=False, max_depth=20, min_samples_leaf=4, min_samples_split=5, n_estimators=200; total time=  54.8s\n",
      "[CV] END bootstrap=False, max_depth=20, min_samples_leaf=4, min_samples_split=5, n_estimators=200; total time=  54.9s\n",
      "[CV] END bootstrap=False, max_depth=20, min_samples_leaf=4, min_samples_split=5, n_estimators=200; total time=  54.4s\n",
      "[CV] END bootstrap=False, max_depth=20, min_samples_leaf=4, min_samples_split=5, n_estimators=200; total time=  54.6s\n",
      "[CV] END bootstrap=False, max_depth=20, min_samples_leaf=4, min_samples_split=5, n_estimators=200; total time=  54.8s\n",
      "[CV] END bootstrap=False, max_depth=20, min_samples_leaf=4, min_samples_split=5, n_estimators=300; total time= 1.4min\n",
      "[CV] END bootstrap=False, max_depth=20, min_samples_leaf=4, min_samples_split=5, n_estimators=300; total time= 1.4min\n",
      "[CV] END bootstrap=False, max_depth=20, min_samples_leaf=4, min_samples_split=5, n_estimators=300; total time= 1.4min\n",
      "[CV] END bootstrap=False, max_depth=20, min_samples_leaf=4, min_samples_split=5, n_estimators=300; total time= 1.4min\n",
      "[CV] END bootstrap=False, max_depth=20, min_samples_leaf=4, min_samples_split=5, n_estimators=300; total time= 1.4min\n",
      "[CV] END bootstrap=False, max_depth=20, min_samples_leaf=4, min_samples_split=10, n_estimators=100; total time=  27.4s\n",
      "[CV] END bootstrap=False, max_depth=20, min_samples_leaf=4, min_samples_split=10, n_estimators=100; total time=  27.3s\n",
      "[CV] END bootstrap=False, max_depth=20, min_samples_leaf=4, min_samples_split=10, n_estimators=100; total time=  27.2s\n",
      "[CV] END bootstrap=False, max_depth=20, min_samples_leaf=4, min_samples_split=10, n_estimators=100; total time=  27.3s\n",
      "[CV] END bootstrap=False, max_depth=20, min_samples_leaf=4, min_samples_split=10, n_estimators=100; total time=  27.4s\n",
      "[CV] END bootstrap=False, max_depth=20, min_samples_leaf=4, min_samples_split=10, n_estimators=200; total time=  54.5s\n",
      "[CV] END bootstrap=False, max_depth=20, min_samples_leaf=4, min_samples_split=10, n_estimators=200; total time=  54.7s\n",
      "[CV] END bootstrap=False, max_depth=20, min_samples_leaf=4, min_samples_split=10, n_estimators=200; total time=  54.5s\n",
      "[CV] END bootstrap=False, max_depth=20, min_samples_leaf=4, min_samples_split=10, n_estimators=200; total time=  54.4s\n",
      "[CV] END bootstrap=False, max_depth=20, min_samples_leaf=4, min_samples_split=10, n_estimators=200; total time=  54.6s\n",
      "[CV] END bootstrap=False, max_depth=20, min_samples_leaf=4, min_samples_split=10, n_estimators=300; total time= 1.4min\n",
      "[CV] END bootstrap=False, max_depth=20, min_samples_leaf=4, min_samples_split=10, n_estimators=300; total time= 1.4min\n",
      "[CV] END bootstrap=False, max_depth=20, min_samples_leaf=4, min_samples_split=10, n_estimators=300; total time= 1.4min\n",
      "[CV] END bootstrap=False, max_depth=20, min_samples_leaf=4, min_samples_split=10, n_estimators=300; total time= 1.4min\n",
      "[CV] END bootstrap=False, max_depth=20, min_samples_leaf=4, min_samples_split=10, n_estimators=300; total time= 1.4min\n",
      "[CV] END bootstrap=False, max_depth=30, min_samples_leaf=1, min_samples_split=2, n_estimators=100; total time=  34.1s\n",
      "[CV] END bootstrap=False, max_depth=30, min_samples_leaf=1, min_samples_split=2, n_estimators=100; total time=  34.1s\n",
      "[CV] END bootstrap=False, max_depth=30, min_samples_leaf=1, min_samples_split=2, n_estimators=100; total time=  33.8s\n",
      "[CV] END bootstrap=False, max_depth=30, min_samples_leaf=1, min_samples_split=2, n_estimators=100; total time=  33.9s\n",
      "[CV] END bootstrap=False, max_depth=30, min_samples_leaf=1, min_samples_split=2, n_estimators=100; total time=  34.1s\n",
      "[CV] END bootstrap=False, max_depth=30, min_samples_leaf=1, min_samples_split=2, n_estimators=200; total time= 1.1min\n",
      "[CV] END bootstrap=False, max_depth=30, min_samples_leaf=1, min_samples_split=2, n_estimators=200; total time= 1.1min\n",
      "[CV] END bootstrap=False, max_depth=30, min_samples_leaf=1, min_samples_split=2, n_estimators=200; total time= 1.1min\n",
      "[CV] END bootstrap=False, max_depth=30, min_samples_leaf=1, min_samples_split=2, n_estimators=200; total time= 1.1min\n",
      "[CV] END bootstrap=False, max_depth=30, min_samples_leaf=1, min_samples_split=2, n_estimators=200; total time= 1.1min\n",
      "[CV] END bootstrap=False, max_depth=30, min_samples_leaf=1, min_samples_split=2, n_estimators=300; total time= 1.7min\n",
      "[CV] END bootstrap=False, max_depth=30, min_samples_leaf=1, min_samples_split=2, n_estimators=300; total time= 1.7min\n",
      "[CV] END bootstrap=False, max_depth=30, min_samples_leaf=1, min_samples_split=2, n_estimators=300; total time= 1.7min\n",
      "[CV] END bootstrap=False, max_depth=30, min_samples_leaf=1, min_samples_split=2, n_estimators=300; total time= 1.7min\n",
      "[CV] END bootstrap=False, max_depth=30, min_samples_leaf=1, min_samples_split=2, n_estimators=300; total time= 1.7min\n",
      "[CV] END bootstrap=False, max_depth=30, min_samples_leaf=1, min_samples_split=5, n_estimators=100; total time=  33.7s\n",
      "[CV] END bootstrap=False, max_depth=30, min_samples_leaf=1, min_samples_split=5, n_estimators=100; total time=  33.7s\n",
      "[CV] END bootstrap=False, max_depth=30, min_samples_leaf=1, min_samples_split=5, n_estimators=100; total time=  33.2s\n",
      "[CV] END bootstrap=False, max_depth=30, min_samples_leaf=1, min_samples_split=5, n_estimators=100; total time=  33.1s\n",
      "[CV] END bootstrap=False, max_depth=30, min_samples_leaf=1, min_samples_split=5, n_estimators=100; total time=  33.5s\n",
      "[CV] END bootstrap=False, max_depth=30, min_samples_leaf=1, min_samples_split=5, n_estimators=200; total time= 1.1min\n",
      "[CV] END bootstrap=False, max_depth=30, min_samples_leaf=1, min_samples_split=5, n_estimators=200; total time= 1.1min\n",
      "[CV] END bootstrap=False, max_depth=30, min_samples_leaf=1, min_samples_split=5, n_estimators=200; total time= 1.1min\n",
      "[CV] END bootstrap=False, max_depth=30, min_samples_leaf=1, min_samples_split=5, n_estimators=200; total time= 1.1min\n",
      "[CV] END bootstrap=False, max_depth=30, min_samples_leaf=1, min_samples_split=5, n_estimators=200; total time= 1.1min\n",
      "[CV] END bootstrap=False, max_depth=30, min_samples_leaf=1, min_samples_split=5, n_estimators=300; total time= 1.7min\n",
      "[CV] END bootstrap=False, max_depth=30, min_samples_leaf=1, min_samples_split=5, n_estimators=300; total time= 1.7min\n",
      "[CV] END bootstrap=False, max_depth=30, min_samples_leaf=1, min_samples_split=5, n_estimators=300; total time= 1.7min\n",
      "[CV] END bootstrap=False, max_depth=30, min_samples_leaf=1, min_samples_split=5, n_estimators=300; total time= 1.7min\n",
      "[CV] END bootstrap=False, max_depth=30, min_samples_leaf=1, min_samples_split=5, n_estimators=300; total time= 1.7min\n",
      "[CV] END bootstrap=False, max_depth=30, min_samples_leaf=1, min_samples_split=10, n_estimators=100; total time=  32.4s\n",
      "[CV] END bootstrap=False, max_depth=30, min_samples_leaf=1, min_samples_split=10, n_estimators=100; total time=  32.5s\n",
      "[CV] END bootstrap=False, max_depth=30, min_samples_leaf=1, min_samples_split=10, n_estimators=100; total time=  32.3s\n",
      "[CV] END bootstrap=False, max_depth=30, min_samples_leaf=1, min_samples_split=10, n_estimators=100; total time=  32.6s\n",
      "[CV] END bootstrap=False, max_depth=30, min_samples_leaf=1, min_samples_split=10, n_estimators=100; total time=  32.7s\n",
      "[CV] END bootstrap=False, max_depth=30, min_samples_leaf=1, min_samples_split=10, n_estimators=200; total time= 1.1min\n",
      "[CV] END bootstrap=False, max_depth=30, min_samples_leaf=1, min_samples_split=10, n_estimators=200; total time= 1.1min\n",
      "[CV] END bootstrap=False, max_depth=30, min_samples_leaf=1, min_samples_split=10, n_estimators=200; total time= 1.1min\n",
      "[CV] END bootstrap=False, max_depth=30, min_samples_leaf=1, min_samples_split=10, n_estimators=200; total time= 1.1min\n",
      "[CV] END bootstrap=False, max_depth=30, min_samples_leaf=1, min_samples_split=10, n_estimators=200; total time= 1.1min\n",
      "[CV] END bootstrap=False, max_depth=30, min_samples_leaf=1, min_samples_split=10, n_estimators=300; total time= 1.6min\n",
      "[CV] END bootstrap=False, max_depth=30, min_samples_leaf=1, min_samples_split=10, n_estimators=300; total time= 1.6min\n",
      "[CV] END bootstrap=False, max_depth=30, min_samples_leaf=1, min_samples_split=10, n_estimators=300; total time= 1.6min\n",
      "[CV] END bootstrap=False, max_depth=30, min_samples_leaf=1, min_samples_split=10, n_estimators=300; total time= 1.6min\n",
      "[CV] END bootstrap=False, max_depth=30, min_samples_leaf=1, min_samples_split=10, n_estimators=300; total time= 1.6min\n",
      "[CV] END bootstrap=False, max_depth=30, min_samples_leaf=2, min_samples_split=2, n_estimators=100; total time=  32.6s\n",
      "[CV] END bootstrap=False, max_depth=30, min_samples_leaf=2, min_samples_split=2, n_estimators=100; total time=  32.8s\n",
      "[CV] END bootstrap=False, max_depth=30, min_samples_leaf=2, min_samples_split=2, n_estimators=100; total time=  32.1s\n",
      "[CV] END bootstrap=False, max_depth=30, min_samples_leaf=2, min_samples_split=2, n_estimators=100; total time=  32.1s\n",
      "[CV] END bootstrap=False, max_depth=30, min_samples_leaf=2, min_samples_split=2, n_estimators=100; total time=  32.6s\n",
      "[CV] END bootstrap=False, max_depth=30, min_samples_leaf=2, min_samples_split=2, n_estimators=200; total time= 1.1min\n",
      "[CV] END bootstrap=False, max_depth=30, min_samples_leaf=2, min_samples_split=2, n_estimators=200; total time= 1.1min\n",
      "[CV] END bootstrap=False, max_depth=30, min_samples_leaf=2, min_samples_split=2, n_estimators=200; total time= 1.1min\n",
      "[CV] END bootstrap=False, max_depth=30, min_samples_leaf=2, min_samples_split=2, n_estimators=200; total time= 1.1min\n",
      "[CV] END bootstrap=False, max_depth=30, min_samples_leaf=2, min_samples_split=2, n_estimators=200; total time= 1.1min\n",
      "[CV] END bootstrap=False, max_depth=30, min_samples_leaf=2, min_samples_split=2, n_estimators=300; total time= 1.6min\n",
      "[CV] END bootstrap=False, max_depth=30, min_samples_leaf=2, min_samples_split=2, n_estimators=300; total time= 1.6min\n",
      "[CV] END bootstrap=False, max_depth=30, min_samples_leaf=2, min_samples_split=2, n_estimators=300; total time= 1.6min\n",
      "[CV] END bootstrap=False, max_depth=30, min_samples_leaf=2, min_samples_split=2, n_estimators=300; total time= 1.6min\n",
      "[CV] END bootstrap=False, max_depth=30, min_samples_leaf=2, min_samples_split=2, n_estimators=300; total time= 1.6min\n",
      "[CV] END bootstrap=False, max_depth=30, min_samples_leaf=2, min_samples_split=5, n_estimators=100; total time=  32.5s\n",
      "[CV] END bootstrap=False, max_depth=30, min_samples_leaf=2, min_samples_split=5, n_estimators=100; total time=  32.6s\n",
      "[CV] END bootstrap=False, max_depth=30, min_samples_leaf=2, min_samples_split=5, n_estimators=100; total time=  31.9s\n",
      "[CV] END bootstrap=False, max_depth=30, min_samples_leaf=2, min_samples_split=5, n_estimators=100; total time=  32.2s\n",
      "[CV] END bootstrap=False, max_depth=30, min_samples_leaf=2, min_samples_split=5, n_estimators=100; total time=  32.4s\n",
      "[CV] END bootstrap=False, max_depth=30, min_samples_leaf=2, min_samples_split=5, n_estimators=200; total time= 1.1min\n",
      "[CV] END bootstrap=False, max_depth=30, min_samples_leaf=2, min_samples_split=5, n_estimators=200; total time= 1.1min\n",
      "[CV] END bootstrap=False, max_depth=30, min_samples_leaf=2, min_samples_split=5, n_estimators=200; total time= 1.1min\n",
      "[CV] END bootstrap=False, max_depth=30, min_samples_leaf=2, min_samples_split=5, n_estimators=200; total time= 1.1min\n",
      "[CV] END bootstrap=False, max_depth=30, min_samples_leaf=2, min_samples_split=5, n_estimators=200; total time= 1.1min\n",
      "[CV] END bootstrap=False, max_depth=30, min_samples_leaf=2, min_samples_split=5, n_estimators=300; total time= 1.6min\n",
      "[CV] END bootstrap=False, max_depth=30, min_samples_leaf=2, min_samples_split=5, n_estimators=300; total time= 1.6min\n",
      "[CV] END bootstrap=False, max_depth=30, min_samples_leaf=2, min_samples_split=5, n_estimators=300; total time= 1.6min\n",
      "[CV] END bootstrap=False, max_depth=30, min_samples_leaf=2, min_samples_split=5, n_estimators=300; total time= 1.6min\n",
      "[CV] END bootstrap=False, max_depth=30, min_samples_leaf=2, min_samples_split=5, n_estimators=300; total time= 1.6min\n",
      "[CV] END bootstrap=False, max_depth=30, min_samples_leaf=2, min_samples_split=10, n_estimators=100; total time=  31.8s\n",
      "[CV] END bootstrap=False, max_depth=30, min_samples_leaf=2, min_samples_split=10, n_estimators=100; total time=  32.1s\n",
      "[CV] END bootstrap=False, max_depth=30, min_samples_leaf=2, min_samples_split=10, n_estimators=100; total time=  31.4s\n",
      "[CV] END bootstrap=False, max_depth=30, min_samples_leaf=2, min_samples_split=10, n_estimators=100; total time=  31.6s\n",
      "[CV] END bootstrap=False, max_depth=30, min_samples_leaf=2, min_samples_split=10, n_estimators=100; total time=  31.8s\n",
      "[CV] END bootstrap=False, max_depth=30, min_samples_leaf=2, min_samples_split=10, n_estimators=200; total time= 1.1min\n",
      "[CV] END bootstrap=False, max_depth=30, min_samples_leaf=2, min_samples_split=10, n_estimators=200; total time= 1.1min\n",
      "[CV] END bootstrap=False, max_depth=30, min_samples_leaf=2, min_samples_split=10, n_estimators=200; total time= 1.0min\n",
      "[CV] END bootstrap=False, max_depth=30, min_samples_leaf=2, min_samples_split=10, n_estimators=200; total time= 1.0min\n",
      "[CV] END bootstrap=False, max_depth=30, min_samples_leaf=2, min_samples_split=10, n_estimators=200; total time= 1.1min\n",
      "[CV] END bootstrap=False, max_depth=30, min_samples_leaf=2, min_samples_split=10, n_estimators=300; total time= 1.6min\n",
      "[CV] END bootstrap=False, max_depth=30, min_samples_leaf=2, min_samples_split=10, n_estimators=300; total time= 1.6min\n",
      "[CV] END bootstrap=False, max_depth=30, min_samples_leaf=2, min_samples_split=10, n_estimators=300; total time= 1.6min\n",
      "[CV] END bootstrap=False, max_depth=30, min_samples_leaf=2, min_samples_split=10, n_estimators=300; total time= 1.6min\n",
      "[CV] END bootstrap=False, max_depth=30, min_samples_leaf=2, min_samples_split=10, n_estimators=300; total time= 1.6min\n",
      "[CV] END bootstrap=False, max_depth=30, min_samples_leaf=4, min_samples_split=2, n_estimators=100; total time=  29.9s\n",
      "[CV] END bootstrap=False, max_depth=30, min_samples_leaf=4, min_samples_split=2, n_estimators=100; total time=  30.4s\n",
      "[CV] END bootstrap=False, max_depth=30, min_samples_leaf=4, min_samples_split=2, n_estimators=100; total time=  29.8s\n",
      "[CV] END bootstrap=False, max_depth=30, min_samples_leaf=4, min_samples_split=2, n_estimators=100; total time=  29.9s\n",
      "[CV] END bootstrap=False, max_depth=30, min_samples_leaf=4, min_samples_split=2, n_estimators=100; total time=  30.1s\n",
      "[CV] END bootstrap=False, max_depth=30, min_samples_leaf=4, min_samples_split=2, n_estimators=200; total time= 1.0min\n",
      "[CV] END bootstrap=False, max_depth=30, min_samples_leaf=4, min_samples_split=2, n_estimators=200; total time= 1.0min\n",
      "[CV] END bootstrap=False, max_depth=30, min_samples_leaf=4, min_samples_split=2, n_estimators=200; total time=  59.3s\n",
      "[CV] END bootstrap=False, max_depth=30, min_samples_leaf=4, min_samples_split=2, n_estimators=200; total time=  59.4s\n",
      "[CV] END bootstrap=False, max_depth=30, min_samples_leaf=4, min_samples_split=2, n_estimators=200; total time=  59.8s\n",
      "[CV] END bootstrap=False, max_depth=30, min_samples_leaf=4, min_samples_split=2, n_estimators=300; total time= 1.5min\n",
      "[CV] END bootstrap=False, max_depth=30, min_samples_leaf=4, min_samples_split=2, n_estimators=300; total time= 1.5min\n",
      "[CV] END bootstrap=False, max_depth=30, min_samples_leaf=4, min_samples_split=2, n_estimators=300; total time= 1.5min\n",
      "[CV] END bootstrap=False, max_depth=30, min_samples_leaf=4, min_samples_split=2, n_estimators=300; total time= 1.5min\n",
      "[CV] END bootstrap=False, max_depth=30, min_samples_leaf=4, min_samples_split=2, n_estimators=300; total time= 1.5min\n",
      "[CV] END bootstrap=False, max_depth=30, min_samples_leaf=4, min_samples_split=5, n_estimators=100; total time=  29.9s\n",
      "[CV] END bootstrap=False, max_depth=30, min_samples_leaf=4, min_samples_split=5, n_estimators=100; total time=  30.4s\n",
      "[CV] END bootstrap=False, max_depth=30, min_samples_leaf=4, min_samples_split=5, n_estimators=100; total time=  29.7s\n",
      "[CV] END bootstrap=False, max_depth=30, min_samples_leaf=4, min_samples_split=5, n_estimators=100; total time=  29.9s\n",
      "[CV] END bootstrap=False, max_depth=30, min_samples_leaf=4, min_samples_split=5, n_estimators=100; total time=  30.0s\n",
      "[CV] END bootstrap=False, max_depth=30, min_samples_leaf=4, min_samples_split=5, n_estimators=200; total time= 1.0min\n",
      "[CV] END bootstrap=False, max_depth=30, min_samples_leaf=4, min_samples_split=5, n_estimators=200; total time= 1.0min\n",
      "[CV] END bootstrap=False, max_depth=30, min_samples_leaf=4, min_samples_split=5, n_estimators=200; total time=  59.4s\n",
      "[CV] END bootstrap=False, max_depth=30, min_samples_leaf=4, min_samples_split=5, n_estimators=200; total time=  59.3s\n",
      "[CV] END bootstrap=False, max_depth=30, min_samples_leaf=4, min_samples_split=5, n_estimators=200; total time=  59.8s\n",
      "[CV] END bootstrap=False, max_depth=30, min_samples_leaf=4, min_samples_split=5, n_estimators=300; total time= 1.5min\n",
      "[CV] END bootstrap=False, max_depth=30, min_samples_leaf=4, min_samples_split=5, n_estimators=300; total time= 1.5min\n",
      "[CV] END bootstrap=False, max_depth=30, min_samples_leaf=4, min_samples_split=5, n_estimators=300; total time= 1.5min\n",
      "[CV] END bootstrap=False, max_depth=30, min_samples_leaf=4, min_samples_split=5, n_estimators=300; total time= 1.5min\n",
      "[CV] END bootstrap=False, max_depth=30, min_samples_leaf=4, min_samples_split=5, n_estimators=300; total time= 1.5min\n",
      "[CV] END bootstrap=False, max_depth=30, min_samples_leaf=4, min_samples_split=10, n_estimators=100; total time=  29.8s\n",
      "[CV] END bootstrap=False, max_depth=30, min_samples_leaf=4, min_samples_split=10, n_estimators=100; total time=  30.4s\n",
      "[CV] END bootstrap=False, max_depth=30, min_samples_leaf=4, min_samples_split=10, n_estimators=100; total time=  29.3s\n",
      "[CV] END bootstrap=False, max_depth=30, min_samples_leaf=4, min_samples_split=10, n_estimators=100; total time=  30.1s\n",
      "[CV] END bootstrap=False, max_depth=30, min_samples_leaf=4, min_samples_split=10, n_estimators=100; total time=  30.3s\n",
      "[CV] END bootstrap=False, max_depth=30, min_samples_leaf=4, min_samples_split=10, n_estimators=200; total time=  59.5s\n",
      "[CV] END bootstrap=False, max_depth=30, min_samples_leaf=4, min_samples_split=10, n_estimators=200; total time= 1.0min\n",
      "[CV] END bootstrap=False, max_depth=30, min_samples_leaf=4, min_samples_split=10, n_estimators=200; total time=  58.9s\n",
      "[CV] END bootstrap=False, max_depth=30, min_samples_leaf=4, min_samples_split=10, n_estimators=200; total time=  59.4s\n",
      "[CV] END bootstrap=False, max_depth=30, min_samples_leaf=4, min_samples_split=10, n_estimators=200; total time= 1.0min\n",
      "[CV] END bootstrap=False, max_depth=30, min_samples_leaf=4, min_samples_split=10, n_estimators=300; total time= 1.5min\n",
      "[CV] END bootstrap=False, max_depth=30, min_samples_leaf=4, min_samples_split=10, n_estimators=300; total time= 1.5min\n",
      "[CV] END bootstrap=False, max_depth=30, min_samples_leaf=4, min_samples_split=10, n_estimators=300; total time= 1.5min\n",
      "[CV] END bootstrap=False, max_depth=30, min_samples_leaf=4, min_samples_split=10, n_estimators=300; total time= 1.5min\n",
      "[CV] END bootstrap=False, max_depth=30, min_samples_leaf=4, min_samples_split=10, n_estimators=300; total time= 1.5min\n",
      "Best Parameters:  {'bootstrap': False, 'max_depth': None, 'min_samples_leaf': 2, 'min_samples_split': 5, 'n_estimators': 200}\n",
      "Best Score:  0.48919418996107533\n",
      "Accuracy on Test Set:  0.5003894080996885\n",
      "Classification Report: \n",
      "              precision    recall  f1-score   support\n",
      "\n",
      "           0       0.75      0.04      0.08        70\n",
      "           1       0.40      0.22      0.28       269\n",
      "           2       0.34      0.20      0.25       297\n",
      "           3       0.33      0.14      0.20       476\n",
      "           4       0.81      0.08      0.14       173\n",
      "           5       0.33      0.01      0.02        78\n",
      "           6       0.54      0.90      0.67      1205\n",
      "\n",
      "    accuracy                           0.50      2568\n",
      "   macro avg       0.50      0.23      0.24      2568\n",
      "weighted avg       0.48      0.50      0.42      2568\n",
      "\n"
     ]
    }
   ],
   "source": [
    "# Parameter grid for GridSearchCV\n",
    "param_grid = {\n",
    "    'n_estimators': [100, 200, 300],  # Number of trees in the forest\n",
    "    'max_depth': [None, 10, 20, 30],  # Maximum depth of the tree\n",
    "    'min_samples_split': [2, 5, 10],  # Minimum number of samples required to split an internal node\n",
    "    'min_samples_leaf': [1, 2, 4],  # Minimum number of samples required to be at a leaf node\n",
    "    'bootstrap': [True, False]  # Method of selecting samples for training each tree\n",
    "}\n",
    "\n",
    "# Initialize the Random Forest classifier\n",
    "rf = RandomForestClassifier(random_state=42)\n",
    "\n",
    "# Initialize GridSearchCV object with Random Forest classifier and the parameter grid\n",
    "grid_search = GridSearchCV(estimator=rf, param_grid=param_grid, cv=5, scoring='accuracy', verbose=2)\n",
    "\n",
    "# Fit the model with the training data\n",
    "grid_search.fit(X_train, y_train)\n",
    "\n",
    "# Print the best parameters and the best score\n",
    "print(\"Best Parameters: \", grid_search.best_params_)\n",
    "print(\"Best Score: \", grid_search.best_score_)\n",
    "\n",
    "# Predict on the test set with the best parameters\n",
    "y_pred = grid_search.predict(X_test)\n",
    "\n",
    "# Evaluate the classifier with the best parameters\n",
    "print(\"Accuracy on Test Set: \", accuracy_score(y_test, y_pred))\n",
    "print(\"Classification Report: \")\n",
    "print(classification_report(y_test, y_pred))"
   ]
  },
  {
   "cell_type": "markdown",
   "id": "692c45bf",
   "metadata": {},
   "source": [
    "### Gradient Boosting Machines"
   ]
  },
  {
   "cell_type": "code",
   "execution_count": 77,
   "id": "bae9e4f2",
   "metadata": {},
   "outputs": [
    {
     "name": "stdout",
     "output_type": "stream",
     "text": [
      "[0]\ttest-mlogloss:1.75195\n",
      "[1]\ttest-mlogloss:1.64727\n",
      "[2]\ttest-mlogloss:1.58192\n",
      "[3]\ttest-mlogloss:1.53740\n",
      "[4]\ttest-mlogloss:1.50640\n",
      "[5]\ttest-mlogloss:1.48556\n",
      "[6]\ttest-mlogloss:1.47137\n",
      "[7]\ttest-mlogloss:1.45901\n",
      "[8]\ttest-mlogloss:1.45201\n",
      "[9]\ttest-mlogloss:1.44636\n",
      "[10]\ttest-mlogloss:1.44285\n",
      "[11]\ttest-mlogloss:1.44028\n",
      "[12]\ttest-mlogloss:1.43839\n",
      "[13]\ttest-mlogloss:1.43835\n",
      "[14]\ttest-mlogloss:1.43903\n",
      "[15]\ttest-mlogloss:1.43802\n",
      "[16]\ttest-mlogloss:1.43881\n",
      "[17]\ttest-mlogloss:1.43870\n",
      "[18]\ttest-mlogloss:1.43848\n",
      "[19]\ttest-mlogloss:1.43943\n",
      "[20]\ttest-mlogloss:1.43935\n",
      "[21]\ttest-mlogloss:1.44028\n",
      "[22]\ttest-mlogloss:1.44092\n",
      "[23]\ttest-mlogloss:1.44202\n",
      "[24]\ttest-mlogloss:1.44287\n",
      "[25]\ttest-mlogloss:1.44265\n",
      "Accuracy: 0.4894859813084112\n",
      "Classification Report:\n",
      "              precision    recall  f1-score   support\n",
      "\n",
      "           0       0.50      0.01      0.03        70\n",
      "           1       0.34      0.19      0.24       269\n",
      "           2       0.28      0.16      0.21       297\n",
      "           3       0.37      0.15      0.21       476\n",
      "           4       0.67      0.05      0.09       173\n",
      "           5       1.00      0.01      0.03        78\n",
      "           6       0.53      0.89      0.66      1205\n",
      "\n",
      "    accuracy                           0.49      2568\n",
      "   macro avg       0.53      0.21      0.21      2568\n",
      "weighted avg       0.47      0.49      0.41      2568\n",
      "\n"
     ]
    }
   ],
   "source": [
    "dtrain = xgb.DMatrix(X_train, label=y_train)\n",
    "dtest = xgb.DMatrix(X_test, label=y_test)\n",
    "\n",
    "params = {\n",
    "    'max_depth': 6,  # Maximum depth of a tree\n",
    "    'eta': 0.3,  # Learning rate\n",
    "    'objective': 'multi:softmax',  # Multiclass classification and use softmax objective function\n",
    "    'num_class': len(set(y)),  # Number of classes\n",
    "    'eval_metric': 'mlogloss',  # Evaluation metrics for validation data\n",
    "}\n",
    "num_rounds = 100  # Number of boosting rounds\n",
    "\n",
    "bst = xgb.train(params, dtrain, num_rounds, evals=[(dtest, 'test')], early_stopping_rounds=10)\n",
    "\n",
    "y_pred = bst.predict(dtest)\n",
    "print(\"Accuracy:\", accuracy_score(y_test, y_pred))\n",
    "print(\"Classification Report:\")\n",
    "print(classification_report(y_test, y_pred))"
   ]
  },
  {
   "cell_type": "code",
   "execution_count": 78,
   "id": "5c4acf66",
   "metadata": {},
   "outputs": [
    {
     "name": "stdout",
     "output_type": "stream",
     "text": [
      "Fitting 3 folds for each of 27 candidates, totalling 81 fits\n",
      "[CV] END eval_metric=mlogloss, learning_rate=0.01, max_depth=3, n_estimators=100, num_class=7, objective=multi:softmax; total time=   2.6s\n",
      "[CV] END eval_metric=mlogloss, learning_rate=0.01, max_depth=3, n_estimators=100, num_class=7, objective=multi:softmax; total time=   2.6s\n",
      "[CV] END eval_metric=mlogloss, learning_rate=0.01, max_depth=3, n_estimators=100, num_class=7, objective=multi:softmax; total time=   2.5s\n",
      "[CV] END eval_metric=mlogloss, learning_rate=0.01, max_depth=3, n_estimators=200, num_class=7, objective=multi:softmax; total time=   5.3s\n",
      "[CV] END eval_metric=mlogloss, learning_rate=0.01, max_depth=3, n_estimators=200, num_class=7, objective=multi:softmax; total time=   5.1s\n",
      "[CV] END eval_metric=mlogloss, learning_rate=0.01, max_depth=3, n_estimators=200, num_class=7, objective=multi:softmax; total time=   5.3s\n",
      "[CV] END eval_metric=mlogloss, learning_rate=0.01, max_depth=3, n_estimators=300, num_class=7, objective=multi:softmax; total time=   7.4s\n",
      "[CV] END eval_metric=mlogloss, learning_rate=0.01, max_depth=3, n_estimators=300, num_class=7, objective=multi:softmax; total time=   8.3s\n",
      "[CV] END eval_metric=mlogloss, learning_rate=0.01, max_depth=3, n_estimators=300, num_class=7, objective=multi:softmax; total time=   7.4s\n",
      "[CV] END eval_metric=mlogloss, learning_rate=0.01, max_depth=6, n_estimators=100, num_class=7, objective=multi:softmax; total time=  11.9s\n",
      "[CV] END eval_metric=mlogloss, learning_rate=0.01, max_depth=6, n_estimators=100, num_class=7, objective=multi:softmax; total time=  12.0s\n",
      "[CV] END eval_metric=mlogloss, learning_rate=0.01, max_depth=6, n_estimators=100, num_class=7, objective=multi:softmax; total time=  11.2s\n",
      "[CV] END eval_metric=mlogloss, learning_rate=0.01, max_depth=6, n_estimators=200, num_class=7, objective=multi:softmax; total time=  23.4s\n",
      "[CV] END eval_metric=mlogloss, learning_rate=0.01, max_depth=6, n_estimators=200, num_class=7, objective=multi:softmax; total time=  23.6s\n",
      "[CV] END eval_metric=mlogloss, learning_rate=0.01, max_depth=6, n_estimators=200, num_class=7, objective=multi:softmax; total time=  22.0s\n",
      "[CV] END eval_metric=mlogloss, learning_rate=0.01, max_depth=6, n_estimators=300, num_class=7, objective=multi:softmax; total time=  34.9s\n",
      "[CV] END eval_metric=mlogloss, learning_rate=0.01, max_depth=6, n_estimators=300, num_class=7, objective=multi:softmax; total time=  34.6s\n",
      "[CV] END eval_metric=mlogloss, learning_rate=0.01, max_depth=6, n_estimators=300, num_class=7, objective=multi:softmax; total time=  33.4s\n",
      "[CV] END eval_metric=mlogloss, learning_rate=0.01, max_depth=10, n_estimators=100, num_class=7, objective=multi:softmax; total time=  43.3s\n",
      "[CV] END eval_metric=mlogloss, learning_rate=0.01, max_depth=10, n_estimators=100, num_class=7, objective=multi:softmax; total time=  41.9s\n",
      "[CV] END eval_metric=mlogloss, learning_rate=0.01, max_depth=10, n_estimators=100, num_class=7, objective=multi:softmax; total time=  40.0s\n",
      "[CV] END eval_metric=mlogloss, learning_rate=0.01, max_depth=10, n_estimators=200, num_class=7, objective=multi:softmax; total time= 1.4min\n",
      "[CV] END eval_metric=mlogloss, learning_rate=0.01, max_depth=10, n_estimators=200, num_class=7, objective=multi:softmax; total time= 1.4min\n",
      "[CV] END eval_metric=mlogloss, learning_rate=0.01, max_depth=10, n_estimators=200, num_class=7, objective=multi:softmax; total time= 1.3min\n",
      "[CV] END eval_metric=mlogloss, learning_rate=0.01, max_depth=10, n_estimators=300, num_class=7, objective=multi:softmax; total time= 1.9min\n",
      "[CV] END eval_metric=mlogloss, learning_rate=0.01, max_depth=10, n_estimators=300, num_class=7, objective=multi:softmax; total time= 1.9min\n",
      "[CV] END eval_metric=mlogloss, learning_rate=0.01, max_depth=10, n_estimators=300, num_class=7, objective=multi:softmax; total time= 2.0min\n",
      "[CV] END eval_metric=mlogloss, learning_rate=0.1, max_depth=3, n_estimators=100, num_class=7, objective=multi:softmax; total time=   3.2s\n",
      "[CV] END eval_metric=mlogloss, learning_rate=0.1, max_depth=3, n_estimators=100, num_class=7, objective=multi:softmax; total time=   3.1s\n",
      "[CV] END eval_metric=mlogloss, learning_rate=0.1, max_depth=3, n_estimators=100, num_class=7, objective=multi:softmax; total time=   3.1s\n",
      "[CV] END eval_metric=mlogloss, learning_rate=0.1, max_depth=3, n_estimators=200, num_class=7, objective=multi:softmax; total time=   6.3s\n",
      "[CV] END eval_metric=mlogloss, learning_rate=0.1, max_depth=3, n_estimators=200, num_class=7, objective=multi:softmax; total time=   5.5s\n",
      "[CV] END eval_metric=mlogloss, learning_rate=0.1, max_depth=3, n_estimators=200, num_class=7, objective=multi:softmax; total time=   5.3s\n",
      "[CV] END eval_metric=mlogloss, learning_rate=0.1, max_depth=3, n_estimators=300, num_class=7, objective=multi:softmax; total time=   7.7s\n",
      "[CV] END eval_metric=mlogloss, learning_rate=0.1, max_depth=3, n_estimators=300, num_class=7, objective=multi:softmax; total time=   7.8s\n",
      "[CV] END eval_metric=mlogloss, learning_rate=0.1, max_depth=3, n_estimators=300, num_class=7, objective=multi:softmax; total time=   8.3s\n",
      "[CV] END eval_metric=mlogloss, learning_rate=0.1, max_depth=6, n_estimators=100, num_class=7, objective=multi:softmax; total time=   9.6s\n",
      "[CV] END eval_metric=mlogloss, learning_rate=0.1, max_depth=6, n_estimators=100, num_class=7, objective=multi:softmax; total time=   9.6s\n",
      "[CV] END eval_metric=mlogloss, learning_rate=0.1, max_depth=6, n_estimators=100, num_class=7, objective=multi:softmax; total time=   9.8s\n",
      "[CV] END eval_metric=mlogloss, learning_rate=0.1, max_depth=6, n_estimators=200, num_class=7, objective=multi:softmax; total time=  18.5s\n",
      "[CV] END eval_metric=mlogloss, learning_rate=0.1, max_depth=6, n_estimators=200, num_class=7, objective=multi:softmax; total time=  18.0s\n",
      "[CV] END eval_metric=mlogloss, learning_rate=0.1, max_depth=6, n_estimators=200, num_class=7, objective=multi:softmax; total time=  18.3s\n",
      "[CV] END eval_metric=mlogloss, learning_rate=0.1, max_depth=6, n_estimators=300, num_class=7, objective=multi:softmax; total time=  28.0s\n",
      "[CV] END eval_metric=mlogloss, learning_rate=0.1, max_depth=6, n_estimators=300, num_class=7, objective=multi:softmax; total time=  28.7s\n",
      "[CV] END eval_metric=mlogloss, learning_rate=0.1, max_depth=6, n_estimators=300, num_class=7, objective=multi:softmax; total time=  29.2s\n",
      "[CV] END eval_metric=mlogloss, learning_rate=0.1, max_depth=10, n_estimators=100, num_class=7, objective=multi:softmax; total time=  33.8s\n",
      "[CV] END eval_metric=mlogloss, learning_rate=0.1, max_depth=10, n_estimators=100, num_class=7, objective=multi:softmax; total time=  32.0s\n",
      "[CV] END eval_metric=mlogloss, learning_rate=0.1, max_depth=10, n_estimators=100, num_class=7, objective=multi:softmax; total time=  30.5s\n",
      "[CV] END eval_metric=mlogloss, learning_rate=0.1, max_depth=10, n_estimators=200, num_class=7, objective=multi:softmax; total time=  51.3s\n",
      "[CV] END eval_metric=mlogloss, learning_rate=0.1, max_depth=10, n_estimators=200, num_class=7, objective=multi:softmax; total time=  45.0s\n",
      "[CV] END eval_metric=mlogloss, learning_rate=0.1, max_depth=10, n_estimators=200, num_class=7, objective=multi:softmax; total time=  45.4s\n",
      "[CV] END eval_metric=mlogloss, learning_rate=0.1, max_depth=10, n_estimators=300, num_class=7, objective=multi:softmax; total time= 1.0min\n",
      "[CV] END eval_metric=mlogloss, learning_rate=0.1, max_depth=10, n_estimators=300, num_class=7, objective=multi:softmax; total time= 1.1min\n",
      "[CV] END eval_metric=mlogloss, learning_rate=0.1, max_depth=10, n_estimators=300, num_class=7, objective=multi:softmax; total time= 1.0min\n",
      "[CV] END eval_metric=mlogloss, learning_rate=0.3, max_depth=3, n_estimators=100, num_class=7, objective=multi:softmax; total time=   2.0s\n",
      "[CV] END eval_metric=mlogloss, learning_rate=0.3, max_depth=3, n_estimators=100, num_class=7, objective=multi:softmax; total time=   1.9s\n",
      "[CV] END eval_metric=mlogloss, learning_rate=0.3, max_depth=3, n_estimators=100, num_class=7, objective=multi:softmax; total time=   2.1s\n",
      "[CV] END eval_metric=mlogloss, learning_rate=0.3, max_depth=3, n_estimators=200, num_class=7, objective=multi:softmax; total time=   4.1s\n",
      "[CV] END eval_metric=mlogloss, learning_rate=0.3, max_depth=3, n_estimators=200, num_class=7, objective=multi:softmax; total time=   4.0s\n",
      "[CV] END eval_metric=mlogloss, learning_rate=0.3, max_depth=3, n_estimators=200, num_class=7, objective=multi:softmax; total time=   4.3s\n",
      "[CV] END eval_metric=mlogloss, learning_rate=0.3, max_depth=3, n_estimators=300, num_class=7, objective=multi:softmax; total time=   7.9s\n",
      "[CV] END eval_metric=mlogloss, learning_rate=0.3, max_depth=3, n_estimators=300, num_class=7, objective=multi:softmax; total time=   7.2s\n",
      "[CV] END eval_metric=mlogloss, learning_rate=0.3, max_depth=3, n_estimators=300, num_class=7, objective=multi:softmax; total time=   7.5s\n",
      "[CV] END eval_metric=mlogloss, learning_rate=0.3, max_depth=6, n_estimators=100, num_class=7, objective=multi:softmax; total time=  10.1s\n",
      "[CV] END eval_metric=mlogloss, learning_rate=0.3, max_depth=6, n_estimators=100, num_class=7, objective=multi:softmax; total time=   9.4s\n",
      "[CV] END eval_metric=mlogloss, learning_rate=0.3, max_depth=6, n_estimators=100, num_class=7, objective=multi:softmax; total time=   9.2s\n",
      "[CV] END eval_metric=mlogloss, learning_rate=0.3, max_depth=6, n_estimators=200, num_class=7, objective=multi:softmax; total time=  18.7s\n",
      "[CV] END eval_metric=mlogloss, learning_rate=0.3, max_depth=6, n_estimators=200, num_class=7, objective=multi:softmax; total time=  18.5s\n",
      "[CV] END eval_metric=mlogloss, learning_rate=0.3, max_depth=6, n_estimators=200, num_class=7, objective=multi:softmax; total time=  16.8s\n",
      "[CV] END eval_metric=mlogloss, learning_rate=0.3, max_depth=6, n_estimators=300, num_class=7, objective=multi:softmax; total time=  24.2s\n",
      "[CV] END eval_metric=mlogloss, learning_rate=0.3, max_depth=6, n_estimators=300, num_class=7, objective=multi:softmax; total time=  24.0s\n",
      "[CV] END eval_metric=mlogloss, learning_rate=0.3, max_depth=6, n_estimators=300, num_class=7, objective=multi:softmax; total time=  24.7s\n",
      "[CV] END eval_metric=mlogloss, learning_rate=0.3, max_depth=10, n_estimators=100, num_class=7, objective=multi:softmax; total time=  22.0s\n",
      "[CV] END eval_metric=mlogloss, learning_rate=0.3, max_depth=10, n_estimators=100, num_class=7, objective=multi:softmax; total time=  23.2s\n",
      "[CV] END eval_metric=mlogloss, learning_rate=0.3, max_depth=10, n_estimators=100, num_class=7, objective=multi:softmax; total time=  20.3s\n",
      "[CV] END eval_metric=mlogloss, learning_rate=0.3, max_depth=10, n_estimators=200, num_class=7, objective=multi:softmax; total time=  29.9s\n",
      "[CV] END eval_metric=mlogloss, learning_rate=0.3, max_depth=10, n_estimators=200, num_class=7, objective=multi:softmax; total time=  29.6s\n",
      "[CV] END eval_metric=mlogloss, learning_rate=0.3, max_depth=10, n_estimators=200, num_class=7, objective=multi:softmax; total time=  29.9s\n",
      "[CV] END eval_metric=mlogloss, learning_rate=0.3, max_depth=10, n_estimators=300, num_class=7, objective=multi:softmax; total time=  38.2s\n",
      "[CV] END eval_metric=mlogloss, learning_rate=0.3, max_depth=10, n_estimators=300, num_class=7, objective=multi:softmax; total time=  36.9s\n",
      "[CV] END eval_metric=mlogloss, learning_rate=0.3, max_depth=10, n_estimators=300, num_class=7, objective=multi:softmax; total time=  36.5s\n",
      "Best Parameters: {'eval_metric': 'mlogloss', 'learning_rate': 0.1, 'max_depth': 10, 'n_estimators': 100, 'num_class': 7, 'objective': 'multi:softmax'}\n",
      "Best Score: 0.4832554517133956\n",
      "Accuracy on Test Set: 0.4945482866043614\n",
      "Classification Report:\n",
      "              precision    recall  f1-score   support\n",
      "\n",
      "           0       0.75      0.04      0.08        70\n",
      "           1       0.32      0.19      0.24       269\n",
      "           2       0.30      0.20      0.24       297\n",
      "           3       0.35      0.18      0.23       476\n",
      "           4       0.60      0.05      0.10       173\n",
      "           5       1.00      0.01      0.03        78\n",
      "           6       0.54      0.88      0.67      1205\n",
      "\n",
      "    accuracy                           0.49      2568\n",
      "   macro avg       0.55      0.22      0.23      2568\n",
      "weighted avg       0.48      0.49      0.42      2568\n",
      "\n"
     ]
    }
   ],
   "source": [
    "# Define the parameter grid for XGBoost\n",
    "param_grid = {\n",
    "    'max_depth': [3, 6, 10],  # Maximum depth of a tree\n",
    "    'learning_rate': [0.01, 0.1, 0.3],  # Step size shrinkage used to prevent overfitting\n",
    "    'n_estimators': [100, 200, 300],  # Number of trees you want to build\n",
    "    'objective': ['multi:softmax'],  # Multiclass classification using the softmax objective\n",
    "    'eval_metric': ['mlogloss'],  # Evaluation metrics for validation data\n",
    "    'num_class': [len(set(y))]  # Number of classes in the objective function\n",
    "}\n",
    "\n",
    "# Initialize the XGBClassifier\n",
    "xgb_model = xgb.XGBClassifier(use_label_encoder=False)\n",
    "\n",
    "# Initialize GridSearchCV\n",
    "grid_search = GridSearchCV(estimator=xgb_model, param_grid=param_grid, cv=3, scoring='accuracy', verbose=2)\n",
    "\n",
    "# Fit GridSearchCV\n",
    "grid_search.fit(X_train, y_train)\n",
    "\n",
    "# Print the best parameters and the best score\n",
    "print(\"Best Parameters:\", grid_search.best_params_)\n",
    "print(\"Best Score:\", grid_search.best_score_)\n",
    "\n",
    "# Predict on the test set with the best parameters\n",
    "y_pred = grid_search.predict(X_test)\n",
    "\n",
    "# Evaluate the classifier with the best parameters\n",
    "print(\"Accuracy on Test Set:\", accuracy_score(y_test, y_pred))\n",
    "print(\"Classification Report:\")\n",
    "print(classification_report(y_test, y_pred))"
   ]
  },
  {
   "cell_type": "markdown",
   "id": "3aea2ec7",
   "metadata": {},
   "source": [
    "### K-Nearest Neighbors"
   ]
  },
  {
   "cell_type": "code",
   "execution_count": 79,
   "id": "7c70dfef",
   "metadata": {},
   "outputs": [
    {
     "name": "stdout",
     "output_type": "stream",
     "text": [
      "Accuracy: 0.4057632398753894\n",
      "Classification Report:\n",
      "              precision    recall  f1-score   support\n",
      "\n",
      "           0       0.06      0.03      0.04        70\n",
      "           1       0.17      0.20      0.19       269\n",
      "           2       0.26      0.26      0.26       297\n",
      "           3       0.27      0.24      0.26       476\n",
      "           4       0.16      0.08      0.11       173\n",
      "           5       0.13      0.03      0.04        78\n",
      "           6       0.55      0.65      0.60      1205\n",
      "\n",
      "    accuracy                           0.41      2568\n",
      "   macro avg       0.23      0.21      0.21      2568\n",
      "weighted avg       0.38      0.41      0.39      2568\n",
      "\n"
     ]
    }
   ],
   "source": [
    "# Initialize the KNN classifier\n",
    "knn = KNeighborsClassifier(n_neighbors=5)\n",
    "\n",
    "# Train the classifier\n",
    "knn.fit(X_train, y_train)\n",
    "\n",
    "# Make predictions\n",
    "y_pred = knn.predict(X_test)\n",
    "\n",
    "# Evaluate the classifier\n",
    "print(\"Accuracy:\", accuracy_score(y_test, y_pred))\n",
    "print(\"Classification Report:\")\n",
    "print(classification_report(y_test, y_pred))"
   ]
  },
  {
   "cell_type": "code",
   "execution_count": 80,
   "id": "02d1ac2f",
   "metadata": {},
   "outputs": [
    {
     "name": "stdout",
     "output_type": "stream",
     "text": [
      "Fitting 5 folds for each of 24 candidates, totalling 120 fits\n",
      "[CV] END ...metric=euclidean, n_neighbors=3, weights=uniform; total time=   0.1s\n",
      "[CV] END ...metric=euclidean, n_neighbors=3, weights=uniform; total time=   0.1s\n",
      "[CV] END ...metric=euclidean, n_neighbors=3, weights=uniform; total time=   0.1s\n",
      "[CV] END ...metric=euclidean, n_neighbors=3, weights=uniform; total time=   0.1s\n",
      "[CV] END ...metric=euclidean, n_neighbors=3, weights=uniform; total time=   0.1s\n",
      "[CV] END ..metric=euclidean, n_neighbors=3, weights=distance; total time=   0.0s\n",
      "[CV] END ..metric=euclidean, n_neighbors=3, weights=distance; total time=   0.0s\n",
      "[CV] END ..metric=euclidean, n_neighbors=3, weights=distance; total time=   0.0s\n",
      "[CV] END ..metric=euclidean, n_neighbors=3, weights=distance; total time=   0.0s\n",
      "[CV] END ..metric=euclidean, n_neighbors=3, weights=distance; total time=   0.0s\n",
      "[CV] END ...metric=euclidean, n_neighbors=5, weights=uniform; total time=   0.1s\n",
      "[CV] END ...metric=euclidean, n_neighbors=5, weights=uniform; total time=   0.1s\n",
      "[CV] END ...metric=euclidean, n_neighbors=5, weights=uniform; total time=   0.1s\n",
      "[CV] END ...metric=euclidean, n_neighbors=5, weights=uniform; total time=   0.0s\n",
      "[CV] END ...metric=euclidean, n_neighbors=5, weights=uniform; total time=   0.1s\n",
      "[CV] END ..metric=euclidean, n_neighbors=5, weights=distance; total time=   0.0s\n",
      "[CV] END ..metric=euclidean, n_neighbors=5, weights=distance; total time=   0.0s\n",
      "[CV] END ..metric=euclidean, n_neighbors=5, weights=distance; total time=   0.0s\n",
      "[CV] END ..metric=euclidean, n_neighbors=5, weights=distance; total time=   0.0s\n",
      "[CV] END ..metric=euclidean, n_neighbors=5, weights=distance; total time=   0.0s\n",
      "[CV] END ...metric=euclidean, n_neighbors=7, weights=uniform; total time=   0.1s\n",
      "[CV] END ...metric=euclidean, n_neighbors=7, weights=uniform; total time=   0.1s\n",
      "[CV] END ...metric=euclidean, n_neighbors=7, weights=uniform; total time=   0.1s\n",
      "[CV] END ...metric=euclidean, n_neighbors=7, weights=uniform; total time=   0.1s\n",
      "[CV] END ...metric=euclidean, n_neighbors=7, weights=uniform; total time=   0.1s\n",
      "[CV] END ..metric=euclidean, n_neighbors=7, weights=distance; total time=   0.0s\n",
      "[CV] END ..metric=euclidean, n_neighbors=7, weights=distance; total time=   0.0s\n",
      "[CV] END ..metric=euclidean, n_neighbors=7, weights=distance; total time=   0.0s\n",
      "[CV] END ..metric=euclidean, n_neighbors=7, weights=distance; total time=   0.0s\n",
      "[CV] END ..metric=euclidean, n_neighbors=7, weights=distance; total time=   0.0s\n",
      "[CV] END ...metric=euclidean, n_neighbors=9, weights=uniform; total time=   0.1s\n",
      "[CV] END ...metric=euclidean, n_neighbors=9, weights=uniform; total time=   0.1s\n",
      "[CV] END ...metric=euclidean, n_neighbors=9, weights=uniform; total time=   0.1s\n",
      "[CV] END ...metric=euclidean, n_neighbors=9, weights=uniform; total time=   0.1s\n",
      "[CV] END ...metric=euclidean, n_neighbors=9, weights=uniform; total time=   0.1s\n",
      "[CV] END ..metric=euclidean, n_neighbors=9, weights=distance; total time=   0.0s\n",
      "[CV] END ..metric=euclidean, n_neighbors=9, weights=distance; total time=   0.0s\n",
      "[CV] END ..metric=euclidean, n_neighbors=9, weights=distance; total time=   0.0s\n",
      "[CV] END ..metric=euclidean, n_neighbors=9, weights=distance; total time=   0.0s\n",
      "[CV] END ..metric=euclidean, n_neighbors=9, weights=distance; total time=   0.0s\n",
      "[CV] END ...metric=manhattan, n_neighbors=3, weights=uniform; total time=   0.8s\n",
      "[CV] END ...metric=manhattan, n_neighbors=3, weights=uniform; total time=   0.8s\n",
      "[CV] END ...metric=manhattan, n_neighbors=3, weights=uniform; total time=   0.8s\n",
      "[CV] END ...metric=manhattan, n_neighbors=3, weights=uniform; total time=   0.8s\n",
      "[CV] END ...metric=manhattan, n_neighbors=3, weights=uniform; total time=   0.8s\n",
      "[CV] END ..metric=manhattan, n_neighbors=3, weights=distance; total time=   0.5s\n",
      "[CV] END ..metric=manhattan, n_neighbors=3, weights=distance; total time=   0.5s\n",
      "[CV] END ..metric=manhattan, n_neighbors=3, weights=distance; total time=   0.5s\n",
      "[CV] END ..metric=manhattan, n_neighbors=3, weights=distance; total time=   0.5s\n",
      "[CV] END ..metric=manhattan, n_neighbors=3, weights=distance; total time=   0.5s\n",
      "[CV] END ...metric=manhattan, n_neighbors=5, weights=uniform; total time=   0.8s\n",
      "[CV] END ...metric=manhattan, n_neighbors=5, weights=uniform; total time=   0.8s\n",
      "[CV] END ...metric=manhattan, n_neighbors=5, weights=uniform; total time=   0.8s\n",
      "[CV] END ...metric=manhattan, n_neighbors=5, weights=uniform; total time=   0.8s\n",
      "[CV] END ...metric=manhattan, n_neighbors=5, weights=uniform; total time=   0.8s\n",
      "[CV] END ..metric=manhattan, n_neighbors=5, weights=distance; total time=   0.5s\n",
      "[CV] END ..metric=manhattan, n_neighbors=5, weights=distance; total time=   0.5s\n",
      "[CV] END ..metric=manhattan, n_neighbors=5, weights=distance; total time=   0.5s\n",
      "[CV] END ..metric=manhattan, n_neighbors=5, weights=distance; total time=   0.5s\n",
      "[CV] END ..metric=manhattan, n_neighbors=5, weights=distance; total time=   0.5s\n",
      "[CV] END ...metric=manhattan, n_neighbors=7, weights=uniform; total time=   0.8s\n",
      "[CV] END ...metric=manhattan, n_neighbors=7, weights=uniform; total time=   0.8s\n",
      "[CV] END ...metric=manhattan, n_neighbors=7, weights=uniform; total time=   0.8s\n",
      "[CV] END ...metric=manhattan, n_neighbors=7, weights=uniform; total time=   0.8s\n",
      "[CV] END ...metric=manhattan, n_neighbors=7, weights=uniform; total time=   0.8s\n",
      "[CV] END ..metric=manhattan, n_neighbors=7, weights=distance; total time=   0.5s\n",
      "[CV] END ..metric=manhattan, n_neighbors=7, weights=distance; total time=   0.5s\n",
      "[CV] END ..metric=manhattan, n_neighbors=7, weights=distance; total time=   0.5s\n",
      "[CV] END ..metric=manhattan, n_neighbors=7, weights=distance; total time=   0.5s\n",
      "[CV] END ..metric=manhattan, n_neighbors=7, weights=distance; total time=   0.5s\n",
      "[CV] END ...metric=manhattan, n_neighbors=9, weights=uniform; total time=   0.8s\n",
      "[CV] END ...metric=manhattan, n_neighbors=9, weights=uniform; total time=   0.8s\n",
      "[CV] END ...metric=manhattan, n_neighbors=9, weights=uniform; total time=   0.8s\n",
      "[CV] END ...metric=manhattan, n_neighbors=9, weights=uniform; total time=   0.8s\n",
      "[CV] END ...metric=manhattan, n_neighbors=9, weights=uniform; total time=   0.8s\n",
      "[CV] END ..metric=manhattan, n_neighbors=9, weights=distance; total time=   0.5s\n",
      "[CV] END ..metric=manhattan, n_neighbors=9, weights=distance; total time=   0.5s\n",
      "[CV] END ..metric=manhattan, n_neighbors=9, weights=distance; total time=   0.5s\n",
      "[CV] END ..metric=manhattan, n_neighbors=9, weights=distance; total time=   0.5s\n",
      "[CV] END ..metric=manhattan, n_neighbors=9, weights=distance; total time=   0.5s\n",
      "[CV] END ...metric=minkowski, n_neighbors=3, weights=uniform; total time=   0.0s\n",
      "[CV] END ...metric=minkowski, n_neighbors=3, weights=uniform; total time=   0.0s\n",
      "[CV] END ...metric=minkowski, n_neighbors=3, weights=uniform; total time=   0.0s\n",
      "[CV] END ...metric=minkowski, n_neighbors=3, weights=uniform; total time=   0.0s\n",
      "[CV] END ...metric=minkowski, n_neighbors=3, weights=uniform; total time=   0.0s\n",
      "[CV] END ..metric=minkowski, n_neighbors=3, weights=distance; total time=   0.0s\n",
      "[CV] END ..metric=minkowski, n_neighbors=3, weights=distance; total time=   0.0s\n",
      "[CV] END ..metric=minkowski, n_neighbors=3, weights=distance; total time=   0.0s\n",
      "[CV] END ..metric=minkowski, n_neighbors=3, weights=distance; total time=   0.0s\n",
      "[CV] END ..metric=minkowski, n_neighbors=3, weights=distance; total time=   0.0s\n",
      "[CV] END ...metric=minkowski, n_neighbors=5, weights=uniform; total time=   0.0s\n",
      "[CV] END ...metric=minkowski, n_neighbors=5, weights=uniform; total time=   0.0s\n",
      "[CV] END ...metric=minkowski, n_neighbors=5, weights=uniform; total time=   0.0s\n",
      "[CV] END ...metric=minkowski, n_neighbors=5, weights=uniform; total time=   0.0s\n",
      "[CV] END ...metric=minkowski, n_neighbors=5, weights=uniform; total time=   0.0s\n",
      "[CV] END ..metric=minkowski, n_neighbors=5, weights=distance; total time=   0.0s\n",
      "[CV] END ..metric=minkowski, n_neighbors=5, weights=distance; total time=   0.0s\n",
      "[CV] END ..metric=minkowski, n_neighbors=5, weights=distance; total time=   0.0s\n",
      "[CV] END ..metric=minkowski, n_neighbors=5, weights=distance; total time=   0.0s\n",
      "[CV] END ..metric=minkowski, n_neighbors=5, weights=distance; total time=   0.0s\n",
      "[CV] END ...metric=minkowski, n_neighbors=7, weights=uniform; total time=   0.0s\n",
      "[CV] END ...metric=minkowski, n_neighbors=7, weights=uniform; total time=   0.0s\n",
      "[CV] END ...metric=minkowski, n_neighbors=7, weights=uniform; total time=   0.0s\n",
      "[CV] END ...metric=minkowski, n_neighbors=7, weights=uniform; total time=   0.0s\n",
      "[CV] END ...metric=minkowski, n_neighbors=7, weights=uniform; total time=   0.0s\n",
      "[CV] END ..metric=minkowski, n_neighbors=7, weights=distance; total time=   0.0s\n",
      "[CV] END ..metric=minkowski, n_neighbors=7, weights=distance; total time=   0.0s\n",
      "[CV] END ..metric=minkowski, n_neighbors=7, weights=distance; total time=   0.0s\n",
      "[CV] END ..metric=minkowski, n_neighbors=7, weights=distance; total time=   0.0s\n",
      "[CV] END ..metric=minkowski, n_neighbors=7, weights=distance; total time=   0.0s\n",
      "[CV] END ...metric=minkowski, n_neighbors=9, weights=uniform; total time=   0.0s\n",
      "[CV] END ...metric=minkowski, n_neighbors=9, weights=uniform; total time=   0.0s\n",
      "[CV] END ...metric=minkowski, n_neighbors=9, weights=uniform; total time=   0.0s\n",
      "[CV] END ...metric=minkowski, n_neighbors=9, weights=uniform; total time=   0.0s\n",
      "[CV] END ...metric=minkowski, n_neighbors=9, weights=uniform; total time=   0.0s\n",
      "[CV] END ..metric=minkowski, n_neighbors=9, weights=distance; total time=   0.0s\n",
      "[CV] END ..metric=minkowski, n_neighbors=9, weights=distance; total time=   0.0s\n",
      "[CV] END ..metric=minkowski, n_neighbors=9, weights=distance; total time=   0.0s\n",
      "[CV] END ..metric=minkowski, n_neighbors=9, weights=distance; total time=   0.0s\n",
      "[CV] END ..metric=minkowski, n_neighbors=9, weights=distance; total time=   0.0s\n",
      "Best Parameters:  {'metric': 'manhattan', 'n_neighbors': 9, 'weights': 'distance'}\n",
      "Best Score:  0.44042156186848047\n",
      "Accuracy on Test Set:  0.4591121495327103\n",
      "Classification Report: \n",
      "              precision    recall  f1-score   support\n",
      "\n",
      "           0       0.30      0.04      0.07        70\n",
      "           1       0.21      0.13      0.16       269\n",
      "           2       0.28      0.22      0.25       297\n",
      "           3       0.28      0.17      0.21       476\n",
      "           4       0.25      0.08      0.12       173\n",
      "           5       0.40      0.03      0.05        78\n",
      "           6       0.54      0.81      0.65      1205\n",
      "\n",
      "    accuracy                           0.46      2568\n",
      "   macro avg       0.32      0.21      0.22      2568\n",
      "weighted avg       0.40      0.46      0.40      2568\n",
      "\n"
     ]
    }
   ],
   "source": [
    "# Define the parameter grid for KNN\n",
    "param_grid = {\n",
    "    'n_neighbors': [3, 5, 7, 9],  # Number of neighbors to use\n",
    "    'weights': ['uniform', 'distance'],  # Weight function used in prediction\n",
    "    'metric': ['euclidean', 'manhattan', 'minkowski'],  # Metric used for the distance computation\n",
    "}\n",
    "\n",
    "# Initialize the KNN classifier\n",
    "knn = KNeighborsClassifier()\n",
    "\n",
    "# Initialize GridSearchCV object with KNN classifier and the parameter grid\n",
    "grid_search = GridSearchCV(estimator=knn, param_grid=param_grid, cv=5, scoring='accuracy', verbose=2)\n",
    "\n",
    "# Fit the model with the training data\n",
    "grid_search.fit(X_train, y_train)\n",
    "\n",
    "# Print the best parameters and the best score\n",
    "print(\"Best Parameters: \", grid_search.best_params_)\n",
    "print(\"Best Score: \", grid_search.best_score_)\n",
    "\n",
    "# Predict on the test set with the best parameters\n",
    "y_pred = grid_search.predict(X_test)\n",
    "\n",
    "# Evaluate the classifier with the best parameters\n",
    "print(\"Accuracy on Test Set: \", accuracy_score(y_test, y_pred))\n",
    "print(\"Classification Report: \")\n",
    "print(classification_report(y_test, y_pred))"
   ]
  },
  {
   "cell_type": "markdown",
   "id": "272ef6c7",
   "metadata": {},
   "source": [
    "### Logistic Regression"
   ]
  },
  {
   "cell_type": "code",
   "execution_count": 81,
   "id": "64fc99f3",
   "metadata": {},
   "outputs": [
    {
     "name": "stdout",
     "output_type": "stream",
     "text": [
      "Accuracy: 0.46845794392523366\n",
      "Classification Report:\n",
      "              precision    recall  f1-score   support\n",
      "\n",
      "           0       0.00      0.00      0.00        70\n",
      "           1       0.00      0.00      0.00       269\n",
      "           2       0.00      0.00      0.00       297\n",
      "           3       0.20      0.00      0.00       476\n",
      "           4       0.00      0.00      0.00       173\n",
      "           5       0.00      0.00      0.00        78\n",
      "           6       0.47      1.00      0.64      1205\n",
      "\n",
      "    accuracy                           0.47      2568\n",
      "   macro avg       0.10      0.14      0.09      2568\n",
      "weighted avg       0.26      0.47      0.30      2568\n",
      "\n"
     ]
    },
    {
     "name": "stderr",
     "output_type": "stream",
     "text": [
      "c:\\ProgramData\\anaconda3\\Lib\\site-packages\\sklearn\\metrics\\_classification.py:1469: UndefinedMetricWarning: Precision and F-score are ill-defined and being set to 0.0 in labels with no predicted samples. Use `zero_division` parameter to control this behavior.\n",
      "  _warn_prf(average, modifier, msg_start, len(result))\n",
      "c:\\ProgramData\\anaconda3\\Lib\\site-packages\\sklearn\\metrics\\_classification.py:1469: UndefinedMetricWarning: Precision and F-score are ill-defined and being set to 0.0 in labels with no predicted samples. Use `zero_division` parameter to control this behavior.\n",
      "  _warn_prf(average, modifier, msg_start, len(result))\n",
      "c:\\ProgramData\\anaconda3\\Lib\\site-packages\\sklearn\\metrics\\_classification.py:1469: UndefinedMetricWarning: Precision and F-score are ill-defined and being set to 0.0 in labels with no predicted samples. Use `zero_division` parameter to control this behavior.\n",
      "  _warn_prf(average, modifier, msg_start, len(result))\n"
     ]
    }
   ],
   "source": [
    "# Initialize the Logistic Regression classifier\n",
    "# Set to multi-class since we have a lot of classes (300 in total)\n",
    "logreg = LogisticRegression(max_iter=1000, multi_class='multinomial', solver='lbfgs')\n",
    "\n",
    "# Fitting Logistic Regression to the Training set\n",
    "logreg.fit(X_train, y_train)\n",
    "\n",
    "# Predicting the Test set results\n",
    "y_pred = logreg.predict(X_test)\n",
    "\n",
    "# Making the Confusion Matrix\n",
    "print(\"Accuracy:\", accuracy_score(y_test, y_pred))\n",
    "print(\"Classification Report:\")\n",
    "print(classification_report(y_test, y_pred))"
   ]
  },
  {
   "cell_type": "code",
   "execution_count": 88,
   "id": "d53ffcd0",
   "metadata": {},
   "outputs": [
    {
     "name": "stdout",
     "output_type": "stream",
     "text": [
      "Fitting 5 folds for each of 30 candidates, totalling 150 fits\n",
      "[CV] END ...................C=0.01, penalty=l2, solver=lbfgs; total time=   0.0s\n",
      "[CV] END ...................C=0.01, penalty=l2, solver=lbfgs; total time=   0.0s\n",
      "[CV] END ...................C=0.01, penalty=l2, solver=lbfgs; total time=   0.1s\n",
      "[CV] END ...................C=0.01, penalty=l2, solver=lbfgs; total time=   0.1s\n",
      "[CV] END ...................C=0.01, penalty=l2, solver=lbfgs; total time=   0.0s\n",
      "[CV] END ....................C=0.01, penalty=l2, solver=saga; total time=   1.4s\n",
      "[CV] END ....................C=0.01, penalty=l2, solver=saga; total time=   1.3s\n",
      "[CV] END ....................C=0.01, penalty=l2, solver=saga; total time=   1.3s\n",
      "[CV] END ....................C=0.01, penalty=l2, solver=saga; total time=   1.3s\n",
      "[CV] END ....................C=0.01, penalty=l2, solver=saga; total time=   1.3s\n"
     ]
    },
    {
     "name": "stderr",
     "output_type": "stream",
     "text": [
      "c:\\ProgramData\\anaconda3\\Lib\\site-packages\\scipy\\optimize\\_linesearch.py:314: LineSearchWarning: The line search algorithm did not converge\n",
      "  warn('The line search algorithm did not converge', LineSearchWarning)\n",
      "c:\\ProgramData\\anaconda3\\Lib\\site-packages\\sklearn\\utils\\optimize.py:204: UserWarning: Line Search failed\n",
      "  warnings.warn(\"Line Search failed\")\n"
     ]
    },
    {
     "name": "stdout",
     "output_type": "stream",
     "text": [
      "[CV] END ...............C=0.01, penalty=l2, solver=newton-cg; total time=   0.7s\n"
     ]
    },
    {
     "name": "stderr",
     "output_type": "stream",
     "text": [
      "c:\\ProgramData\\anaconda3\\Lib\\site-packages\\scipy\\optimize\\_linesearch.py:314: LineSearchWarning: The line search algorithm did not converge\n",
      "  warn('The line search algorithm did not converge', LineSearchWarning)\n",
      "c:\\ProgramData\\anaconda3\\Lib\\site-packages\\sklearn\\utils\\optimize.py:204: UserWarning: Line Search failed\n",
      "  warnings.warn(\"Line Search failed\")\n"
     ]
    },
    {
     "name": "stdout",
     "output_type": "stream",
     "text": [
      "[CV] END ...............C=0.01, penalty=l2, solver=newton-cg; total time=   0.6s\n"
     ]
    },
    {
     "name": "stderr",
     "output_type": "stream",
     "text": [
      "c:\\ProgramData\\anaconda3\\Lib\\site-packages\\scipy\\optimize\\_linesearch.py:314: LineSearchWarning: The line search algorithm did not converge\n",
      "  warn('The line search algorithm did not converge', LineSearchWarning)\n",
      "c:\\ProgramData\\anaconda3\\Lib\\site-packages\\sklearn\\utils\\optimize.py:204: UserWarning: Line Search failed\n",
      "  warnings.warn(\"Line Search failed\")\n"
     ]
    },
    {
     "name": "stdout",
     "output_type": "stream",
     "text": [
      "[CV] END ...............C=0.01, penalty=l2, solver=newton-cg; total time=   0.6s\n"
     ]
    },
    {
     "name": "stderr",
     "output_type": "stream",
     "text": [
      "c:\\ProgramData\\anaconda3\\Lib\\site-packages\\scipy\\optimize\\_linesearch.py:314: LineSearchWarning: The line search algorithm did not converge\n",
      "  warn('The line search algorithm did not converge', LineSearchWarning)\n",
      "c:\\ProgramData\\anaconda3\\Lib\\site-packages\\sklearn\\utils\\optimize.py:204: UserWarning: Line Search failed\n",
      "  warnings.warn(\"Line Search failed\")\n"
     ]
    },
    {
     "name": "stdout",
     "output_type": "stream",
     "text": [
      "[CV] END ...............C=0.01, penalty=l2, solver=newton-cg; total time=   0.5s\n"
     ]
    },
    {
     "name": "stderr",
     "output_type": "stream",
     "text": [
      "c:\\ProgramData\\anaconda3\\Lib\\site-packages\\scipy\\optimize\\_linesearch.py:314: LineSearchWarning: The line search algorithm did not converge\n",
      "  warn('The line search algorithm did not converge', LineSearchWarning)\n",
      "c:\\ProgramData\\anaconda3\\Lib\\site-packages\\sklearn\\utils\\optimize.py:204: UserWarning: Line Search failed\n",
      "  warnings.warn(\"Line Search failed\")\n",
      "c:\\ProgramData\\anaconda3\\Lib\\site-packages\\sklearn\\linear_model\\_logistic.py:1192: UserWarning: Setting penalty=None will ignore the C and l1_ratio parameters\n",
      "  warnings.warn(\n"
     ]
    },
    {
     "name": "stdout",
     "output_type": "stream",
     "text": [
      "[CV] END ...............C=0.01, penalty=l2, solver=newton-cg; total time=   1.0s\n"
     ]
    },
    {
     "name": "stderr",
     "output_type": "stream",
     "text": [
      "c:\\ProgramData\\anaconda3\\Lib\\site-packages\\sklearn\\linear_model\\_logistic.py:460: ConvergenceWarning: lbfgs failed to converge (status=1):\n",
      "STOP: TOTAL NO. of ITERATIONS REACHED LIMIT.\n",
      "\n",
      "Increase the number of iterations (max_iter) or scale the data as shown in:\n",
      "    https://scikit-learn.org/stable/modules/preprocessing.html\n",
      "Please also refer to the documentation for alternative solver options:\n",
      "    https://scikit-learn.org/stable/modules/linear_model.html#logistic-regression\n",
      "  n_iter_i = _check_optimize_result(\n",
      "c:\\ProgramData\\anaconda3\\Lib\\site-packages\\sklearn\\linear_model\\_logistic.py:1192: UserWarning: Setting penalty=None will ignore the C and l1_ratio parameters\n",
      "  warnings.warn(\n"
     ]
    },
    {
     "name": "stdout",
     "output_type": "stream",
     "text": [
      "[CV] END .................C=0.01, penalty=None, solver=lbfgs; total time=   3.2s\n"
     ]
    },
    {
     "name": "stderr",
     "output_type": "stream",
     "text": [
      "c:\\ProgramData\\anaconda3\\Lib\\site-packages\\sklearn\\linear_model\\_logistic.py:460: ConvergenceWarning: lbfgs failed to converge (status=1):\n",
      "STOP: TOTAL NO. of ITERATIONS REACHED LIMIT.\n",
      "\n",
      "Increase the number of iterations (max_iter) or scale the data as shown in:\n",
      "    https://scikit-learn.org/stable/modules/preprocessing.html\n",
      "Please also refer to the documentation for alternative solver options:\n",
      "    https://scikit-learn.org/stable/modules/linear_model.html#logistic-regression\n",
      "  n_iter_i = _check_optimize_result(\n",
      "c:\\ProgramData\\anaconda3\\Lib\\site-packages\\sklearn\\linear_model\\_logistic.py:1192: UserWarning: Setting penalty=None will ignore the C and l1_ratio parameters\n",
      "  warnings.warn(\n"
     ]
    },
    {
     "name": "stdout",
     "output_type": "stream",
     "text": [
      "[CV] END .................C=0.01, penalty=None, solver=lbfgs; total time=   3.2s\n"
     ]
    },
    {
     "name": "stderr",
     "output_type": "stream",
     "text": [
      "c:\\ProgramData\\anaconda3\\Lib\\site-packages\\sklearn\\linear_model\\_logistic.py:460: ConvergenceWarning: lbfgs failed to converge (status=1):\n",
      "STOP: TOTAL NO. of ITERATIONS REACHED LIMIT.\n",
      "\n",
      "Increase the number of iterations (max_iter) or scale the data as shown in:\n",
      "    https://scikit-learn.org/stable/modules/preprocessing.html\n",
      "Please also refer to the documentation for alternative solver options:\n",
      "    https://scikit-learn.org/stable/modules/linear_model.html#logistic-regression\n",
      "  n_iter_i = _check_optimize_result(\n",
      "c:\\ProgramData\\anaconda3\\Lib\\site-packages\\sklearn\\linear_model\\_logistic.py:1192: UserWarning: Setting penalty=None will ignore the C and l1_ratio parameters\n",
      "  warnings.warn(\n"
     ]
    },
    {
     "name": "stdout",
     "output_type": "stream",
     "text": [
      "[CV] END .................C=0.01, penalty=None, solver=lbfgs; total time=   3.1s\n"
     ]
    },
    {
     "name": "stderr",
     "output_type": "stream",
     "text": [
      "c:\\ProgramData\\anaconda3\\Lib\\site-packages\\sklearn\\linear_model\\_logistic.py:460: ConvergenceWarning: lbfgs failed to converge (status=1):\n",
      "STOP: TOTAL NO. of ITERATIONS REACHED LIMIT.\n",
      "\n",
      "Increase the number of iterations (max_iter) or scale the data as shown in:\n",
      "    https://scikit-learn.org/stable/modules/preprocessing.html\n",
      "Please also refer to the documentation for alternative solver options:\n",
      "    https://scikit-learn.org/stable/modules/linear_model.html#logistic-regression\n",
      "  n_iter_i = _check_optimize_result(\n",
      "c:\\ProgramData\\anaconda3\\Lib\\site-packages\\sklearn\\linear_model\\_logistic.py:1192: UserWarning: Setting penalty=None will ignore the C and l1_ratio parameters\n",
      "  warnings.warn(\n"
     ]
    },
    {
     "name": "stdout",
     "output_type": "stream",
     "text": [
      "[CV] END .................C=0.01, penalty=None, solver=lbfgs; total time=   3.2s\n"
     ]
    },
    {
     "name": "stderr",
     "output_type": "stream",
     "text": [
      "c:\\ProgramData\\anaconda3\\Lib\\site-packages\\sklearn\\linear_model\\_logistic.py:460: ConvergenceWarning: lbfgs failed to converge (status=1):\n",
      "STOP: TOTAL NO. of ITERATIONS REACHED LIMIT.\n",
      "\n",
      "Increase the number of iterations (max_iter) or scale the data as shown in:\n",
      "    https://scikit-learn.org/stable/modules/preprocessing.html\n",
      "Please also refer to the documentation for alternative solver options:\n",
      "    https://scikit-learn.org/stable/modules/linear_model.html#logistic-regression\n",
      "  n_iter_i = _check_optimize_result(\n",
      "c:\\ProgramData\\anaconda3\\Lib\\site-packages\\sklearn\\linear_model\\_logistic.py:1192: UserWarning: Setting penalty=None will ignore the C and l1_ratio parameters\n",
      "  warnings.warn(\n"
     ]
    },
    {
     "name": "stdout",
     "output_type": "stream",
     "text": [
      "[CV] END .................C=0.01, penalty=None, solver=lbfgs; total time=   3.2s\n"
     ]
    },
    {
     "name": "stderr",
     "output_type": "stream",
     "text": [
      "c:\\ProgramData\\anaconda3\\Lib\\site-packages\\sklearn\\linear_model\\_sag.py:350: ConvergenceWarning: The max_iter was reached which means the coef_ did not converge\n",
      "  warnings.warn(\n",
      "c:\\ProgramData\\anaconda3\\Lib\\site-packages\\sklearn\\linear_model\\_logistic.py:1192: UserWarning: Setting penalty=None will ignore the C and l1_ratio parameters\n",
      "  warnings.warn(\n"
     ]
    },
    {
     "name": "stdout",
     "output_type": "stream",
     "text": [
      "[CV] END ..................C=0.01, penalty=None, solver=saga; total time= 1.0min\n"
     ]
    },
    {
     "name": "stderr",
     "output_type": "stream",
     "text": [
      "c:\\ProgramData\\anaconda3\\Lib\\site-packages\\sklearn\\linear_model\\_sag.py:350: ConvergenceWarning: The max_iter was reached which means the coef_ did not converge\n",
      "  warnings.warn(\n",
      "c:\\ProgramData\\anaconda3\\Lib\\site-packages\\sklearn\\linear_model\\_logistic.py:1192: UserWarning: Setting penalty=None will ignore the C and l1_ratio parameters\n",
      "  warnings.warn(\n"
     ]
    },
    {
     "name": "stdout",
     "output_type": "stream",
     "text": [
      "[CV] END ..................C=0.01, penalty=None, solver=saga; total time= 1.0min\n"
     ]
    },
    {
     "name": "stderr",
     "output_type": "stream",
     "text": [
      "c:\\ProgramData\\anaconda3\\Lib\\site-packages\\sklearn\\linear_model\\_sag.py:350: ConvergenceWarning: The max_iter was reached which means the coef_ did not converge\n",
      "  warnings.warn(\n",
      "c:\\ProgramData\\anaconda3\\Lib\\site-packages\\sklearn\\linear_model\\_logistic.py:1192: UserWarning: Setting penalty=None will ignore the C and l1_ratio parameters\n",
      "  warnings.warn(\n"
     ]
    },
    {
     "name": "stdout",
     "output_type": "stream",
     "text": [
      "[CV] END ..................C=0.01, penalty=None, solver=saga; total time= 1.0min\n"
     ]
    },
    {
     "name": "stderr",
     "output_type": "stream",
     "text": [
      "c:\\ProgramData\\anaconda3\\Lib\\site-packages\\sklearn\\linear_model\\_sag.py:350: ConvergenceWarning: The max_iter was reached which means the coef_ did not converge\n",
      "  warnings.warn(\n",
      "c:\\ProgramData\\anaconda3\\Lib\\site-packages\\sklearn\\linear_model\\_logistic.py:1192: UserWarning: Setting penalty=None will ignore the C and l1_ratio parameters\n",
      "  warnings.warn(\n"
     ]
    },
    {
     "name": "stdout",
     "output_type": "stream",
     "text": [
      "[CV] END ..................C=0.01, penalty=None, solver=saga; total time= 1.0min\n"
     ]
    },
    {
     "name": "stderr",
     "output_type": "stream",
     "text": [
      "c:\\ProgramData\\anaconda3\\Lib\\site-packages\\sklearn\\linear_model\\_sag.py:350: ConvergenceWarning: The max_iter was reached which means the coef_ did not converge\n",
      "  warnings.warn(\n",
      "c:\\ProgramData\\anaconda3\\Lib\\site-packages\\sklearn\\linear_model\\_logistic.py:1192: UserWarning: Setting penalty=None will ignore the C and l1_ratio parameters\n",
      "  warnings.warn(\n"
     ]
    },
    {
     "name": "stdout",
     "output_type": "stream",
     "text": [
      "[CV] END ..................C=0.01, penalty=None, solver=saga; total time= 1.0min\n"
     ]
    },
    {
     "name": "stderr",
     "output_type": "stream",
     "text": [
      "c:\\ProgramData\\anaconda3\\Lib\\site-packages\\scipy\\optimize\\_linesearch.py:314: LineSearchWarning: The line search algorithm did not converge\n",
      "  warn('The line search algorithm did not converge', LineSearchWarning)\n",
      "c:\\ProgramData\\anaconda3\\Lib\\site-packages\\sklearn\\utils\\optimize.py:204: UserWarning: Line Search failed\n",
      "  warnings.warn(\"Line Search failed\")\n",
      "c:\\ProgramData\\anaconda3\\Lib\\site-packages\\sklearn\\linear_model\\_logistic.py:1192: UserWarning: Setting penalty=None will ignore the C and l1_ratio parameters\n",
      "  warnings.warn(\n"
     ]
    },
    {
     "name": "stdout",
     "output_type": "stream",
     "text": [
      "[CV] END .............C=0.01, penalty=None, solver=newton-cg; total time= 1.2min\n"
     ]
    },
    {
     "name": "stderr",
     "output_type": "stream",
     "text": [
      "c:\\ProgramData\\anaconda3\\Lib\\site-packages\\scipy\\optimize\\_linesearch.py:314: LineSearchWarning: The line search algorithm did not converge\n",
      "  warn('The line search algorithm did not converge', LineSearchWarning)\n",
      "c:\\ProgramData\\anaconda3\\Lib\\site-packages\\sklearn\\utils\\optimize.py:204: UserWarning: Line Search failed\n",
      "  warnings.warn(\"Line Search failed\")\n",
      "c:\\ProgramData\\anaconda3\\Lib\\site-packages\\sklearn\\linear_model\\_logistic.py:1192: UserWarning: Setting penalty=None will ignore the C and l1_ratio parameters\n",
      "  warnings.warn(\n"
     ]
    },
    {
     "name": "stdout",
     "output_type": "stream",
     "text": [
      "[CV] END .............C=0.01, penalty=None, solver=newton-cg; total time=  21.1s\n"
     ]
    },
    {
     "name": "stderr",
     "output_type": "stream",
     "text": [
      "c:\\ProgramData\\anaconda3\\Lib\\site-packages\\scipy\\optimize\\_linesearch.py:314: LineSearchWarning: The line search algorithm did not converge\n",
      "  warn('The line search algorithm did not converge', LineSearchWarning)\n",
      "c:\\ProgramData\\anaconda3\\Lib\\site-packages\\sklearn\\utils\\optimize.py:204: UserWarning: Line Search failed\n",
      "  warnings.warn(\"Line Search failed\")\n",
      "c:\\ProgramData\\anaconda3\\Lib\\site-packages\\sklearn\\linear_model\\_logistic.py:1192: UserWarning: Setting penalty=None will ignore the C and l1_ratio parameters\n",
      "  warnings.warn(\n"
     ]
    },
    {
     "name": "stdout",
     "output_type": "stream",
     "text": [
      "[CV] END .............C=0.01, penalty=None, solver=newton-cg; total time=  41.1s\n"
     ]
    },
    {
     "name": "stderr",
     "output_type": "stream",
     "text": [
      "c:\\ProgramData\\anaconda3\\Lib\\site-packages\\scipy\\optimize\\_linesearch.py:314: LineSearchWarning: The line search algorithm did not converge\n",
      "  warn('The line search algorithm did not converge', LineSearchWarning)\n",
      "c:\\ProgramData\\anaconda3\\Lib\\site-packages\\sklearn\\utils\\optimize.py:204: UserWarning: Line Search failed\n",
      "  warnings.warn(\"Line Search failed\")\n",
      "c:\\ProgramData\\anaconda3\\Lib\\site-packages\\sklearn\\linear_model\\_logistic.py:1192: UserWarning: Setting penalty=None will ignore the C and l1_ratio parameters\n",
      "  warnings.warn(\n"
     ]
    },
    {
     "name": "stdout",
     "output_type": "stream",
     "text": [
      "[CV] END .............C=0.01, penalty=None, solver=newton-cg; total time=  40.6s\n"
     ]
    },
    {
     "name": "stderr",
     "output_type": "stream",
     "text": [
      "c:\\ProgramData\\anaconda3\\Lib\\site-packages\\scipy\\optimize\\_linesearch.py:314: LineSearchWarning: The line search algorithm did not converge\n",
      "  warn('The line search algorithm did not converge', LineSearchWarning)\n",
      "c:\\ProgramData\\anaconda3\\Lib\\site-packages\\sklearn\\utils\\optimize.py:204: UserWarning: Line Search failed\n",
      "  warnings.warn(\"Line Search failed\")\n"
     ]
    },
    {
     "name": "stdout",
     "output_type": "stream",
     "text": [
      "[CV] END .............C=0.01, penalty=None, solver=newton-cg; total time=  50.6s\n",
      "[CV] END ....................C=0.1, penalty=l2, solver=lbfgs; total time=   0.2s\n",
      "[CV] END ....................C=0.1, penalty=l2, solver=lbfgs; total time=   0.2s\n",
      "[CV] END ....................C=0.1, penalty=l2, solver=lbfgs; total time=   0.2s\n",
      "[CV] END ....................C=0.1, penalty=l2, solver=lbfgs; total time=   0.2s\n",
      "[CV] END ....................C=0.1, penalty=l2, solver=lbfgs; total time=   0.2s\n",
      "[CV] END .....................C=0.1, penalty=l2, solver=saga; total time=   1.1s\n",
      "[CV] END .....................C=0.1, penalty=l2, solver=saga; total time=   1.2s\n",
      "[CV] END .....................C=0.1, penalty=l2, solver=saga; total time=   1.2s\n",
      "[CV] END .....................C=0.1, penalty=l2, solver=saga; total time=   1.1s\n",
      "[CV] END .....................C=0.1, penalty=l2, solver=saga; total time=   1.1s\n"
     ]
    },
    {
     "name": "stderr",
     "output_type": "stream",
     "text": [
      "c:\\ProgramData\\anaconda3\\Lib\\site-packages\\scipy\\optimize\\_linesearch.py:314: LineSearchWarning: The line search algorithm did not converge\n",
      "  warn('The line search algorithm did not converge', LineSearchWarning)\n",
      "c:\\ProgramData\\anaconda3\\Lib\\site-packages\\sklearn\\utils\\optimize.py:204: UserWarning: Line Search failed\n",
      "  warnings.warn(\"Line Search failed\")\n"
     ]
    },
    {
     "name": "stdout",
     "output_type": "stream",
     "text": [
      "[CV] END ................C=0.1, penalty=l2, solver=newton-cg; total time=   0.8s\n"
     ]
    },
    {
     "name": "stderr",
     "output_type": "stream",
     "text": [
      "c:\\ProgramData\\anaconda3\\Lib\\site-packages\\scipy\\optimize\\_linesearch.py:314: LineSearchWarning: The line search algorithm did not converge\n",
      "  warn('The line search algorithm did not converge', LineSearchWarning)\n",
      "c:\\ProgramData\\anaconda3\\Lib\\site-packages\\sklearn\\utils\\optimize.py:204: UserWarning: Line Search failed\n",
      "  warnings.warn(\"Line Search failed\")\n"
     ]
    },
    {
     "name": "stdout",
     "output_type": "stream",
     "text": [
      "[CV] END ................C=0.1, penalty=l2, solver=newton-cg; total time=   0.9s\n"
     ]
    },
    {
     "name": "stderr",
     "output_type": "stream",
     "text": [
      "c:\\ProgramData\\anaconda3\\Lib\\site-packages\\scipy\\optimize\\_linesearch.py:314: LineSearchWarning: The line search algorithm did not converge\n",
      "  warn('The line search algorithm did not converge', LineSearchWarning)\n",
      "c:\\ProgramData\\anaconda3\\Lib\\site-packages\\sklearn\\utils\\optimize.py:204: UserWarning: Line Search failed\n",
      "  warnings.warn(\"Line Search failed\")\n"
     ]
    },
    {
     "name": "stdout",
     "output_type": "stream",
     "text": [
      "[CV] END ................C=0.1, penalty=l2, solver=newton-cg; total time=   1.4s\n"
     ]
    },
    {
     "name": "stderr",
     "output_type": "stream",
     "text": [
      "c:\\ProgramData\\anaconda3\\Lib\\site-packages\\scipy\\optimize\\_linesearch.py:314: LineSearchWarning: The line search algorithm did not converge\n",
      "  warn('The line search algorithm did not converge', LineSearchWarning)\n",
      "c:\\ProgramData\\anaconda3\\Lib\\site-packages\\sklearn\\utils\\optimize.py:204: UserWarning: Line Search failed\n",
      "  warnings.warn(\"Line Search failed\")\n"
     ]
    },
    {
     "name": "stdout",
     "output_type": "stream",
     "text": [
      "[CV] END ................C=0.1, penalty=l2, solver=newton-cg; total time=   1.4s\n"
     ]
    },
    {
     "name": "stderr",
     "output_type": "stream",
     "text": [
      "c:\\ProgramData\\anaconda3\\Lib\\site-packages\\scipy\\optimize\\_linesearch.py:314: LineSearchWarning: The line search algorithm did not converge\n",
      "  warn('The line search algorithm did not converge', LineSearchWarning)\n",
      "c:\\ProgramData\\anaconda3\\Lib\\site-packages\\sklearn\\utils\\optimize.py:204: UserWarning: Line Search failed\n",
      "  warnings.warn(\"Line Search failed\")\n",
      "c:\\ProgramData\\anaconda3\\Lib\\site-packages\\sklearn\\linear_model\\_logistic.py:1192: UserWarning: Setting penalty=None will ignore the C and l1_ratio parameters\n",
      "  warnings.warn(\n"
     ]
    },
    {
     "name": "stdout",
     "output_type": "stream",
     "text": [
      "[CV] END ................C=0.1, penalty=l2, solver=newton-cg; total time=   1.8s\n"
     ]
    },
    {
     "name": "stderr",
     "output_type": "stream",
     "text": [
      "c:\\ProgramData\\anaconda3\\Lib\\site-packages\\sklearn\\linear_model\\_logistic.py:460: ConvergenceWarning: lbfgs failed to converge (status=1):\n",
      "STOP: TOTAL NO. of ITERATIONS REACHED LIMIT.\n",
      "\n",
      "Increase the number of iterations (max_iter) or scale the data as shown in:\n",
      "    https://scikit-learn.org/stable/modules/preprocessing.html\n",
      "Please also refer to the documentation for alternative solver options:\n",
      "    https://scikit-learn.org/stable/modules/linear_model.html#logistic-regression\n",
      "  n_iter_i = _check_optimize_result(\n",
      "c:\\ProgramData\\anaconda3\\Lib\\site-packages\\sklearn\\linear_model\\_logistic.py:1192: UserWarning: Setting penalty=None will ignore the C and l1_ratio parameters\n",
      "  warnings.warn(\n"
     ]
    },
    {
     "name": "stdout",
     "output_type": "stream",
     "text": [
      "[CV] END ..................C=0.1, penalty=None, solver=lbfgs; total time=   3.2s\n"
     ]
    },
    {
     "name": "stderr",
     "output_type": "stream",
     "text": [
      "c:\\ProgramData\\anaconda3\\Lib\\site-packages\\sklearn\\linear_model\\_logistic.py:460: ConvergenceWarning: lbfgs failed to converge (status=1):\n",
      "STOP: TOTAL NO. of ITERATIONS REACHED LIMIT.\n",
      "\n",
      "Increase the number of iterations (max_iter) or scale the data as shown in:\n",
      "    https://scikit-learn.org/stable/modules/preprocessing.html\n",
      "Please also refer to the documentation for alternative solver options:\n",
      "    https://scikit-learn.org/stable/modules/linear_model.html#logistic-regression\n",
      "  n_iter_i = _check_optimize_result(\n",
      "c:\\ProgramData\\anaconda3\\Lib\\site-packages\\sklearn\\linear_model\\_logistic.py:1192: UserWarning: Setting penalty=None will ignore the C and l1_ratio parameters\n",
      "  warnings.warn(\n"
     ]
    },
    {
     "name": "stdout",
     "output_type": "stream",
     "text": [
      "[CV] END ..................C=0.1, penalty=None, solver=lbfgs; total time=   3.2s\n"
     ]
    },
    {
     "name": "stderr",
     "output_type": "stream",
     "text": [
      "c:\\ProgramData\\anaconda3\\Lib\\site-packages\\sklearn\\linear_model\\_logistic.py:460: ConvergenceWarning: lbfgs failed to converge (status=1):\n",
      "STOP: TOTAL NO. of ITERATIONS REACHED LIMIT.\n",
      "\n",
      "Increase the number of iterations (max_iter) or scale the data as shown in:\n",
      "    https://scikit-learn.org/stable/modules/preprocessing.html\n",
      "Please also refer to the documentation for alternative solver options:\n",
      "    https://scikit-learn.org/stable/modules/linear_model.html#logistic-regression\n",
      "  n_iter_i = _check_optimize_result(\n",
      "c:\\ProgramData\\anaconda3\\Lib\\site-packages\\sklearn\\linear_model\\_logistic.py:1192: UserWarning: Setting penalty=None will ignore the C and l1_ratio parameters\n",
      "  warnings.warn(\n"
     ]
    },
    {
     "name": "stdout",
     "output_type": "stream",
     "text": [
      "[CV] END ..................C=0.1, penalty=None, solver=lbfgs; total time=   3.2s\n"
     ]
    },
    {
     "name": "stderr",
     "output_type": "stream",
     "text": [
      "c:\\ProgramData\\anaconda3\\Lib\\site-packages\\sklearn\\linear_model\\_logistic.py:460: ConvergenceWarning: lbfgs failed to converge (status=1):\n",
      "STOP: TOTAL NO. of ITERATIONS REACHED LIMIT.\n",
      "\n",
      "Increase the number of iterations (max_iter) or scale the data as shown in:\n",
      "    https://scikit-learn.org/stable/modules/preprocessing.html\n",
      "Please also refer to the documentation for alternative solver options:\n",
      "    https://scikit-learn.org/stable/modules/linear_model.html#logistic-regression\n",
      "  n_iter_i = _check_optimize_result(\n",
      "c:\\ProgramData\\anaconda3\\Lib\\site-packages\\sklearn\\linear_model\\_logistic.py:1192: UserWarning: Setting penalty=None will ignore the C and l1_ratio parameters\n",
      "  warnings.warn(\n"
     ]
    },
    {
     "name": "stdout",
     "output_type": "stream",
     "text": [
      "[CV] END ..................C=0.1, penalty=None, solver=lbfgs; total time=   3.2s\n"
     ]
    },
    {
     "name": "stderr",
     "output_type": "stream",
     "text": [
      "c:\\ProgramData\\anaconda3\\Lib\\site-packages\\sklearn\\linear_model\\_logistic.py:460: ConvergenceWarning: lbfgs failed to converge (status=1):\n",
      "STOP: TOTAL NO. of ITERATIONS REACHED LIMIT.\n",
      "\n",
      "Increase the number of iterations (max_iter) or scale the data as shown in:\n",
      "    https://scikit-learn.org/stable/modules/preprocessing.html\n",
      "Please also refer to the documentation for alternative solver options:\n",
      "    https://scikit-learn.org/stable/modules/linear_model.html#logistic-regression\n",
      "  n_iter_i = _check_optimize_result(\n",
      "c:\\ProgramData\\anaconda3\\Lib\\site-packages\\sklearn\\linear_model\\_logistic.py:1192: UserWarning: Setting penalty=None will ignore the C and l1_ratio parameters\n",
      "  warnings.warn(\n"
     ]
    },
    {
     "name": "stdout",
     "output_type": "stream",
     "text": [
      "[CV] END ..................C=0.1, penalty=None, solver=lbfgs; total time=   3.2s\n"
     ]
    },
    {
     "name": "stderr",
     "output_type": "stream",
     "text": [
      "c:\\ProgramData\\anaconda3\\Lib\\site-packages\\sklearn\\linear_model\\_sag.py:350: ConvergenceWarning: The max_iter was reached which means the coef_ did not converge\n",
      "  warnings.warn(\n",
      "c:\\ProgramData\\anaconda3\\Lib\\site-packages\\sklearn\\linear_model\\_logistic.py:1192: UserWarning: Setting penalty=None will ignore the C and l1_ratio parameters\n",
      "  warnings.warn(\n"
     ]
    },
    {
     "name": "stdout",
     "output_type": "stream",
     "text": [
      "[CV] END ...................C=0.1, penalty=None, solver=saga; total time= 1.0min\n"
     ]
    },
    {
     "name": "stderr",
     "output_type": "stream",
     "text": [
      "c:\\ProgramData\\anaconda3\\Lib\\site-packages\\sklearn\\linear_model\\_sag.py:350: ConvergenceWarning: The max_iter was reached which means the coef_ did not converge\n",
      "  warnings.warn(\n",
      "c:\\ProgramData\\anaconda3\\Lib\\site-packages\\sklearn\\linear_model\\_logistic.py:1192: UserWarning: Setting penalty=None will ignore the C and l1_ratio parameters\n",
      "  warnings.warn(\n"
     ]
    },
    {
     "name": "stdout",
     "output_type": "stream",
     "text": [
      "[CV] END ...................C=0.1, penalty=None, solver=saga; total time= 1.0min\n"
     ]
    },
    {
     "name": "stderr",
     "output_type": "stream",
     "text": [
      "c:\\ProgramData\\anaconda3\\Lib\\site-packages\\sklearn\\linear_model\\_sag.py:350: ConvergenceWarning: The max_iter was reached which means the coef_ did not converge\n",
      "  warnings.warn(\n",
      "c:\\ProgramData\\anaconda3\\Lib\\site-packages\\sklearn\\linear_model\\_logistic.py:1192: UserWarning: Setting penalty=None will ignore the C and l1_ratio parameters\n",
      "  warnings.warn(\n"
     ]
    },
    {
     "name": "stdout",
     "output_type": "stream",
     "text": [
      "[CV] END ...................C=0.1, penalty=None, solver=saga; total time= 1.0min\n"
     ]
    },
    {
     "name": "stderr",
     "output_type": "stream",
     "text": [
      "c:\\ProgramData\\anaconda3\\Lib\\site-packages\\sklearn\\linear_model\\_sag.py:350: ConvergenceWarning: The max_iter was reached which means the coef_ did not converge\n",
      "  warnings.warn(\n",
      "c:\\ProgramData\\anaconda3\\Lib\\site-packages\\sklearn\\linear_model\\_logistic.py:1192: UserWarning: Setting penalty=None will ignore the C and l1_ratio parameters\n",
      "  warnings.warn(\n"
     ]
    },
    {
     "name": "stdout",
     "output_type": "stream",
     "text": [
      "[CV] END ...................C=0.1, penalty=None, solver=saga; total time= 1.0min\n"
     ]
    },
    {
     "name": "stderr",
     "output_type": "stream",
     "text": [
      "c:\\ProgramData\\anaconda3\\Lib\\site-packages\\sklearn\\linear_model\\_sag.py:350: ConvergenceWarning: The max_iter was reached which means the coef_ did not converge\n",
      "  warnings.warn(\n",
      "c:\\ProgramData\\anaconda3\\Lib\\site-packages\\sklearn\\linear_model\\_logistic.py:1192: UserWarning: Setting penalty=None will ignore the C and l1_ratio parameters\n",
      "  warnings.warn(\n"
     ]
    },
    {
     "name": "stdout",
     "output_type": "stream",
     "text": [
      "[CV] END ...................C=0.1, penalty=None, solver=saga; total time= 1.0min\n"
     ]
    },
    {
     "name": "stderr",
     "output_type": "stream",
     "text": [
      "c:\\ProgramData\\anaconda3\\Lib\\site-packages\\scipy\\optimize\\_linesearch.py:314: LineSearchWarning: The line search algorithm did not converge\n",
      "  warn('The line search algorithm did not converge', LineSearchWarning)\n",
      "c:\\ProgramData\\anaconda3\\Lib\\site-packages\\sklearn\\utils\\optimize.py:204: UserWarning: Line Search failed\n",
      "  warnings.warn(\"Line Search failed\")\n",
      "c:\\ProgramData\\anaconda3\\Lib\\site-packages\\sklearn\\linear_model\\_logistic.py:1192: UserWarning: Setting penalty=None will ignore the C and l1_ratio parameters\n",
      "  warnings.warn(\n"
     ]
    },
    {
     "name": "stdout",
     "output_type": "stream",
     "text": [
      "[CV] END ..............C=0.1, penalty=None, solver=newton-cg; total time= 1.2min\n"
     ]
    },
    {
     "name": "stderr",
     "output_type": "stream",
     "text": [
      "c:\\ProgramData\\anaconda3\\Lib\\site-packages\\scipy\\optimize\\_linesearch.py:314: LineSearchWarning: The line search algorithm did not converge\n",
      "  warn('The line search algorithm did not converge', LineSearchWarning)\n",
      "c:\\ProgramData\\anaconda3\\Lib\\site-packages\\sklearn\\utils\\optimize.py:204: UserWarning: Line Search failed\n",
      "  warnings.warn(\"Line Search failed\")\n",
      "c:\\ProgramData\\anaconda3\\Lib\\site-packages\\sklearn\\linear_model\\_logistic.py:1192: UserWarning: Setting penalty=None will ignore the C and l1_ratio parameters\n",
      "  warnings.warn(\n"
     ]
    },
    {
     "name": "stdout",
     "output_type": "stream",
     "text": [
      "[CV] END ..............C=0.1, penalty=None, solver=newton-cg; total time=  20.4s\n"
     ]
    },
    {
     "name": "stderr",
     "output_type": "stream",
     "text": [
      "c:\\ProgramData\\anaconda3\\Lib\\site-packages\\scipy\\optimize\\_linesearch.py:314: LineSearchWarning: The line search algorithm did not converge\n",
      "  warn('The line search algorithm did not converge', LineSearchWarning)\n",
      "c:\\ProgramData\\anaconda3\\Lib\\site-packages\\sklearn\\utils\\optimize.py:204: UserWarning: Line Search failed\n",
      "  warnings.warn(\"Line Search failed\")\n",
      "c:\\ProgramData\\anaconda3\\Lib\\site-packages\\sklearn\\linear_model\\_logistic.py:1192: UserWarning: Setting penalty=None will ignore the C and l1_ratio parameters\n",
      "  warnings.warn(\n"
     ]
    },
    {
     "name": "stdout",
     "output_type": "stream",
     "text": [
      "[CV] END ..............C=0.1, penalty=None, solver=newton-cg; total time=  40.5s\n"
     ]
    },
    {
     "name": "stderr",
     "output_type": "stream",
     "text": [
      "c:\\ProgramData\\anaconda3\\Lib\\site-packages\\scipy\\optimize\\_linesearch.py:314: LineSearchWarning: The line search algorithm did not converge\n",
      "  warn('The line search algorithm did not converge', LineSearchWarning)\n",
      "c:\\ProgramData\\anaconda3\\Lib\\site-packages\\sklearn\\utils\\optimize.py:204: UserWarning: Line Search failed\n",
      "  warnings.warn(\"Line Search failed\")\n",
      "c:\\ProgramData\\anaconda3\\Lib\\site-packages\\sklearn\\linear_model\\_logistic.py:1192: UserWarning: Setting penalty=None will ignore the C and l1_ratio parameters\n",
      "  warnings.warn(\n"
     ]
    },
    {
     "name": "stdout",
     "output_type": "stream",
     "text": [
      "[CV] END ..............C=0.1, penalty=None, solver=newton-cg; total time=  39.8s\n"
     ]
    },
    {
     "name": "stderr",
     "output_type": "stream",
     "text": [
      "c:\\ProgramData\\anaconda3\\Lib\\site-packages\\scipy\\optimize\\_linesearch.py:314: LineSearchWarning: The line search algorithm did not converge\n",
      "  warn('The line search algorithm did not converge', LineSearchWarning)\n",
      "c:\\ProgramData\\anaconda3\\Lib\\site-packages\\sklearn\\utils\\optimize.py:204: UserWarning: Line Search failed\n",
      "  warnings.warn(\"Line Search failed\")\n"
     ]
    },
    {
     "name": "stdout",
     "output_type": "stream",
     "text": [
      "[CV] END ..............C=0.1, penalty=None, solver=newton-cg; total time=  50.0s\n",
      "[CV] END ......................C=1, penalty=l2, solver=lbfgs; total time=   0.7s\n",
      "[CV] END ......................C=1, penalty=l2, solver=lbfgs; total time=   0.7s\n",
      "[CV] END ......................C=1, penalty=l2, solver=lbfgs; total time=   0.7s\n",
      "[CV] END ......................C=1, penalty=l2, solver=lbfgs; total time=   0.7s\n",
      "[CV] END ......................C=1, penalty=l2, solver=lbfgs; total time=   0.7s\n",
      "[CV] END .......................C=1, penalty=l2, solver=saga; total time=   2.8s\n",
      "[CV] END .......................C=1, penalty=l2, solver=saga; total time=   2.7s\n",
      "[CV] END .......................C=1, penalty=l2, solver=saga; total time=   2.7s\n",
      "[CV] END .......................C=1, penalty=l2, solver=saga; total time=   2.8s\n",
      "[CV] END .......................C=1, penalty=l2, solver=saga; total time=   2.8s\n"
     ]
    },
    {
     "name": "stderr",
     "output_type": "stream",
     "text": [
      "c:\\ProgramData\\anaconda3\\Lib\\site-packages\\scipy\\optimize\\_linesearch.py:314: LineSearchWarning: The line search algorithm did not converge\n",
      "  warn('The line search algorithm did not converge', LineSearchWarning)\n",
      "c:\\ProgramData\\anaconda3\\Lib\\site-packages\\sklearn\\utils\\optimize.py:204: UserWarning: Line Search failed\n",
      "  warnings.warn(\"Line Search failed\")\n"
     ]
    },
    {
     "name": "stdout",
     "output_type": "stream",
     "text": [
      "[CV] END ..................C=1, penalty=l2, solver=newton-cg; total time=   2.1s\n"
     ]
    },
    {
     "name": "stderr",
     "output_type": "stream",
     "text": [
      "c:\\ProgramData\\anaconda3\\Lib\\site-packages\\scipy\\optimize\\_linesearch.py:314: LineSearchWarning: The line search algorithm did not converge\n",
      "  warn('The line search algorithm did not converge', LineSearchWarning)\n",
      "c:\\ProgramData\\anaconda3\\Lib\\site-packages\\sklearn\\utils\\optimize.py:204: UserWarning: Line Search failed\n",
      "  warnings.warn(\"Line Search failed\")\n"
     ]
    },
    {
     "name": "stdout",
     "output_type": "stream",
     "text": [
      "[CV] END ..................C=1, penalty=l2, solver=newton-cg; total time=   2.9s\n"
     ]
    },
    {
     "name": "stderr",
     "output_type": "stream",
     "text": [
      "c:\\ProgramData\\anaconda3\\Lib\\site-packages\\scipy\\optimize\\_linesearch.py:314: LineSearchWarning: The line search algorithm did not converge\n",
      "  warn('The line search algorithm did not converge', LineSearchWarning)\n",
      "c:\\ProgramData\\anaconda3\\Lib\\site-packages\\sklearn\\utils\\optimize.py:204: UserWarning: Line Search failed\n",
      "  warnings.warn(\"Line Search failed\")\n"
     ]
    },
    {
     "name": "stdout",
     "output_type": "stream",
     "text": [
      "[CV] END ..................C=1, penalty=l2, solver=newton-cg; total time=   1.3s\n"
     ]
    },
    {
     "name": "stderr",
     "output_type": "stream",
     "text": [
      "c:\\ProgramData\\anaconda3\\Lib\\site-packages\\scipy\\optimize\\_linesearch.py:314: LineSearchWarning: The line search algorithm did not converge\n",
      "  warn('The line search algorithm did not converge', LineSearchWarning)\n",
      "c:\\ProgramData\\anaconda3\\Lib\\site-packages\\sklearn\\utils\\optimize.py:204: UserWarning: Line Search failed\n",
      "  warnings.warn(\"Line Search failed\")\n"
     ]
    },
    {
     "name": "stdout",
     "output_type": "stream",
     "text": [
      "[CV] END ..................C=1, penalty=l2, solver=newton-cg; total time=   1.3s\n"
     ]
    },
    {
     "name": "stderr",
     "output_type": "stream",
     "text": [
      "c:\\ProgramData\\anaconda3\\Lib\\site-packages\\scipy\\optimize\\_linesearch.py:314: LineSearchWarning: The line search algorithm did not converge\n",
      "  warn('The line search algorithm did not converge', LineSearchWarning)\n",
      "c:\\ProgramData\\anaconda3\\Lib\\site-packages\\sklearn\\utils\\optimize.py:204: UserWarning: Line Search failed\n",
      "  warnings.warn(\"Line Search failed\")\n"
     ]
    },
    {
     "name": "stdout",
     "output_type": "stream",
     "text": [
      "[CV] END ..................C=1, penalty=l2, solver=newton-cg; total time=   1.2s\n"
     ]
    },
    {
     "name": "stderr",
     "output_type": "stream",
     "text": [
      "c:\\ProgramData\\anaconda3\\Lib\\site-packages\\sklearn\\linear_model\\_logistic.py:460: ConvergenceWarning: lbfgs failed to converge (status=1):\n",
      "STOP: TOTAL NO. of ITERATIONS REACHED LIMIT.\n",
      "\n",
      "Increase the number of iterations (max_iter) or scale the data as shown in:\n",
      "    https://scikit-learn.org/stable/modules/preprocessing.html\n",
      "Please also refer to the documentation for alternative solver options:\n",
      "    https://scikit-learn.org/stable/modules/linear_model.html#logistic-regression\n",
      "  n_iter_i = _check_optimize_result(\n"
     ]
    },
    {
     "name": "stdout",
     "output_type": "stream",
     "text": [
      "[CV] END ....................C=1, penalty=None, solver=lbfgs; total time=   3.1s\n"
     ]
    },
    {
     "name": "stderr",
     "output_type": "stream",
     "text": [
      "c:\\ProgramData\\anaconda3\\Lib\\site-packages\\sklearn\\linear_model\\_logistic.py:460: ConvergenceWarning: lbfgs failed to converge (status=1):\n",
      "STOP: TOTAL NO. of ITERATIONS REACHED LIMIT.\n",
      "\n",
      "Increase the number of iterations (max_iter) or scale the data as shown in:\n",
      "    https://scikit-learn.org/stable/modules/preprocessing.html\n",
      "Please also refer to the documentation for alternative solver options:\n",
      "    https://scikit-learn.org/stable/modules/linear_model.html#logistic-regression\n",
      "  n_iter_i = _check_optimize_result(\n"
     ]
    },
    {
     "name": "stdout",
     "output_type": "stream",
     "text": [
      "[CV] END ....................C=1, penalty=None, solver=lbfgs; total time=   3.2s\n"
     ]
    },
    {
     "name": "stderr",
     "output_type": "stream",
     "text": [
      "c:\\ProgramData\\anaconda3\\Lib\\site-packages\\sklearn\\linear_model\\_logistic.py:460: ConvergenceWarning: lbfgs failed to converge (status=1):\n",
      "STOP: TOTAL NO. of ITERATIONS REACHED LIMIT.\n",
      "\n",
      "Increase the number of iterations (max_iter) or scale the data as shown in:\n",
      "    https://scikit-learn.org/stable/modules/preprocessing.html\n",
      "Please also refer to the documentation for alternative solver options:\n",
      "    https://scikit-learn.org/stable/modules/linear_model.html#logistic-regression\n",
      "  n_iter_i = _check_optimize_result(\n"
     ]
    },
    {
     "name": "stdout",
     "output_type": "stream",
     "text": [
      "[CV] END ....................C=1, penalty=None, solver=lbfgs; total time=   3.2s\n"
     ]
    },
    {
     "name": "stderr",
     "output_type": "stream",
     "text": [
      "c:\\ProgramData\\anaconda3\\Lib\\site-packages\\sklearn\\linear_model\\_logistic.py:460: ConvergenceWarning: lbfgs failed to converge (status=1):\n",
      "STOP: TOTAL NO. of ITERATIONS REACHED LIMIT.\n",
      "\n",
      "Increase the number of iterations (max_iter) or scale the data as shown in:\n",
      "    https://scikit-learn.org/stable/modules/preprocessing.html\n",
      "Please also refer to the documentation for alternative solver options:\n",
      "    https://scikit-learn.org/stable/modules/linear_model.html#logistic-regression\n",
      "  n_iter_i = _check_optimize_result(\n"
     ]
    },
    {
     "name": "stdout",
     "output_type": "stream",
     "text": [
      "[CV] END ....................C=1, penalty=None, solver=lbfgs; total time=   3.2s\n"
     ]
    },
    {
     "name": "stderr",
     "output_type": "stream",
     "text": [
      "c:\\ProgramData\\anaconda3\\Lib\\site-packages\\sklearn\\linear_model\\_logistic.py:460: ConvergenceWarning: lbfgs failed to converge (status=1):\n",
      "STOP: TOTAL NO. of ITERATIONS REACHED LIMIT.\n",
      "\n",
      "Increase the number of iterations (max_iter) or scale the data as shown in:\n",
      "    https://scikit-learn.org/stable/modules/preprocessing.html\n",
      "Please also refer to the documentation for alternative solver options:\n",
      "    https://scikit-learn.org/stable/modules/linear_model.html#logistic-regression\n",
      "  n_iter_i = _check_optimize_result(\n"
     ]
    },
    {
     "name": "stdout",
     "output_type": "stream",
     "text": [
      "[CV] END ....................C=1, penalty=None, solver=lbfgs; total time=   3.2s\n"
     ]
    },
    {
     "name": "stderr",
     "output_type": "stream",
     "text": [
      "c:\\ProgramData\\anaconda3\\Lib\\site-packages\\sklearn\\linear_model\\_sag.py:350: ConvergenceWarning: The max_iter was reached which means the coef_ did not converge\n",
      "  warnings.warn(\n"
     ]
    },
    {
     "name": "stdout",
     "output_type": "stream",
     "text": [
      "[CV] END .....................C=1, penalty=None, solver=saga; total time= 1.0min\n"
     ]
    },
    {
     "name": "stderr",
     "output_type": "stream",
     "text": [
      "c:\\ProgramData\\anaconda3\\Lib\\site-packages\\sklearn\\linear_model\\_sag.py:350: ConvergenceWarning: The max_iter was reached which means the coef_ did not converge\n",
      "  warnings.warn(\n"
     ]
    },
    {
     "name": "stdout",
     "output_type": "stream",
     "text": [
      "[CV] END .....................C=1, penalty=None, solver=saga; total time= 1.0min\n"
     ]
    },
    {
     "name": "stderr",
     "output_type": "stream",
     "text": [
      "c:\\ProgramData\\anaconda3\\Lib\\site-packages\\sklearn\\linear_model\\_sag.py:350: ConvergenceWarning: The max_iter was reached which means the coef_ did not converge\n",
      "  warnings.warn(\n"
     ]
    },
    {
     "name": "stdout",
     "output_type": "stream",
     "text": [
      "[CV] END .....................C=1, penalty=None, solver=saga; total time= 1.0min\n"
     ]
    },
    {
     "name": "stderr",
     "output_type": "stream",
     "text": [
      "c:\\ProgramData\\anaconda3\\Lib\\site-packages\\sklearn\\linear_model\\_sag.py:350: ConvergenceWarning: The max_iter was reached which means the coef_ did not converge\n",
      "  warnings.warn(\n"
     ]
    },
    {
     "name": "stdout",
     "output_type": "stream",
     "text": [
      "[CV] END .....................C=1, penalty=None, solver=saga; total time= 1.0min\n"
     ]
    },
    {
     "name": "stderr",
     "output_type": "stream",
     "text": [
      "c:\\ProgramData\\anaconda3\\Lib\\site-packages\\sklearn\\linear_model\\_sag.py:350: ConvergenceWarning: The max_iter was reached which means the coef_ did not converge\n",
      "  warnings.warn(\n"
     ]
    },
    {
     "name": "stdout",
     "output_type": "stream",
     "text": [
      "[CV] END .....................C=1, penalty=None, solver=saga; total time= 1.0min\n"
     ]
    },
    {
     "name": "stderr",
     "output_type": "stream",
     "text": [
      "c:\\ProgramData\\anaconda3\\Lib\\site-packages\\scipy\\optimize\\_linesearch.py:314: LineSearchWarning: The line search algorithm did not converge\n",
      "  warn('The line search algorithm did not converge', LineSearchWarning)\n",
      "c:\\ProgramData\\anaconda3\\Lib\\site-packages\\sklearn\\utils\\optimize.py:204: UserWarning: Line Search failed\n",
      "  warnings.warn(\"Line Search failed\")\n"
     ]
    },
    {
     "name": "stdout",
     "output_type": "stream",
     "text": [
      "[CV] END ................C=1, penalty=None, solver=newton-cg; total time= 1.2min\n"
     ]
    },
    {
     "name": "stderr",
     "output_type": "stream",
     "text": [
      "c:\\ProgramData\\anaconda3\\Lib\\site-packages\\scipy\\optimize\\_linesearch.py:314: LineSearchWarning: The line search algorithm did not converge\n",
      "  warn('The line search algorithm did not converge', LineSearchWarning)\n",
      "c:\\ProgramData\\anaconda3\\Lib\\site-packages\\sklearn\\utils\\optimize.py:204: UserWarning: Line Search failed\n",
      "  warnings.warn(\"Line Search failed\")\n"
     ]
    },
    {
     "name": "stdout",
     "output_type": "stream",
     "text": [
      "[CV] END ................C=1, penalty=None, solver=newton-cg; total time=  20.8s\n"
     ]
    },
    {
     "name": "stderr",
     "output_type": "stream",
     "text": [
      "c:\\ProgramData\\anaconda3\\Lib\\site-packages\\scipy\\optimize\\_linesearch.py:314: LineSearchWarning: The line search algorithm did not converge\n",
      "  warn('The line search algorithm did not converge', LineSearchWarning)\n",
      "c:\\ProgramData\\anaconda3\\Lib\\site-packages\\sklearn\\utils\\optimize.py:204: UserWarning: Line Search failed\n",
      "  warnings.warn(\"Line Search failed\")\n"
     ]
    },
    {
     "name": "stdout",
     "output_type": "stream",
     "text": [
      "[CV] END ................C=1, penalty=None, solver=newton-cg; total time=  42.0s\n"
     ]
    },
    {
     "name": "stderr",
     "output_type": "stream",
     "text": [
      "c:\\ProgramData\\anaconda3\\Lib\\site-packages\\scipy\\optimize\\_linesearch.py:314: LineSearchWarning: The line search algorithm did not converge\n",
      "  warn('The line search algorithm did not converge', LineSearchWarning)\n",
      "c:\\ProgramData\\anaconda3\\Lib\\site-packages\\sklearn\\utils\\optimize.py:204: UserWarning: Line Search failed\n",
      "  warnings.warn(\"Line Search failed\")\n"
     ]
    },
    {
     "name": "stdout",
     "output_type": "stream",
     "text": [
      "[CV] END ................C=1, penalty=None, solver=newton-cg; total time=  40.5s\n"
     ]
    },
    {
     "name": "stderr",
     "output_type": "stream",
     "text": [
      "c:\\ProgramData\\anaconda3\\Lib\\site-packages\\scipy\\optimize\\_linesearch.py:314: LineSearchWarning: The line search algorithm did not converge\n",
      "  warn('The line search algorithm did not converge', LineSearchWarning)\n",
      "c:\\ProgramData\\anaconda3\\Lib\\site-packages\\sklearn\\utils\\optimize.py:204: UserWarning: Line Search failed\n",
      "  warnings.warn(\"Line Search failed\")\n"
     ]
    },
    {
     "name": "stdout",
     "output_type": "stream",
     "text": [
      "[CV] END ................C=1, penalty=None, solver=newton-cg; total time=  50.8s\n",
      "[CV] END .....................C=10, penalty=l2, solver=lbfgs; total time=   1.9s\n",
      "[CV] END .....................C=10, penalty=l2, solver=lbfgs; total time=   1.9s\n",
      "[CV] END .....................C=10, penalty=l2, solver=lbfgs; total time=   2.0s\n",
      "[CV] END .....................C=10, penalty=l2, solver=lbfgs; total time=   2.0s\n",
      "[CV] END .....................C=10, penalty=l2, solver=lbfgs; total time=   1.9s\n",
      "[CV] END ......................C=10, penalty=l2, solver=saga; total time=  16.3s\n",
      "[CV] END ......................C=10, penalty=l2, solver=saga; total time=  19.2s\n",
      "[CV] END ......................C=10, penalty=l2, solver=saga; total time=  15.4s\n",
      "[CV] END ......................C=10, penalty=l2, solver=saga; total time=  15.0s\n",
      "[CV] END ......................C=10, penalty=l2, solver=saga; total time=  20.4s\n"
     ]
    },
    {
     "name": "stderr",
     "output_type": "stream",
     "text": [
      "c:\\ProgramData\\anaconda3\\Lib\\site-packages\\scipy\\optimize\\_linesearch.py:314: LineSearchWarning: The line search algorithm did not converge\n",
      "  warn('The line search algorithm did not converge', LineSearchWarning)\n",
      "c:\\ProgramData\\anaconda3\\Lib\\site-packages\\sklearn\\utils\\optimize.py:204: UserWarning: Line Search failed\n",
      "  warnings.warn(\"Line Search failed\")\n"
     ]
    },
    {
     "name": "stdout",
     "output_type": "stream",
     "text": [
      "[CV] END .................C=10, penalty=l2, solver=newton-cg; total time=   2.7s\n"
     ]
    },
    {
     "name": "stderr",
     "output_type": "stream",
     "text": [
      "c:\\ProgramData\\anaconda3\\Lib\\site-packages\\scipy\\optimize\\_linesearch.py:314: LineSearchWarning: The line search algorithm did not converge\n",
      "  warn('The line search algorithm did not converge', LineSearchWarning)\n",
      "c:\\ProgramData\\anaconda3\\Lib\\site-packages\\sklearn\\utils\\optimize.py:204: UserWarning: Line Search failed\n",
      "  warnings.warn(\"Line Search failed\")\n"
     ]
    },
    {
     "name": "stdout",
     "output_type": "stream",
     "text": [
      "[CV] END .................C=10, penalty=l2, solver=newton-cg; total time=   3.1s\n"
     ]
    },
    {
     "name": "stderr",
     "output_type": "stream",
     "text": [
      "c:\\ProgramData\\anaconda3\\Lib\\site-packages\\scipy\\optimize\\_linesearch.py:314: LineSearchWarning: The line search algorithm did not converge\n",
      "  warn('The line search algorithm did not converge', LineSearchWarning)\n",
      "c:\\ProgramData\\anaconda3\\Lib\\site-packages\\sklearn\\utils\\optimize.py:204: UserWarning: Line Search failed\n",
      "  warnings.warn(\"Line Search failed\")\n"
     ]
    },
    {
     "name": "stdout",
     "output_type": "stream",
     "text": [
      "[CV] END .................C=10, penalty=l2, solver=newton-cg; total time=   2.8s\n"
     ]
    },
    {
     "name": "stderr",
     "output_type": "stream",
     "text": [
      "c:\\ProgramData\\anaconda3\\Lib\\site-packages\\scipy\\optimize\\_linesearch.py:314: LineSearchWarning: The line search algorithm did not converge\n",
      "  warn('The line search algorithm did not converge', LineSearchWarning)\n",
      "c:\\ProgramData\\anaconda3\\Lib\\site-packages\\sklearn\\utils\\optimize.py:204: UserWarning: Line Search failed\n",
      "  warnings.warn(\"Line Search failed\")\n"
     ]
    },
    {
     "name": "stdout",
     "output_type": "stream",
     "text": [
      "[CV] END .................C=10, penalty=l2, solver=newton-cg; total time=   3.5s\n"
     ]
    },
    {
     "name": "stderr",
     "output_type": "stream",
     "text": [
      "c:\\ProgramData\\anaconda3\\Lib\\site-packages\\scipy\\optimize\\_linesearch.py:314: LineSearchWarning: The line search algorithm did not converge\n",
      "  warn('The line search algorithm did not converge', LineSearchWarning)\n",
      "c:\\ProgramData\\anaconda3\\Lib\\site-packages\\sklearn\\utils\\optimize.py:204: UserWarning: Line Search failed\n",
      "  warnings.warn(\"Line Search failed\")\n",
      "c:\\ProgramData\\anaconda3\\Lib\\site-packages\\sklearn\\linear_model\\_logistic.py:1192: UserWarning: Setting penalty=None will ignore the C and l1_ratio parameters\n",
      "  warnings.warn(\n"
     ]
    },
    {
     "name": "stdout",
     "output_type": "stream",
     "text": [
      "[CV] END .................C=10, penalty=l2, solver=newton-cg; total time=   2.6s\n"
     ]
    },
    {
     "name": "stderr",
     "output_type": "stream",
     "text": [
      "c:\\ProgramData\\anaconda3\\Lib\\site-packages\\sklearn\\linear_model\\_logistic.py:460: ConvergenceWarning: lbfgs failed to converge (status=1):\n",
      "STOP: TOTAL NO. of ITERATIONS REACHED LIMIT.\n",
      "\n",
      "Increase the number of iterations (max_iter) or scale the data as shown in:\n",
      "    https://scikit-learn.org/stable/modules/preprocessing.html\n",
      "Please also refer to the documentation for alternative solver options:\n",
      "    https://scikit-learn.org/stable/modules/linear_model.html#logistic-regression\n",
      "  n_iter_i = _check_optimize_result(\n",
      "c:\\ProgramData\\anaconda3\\Lib\\site-packages\\sklearn\\linear_model\\_logistic.py:1192: UserWarning: Setting penalty=None will ignore the C and l1_ratio parameters\n",
      "  warnings.warn(\n"
     ]
    },
    {
     "name": "stdout",
     "output_type": "stream",
     "text": [
      "[CV] END ...................C=10, penalty=None, solver=lbfgs; total time=   3.1s\n"
     ]
    },
    {
     "name": "stderr",
     "output_type": "stream",
     "text": [
      "c:\\ProgramData\\anaconda3\\Lib\\site-packages\\sklearn\\linear_model\\_logistic.py:460: ConvergenceWarning: lbfgs failed to converge (status=1):\n",
      "STOP: TOTAL NO. of ITERATIONS REACHED LIMIT.\n",
      "\n",
      "Increase the number of iterations (max_iter) or scale the data as shown in:\n",
      "    https://scikit-learn.org/stable/modules/preprocessing.html\n",
      "Please also refer to the documentation for alternative solver options:\n",
      "    https://scikit-learn.org/stable/modules/linear_model.html#logistic-regression\n",
      "  n_iter_i = _check_optimize_result(\n",
      "c:\\ProgramData\\anaconda3\\Lib\\site-packages\\sklearn\\linear_model\\_logistic.py:1192: UserWarning: Setting penalty=None will ignore the C and l1_ratio parameters\n",
      "  warnings.warn(\n"
     ]
    },
    {
     "name": "stdout",
     "output_type": "stream",
     "text": [
      "[CV] END ...................C=10, penalty=None, solver=lbfgs; total time=   3.2s\n"
     ]
    },
    {
     "name": "stderr",
     "output_type": "stream",
     "text": [
      "c:\\ProgramData\\anaconda3\\Lib\\site-packages\\sklearn\\linear_model\\_logistic.py:460: ConvergenceWarning: lbfgs failed to converge (status=1):\n",
      "STOP: TOTAL NO. of ITERATIONS REACHED LIMIT.\n",
      "\n",
      "Increase the number of iterations (max_iter) or scale the data as shown in:\n",
      "    https://scikit-learn.org/stable/modules/preprocessing.html\n",
      "Please also refer to the documentation for alternative solver options:\n",
      "    https://scikit-learn.org/stable/modules/linear_model.html#logistic-regression\n",
      "  n_iter_i = _check_optimize_result(\n",
      "c:\\ProgramData\\anaconda3\\Lib\\site-packages\\sklearn\\linear_model\\_logistic.py:1192: UserWarning: Setting penalty=None will ignore the C and l1_ratio parameters\n",
      "  warnings.warn(\n"
     ]
    },
    {
     "name": "stdout",
     "output_type": "stream",
     "text": [
      "[CV] END ...................C=10, penalty=None, solver=lbfgs; total time=   3.2s\n"
     ]
    },
    {
     "name": "stderr",
     "output_type": "stream",
     "text": [
      "c:\\ProgramData\\anaconda3\\Lib\\site-packages\\sklearn\\linear_model\\_logistic.py:460: ConvergenceWarning: lbfgs failed to converge (status=1):\n",
      "STOP: TOTAL NO. of ITERATIONS REACHED LIMIT.\n",
      "\n",
      "Increase the number of iterations (max_iter) or scale the data as shown in:\n",
      "    https://scikit-learn.org/stable/modules/preprocessing.html\n",
      "Please also refer to the documentation for alternative solver options:\n",
      "    https://scikit-learn.org/stable/modules/linear_model.html#logistic-regression\n",
      "  n_iter_i = _check_optimize_result(\n",
      "c:\\ProgramData\\anaconda3\\Lib\\site-packages\\sklearn\\linear_model\\_logistic.py:1192: UserWarning: Setting penalty=None will ignore the C and l1_ratio parameters\n",
      "  warnings.warn(\n"
     ]
    },
    {
     "name": "stdout",
     "output_type": "stream",
     "text": [
      "[CV] END ...................C=10, penalty=None, solver=lbfgs; total time=   3.2s\n"
     ]
    },
    {
     "name": "stderr",
     "output_type": "stream",
     "text": [
      "c:\\ProgramData\\anaconda3\\Lib\\site-packages\\sklearn\\linear_model\\_logistic.py:460: ConvergenceWarning: lbfgs failed to converge (status=1):\n",
      "STOP: TOTAL NO. of ITERATIONS REACHED LIMIT.\n",
      "\n",
      "Increase the number of iterations (max_iter) or scale the data as shown in:\n",
      "    https://scikit-learn.org/stable/modules/preprocessing.html\n",
      "Please also refer to the documentation for alternative solver options:\n",
      "    https://scikit-learn.org/stable/modules/linear_model.html#logistic-regression\n",
      "  n_iter_i = _check_optimize_result(\n",
      "c:\\ProgramData\\anaconda3\\Lib\\site-packages\\sklearn\\linear_model\\_logistic.py:1192: UserWarning: Setting penalty=None will ignore the C and l1_ratio parameters\n",
      "  warnings.warn(\n"
     ]
    },
    {
     "name": "stdout",
     "output_type": "stream",
     "text": [
      "[CV] END ...................C=10, penalty=None, solver=lbfgs; total time=   3.1s\n"
     ]
    },
    {
     "name": "stderr",
     "output_type": "stream",
     "text": [
      "c:\\ProgramData\\anaconda3\\Lib\\site-packages\\sklearn\\linear_model\\_sag.py:350: ConvergenceWarning: The max_iter was reached which means the coef_ did not converge\n",
      "  warnings.warn(\n",
      "c:\\ProgramData\\anaconda3\\Lib\\site-packages\\sklearn\\linear_model\\_logistic.py:1192: UserWarning: Setting penalty=None will ignore the C and l1_ratio parameters\n",
      "  warnings.warn(\n"
     ]
    },
    {
     "name": "stdout",
     "output_type": "stream",
     "text": [
      "[CV] END ....................C=10, penalty=None, solver=saga; total time= 1.0min\n"
     ]
    },
    {
     "name": "stderr",
     "output_type": "stream",
     "text": [
      "c:\\ProgramData\\anaconda3\\Lib\\site-packages\\sklearn\\linear_model\\_sag.py:350: ConvergenceWarning: The max_iter was reached which means the coef_ did not converge\n",
      "  warnings.warn(\n",
      "c:\\ProgramData\\anaconda3\\Lib\\site-packages\\sklearn\\linear_model\\_logistic.py:1192: UserWarning: Setting penalty=None will ignore the C and l1_ratio parameters\n",
      "  warnings.warn(\n"
     ]
    },
    {
     "name": "stdout",
     "output_type": "stream",
     "text": [
      "[CV] END ....................C=10, penalty=None, solver=saga; total time= 1.0min\n"
     ]
    },
    {
     "name": "stderr",
     "output_type": "stream",
     "text": [
      "c:\\ProgramData\\anaconda3\\Lib\\site-packages\\sklearn\\linear_model\\_sag.py:350: ConvergenceWarning: The max_iter was reached which means the coef_ did not converge\n",
      "  warnings.warn(\n",
      "c:\\ProgramData\\anaconda3\\Lib\\site-packages\\sklearn\\linear_model\\_logistic.py:1192: UserWarning: Setting penalty=None will ignore the C and l1_ratio parameters\n",
      "  warnings.warn(\n"
     ]
    },
    {
     "name": "stdout",
     "output_type": "stream",
     "text": [
      "[CV] END ....................C=10, penalty=None, solver=saga; total time= 1.0min\n"
     ]
    },
    {
     "name": "stderr",
     "output_type": "stream",
     "text": [
      "c:\\ProgramData\\anaconda3\\Lib\\site-packages\\sklearn\\linear_model\\_sag.py:350: ConvergenceWarning: The max_iter was reached which means the coef_ did not converge\n",
      "  warnings.warn(\n",
      "c:\\ProgramData\\anaconda3\\Lib\\site-packages\\sklearn\\linear_model\\_logistic.py:1192: UserWarning: Setting penalty=None will ignore the C and l1_ratio parameters\n",
      "  warnings.warn(\n"
     ]
    },
    {
     "name": "stdout",
     "output_type": "stream",
     "text": [
      "[CV] END ....................C=10, penalty=None, solver=saga; total time= 1.0min\n"
     ]
    },
    {
     "name": "stderr",
     "output_type": "stream",
     "text": [
      "c:\\ProgramData\\anaconda3\\Lib\\site-packages\\sklearn\\linear_model\\_sag.py:350: ConvergenceWarning: The max_iter was reached which means the coef_ did not converge\n",
      "  warnings.warn(\n",
      "c:\\ProgramData\\anaconda3\\Lib\\site-packages\\sklearn\\linear_model\\_logistic.py:1192: UserWarning: Setting penalty=None will ignore the C and l1_ratio parameters\n",
      "  warnings.warn(\n"
     ]
    },
    {
     "name": "stdout",
     "output_type": "stream",
     "text": [
      "[CV] END ....................C=10, penalty=None, solver=saga; total time= 1.0min\n"
     ]
    },
    {
     "name": "stderr",
     "output_type": "stream",
     "text": [
      "c:\\ProgramData\\anaconda3\\Lib\\site-packages\\scipy\\optimize\\_linesearch.py:314: LineSearchWarning: The line search algorithm did not converge\n",
      "  warn('The line search algorithm did not converge', LineSearchWarning)\n",
      "c:\\ProgramData\\anaconda3\\Lib\\site-packages\\sklearn\\utils\\optimize.py:204: UserWarning: Line Search failed\n",
      "  warnings.warn(\"Line Search failed\")\n",
      "c:\\ProgramData\\anaconda3\\Lib\\site-packages\\sklearn\\linear_model\\_logistic.py:1192: UserWarning: Setting penalty=None will ignore the C and l1_ratio parameters\n",
      "  warnings.warn(\n"
     ]
    },
    {
     "name": "stdout",
     "output_type": "stream",
     "text": [
      "[CV] END ...............C=10, penalty=None, solver=newton-cg; total time= 1.2min\n"
     ]
    },
    {
     "name": "stderr",
     "output_type": "stream",
     "text": [
      "c:\\ProgramData\\anaconda3\\Lib\\site-packages\\scipy\\optimize\\_linesearch.py:314: LineSearchWarning: The line search algorithm did not converge\n",
      "  warn('The line search algorithm did not converge', LineSearchWarning)\n",
      "c:\\ProgramData\\anaconda3\\Lib\\site-packages\\sklearn\\utils\\optimize.py:204: UserWarning: Line Search failed\n",
      "  warnings.warn(\"Line Search failed\")\n",
      "c:\\ProgramData\\anaconda3\\Lib\\site-packages\\sklearn\\linear_model\\_logistic.py:1192: UserWarning: Setting penalty=None will ignore the C and l1_ratio parameters\n",
      "  warnings.warn(\n"
     ]
    },
    {
     "name": "stdout",
     "output_type": "stream",
     "text": [
      "[CV] END ...............C=10, penalty=None, solver=newton-cg; total time=  20.5s\n"
     ]
    },
    {
     "name": "stderr",
     "output_type": "stream",
     "text": [
      "c:\\ProgramData\\anaconda3\\Lib\\site-packages\\scipy\\optimize\\_linesearch.py:314: LineSearchWarning: The line search algorithm did not converge\n",
      "  warn('The line search algorithm did not converge', LineSearchWarning)\n",
      "c:\\ProgramData\\anaconda3\\Lib\\site-packages\\sklearn\\utils\\optimize.py:204: UserWarning: Line Search failed\n",
      "  warnings.warn(\"Line Search failed\")\n",
      "c:\\ProgramData\\anaconda3\\Lib\\site-packages\\sklearn\\linear_model\\_logistic.py:1192: UserWarning: Setting penalty=None will ignore the C and l1_ratio parameters\n",
      "  warnings.warn(\n"
     ]
    },
    {
     "name": "stdout",
     "output_type": "stream",
     "text": [
      "[CV] END ...............C=10, penalty=None, solver=newton-cg; total time=  40.8s\n"
     ]
    },
    {
     "name": "stderr",
     "output_type": "stream",
     "text": [
      "c:\\ProgramData\\anaconda3\\Lib\\site-packages\\scipy\\optimize\\_linesearch.py:314: LineSearchWarning: The line search algorithm did not converge\n",
      "  warn('The line search algorithm did not converge', LineSearchWarning)\n",
      "c:\\ProgramData\\anaconda3\\Lib\\site-packages\\sklearn\\utils\\optimize.py:204: UserWarning: Line Search failed\n",
      "  warnings.warn(\"Line Search failed\")\n",
      "c:\\ProgramData\\anaconda3\\Lib\\site-packages\\sklearn\\linear_model\\_logistic.py:1192: UserWarning: Setting penalty=None will ignore the C and l1_ratio parameters\n",
      "  warnings.warn(\n"
     ]
    },
    {
     "name": "stdout",
     "output_type": "stream",
     "text": [
      "[CV] END ...............C=10, penalty=None, solver=newton-cg; total time=  40.1s\n"
     ]
    },
    {
     "name": "stderr",
     "output_type": "stream",
     "text": [
      "c:\\ProgramData\\anaconda3\\Lib\\site-packages\\scipy\\optimize\\_linesearch.py:314: LineSearchWarning: The line search algorithm did not converge\n",
      "  warn('The line search algorithm did not converge', LineSearchWarning)\n",
      "c:\\ProgramData\\anaconda3\\Lib\\site-packages\\sklearn\\utils\\optimize.py:204: UserWarning: Line Search failed\n",
      "  warnings.warn(\"Line Search failed\")\n"
     ]
    },
    {
     "name": "stdout",
     "output_type": "stream",
     "text": [
      "[CV] END ...............C=10, penalty=None, solver=newton-cg; total time=  51.1s\n"
     ]
    },
    {
     "name": "stderr",
     "output_type": "stream",
     "text": [
      "c:\\ProgramData\\anaconda3\\Lib\\site-packages\\sklearn\\linear_model\\_logistic.py:460: ConvergenceWarning: lbfgs failed to converge (status=1):\n",
      "STOP: TOTAL NO. of ITERATIONS REACHED LIMIT.\n",
      "\n",
      "Increase the number of iterations (max_iter) or scale the data as shown in:\n",
      "    https://scikit-learn.org/stable/modules/preprocessing.html\n",
      "Please also refer to the documentation for alternative solver options:\n",
      "    https://scikit-learn.org/stable/modules/linear_model.html#logistic-regression\n",
      "  n_iter_i = _check_optimize_result(\n"
     ]
    },
    {
     "name": "stdout",
     "output_type": "stream",
     "text": [
      "[CV] END ....................C=100, penalty=l2, solver=lbfgs; total time=   3.2s\n"
     ]
    },
    {
     "name": "stderr",
     "output_type": "stream",
     "text": [
      "c:\\ProgramData\\anaconda3\\Lib\\site-packages\\sklearn\\linear_model\\_logistic.py:460: ConvergenceWarning: lbfgs failed to converge (status=1):\n",
      "STOP: TOTAL NO. of ITERATIONS REACHED LIMIT.\n",
      "\n",
      "Increase the number of iterations (max_iter) or scale the data as shown in:\n",
      "    https://scikit-learn.org/stable/modules/preprocessing.html\n",
      "Please also refer to the documentation for alternative solver options:\n",
      "    https://scikit-learn.org/stable/modules/linear_model.html#logistic-regression\n",
      "  n_iter_i = _check_optimize_result(\n"
     ]
    },
    {
     "name": "stdout",
     "output_type": "stream",
     "text": [
      "[CV] END ....................C=100, penalty=l2, solver=lbfgs; total time=   3.2s\n"
     ]
    },
    {
     "name": "stderr",
     "output_type": "stream",
     "text": [
      "c:\\ProgramData\\anaconda3\\Lib\\site-packages\\sklearn\\linear_model\\_logistic.py:460: ConvergenceWarning: lbfgs failed to converge (status=1):\n",
      "STOP: TOTAL NO. of ITERATIONS REACHED LIMIT.\n",
      "\n",
      "Increase the number of iterations (max_iter) or scale the data as shown in:\n",
      "    https://scikit-learn.org/stable/modules/preprocessing.html\n",
      "Please also refer to the documentation for alternative solver options:\n",
      "    https://scikit-learn.org/stable/modules/linear_model.html#logistic-regression\n",
      "  n_iter_i = _check_optimize_result(\n"
     ]
    },
    {
     "name": "stdout",
     "output_type": "stream",
     "text": [
      "[CV] END ....................C=100, penalty=l2, solver=lbfgs; total time=   3.2s\n"
     ]
    },
    {
     "name": "stderr",
     "output_type": "stream",
     "text": [
      "c:\\ProgramData\\anaconda3\\Lib\\site-packages\\sklearn\\linear_model\\_logistic.py:460: ConvergenceWarning: lbfgs failed to converge (status=1):\n",
      "STOP: TOTAL NO. of ITERATIONS REACHED LIMIT.\n",
      "\n",
      "Increase the number of iterations (max_iter) or scale the data as shown in:\n",
      "    https://scikit-learn.org/stable/modules/preprocessing.html\n",
      "Please also refer to the documentation for alternative solver options:\n",
      "    https://scikit-learn.org/stable/modules/linear_model.html#logistic-regression\n",
      "  n_iter_i = _check_optimize_result(\n"
     ]
    },
    {
     "name": "stdout",
     "output_type": "stream",
     "text": [
      "[CV] END ....................C=100, penalty=l2, solver=lbfgs; total time=   3.2s\n"
     ]
    },
    {
     "name": "stderr",
     "output_type": "stream",
     "text": [
      "c:\\ProgramData\\anaconda3\\Lib\\site-packages\\sklearn\\linear_model\\_logistic.py:460: ConvergenceWarning: lbfgs failed to converge (status=1):\n",
      "STOP: TOTAL NO. of ITERATIONS REACHED LIMIT.\n",
      "\n",
      "Increase the number of iterations (max_iter) or scale the data as shown in:\n",
      "    https://scikit-learn.org/stable/modules/preprocessing.html\n",
      "Please also refer to the documentation for alternative solver options:\n",
      "    https://scikit-learn.org/stable/modules/linear_model.html#logistic-regression\n",
      "  n_iter_i = _check_optimize_result(\n"
     ]
    },
    {
     "name": "stdout",
     "output_type": "stream",
     "text": [
      "[CV] END ....................C=100, penalty=l2, solver=lbfgs; total time=   3.2s\n"
     ]
    },
    {
     "name": "stderr",
     "output_type": "stream",
     "text": [
      "c:\\ProgramData\\anaconda3\\Lib\\site-packages\\sklearn\\linear_model\\_sag.py:350: ConvergenceWarning: The max_iter was reached which means the coef_ did not converge\n",
      "  warnings.warn(\n"
     ]
    },
    {
     "name": "stdout",
     "output_type": "stream",
     "text": [
      "[CV] END .....................C=100, penalty=l2, solver=saga; total time= 1.0min\n"
     ]
    },
    {
     "name": "stderr",
     "output_type": "stream",
     "text": [
      "c:\\ProgramData\\anaconda3\\Lib\\site-packages\\sklearn\\linear_model\\_sag.py:350: ConvergenceWarning: The max_iter was reached which means the coef_ did not converge\n",
      "  warnings.warn(\n"
     ]
    },
    {
     "name": "stdout",
     "output_type": "stream",
     "text": [
      "[CV] END .....................C=100, penalty=l2, solver=saga; total time= 1.0min\n"
     ]
    },
    {
     "name": "stderr",
     "output_type": "stream",
     "text": [
      "c:\\ProgramData\\anaconda3\\Lib\\site-packages\\sklearn\\linear_model\\_sag.py:350: ConvergenceWarning: The max_iter was reached which means the coef_ did not converge\n",
      "  warnings.warn(\n"
     ]
    },
    {
     "name": "stdout",
     "output_type": "stream",
     "text": [
      "[CV] END .....................C=100, penalty=l2, solver=saga; total time= 1.0min\n"
     ]
    },
    {
     "name": "stderr",
     "output_type": "stream",
     "text": [
      "c:\\ProgramData\\anaconda3\\Lib\\site-packages\\sklearn\\linear_model\\_sag.py:350: ConvergenceWarning: The max_iter was reached which means the coef_ did not converge\n",
      "  warnings.warn(\n"
     ]
    },
    {
     "name": "stdout",
     "output_type": "stream",
     "text": [
      "[CV] END .....................C=100, penalty=l2, solver=saga; total time= 1.0min\n"
     ]
    },
    {
     "name": "stderr",
     "output_type": "stream",
     "text": [
      "c:\\ProgramData\\anaconda3\\Lib\\site-packages\\sklearn\\linear_model\\_sag.py:350: ConvergenceWarning: The max_iter was reached which means the coef_ did not converge\n",
      "  warnings.warn(\n"
     ]
    },
    {
     "name": "stdout",
     "output_type": "stream",
     "text": [
      "[CV] END .....................C=100, penalty=l2, solver=saga; total time= 1.0min\n"
     ]
    },
    {
     "name": "stderr",
     "output_type": "stream",
     "text": [
      "c:\\ProgramData\\anaconda3\\Lib\\site-packages\\scipy\\optimize\\_linesearch.py:314: LineSearchWarning: The line search algorithm did not converge\n",
      "  warn('The line search algorithm did not converge', LineSearchWarning)\n",
      "c:\\ProgramData\\anaconda3\\Lib\\site-packages\\sklearn\\utils\\optimize.py:204: UserWarning: Line Search failed\n",
      "  warnings.warn(\"Line Search failed\")\n"
     ]
    },
    {
     "name": "stdout",
     "output_type": "stream",
     "text": [
      "[CV] END ................C=100, penalty=l2, solver=newton-cg; total time=   5.4s\n"
     ]
    },
    {
     "name": "stderr",
     "output_type": "stream",
     "text": [
      "c:\\ProgramData\\anaconda3\\Lib\\site-packages\\scipy\\optimize\\_linesearch.py:314: LineSearchWarning: The line search algorithm did not converge\n",
      "  warn('The line search algorithm did not converge', LineSearchWarning)\n",
      "c:\\ProgramData\\anaconda3\\Lib\\site-packages\\sklearn\\utils\\optimize.py:204: UserWarning: Line Search failed\n",
      "  warnings.warn(\"Line Search failed\")\n"
     ]
    },
    {
     "name": "stdout",
     "output_type": "stream",
     "text": [
      "[CV] END ................C=100, penalty=l2, solver=newton-cg; total time=   6.5s\n"
     ]
    },
    {
     "name": "stderr",
     "output_type": "stream",
     "text": [
      "c:\\ProgramData\\anaconda3\\Lib\\site-packages\\scipy\\optimize\\_linesearch.py:314: LineSearchWarning: The line search algorithm did not converge\n",
      "  warn('The line search algorithm did not converge', LineSearchWarning)\n",
      "c:\\ProgramData\\anaconda3\\Lib\\site-packages\\sklearn\\utils\\optimize.py:204: UserWarning: Line Search failed\n",
      "  warnings.warn(\"Line Search failed\")\n"
     ]
    },
    {
     "name": "stdout",
     "output_type": "stream",
     "text": [
      "[CV] END ................C=100, penalty=l2, solver=newton-cg; total time=  10.0s\n"
     ]
    },
    {
     "name": "stderr",
     "output_type": "stream",
     "text": [
      "c:\\ProgramData\\anaconda3\\Lib\\site-packages\\scipy\\optimize\\_linesearch.py:314: LineSearchWarning: The line search algorithm did not converge\n",
      "  warn('The line search algorithm did not converge', LineSearchWarning)\n",
      "c:\\ProgramData\\anaconda3\\Lib\\site-packages\\sklearn\\utils\\optimize.py:204: UserWarning: Line Search failed\n",
      "  warnings.warn(\"Line Search failed\")\n"
     ]
    },
    {
     "name": "stdout",
     "output_type": "stream",
     "text": [
      "[CV] END ................C=100, penalty=l2, solver=newton-cg; total time=   6.2s\n"
     ]
    },
    {
     "name": "stderr",
     "output_type": "stream",
     "text": [
      "c:\\ProgramData\\anaconda3\\Lib\\site-packages\\scipy\\optimize\\_linesearch.py:314: LineSearchWarning: The line search algorithm did not converge\n",
      "  warn('The line search algorithm did not converge', LineSearchWarning)\n",
      "c:\\ProgramData\\anaconda3\\Lib\\site-packages\\sklearn\\utils\\optimize.py:204: UserWarning: Line Search failed\n",
      "  warnings.warn(\"Line Search failed\")\n",
      "c:\\ProgramData\\anaconda3\\Lib\\site-packages\\sklearn\\linear_model\\_logistic.py:1192: UserWarning: Setting penalty=None will ignore the C and l1_ratio parameters\n",
      "  warnings.warn(\n"
     ]
    },
    {
     "name": "stdout",
     "output_type": "stream",
     "text": [
      "[CV] END ................C=100, penalty=l2, solver=newton-cg; total time=   9.5s\n"
     ]
    },
    {
     "name": "stderr",
     "output_type": "stream",
     "text": [
      "c:\\ProgramData\\anaconda3\\Lib\\site-packages\\sklearn\\linear_model\\_logistic.py:460: ConvergenceWarning: lbfgs failed to converge (status=1):\n",
      "STOP: TOTAL NO. of ITERATIONS REACHED LIMIT.\n",
      "\n",
      "Increase the number of iterations (max_iter) or scale the data as shown in:\n",
      "    https://scikit-learn.org/stable/modules/preprocessing.html\n",
      "Please also refer to the documentation for alternative solver options:\n",
      "    https://scikit-learn.org/stable/modules/linear_model.html#logistic-regression\n",
      "  n_iter_i = _check_optimize_result(\n",
      "c:\\ProgramData\\anaconda3\\Lib\\site-packages\\sklearn\\linear_model\\_logistic.py:1192: UserWarning: Setting penalty=None will ignore the C and l1_ratio parameters\n",
      "  warnings.warn(\n"
     ]
    },
    {
     "name": "stdout",
     "output_type": "stream",
     "text": [
      "[CV] END ..................C=100, penalty=None, solver=lbfgs; total time=   3.2s\n"
     ]
    },
    {
     "name": "stderr",
     "output_type": "stream",
     "text": [
      "c:\\ProgramData\\anaconda3\\Lib\\site-packages\\sklearn\\linear_model\\_logistic.py:460: ConvergenceWarning: lbfgs failed to converge (status=1):\n",
      "STOP: TOTAL NO. of ITERATIONS REACHED LIMIT.\n",
      "\n",
      "Increase the number of iterations (max_iter) or scale the data as shown in:\n",
      "    https://scikit-learn.org/stable/modules/preprocessing.html\n",
      "Please also refer to the documentation for alternative solver options:\n",
      "    https://scikit-learn.org/stable/modules/linear_model.html#logistic-regression\n",
      "  n_iter_i = _check_optimize_result(\n",
      "c:\\ProgramData\\anaconda3\\Lib\\site-packages\\sklearn\\linear_model\\_logistic.py:1192: UserWarning: Setting penalty=None will ignore the C and l1_ratio parameters\n",
      "  warnings.warn(\n"
     ]
    },
    {
     "name": "stdout",
     "output_type": "stream",
     "text": [
      "[CV] END ..................C=100, penalty=None, solver=lbfgs; total time=   3.2s\n"
     ]
    },
    {
     "name": "stderr",
     "output_type": "stream",
     "text": [
      "c:\\ProgramData\\anaconda3\\Lib\\site-packages\\sklearn\\linear_model\\_logistic.py:460: ConvergenceWarning: lbfgs failed to converge (status=1):\n",
      "STOP: TOTAL NO. of ITERATIONS REACHED LIMIT.\n",
      "\n",
      "Increase the number of iterations (max_iter) or scale the data as shown in:\n",
      "    https://scikit-learn.org/stable/modules/preprocessing.html\n",
      "Please also refer to the documentation for alternative solver options:\n",
      "    https://scikit-learn.org/stable/modules/linear_model.html#logistic-regression\n",
      "  n_iter_i = _check_optimize_result(\n",
      "c:\\ProgramData\\anaconda3\\Lib\\site-packages\\sklearn\\linear_model\\_logistic.py:1192: UserWarning: Setting penalty=None will ignore the C and l1_ratio parameters\n",
      "  warnings.warn(\n"
     ]
    },
    {
     "name": "stdout",
     "output_type": "stream",
     "text": [
      "[CV] END ..................C=100, penalty=None, solver=lbfgs; total time=   3.2s\n"
     ]
    },
    {
     "name": "stderr",
     "output_type": "stream",
     "text": [
      "c:\\ProgramData\\anaconda3\\Lib\\site-packages\\sklearn\\linear_model\\_logistic.py:460: ConvergenceWarning: lbfgs failed to converge (status=1):\n",
      "STOP: TOTAL NO. of ITERATIONS REACHED LIMIT.\n",
      "\n",
      "Increase the number of iterations (max_iter) or scale the data as shown in:\n",
      "    https://scikit-learn.org/stable/modules/preprocessing.html\n",
      "Please also refer to the documentation for alternative solver options:\n",
      "    https://scikit-learn.org/stable/modules/linear_model.html#logistic-regression\n",
      "  n_iter_i = _check_optimize_result(\n",
      "c:\\ProgramData\\anaconda3\\Lib\\site-packages\\sklearn\\linear_model\\_logistic.py:1192: UserWarning: Setting penalty=None will ignore the C and l1_ratio parameters\n",
      "  warnings.warn(\n"
     ]
    },
    {
     "name": "stdout",
     "output_type": "stream",
     "text": [
      "[CV] END ..................C=100, penalty=None, solver=lbfgs; total time=   3.2s\n"
     ]
    },
    {
     "name": "stderr",
     "output_type": "stream",
     "text": [
      "c:\\ProgramData\\anaconda3\\Lib\\site-packages\\sklearn\\linear_model\\_logistic.py:460: ConvergenceWarning: lbfgs failed to converge (status=1):\n",
      "STOP: TOTAL NO. of ITERATIONS REACHED LIMIT.\n",
      "\n",
      "Increase the number of iterations (max_iter) or scale the data as shown in:\n",
      "    https://scikit-learn.org/stable/modules/preprocessing.html\n",
      "Please also refer to the documentation for alternative solver options:\n",
      "    https://scikit-learn.org/stable/modules/linear_model.html#logistic-regression\n",
      "  n_iter_i = _check_optimize_result(\n",
      "c:\\ProgramData\\anaconda3\\Lib\\site-packages\\sklearn\\linear_model\\_logistic.py:1192: UserWarning: Setting penalty=None will ignore the C and l1_ratio parameters\n",
      "  warnings.warn(\n"
     ]
    },
    {
     "name": "stdout",
     "output_type": "stream",
     "text": [
      "[CV] END ..................C=100, penalty=None, solver=lbfgs; total time=   3.2s\n"
     ]
    },
    {
     "name": "stderr",
     "output_type": "stream",
     "text": [
      "c:\\ProgramData\\anaconda3\\Lib\\site-packages\\sklearn\\linear_model\\_sag.py:350: ConvergenceWarning: The max_iter was reached which means the coef_ did not converge\n",
      "  warnings.warn(\n",
      "c:\\ProgramData\\anaconda3\\Lib\\site-packages\\sklearn\\linear_model\\_logistic.py:1192: UserWarning: Setting penalty=None will ignore the C and l1_ratio parameters\n",
      "  warnings.warn(\n"
     ]
    },
    {
     "name": "stdout",
     "output_type": "stream",
     "text": [
      "[CV] END ...................C=100, penalty=None, solver=saga; total time= 1.0min\n"
     ]
    },
    {
     "name": "stderr",
     "output_type": "stream",
     "text": [
      "c:\\ProgramData\\anaconda3\\Lib\\site-packages\\sklearn\\linear_model\\_sag.py:350: ConvergenceWarning: The max_iter was reached which means the coef_ did not converge\n",
      "  warnings.warn(\n",
      "c:\\ProgramData\\anaconda3\\Lib\\site-packages\\sklearn\\linear_model\\_logistic.py:1192: UserWarning: Setting penalty=None will ignore the C and l1_ratio parameters\n",
      "  warnings.warn(\n"
     ]
    },
    {
     "name": "stdout",
     "output_type": "stream",
     "text": [
      "[CV] END ...................C=100, penalty=None, solver=saga; total time= 1.0min\n"
     ]
    },
    {
     "name": "stderr",
     "output_type": "stream",
     "text": [
      "c:\\ProgramData\\anaconda3\\Lib\\site-packages\\sklearn\\linear_model\\_sag.py:350: ConvergenceWarning: The max_iter was reached which means the coef_ did not converge\n",
      "  warnings.warn(\n",
      "c:\\ProgramData\\anaconda3\\Lib\\site-packages\\sklearn\\linear_model\\_logistic.py:1192: UserWarning: Setting penalty=None will ignore the C and l1_ratio parameters\n",
      "  warnings.warn(\n"
     ]
    },
    {
     "name": "stdout",
     "output_type": "stream",
     "text": [
      "[CV] END ...................C=100, penalty=None, solver=saga; total time= 1.0min\n"
     ]
    },
    {
     "name": "stderr",
     "output_type": "stream",
     "text": [
      "c:\\ProgramData\\anaconda3\\Lib\\site-packages\\sklearn\\linear_model\\_sag.py:350: ConvergenceWarning: The max_iter was reached which means the coef_ did not converge\n",
      "  warnings.warn(\n",
      "c:\\ProgramData\\anaconda3\\Lib\\site-packages\\sklearn\\linear_model\\_logistic.py:1192: UserWarning: Setting penalty=None will ignore the C and l1_ratio parameters\n",
      "  warnings.warn(\n"
     ]
    },
    {
     "name": "stdout",
     "output_type": "stream",
     "text": [
      "[CV] END ...................C=100, penalty=None, solver=saga; total time= 1.0min\n"
     ]
    },
    {
     "name": "stderr",
     "output_type": "stream",
     "text": [
      "c:\\ProgramData\\anaconda3\\Lib\\site-packages\\sklearn\\linear_model\\_sag.py:350: ConvergenceWarning: The max_iter was reached which means the coef_ did not converge\n",
      "  warnings.warn(\n",
      "c:\\ProgramData\\anaconda3\\Lib\\site-packages\\sklearn\\linear_model\\_logistic.py:1192: UserWarning: Setting penalty=None will ignore the C and l1_ratio parameters\n",
      "  warnings.warn(\n"
     ]
    },
    {
     "name": "stdout",
     "output_type": "stream",
     "text": [
      "[CV] END ...................C=100, penalty=None, solver=saga; total time= 1.0min\n"
     ]
    },
    {
     "name": "stderr",
     "output_type": "stream",
     "text": [
      "c:\\ProgramData\\anaconda3\\Lib\\site-packages\\scipy\\optimize\\_linesearch.py:314: LineSearchWarning: The line search algorithm did not converge\n",
      "  warn('The line search algorithm did not converge', LineSearchWarning)\n",
      "c:\\ProgramData\\anaconda3\\Lib\\site-packages\\sklearn\\utils\\optimize.py:204: UserWarning: Line Search failed\n",
      "  warnings.warn(\"Line Search failed\")\n",
      "c:\\ProgramData\\anaconda3\\Lib\\site-packages\\sklearn\\linear_model\\_logistic.py:1192: UserWarning: Setting penalty=None will ignore the C and l1_ratio parameters\n",
      "  warnings.warn(\n"
     ]
    },
    {
     "name": "stdout",
     "output_type": "stream",
     "text": [
      "[CV] END ..............C=100, penalty=None, solver=newton-cg; total time= 1.2min\n"
     ]
    },
    {
     "name": "stderr",
     "output_type": "stream",
     "text": [
      "c:\\ProgramData\\anaconda3\\Lib\\site-packages\\scipy\\optimize\\_linesearch.py:314: LineSearchWarning: The line search algorithm did not converge\n",
      "  warn('The line search algorithm did not converge', LineSearchWarning)\n",
      "c:\\ProgramData\\anaconda3\\Lib\\site-packages\\sklearn\\utils\\optimize.py:204: UserWarning: Line Search failed\n",
      "  warnings.warn(\"Line Search failed\")\n",
      "c:\\ProgramData\\anaconda3\\Lib\\site-packages\\sklearn\\linear_model\\_logistic.py:1192: UserWarning: Setting penalty=None will ignore the C and l1_ratio parameters\n",
      "  warnings.warn(\n"
     ]
    },
    {
     "name": "stdout",
     "output_type": "stream",
     "text": [
      "[CV] END ..............C=100, penalty=None, solver=newton-cg; total time=  20.8s\n"
     ]
    },
    {
     "name": "stderr",
     "output_type": "stream",
     "text": [
      "c:\\ProgramData\\anaconda3\\Lib\\site-packages\\scipy\\optimize\\_linesearch.py:314: LineSearchWarning: The line search algorithm did not converge\n",
      "  warn('The line search algorithm did not converge', LineSearchWarning)\n",
      "c:\\ProgramData\\anaconda3\\Lib\\site-packages\\sklearn\\utils\\optimize.py:204: UserWarning: Line Search failed\n",
      "  warnings.warn(\"Line Search failed\")\n",
      "c:\\ProgramData\\anaconda3\\Lib\\site-packages\\sklearn\\linear_model\\_logistic.py:1192: UserWarning: Setting penalty=None will ignore the C and l1_ratio parameters\n",
      "  warnings.warn(\n"
     ]
    },
    {
     "name": "stdout",
     "output_type": "stream",
     "text": [
      "[CV] END ..............C=100, penalty=None, solver=newton-cg; total time=  41.3s\n"
     ]
    },
    {
     "name": "stderr",
     "output_type": "stream",
     "text": [
      "c:\\ProgramData\\anaconda3\\Lib\\site-packages\\scipy\\optimize\\_linesearch.py:314: LineSearchWarning: The line search algorithm did not converge\n",
      "  warn('The line search algorithm did not converge', LineSearchWarning)\n",
      "c:\\ProgramData\\anaconda3\\Lib\\site-packages\\sklearn\\utils\\optimize.py:204: UserWarning: Line Search failed\n",
      "  warnings.warn(\"Line Search failed\")\n",
      "c:\\ProgramData\\anaconda3\\Lib\\site-packages\\sklearn\\linear_model\\_logistic.py:1192: UserWarning: Setting penalty=None will ignore the C and l1_ratio parameters\n",
      "  warnings.warn(\n"
     ]
    },
    {
     "name": "stdout",
     "output_type": "stream",
     "text": [
      "[CV] END ..............C=100, penalty=None, solver=newton-cg; total time=  39.9s\n"
     ]
    },
    {
     "name": "stderr",
     "output_type": "stream",
     "text": [
      "c:\\ProgramData\\anaconda3\\Lib\\site-packages\\scipy\\optimize\\_linesearch.py:314: LineSearchWarning: The line search algorithm did not converge\n",
      "  warn('The line search algorithm did not converge', LineSearchWarning)\n",
      "c:\\ProgramData\\anaconda3\\Lib\\site-packages\\sklearn\\utils\\optimize.py:204: UserWarning: Line Search failed\n",
      "  warnings.warn(\"Line Search failed\")\n",
      "c:\\ProgramData\\anaconda3\\Lib\\site-packages\\sklearn\\linear_model\\_logistic.py:1192: UserWarning: Setting penalty=None will ignore the C and l1_ratio parameters\n",
      "  warnings.warn(\n"
     ]
    },
    {
     "name": "stdout",
     "output_type": "stream",
     "text": [
      "[CV] END ..............C=100, penalty=None, solver=newton-cg; total time=  49.8s\n",
      "Best Parameters:  {'C': 0.1, 'penalty': None, 'solver': 'saga'}\n",
      "Best Score:  0.486468607926614\n",
      "Accuracy on Test Set:  0.4929906542056075\n",
      "Classification Report: \n",
      "              precision    recall  f1-score   support\n",
      "\n",
      "           0       0.00      0.00      0.00        70\n",
      "           1       0.33      0.22      0.26       269\n",
      "           2       0.32      0.19      0.24       297\n",
      "           3       0.31      0.11      0.16       476\n",
      "           4       1.00      0.01      0.02       173\n",
      "           5       0.00      0.00      0.00        78\n",
      "           6       0.54      0.91      0.68      1205\n",
      "\n",
      "    accuracy                           0.49      2568\n",
      "   macro avg       0.36      0.21      0.19      2568\n",
      "weighted avg       0.45      0.49      0.40      2568\n",
      "\n"
     ]
    },
    {
     "name": "stderr",
     "output_type": "stream",
     "text": [
      "c:\\ProgramData\\anaconda3\\Lib\\site-packages\\sklearn\\linear_model\\_sag.py:350: ConvergenceWarning: The max_iter was reached which means the coef_ did not converge\n",
      "  warnings.warn(\n",
      "c:\\ProgramData\\anaconda3\\Lib\\site-packages\\sklearn\\metrics\\_classification.py:1469: UndefinedMetricWarning: Precision and F-score are ill-defined and being set to 0.0 in labels with no predicted samples. Use `zero_division` parameter to control this behavior.\n",
      "  _warn_prf(average, modifier, msg_start, len(result))\n",
      "c:\\ProgramData\\anaconda3\\Lib\\site-packages\\sklearn\\metrics\\_classification.py:1469: UndefinedMetricWarning: Precision and F-score are ill-defined and being set to 0.0 in labels with no predicted samples. Use `zero_division` parameter to control this behavior.\n",
      "  _warn_prf(average, modifier, msg_start, len(result))\n",
      "c:\\ProgramData\\anaconda3\\Lib\\site-packages\\sklearn\\metrics\\_classification.py:1469: UndefinedMetricWarning: Precision and F-score are ill-defined and being set to 0.0 in labels with no predicted samples. Use `zero_division` parameter to control this behavior.\n",
      "  _warn_prf(average, modifier, msg_start, len(result))\n"
     ]
    }
   ],
   "source": [
    "# Define the parameter grid for Logistic Regression\n",
    "param_grid = {\n",
    "    'penalty': ['l2', None],  # Norm used in the penalization\n",
    "    'C': [0.01, 0.1, 1, 10, 100],  # Inverse of regularization strength\n",
    "    'solver': ['lbfgs', 'saga', 'newton-cg']  # Algorithm to use in the optimization problem\n",
    "}\n",
    "\n",
    "# Note: 'saga' solver supports both l1 and l2 penalty, while 'lbfgs' and 'newton-cg' support only l2.\n",
    "# Make sure the combinations of solver and penalty are compatible.\n",
    "\n",
    "# Initialize the Logistic Regression classifier\n",
    "logreg = LogisticRegression(max_iter=1000, multi_class='multinomial')\n",
    "\n",
    "# Initialize GridSearchCV object with Logistic Regression classifier and the parameter grid\n",
    "grid_search = GridSearchCV(estimator=logreg, param_grid=param_grid, cv=5, scoring='accuracy', verbose=2)\n",
    "\n",
    "# Fit the model with the training data\n",
    "grid_search.fit(X_train, y_train)\n",
    "\n",
    "# Print the best parameters and the best score\n",
    "print(\"Best Parameters: \", grid_search.best_params_)\n",
    "print(\"Best Score: \", grid_search.best_score_)\n",
    "\n",
    "# Predict on the test set with the best parameters\n",
    "y_pred = grid_search.predict(X_test)\n",
    "\n",
    "# Evaluate the classifier with the best parameters\n",
    "print(\"Accuracy on Test Set: \", accuracy_score(y_test, y_pred))\n",
    "print(\"Classification Report: \")\n",
    "print(classification_report(y_test, y_pred))"
   ]
  },
  {
   "cell_type": "markdown",
   "id": "4aa65ce4",
   "metadata": {},
   "source": [
    "### Decision Trees"
   ]
  },
  {
   "cell_type": "code",
   "execution_count": 83,
   "id": "db092b23",
   "metadata": {},
   "outputs": [
    {
     "name": "stdout",
     "output_type": "stream",
     "text": [
      "Accuracy: 0.33372274143302183\n",
      "Classification Report:\n",
      "              precision    recall  f1-score   support\n",
      "\n",
      "           0       0.06      0.06      0.06        70\n",
      "           1       0.15      0.20      0.17       269\n",
      "           2       0.20      0.21      0.20       297\n",
      "           3       0.19      0.19      0.19       476\n",
      "           4       0.11      0.10      0.11       173\n",
      "           5       0.08      0.08      0.08        78\n",
      "           6       0.55      0.52      0.53      1205\n",
      "\n",
      "    accuracy                           0.33      2568\n",
      "   macro avg       0.19      0.19      0.19      2568\n",
      "weighted avg       0.34      0.33      0.34      2568\n",
      "\n"
     ]
    }
   ],
   "source": [
    "# Initialize the Decision Tree classifier\n",
    "decision_tree = DecisionTreeClassifier(max_depth=None, criterion='gini', random_state=42)\n",
    "\n",
    "# Fitting the Decision Tree to the Training set\n",
    "decision_tree.fit(X_train, y_train)\n",
    "\n",
    "# Predicting the Test set results\n",
    "y_pred = decision_tree.predict(X_test)\n",
    "\n",
    "# Evaluating the model\n",
    "print(\"Accuracy:\", accuracy_score(y_test, y_pred))\n",
    "print(\"Classification Report:\")\n",
    "print(classification_report(y_test, y_pred))\n"
   ]
  },
  {
   "cell_type": "code",
   "execution_count": 89,
   "id": "b4537493",
   "metadata": {},
   "outputs": [
    {
     "name": "stdout",
     "output_type": "stream",
     "text": [
      "Fitting 5 folds for each of 90 candidates, totalling 450 fits\n",
      "[CV] END criterion=gini, max_depth=None, min_samples_leaf=1, min_samples_split=2; total time=   6.5s\n",
      "[CV] END criterion=gini, max_depth=None, min_samples_leaf=1, min_samples_split=2; total time=   6.2s\n",
      "[CV] END criterion=gini, max_depth=None, min_samples_leaf=1, min_samples_split=2; total time=   5.6s\n",
      "[CV] END criterion=gini, max_depth=None, min_samples_leaf=1, min_samples_split=2; total time=   6.8s\n",
      "[CV] END criterion=gini, max_depth=None, min_samples_leaf=1, min_samples_split=2; total time=   6.1s\n",
      "[CV] END criterion=gini, max_depth=None, min_samples_leaf=1, min_samples_split=5; total time=   6.4s\n",
      "[CV] END criterion=gini, max_depth=None, min_samples_leaf=1, min_samples_split=5; total time=   6.2s\n",
      "[CV] END criterion=gini, max_depth=None, min_samples_leaf=1, min_samples_split=5; total time=   5.5s\n",
      "[CV] END criterion=gini, max_depth=None, min_samples_leaf=1, min_samples_split=5; total time=   6.5s\n",
      "[CV] END criterion=gini, max_depth=None, min_samples_leaf=1, min_samples_split=5; total time=   6.1s\n",
      "[CV] END criterion=gini, max_depth=None, min_samples_leaf=1, min_samples_split=10; total time=   6.3s\n",
      "[CV] END criterion=gini, max_depth=None, min_samples_leaf=1, min_samples_split=10; total time=   6.2s\n",
      "[CV] END criterion=gini, max_depth=None, min_samples_leaf=1, min_samples_split=10; total time=   5.4s\n",
      "[CV] END criterion=gini, max_depth=None, min_samples_leaf=1, min_samples_split=10; total time=   6.6s\n",
      "[CV] END criterion=gini, max_depth=None, min_samples_leaf=1, min_samples_split=10; total time=   6.1s\n",
      "[CV] END criterion=gini, max_depth=None, min_samples_leaf=2, min_samples_split=2; total time=   6.1s\n",
      "[CV] END criterion=gini, max_depth=None, min_samples_leaf=2, min_samples_split=2; total time=   5.8s\n",
      "[CV] END criterion=gini, max_depth=None, min_samples_leaf=2, min_samples_split=2; total time=   5.3s\n",
      "[CV] END criterion=gini, max_depth=None, min_samples_leaf=2, min_samples_split=2; total time=   6.3s\n",
      "[CV] END criterion=gini, max_depth=None, min_samples_leaf=2, min_samples_split=2; total time=   5.8s\n",
      "[CV] END criterion=gini, max_depth=None, min_samples_leaf=2, min_samples_split=5; total time=   6.1s\n",
      "[CV] END criterion=gini, max_depth=None, min_samples_leaf=2, min_samples_split=5; total time=   5.8s\n",
      "[CV] END criterion=gini, max_depth=None, min_samples_leaf=2, min_samples_split=5; total time=   5.3s\n",
      "[CV] END criterion=gini, max_depth=None, min_samples_leaf=2, min_samples_split=5; total time=   6.3s\n",
      "[CV] END criterion=gini, max_depth=None, min_samples_leaf=2, min_samples_split=5; total time=   5.7s\n",
      "[CV] END criterion=gini, max_depth=None, min_samples_leaf=2, min_samples_split=10; total time=   6.0s\n",
      "[CV] END criterion=gini, max_depth=None, min_samples_leaf=2, min_samples_split=10; total time=   5.7s\n",
      "[CV] END criterion=gini, max_depth=None, min_samples_leaf=2, min_samples_split=10; total time=   5.2s\n",
      "[CV] END criterion=gini, max_depth=None, min_samples_leaf=2, min_samples_split=10; total time=   6.2s\n",
      "[CV] END criterion=gini, max_depth=None, min_samples_leaf=2, min_samples_split=10; total time=   5.7s\n",
      "[CV] END criterion=gini, max_depth=None, min_samples_leaf=4, min_samples_split=2; total time=   5.6s\n",
      "[CV] END criterion=gini, max_depth=None, min_samples_leaf=4, min_samples_split=2; total time=   5.1s\n",
      "[CV] END criterion=gini, max_depth=None, min_samples_leaf=4, min_samples_split=2; total time=   4.8s\n",
      "[CV] END criterion=gini, max_depth=None, min_samples_leaf=4, min_samples_split=2; total time=   5.8s\n",
      "[CV] END criterion=gini, max_depth=None, min_samples_leaf=4, min_samples_split=2; total time=   5.1s\n",
      "[CV] END criterion=gini, max_depth=None, min_samples_leaf=4, min_samples_split=5; total time=   5.6s\n",
      "[CV] END criterion=gini, max_depth=None, min_samples_leaf=4, min_samples_split=5; total time=   5.1s\n",
      "[CV] END criterion=gini, max_depth=None, min_samples_leaf=4, min_samples_split=5; total time=   4.9s\n",
      "[CV] END criterion=gini, max_depth=None, min_samples_leaf=4, min_samples_split=5; total time=   5.8s\n",
      "[CV] END criterion=gini, max_depth=None, min_samples_leaf=4, min_samples_split=5; total time=   5.1s\n",
      "[CV] END criterion=gini, max_depth=None, min_samples_leaf=4, min_samples_split=10; total time=   5.7s\n",
      "[CV] END criterion=gini, max_depth=None, min_samples_leaf=4, min_samples_split=10; total time=   5.1s\n",
      "[CV] END criterion=gini, max_depth=None, min_samples_leaf=4, min_samples_split=10; total time=   4.8s\n",
      "[CV] END criterion=gini, max_depth=None, min_samples_leaf=4, min_samples_split=10; total time=   5.9s\n",
      "[CV] END criterion=gini, max_depth=None, min_samples_leaf=4, min_samples_split=10; total time=   5.0s\n",
      "[CV] END criterion=gini, max_depth=10, min_samples_leaf=1, min_samples_split=2; total time=   3.0s\n",
      "[CV] END criterion=gini, max_depth=10, min_samples_leaf=1, min_samples_split=2; total time=   3.0s\n",
      "[CV] END criterion=gini, max_depth=10, min_samples_leaf=1, min_samples_split=2; total time=   2.9s\n",
      "[CV] END criterion=gini, max_depth=10, min_samples_leaf=1, min_samples_split=2; total time=   3.0s\n",
      "[CV] END criterion=gini, max_depth=10, min_samples_leaf=1, min_samples_split=2; total time=   3.0s\n",
      "[CV] END criterion=gini, max_depth=10, min_samples_leaf=1, min_samples_split=5; total time=   3.0s\n",
      "[CV] END criterion=gini, max_depth=10, min_samples_leaf=1, min_samples_split=5; total time=   2.9s\n",
      "[CV] END criterion=gini, max_depth=10, min_samples_leaf=1, min_samples_split=5; total time=   3.0s\n",
      "[CV] END criterion=gini, max_depth=10, min_samples_leaf=1, min_samples_split=5; total time=   3.0s\n",
      "[CV] END criterion=gini, max_depth=10, min_samples_leaf=1, min_samples_split=5; total time=   2.9s\n",
      "[CV] END criterion=gini, max_depth=10, min_samples_leaf=1, min_samples_split=10; total time=   2.9s\n",
      "[CV] END criterion=gini, max_depth=10, min_samples_leaf=1, min_samples_split=10; total time=   3.0s\n",
      "[CV] END criterion=gini, max_depth=10, min_samples_leaf=1, min_samples_split=10; total time=   2.9s\n",
      "[CV] END criterion=gini, max_depth=10, min_samples_leaf=1, min_samples_split=10; total time=   2.9s\n",
      "[CV] END criterion=gini, max_depth=10, min_samples_leaf=1, min_samples_split=10; total time=   2.9s\n",
      "[CV] END criterion=gini, max_depth=10, min_samples_leaf=2, min_samples_split=2; total time=   3.0s\n",
      "[CV] END criterion=gini, max_depth=10, min_samples_leaf=2, min_samples_split=2; total time=   2.9s\n",
      "[CV] END criterion=gini, max_depth=10, min_samples_leaf=2, min_samples_split=2; total time=   3.0s\n",
      "[CV] END criterion=gini, max_depth=10, min_samples_leaf=2, min_samples_split=2; total time=   3.0s\n",
      "[CV] END criterion=gini, max_depth=10, min_samples_leaf=2, min_samples_split=2; total time=   3.0s\n",
      "[CV] END criterion=gini, max_depth=10, min_samples_leaf=2, min_samples_split=5; total time=   3.0s\n",
      "[CV] END criterion=gini, max_depth=10, min_samples_leaf=2, min_samples_split=5; total time=   2.9s\n",
      "[CV] END criterion=gini, max_depth=10, min_samples_leaf=2, min_samples_split=5; total time=   2.9s\n",
      "[CV] END criterion=gini, max_depth=10, min_samples_leaf=2, min_samples_split=5; total time=   3.0s\n",
      "[CV] END criterion=gini, max_depth=10, min_samples_leaf=2, min_samples_split=5; total time=   2.9s\n",
      "[CV] END criterion=gini, max_depth=10, min_samples_leaf=2, min_samples_split=10; total time=   3.0s\n",
      "[CV] END criterion=gini, max_depth=10, min_samples_leaf=2, min_samples_split=10; total time=   2.9s\n",
      "[CV] END criterion=gini, max_depth=10, min_samples_leaf=2, min_samples_split=10; total time=   2.9s\n",
      "[CV] END criterion=gini, max_depth=10, min_samples_leaf=2, min_samples_split=10; total time=   3.0s\n",
      "[CV] END criterion=gini, max_depth=10, min_samples_leaf=2, min_samples_split=10; total time=   2.9s\n",
      "[CV] END criterion=gini, max_depth=10, min_samples_leaf=4, min_samples_split=2; total time=   2.9s\n",
      "[CV] END criterion=gini, max_depth=10, min_samples_leaf=4, min_samples_split=2; total time=   2.9s\n",
      "[CV] END criterion=gini, max_depth=10, min_samples_leaf=4, min_samples_split=2; total time=   2.9s\n",
      "[CV] END criterion=gini, max_depth=10, min_samples_leaf=4, min_samples_split=2; total time=   3.0s\n",
      "[CV] END criterion=gini, max_depth=10, min_samples_leaf=4, min_samples_split=2; total time=   2.9s\n",
      "[CV] END criterion=gini, max_depth=10, min_samples_leaf=4, min_samples_split=5; total time=   3.0s\n",
      "[CV] END criterion=gini, max_depth=10, min_samples_leaf=4, min_samples_split=5; total time=   2.9s\n",
      "[CV] END criterion=gini, max_depth=10, min_samples_leaf=4, min_samples_split=5; total time=   2.9s\n",
      "[CV] END criterion=gini, max_depth=10, min_samples_leaf=4, min_samples_split=5; total time=   2.9s\n",
      "[CV] END criterion=gini, max_depth=10, min_samples_leaf=4, min_samples_split=5; total time=   2.9s\n",
      "[CV] END criterion=gini, max_depth=10, min_samples_leaf=4, min_samples_split=10; total time=   2.9s\n",
      "[CV] END criterion=gini, max_depth=10, min_samples_leaf=4, min_samples_split=10; total time=   2.9s\n",
      "[CV] END criterion=gini, max_depth=10, min_samples_leaf=4, min_samples_split=10; total time=   2.9s\n",
      "[CV] END criterion=gini, max_depth=10, min_samples_leaf=4, min_samples_split=10; total time=   2.9s\n",
      "[CV] END criterion=gini, max_depth=10, min_samples_leaf=4, min_samples_split=10; total time=   2.9s\n",
      "[CV] END criterion=gini, max_depth=20, min_samples_leaf=1, min_samples_split=2; total time=   4.9s\n",
      "[CV] END criterion=gini, max_depth=20, min_samples_leaf=1, min_samples_split=2; total time=   4.8s\n",
      "[CV] END criterion=gini, max_depth=20, min_samples_leaf=1, min_samples_split=2; total time=   4.7s\n",
      "[CV] END criterion=gini, max_depth=20, min_samples_leaf=1, min_samples_split=2; total time=   4.9s\n",
      "[CV] END criterion=gini, max_depth=20, min_samples_leaf=1, min_samples_split=2; total time=   4.8s\n",
      "[CV] END criterion=gini, max_depth=20, min_samples_leaf=1, min_samples_split=5; total time=   5.0s\n",
      "[CV] END criterion=gini, max_depth=20, min_samples_leaf=1, min_samples_split=5; total time=   4.8s\n",
      "[CV] END criterion=gini, max_depth=20, min_samples_leaf=1, min_samples_split=5; total time=   4.7s\n",
      "[CV] END criterion=gini, max_depth=20, min_samples_leaf=1, min_samples_split=5; total time=   4.8s\n",
      "[CV] END criterion=gini, max_depth=20, min_samples_leaf=1, min_samples_split=5; total time=   4.8s\n",
      "[CV] END criterion=gini, max_depth=20, min_samples_leaf=1, min_samples_split=10; total time=   4.8s\n",
      "[CV] END criterion=gini, max_depth=20, min_samples_leaf=1, min_samples_split=10; total time=   4.7s\n",
      "[CV] END criterion=gini, max_depth=20, min_samples_leaf=1, min_samples_split=10; total time=   4.7s\n",
      "[CV] END criterion=gini, max_depth=20, min_samples_leaf=1, min_samples_split=10; total time=   4.8s\n",
      "[CV] END criterion=gini, max_depth=20, min_samples_leaf=1, min_samples_split=10; total time=   4.7s\n",
      "[CV] END criterion=gini, max_depth=20, min_samples_leaf=2, min_samples_split=2; total time=   4.9s\n",
      "[CV] END criterion=gini, max_depth=20, min_samples_leaf=2, min_samples_split=2; total time=   4.7s\n",
      "[CV] END criterion=gini, max_depth=20, min_samples_leaf=2, min_samples_split=2; total time=   4.7s\n",
      "[CV] END criterion=gini, max_depth=20, min_samples_leaf=2, min_samples_split=2; total time=   4.8s\n",
      "[CV] END criterion=gini, max_depth=20, min_samples_leaf=2, min_samples_split=2; total time=   4.7s\n",
      "[CV] END criterion=gini, max_depth=20, min_samples_leaf=2, min_samples_split=5; total time=   4.8s\n",
      "[CV] END criterion=gini, max_depth=20, min_samples_leaf=2, min_samples_split=5; total time=   4.7s\n",
      "[CV] END criterion=gini, max_depth=20, min_samples_leaf=2, min_samples_split=5; total time=   4.6s\n",
      "[CV] END criterion=gini, max_depth=20, min_samples_leaf=2, min_samples_split=5; total time=   4.8s\n",
      "[CV] END criterion=gini, max_depth=20, min_samples_leaf=2, min_samples_split=5; total time=   4.7s\n",
      "[CV] END criterion=gini, max_depth=20, min_samples_leaf=2, min_samples_split=10; total time=   4.8s\n",
      "[CV] END criterion=gini, max_depth=20, min_samples_leaf=2, min_samples_split=10; total time=   4.6s\n",
      "[CV] END criterion=gini, max_depth=20, min_samples_leaf=2, min_samples_split=10; total time=   4.6s\n",
      "[CV] END criterion=gini, max_depth=20, min_samples_leaf=2, min_samples_split=10; total time=   4.7s\n",
      "[CV] END criterion=gini, max_depth=20, min_samples_leaf=2, min_samples_split=10; total time=   4.7s\n",
      "[CV] END criterion=gini, max_depth=20, min_samples_leaf=4, min_samples_split=2; total time=   4.7s\n",
      "[CV] END criterion=gini, max_depth=20, min_samples_leaf=4, min_samples_split=2; total time=   4.5s\n",
      "[CV] END criterion=gini, max_depth=20, min_samples_leaf=4, min_samples_split=2; total time=   4.5s\n",
      "[CV] END criterion=gini, max_depth=20, min_samples_leaf=4, min_samples_split=2; total time=   4.6s\n",
      "[CV] END criterion=gini, max_depth=20, min_samples_leaf=4, min_samples_split=2; total time=   4.5s\n",
      "[CV] END criterion=gini, max_depth=20, min_samples_leaf=4, min_samples_split=5; total time=   4.6s\n",
      "[CV] END criterion=gini, max_depth=20, min_samples_leaf=4, min_samples_split=5; total time=   4.5s\n",
      "[CV] END criterion=gini, max_depth=20, min_samples_leaf=4, min_samples_split=5; total time=   4.4s\n",
      "[CV] END criterion=gini, max_depth=20, min_samples_leaf=4, min_samples_split=5; total time=   4.6s\n",
      "[CV] END criterion=gini, max_depth=20, min_samples_leaf=4, min_samples_split=5; total time=   4.5s\n",
      "[CV] END criterion=gini, max_depth=20, min_samples_leaf=4, min_samples_split=10; total time=   4.6s\n",
      "[CV] END criterion=gini, max_depth=20, min_samples_leaf=4, min_samples_split=10; total time=   4.5s\n",
      "[CV] END criterion=gini, max_depth=20, min_samples_leaf=4, min_samples_split=10; total time=   4.4s\n",
      "[CV] END criterion=gini, max_depth=20, min_samples_leaf=4, min_samples_split=10; total time=   4.6s\n",
      "[CV] END criterion=gini, max_depth=20, min_samples_leaf=4, min_samples_split=10; total time=   4.4s\n",
      "[CV] END criterion=gini, max_depth=30, min_samples_leaf=1, min_samples_split=2; total time=   5.9s\n",
      "[CV] END criterion=gini, max_depth=30, min_samples_leaf=1, min_samples_split=2; total time=   5.6s\n",
      "[CV] END criterion=gini, max_depth=30, min_samples_leaf=1, min_samples_split=2; total time=   5.4s\n",
      "[CV] END criterion=gini, max_depth=30, min_samples_leaf=1, min_samples_split=2; total time=   5.7s\n",
      "[CV] END criterion=gini, max_depth=30, min_samples_leaf=1, min_samples_split=2; total time=   5.6s\n",
      "[CV] END criterion=gini, max_depth=30, min_samples_leaf=1, min_samples_split=5; total time=   5.8s\n",
      "[CV] END criterion=gini, max_depth=30, min_samples_leaf=1, min_samples_split=5; total time=   5.6s\n",
      "[CV] END criterion=gini, max_depth=30, min_samples_leaf=1, min_samples_split=5; total time=   5.4s\n",
      "[CV] END criterion=gini, max_depth=30, min_samples_leaf=1, min_samples_split=5; total time=   5.7s\n",
      "[CV] END criterion=gini, max_depth=30, min_samples_leaf=1, min_samples_split=5; total time=   5.6s\n",
      "[CV] END criterion=gini, max_depth=30, min_samples_leaf=1, min_samples_split=10; total time=   5.8s\n",
      "[CV] END criterion=gini, max_depth=30, min_samples_leaf=1, min_samples_split=10; total time=   5.5s\n",
      "[CV] END criterion=gini, max_depth=30, min_samples_leaf=1, min_samples_split=10; total time=   5.2s\n",
      "[CV] END criterion=gini, max_depth=30, min_samples_leaf=1, min_samples_split=10; total time=   5.7s\n",
      "[CV] END criterion=gini, max_depth=30, min_samples_leaf=1, min_samples_split=10; total time=   5.5s\n",
      "[CV] END criterion=gini, max_depth=30, min_samples_leaf=2, min_samples_split=2; total time=   5.7s\n",
      "[CV] END criterion=gini, max_depth=30, min_samples_leaf=2, min_samples_split=2; total time=   5.5s\n",
      "[CV] END criterion=gini, max_depth=30, min_samples_leaf=2, min_samples_split=2; total time=   5.2s\n",
      "[CV] END criterion=gini, max_depth=30, min_samples_leaf=2, min_samples_split=2; total time=   5.6s\n",
      "[CV] END criterion=gini, max_depth=30, min_samples_leaf=2, min_samples_split=2; total time=   5.4s\n",
      "[CV] END criterion=gini, max_depth=30, min_samples_leaf=2, min_samples_split=5; total time=   5.6s\n",
      "[CV] END criterion=gini, max_depth=30, min_samples_leaf=2, min_samples_split=5; total time=   5.4s\n",
      "[CV] END criterion=gini, max_depth=30, min_samples_leaf=2, min_samples_split=5; total time=   5.2s\n",
      "[CV] END criterion=gini, max_depth=30, min_samples_leaf=2, min_samples_split=5; total time=   5.5s\n",
      "[CV] END criterion=gini, max_depth=30, min_samples_leaf=2, min_samples_split=5; total time=   5.4s\n",
      "[CV] END criterion=gini, max_depth=30, min_samples_leaf=2, min_samples_split=10; total time=   5.6s\n",
      "[CV] END criterion=gini, max_depth=30, min_samples_leaf=2, min_samples_split=10; total time=   5.3s\n",
      "[CV] END criterion=gini, max_depth=30, min_samples_leaf=2, min_samples_split=10; total time=   5.2s\n",
      "[CV] END criterion=gini, max_depth=30, min_samples_leaf=2, min_samples_split=10; total time=   5.6s\n",
      "[CV] END criterion=gini, max_depth=30, min_samples_leaf=2, min_samples_split=10; total time=   5.4s\n",
      "[CV] END criterion=gini, max_depth=30, min_samples_leaf=4, min_samples_split=2; total time=   5.3s\n",
      "[CV] END criterion=gini, max_depth=30, min_samples_leaf=4, min_samples_split=2; total time=   5.1s\n",
      "[CV] END criterion=gini, max_depth=30, min_samples_leaf=4, min_samples_split=2; total time=   4.9s\n",
      "[CV] END criterion=gini, max_depth=30, min_samples_leaf=4, min_samples_split=2; total time=   5.4s\n",
      "[CV] END criterion=gini, max_depth=30, min_samples_leaf=4, min_samples_split=2; total time=   5.0s\n",
      "[CV] END criterion=gini, max_depth=30, min_samples_leaf=4, min_samples_split=5; total time=   5.3s\n",
      "[CV] END criterion=gini, max_depth=30, min_samples_leaf=4, min_samples_split=5; total time=   5.0s\n",
      "[CV] END criterion=gini, max_depth=30, min_samples_leaf=4, min_samples_split=5; total time=   4.8s\n",
      "[CV] END criterion=gini, max_depth=30, min_samples_leaf=4, min_samples_split=5; total time=   5.3s\n",
      "[CV] END criterion=gini, max_depth=30, min_samples_leaf=4, min_samples_split=5; total time=   5.0s\n",
      "[CV] END criterion=gini, max_depth=30, min_samples_leaf=4, min_samples_split=10; total time=   5.3s\n",
      "[CV] END criterion=gini, max_depth=30, min_samples_leaf=4, min_samples_split=10; total time=   5.0s\n",
      "[CV] END criterion=gini, max_depth=30, min_samples_leaf=4, min_samples_split=10; total time=   4.8s\n",
      "[CV] END criterion=gini, max_depth=30, min_samples_leaf=4, min_samples_split=10; total time=   5.5s\n",
      "[CV] END criterion=gini, max_depth=30, min_samples_leaf=4, min_samples_split=10; total time=   5.0s\n",
      "[CV] END criterion=gini, max_depth=40, min_samples_leaf=1, min_samples_split=2; total time=   6.3s\n",
      "[CV] END criterion=gini, max_depth=40, min_samples_leaf=1, min_samples_split=2; total time=   5.9s\n",
      "[CV] END criterion=gini, max_depth=40, min_samples_leaf=1, min_samples_split=2; total time=   5.5s\n",
      "[CV] END criterion=gini, max_depth=40, min_samples_leaf=1, min_samples_split=2; total time=   6.3s\n",
      "[CV] END criterion=gini, max_depth=40, min_samples_leaf=1, min_samples_split=2; total time=   6.0s\n",
      "[CV] END criterion=gini, max_depth=40, min_samples_leaf=1, min_samples_split=5; total time=   6.2s\n",
      "[CV] END criterion=gini, max_depth=40, min_samples_leaf=1, min_samples_split=5; total time=   5.9s\n",
      "[CV] END criterion=gini, max_depth=40, min_samples_leaf=1, min_samples_split=5; total time=   5.5s\n",
      "[CV] END criterion=gini, max_depth=40, min_samples_leaf=1, min_samples_split=5; total time=   6.2s\n",
      "[CV] END criterion=gini, max_depth=40, min_samples_leaf=1, min_samples_split=5; total time=   6.0s\n",
      "[CV] END criterion=gini, max_depth=40, min_samples_leaf=1, min_samples_split=10; total time=   6.1s\n",
      "[CV] END criterion=gini, max_depth=40, min_samples_leaf=1, min_samples_split=10; total time=   5.8s\n",
      "[CV] END criterion=gini, max_depth=40, min_samples_leaf=1, min_samples_split=10; total time=   5.4s\n",
      "[CV] END criterion=gini, max_depth=40, min_samples_leaf=1, min_samples_split=10; total time=   6.2s\n",
      "[CV] END criterion=gini, max_depth=40, min_samples_leaf=1, min_samples_split=10; total time=   5.8s\n",
      "[CV] END criterion=gini, max_depth=40, min_samples_leaf=2, min_samples_split=2; total time=   6.0s\n",
      "[CV] END criterion=gini, max_depth=40, min_samples_leaf=2, min_samples_split=2; total time=   5.7s\n",
      "[CV] END criterion=gini, max_depth=40, min_samples_leaf=2, min_samples_split=2; total time=   5.3s\n",
      "[CV] END criterion=gini, max_depth=40, min_samples_leaf=2, min_samples_split=2; total time=   6.0s\n",
      "[CV] END criterion=gini, max_depth=40, min_samples_leaf=2, min_samples_split=2; total time=   5.7s\n",
      "[CV] END criterion=gini, max_depth=40, min_samples_leaf=2, min_samples_split=5; total time=   6.0s\n",
      "[CV] END criterion=gini, max_depth=40, min_samples_leaf=2, min_samples_split=5; total time=   5.7s\n",
      "[CV] END criterion=gini, max_depth=40, min_samples_leaf=2, min_samples_split=5; total time=   5.3s\n",
      "[CV] END criterion=gini, max_depth=40, min_samples_leaf=2, min_samples_split=5; total time=   6.0s\n",
      "[CV] END criterion=gini, max_depth=40, min_samples_leaf=2, min_samples_split=5; total time=   5.7s\n",
      "[CV] END criterion=gini, max_depth=40, min_samples_leaf=2, min_samples_split=10; total time=   5.9s\n",
      "[CV] END criterion=gini, max_depth=40, min_samples_leaf=2, min_samples_split=10; total time=   5.6s\n",
      "[CV] END criterion=gini, max_depth=40, min_samples_leaf=2, min_samples_split=10; total time=   5.3s\n",
      "[CV] END criterion=gini, max_depth=40, min_samples_leaf=2, min_samples_split=10; total time=   6.0s\n",
      "[CV] END criterion=gini, max_depth=40, min_samples_leaf=2, min_samples_split=10; total time=   5.7s\n",
      "[CV] END criterion=gini, max_depth=40, min_samples_leaf=4, min_samples_split=2; total time=   5.6s\n",
      "[CV] END criterion=gini, max_depth=40, min_samples_leaf=4, min_samples_split=2; total time=   5.1s\n",
      "[CV] END criterion=gini, max_depth=40, min_samples_leaf=4, min_samples_split=2; total time=   4.9s\n",
      "[CV] END criterion=gini, max_depth=40, min_samples_leaf=4, min_samples_split=2; total time=   5.6s\n",
      "[CV] END criterion=gini, max_depth=40, min_samples_leaf=4, min_samples_split=2; total time=   5.0s\n",
      "[CV] END criterion=gini, max_depth=40, min_samples_leaf=4, min_samples_split=5; total time=   5.6s\n",
      "[CV] END criterion=gini, max_depth=40, min_samples_leaf=4, min_samples_split=5; total time=   5.1s\n",
      "[CV] END criterion=gini, max_depth=40, min_samples_leaf=4, min_samples_split=5; total time=   4.8s\n",
      "[CV] END criterion=gini, max_depth=40, min_samples_leaf=4, min_samples_split=5; total time=   5.7s\n",
      "[CV] END criterion=gini, max_depth=40, min_samples_leaf=4, min_samples_split=5; total time=   5.0s\n",
      "[CV] END criterion=gini, max_depth=40, min_samples_leaf=4, min_samples_split=10; total time=   5.5s\n",
      "[CV] END criterion=gini, max_depth=40, min_samples_leaf=4, min_samples_split=10; total time=   5.2s\n",
      "[CV] END criterion=gini, max_depth=40, min_samples_leaf=4, min_samples_split=10; total time=   5.0s\n",
      "[CV] END criterion=gini, max_depth=40, min_samples_leaf=4, min_samples_split=10; total time=   5.8s\n",
      "[CV] END criterion=gini, max_depth=40, min_samples_leaf=4, min_samples_split=10; total time=   5.1s\n",
      "[CV] END criterion=entropy, max_depth=None, min_samples_leaf=1, min_samples_split=2; total time=   9.8s\n",
      "[CV] END criterion=entropy, max_depth=None, min_samples_leaf=1, min_samples_split=2; total time=   8.4s\n",
      "[CV] END criterion=entropy, max_depth=None, min_samples_leaf=1, min_samples_split=2; total time=   7.7s\n",
      "[CV] END criterion=entropy, max_depth=None, min_samples_leaf=1, min_samples_split=2; total time=   8.7s\n",
      "[CV] END criterion=entropy, max_depth=None, min_samples_leaf=1, min_samples_split=2; total time=   8.0s\n",
      "[CV] END criterion=entropy, max_depth=None, min_samples_leaf=1, min_samples_split=5; total time=   9.5s\n",
      "[CV] END criterion=entropy, max_depth=None, min_samples_leaf=1, min_samples_split=5; total time=   8.1s\n",
      "[CV] END criterion=entropy, max_depth=None, min_samples_leaf=1, min_samples_split=5; total time=   7.5s\n",
      "[CV] END criterion=entropy, max_depth=None, min_samples_leaf=1, min_samples_split=5; total time=   8.6s\n",
      "[CV] END criterion=entropy, max_depth=None, min_samples_leaf=1, min_samples_split=5; total time=   8.0s\n",
      "[CV] END criterion=entropy, max_depth=None, min_samples_leaf=1, min_samples_split=10; total time=   9.4s\n",
      "[CV] END criterion=entropy, max_depth=None, min_samples_leaf=1, min_samples_split=10; total time=   7.9s\n",
      "[CV] END criterion=entropy, max_depth=None, min_samples_leaf=1, min_samples_split=10; total time=   7.3s\n",
      "[CV] END criterion=entropy, max_depth=None, min_samples_leaf=1, min_samples_split=10; total time=   8.5s\n",
      "[CV] END criterion=entropy, max_depth=None, min_samples_leaf=1, min_samples_split=10; total time=   7.8s\n",
      "[CV] END criterion=entropy, max_depth=None, min_samples_leaf=2, min_samples_split=2; total time=   9.4s\n",
      "[CV] END criterion=entropy, max_depth=None, min_samples_leaf=2, min_samples_split=2; total time=   8.0s\n",
      "[CV] END criterion=entropy, max_depth=None, min_samples_leaf=2, min_samples_split=2; total time=   7.3s\n",
      "[CV] END criterion=entropy, max_depth=None, min_samples_leaf=2, min_samples_split=2; total time=   8.5s\n",
      "[CV] END criterion=entropy, max_depth=None, min_samples_leaf=2, min_samples_split=2; total time=   7.9s\n",
      "[CV] END criterion=entropy, max_depth=None, min_samples_leaf=2, min_samples_split=5; total time=   9.4s\n",
      "[CV] END criterion=entropy, max_depth=None, min_samples_leaf=2, min_samples_split=5; total time=   8.0s\n",
      "[CV] END criterion=entropy, max_depth=None, min_samples_leaf=2, min_samples_split=5; total time=   7.3s\n",
      "[CV] END criterion=entropy, max_depth=None, min_samples_leaf=2, min_samples_split=5; total time=   8.5s\n",
      "[CV] END criterion=entropy, max_depth=None, min_samples_leaf=2, min_samples_split=5; total time=   7.9s\n",
      "[CV] END criterion=entropy, max_depth=None, min_samples_leaf=2, min_samples_split=10; total time=   9.3s\n",
      "[CV] END criterion=entropy, max_depth=None, min_samples_leaf=2, min_samples_split=10; total time=   7.9s\n",
      "[CV] END criterion=entropy, max_depth=None, min_samples_leaf=2, min_samples_split=10; total time=   7.2s\n",
      "[CV] END criterion=entropy, max_depth=None, min_samples_leaf=2, min_samples_split=10; total time=   8.4s\n",
      "[CV] END criterion=entropy, max_depth=None, min_samples_leaf=2, min_samples_split=10; total time=   7.8s\n",
      "[CV] END criterion=entropy, max_depth=None, min_samples_leaf=4, min_samples_split=2; total time=   9.1s\n",
      "[CV] END criterion=entropy, max_depth=None, min_samples_leaf=4, min_samples_split=2; total time=   7.6s\n",
      "[CV] END criterion=entropy, max_depth=None, min_samples_leaf=4, min_samples_split=2; total time=   7.0s\n",
      "[CV] END criterion=entropy, max_depth=None, min_samples_leaf=4, min_samples_split=2; total time=   8.2s\n",
      "[CV] END criterion=entropy, max_depth=None, min_samples_leaf=4, min_samples_split=2; total time=   7.6s\n",
      "[CV] END criterion=entropy, max_depth=None, min_samples_leaf=4, min_samples_split=5; total time=   9.1s\n",
      "[CV] END criterion=entropy, max_depth=None, min_samples_leaf=4, min_samples_split=5; total time=   7.6s\n",
      "[CV] END criterion=entropy, max_depth=None, min_samples_leaf=4, min_samples_split=5; total time=   7.0s\n",
      "[CV] END criterion=entropy, max_depth=None, min_samples_leaf=4, min_samples_split=5; total time=   8.2s\n",
      "[CV] END criterion=entropy, max_depth=None, min_samples_leaf=4, min_samples_split=5; total time=   7.6s\n",
      "[CV] END criterion=entropy, max_depth=None, min_samples_leaf=4, min_samples_split=10; total time=   9.0s\n",
      "[CV] END criterion=entropy, max_depth=None, min_samples_leaf=4, min_samples_split=10; total time=   7.6s\n",
      "[CV] END criterion=entropy, max_depth=None, min_samples_leaf=4, min_samples_split=10; total time=   7.0s\n",
      "[CV] END criterion=entropy, max_depth=None, min_samples_leaf=4, min_samples_split=10; total time=   8.2s\n",
      "[CV] END criterion=entropy, max_depth=None, min_samples_leaf=4, min_samples_split=10; total time=   7.5s\n",
      "[CV] END criterion=entropy, max_depth=10, min_samples_leaf=1, min_samples_split=2; total time=   5.7s\n",
      "[CV] END criterion=entropy, max_depth=10, min_samples_leaf=1, min_samples_split=2; total time=   5.7s\n",
      "[CV] END criterion=entropy, max_depth=10, min_samples_leaf=1, min_samples_split=2; total time=   5.6s\n",
      "[CV] END criterion=entropy, max_depth=10, min_samples_leaf=1, min_samples_split=2; total time=   5.7s\n",
      "[CV] END criterion=entropy, max_depth=10, min_samples_leaf=1, min_samples_split=2; total time=   5.7s\n",
      "[CV] END criterion=entropy, max_depth=10, min_samples_leaf=1, min_samples_split=5; total time=   5.7s\n",
      "[CV] END criterion=entropy, max_depth=10, min_samples_leaf=1, min_samples_split=5; total time=   5.7s\n",
      "[CV] END criterion=entropy, max_depth=10, min_samples_leaf=1, min_samples_split=5; total time=   5.6s\n",
      "[CV] END criterion=entropy, max_depth=10, min_samples_leaf=1, min_samples_split=5; total time=   5.7s\n",
      "[CV] END criterion=entropy, max_depth=10, min_samples_leaf=1, min_samples_split=5; total time=   5.7s\n",
      "[CV] END criterion=entropy, max_depth=10, min_samples_leaf=1, min_samples_split=10; total time=   5.6s\n",
      "[CV] END criterion=entropy, max_depth=10, min_samples_leaf=1, min_samples_split=10; total time=   5.6s\n",
      "[CV] END criterion=entropy, max_depth=10, min_samples_leaf=1, min_samples_split=10; total time=   5.6s\n",
      "[CV] END criterion=entropy, max_depth=10, min_samples_leaf=1, min_samples_split=10; total time=   5.7s\n",
      "[CV] END criterion=entropy, max_depth=10, min_samples_leaf=1, min_samples_split=10; total time=   5.6s\n",
      "[CV] END criterion=entropy, max_depth=10, min_samples_leaf=2, min_samples_split=2; total time=   5.6s\n",
      "[CV] END criterion=entropy, max_depth=10, min_samples_leaf=2, min_samples_split=2; total time=   5.6s\n",
      "[CV] END criterion=entropy, max_depth=10, min_samples_leaf=2, min_samples_split=2; total time=   5.6s\n",
      "[CV] END criterion=entropy, max_depth=10, min_samples_leaf=2, min_samples_split=2; total time=   5.7s\n",
      "[CV] END criterion=entropy, max_depth=10, min_samples_leaf=2, min_samples_split=2; total time=   5.6s\n",
      "[CV] END criterion=entropy, max_depth=10, min_samples_leaf=2, min_samples_split=5; total time=   5.6s\n",
      "[CV] END criterion=entropy, max_depth=10, min_samples_leaf=2, min_samples_split=5; total time=   5.6s\n",
      "[CV] END criterion=entropy, max_depth=10, min_samples_leaf=2, min_samples_split=5; total time=   5.6s\n",
      "[CV] END criterion=entropy, max_depth=10, min_samples_leaf=2, min_samples_split=5; total time=   5.7s\n",
      "[CV] END criterion=entropy, max_depth=10, min_samples_leaf=2, min_samples_split=5; total time=   5.6s\n",
      "[CV] END criterion=entropy, max_depth=10, min_samples_leaf=2, min_samples_split=10; total time=   5.6s\n",
      "[CV] END criterion=entropy, max_depth=10, min_samples_leaf=2, min_samples_split=10; total time=   5.6s\n",
      "[CV] END criterion=entropy, max_depth=10, min_samples_leaf=2, min_samples_split=10; total time=   5.6s\n",
      "[CV] END criterion=entropy, max_depth=10, min_samples_leaf=2, min_samples_split=10; total time=   5.6s\n",
      "[CV] END criterion=entropy, max_depth=10, min_samples_leaf=2, min_samples_split=10; total time=   5.6s\n",
      "[CV] END criterion=entropy, max_depth=10, min_samples_leaf=4, min_samples_split=2; total time=   5.6s\n",
      "[CV] END criterion=entropy, max_depth=10, min_samples_leaf=4, min_samples_split=2; total time=   5.5s\n",
      "[CV] END criterion=entropy, max_depth=10, min_samples_leaf=4, min_samples_split=2; total time=   5.5s\n",
      "[CV] END criterion=entropy, max_depth=10, min_samples_leaf=4, min_samples_split=2; total time=   5.6s\n",
      "[CV] END criterion=entropy, max_depth=10, min_samples_leaf=4, min_samples_split=2; total time=   5.6s\n",
      "[CV] END criterion=entropy, max_depth=10, min_samples_leaf=4, min_samples_split=5; total time=   5.6s\n",
      "[CV] END criterion=entropy, max_depth=10, min_samples_leaf=4, min_samples_split=5; total time=   5.6s\n",
      "[CV] END criterion=entropy, max_depth=10, min_samples_leaf=4, min_samples_split=5; total time=   5.5s\n",
      "[CV] END criterion=entropy, max_depth=10, min_samples_leaf=4, min_samples_split=5; total time=   5.6s\n",
      "[CV] END criterion=entropy, max_depth=10, min_samples_leaf=4, min_samples_split=5; total time=   5.6s\n",
      "[CV] END criterion=entropy, max_depth=10, min_samples_leaf=4, min_samples_split=10; total time=   5.6s\n",
      "[CV] END criterion=entropy, max_depth=10, min_samples_leaf=4, min_samples_split=10; total time=   5.5s\n",
      "[CV] END criterion=entropy, max_depth=10, min_samples_leaf=4, min_samples_split=10; total time=   5.5s\n",
      "[CV] END criterion=entropy, max_depth=10, min_samples_leaf=4, min_samples_split=10; total time=   5.6s\n",
      "[CV] END criterion=entropy, max_depth=10, min_samples_leaf=4, min_samples_split=10; total time=   5.6s\n",
      "[CV] END criterion=entropy, max_depth=20, min_samples_leaf=1, min_samples_split=2; total time=   8.5s\n",
      "[CV] END criterion=entropy, max_depth=20, min_samples_leaf=1, min_samples_split=2; total time=   7.9s\n",
      "[CV] END criterion=entropy, max_depth=20, min_samples_leaf=1, min_samples_split=2; total time=   7.4s\n",
      "[CV] END criterion=entropy, max_depth=20, min_samples_leaf=1, min_samples_split=2; total time=   8.3s\n",
      "[CV] END criterion=entropy, max_depth=20, min_samples_leaf=1, min_samples_split=2; total time=   7.9s\n",
      "[CV] END criterion=entropy, max_depth=20, min_samples_leaf=1, min_samples_split=5; total time=   8.5s\n",
      "[CV] END criterion=entropy, max_depth=20, min_samples_leaf=1, min_samples_split=5; total time=   7.9s\n",
      "[CV] END criterion=entropy, max_depth=20, min_samples_leaf=1, min_samples_split=5; total time=   7.4s\n",
      "[CV] END criterion=entropy, max_depth=20, min_samples_leaf=1, min_samples_split=5; total time=   8.3s\n",
      "[CV] END criterion=entropy, max_depth=20, min_samples_leaf=1, min_samples_split=5; total time=   7.9s\n",
      "[CV] END criterion=entropy, max_depth=20, min_samples_leaf=1, min_samples_split=10; total time=   8.4s\n",
      "[CV] END criterion=entropy, max_depth=20, min_samples_leaf=1, min_samples_split=10; total time=   7.7s\n",
      "[CV] END criterion=entropy, max_depth=20, min_samples_leaf=1, min_samples_split=10; total time=   7.3s\n",
      "[CV] END criterion=entropy, max_depth=20, min_samples_leaf=1, min_samples_split=10; total time=   8.2s\n",
      "[CV] END criterion=entropy, max_depth=20, min_samples_leaf=1, min_samples_split=10; total time=   7.7s\n",
      "[CV] END criterion=entropy, max_depth=20, min_samples_leaf=2, min_samples_split=2; total time=   8.4s\n",
      "[CV] END criterion=entropy, max_depth=20, min_samples_leaf=2, min_samples_split=2; total time=   7.8s\n",
      "[CV] END criterion=entropy, max_depth=20, min_samples_leaf=2, min_samples_split=2; total time=   7.3s\n",
      "[CV] END criterion=entropy, max_depth=20, min_samples_leaf=2, min_samples_split=2; total time=   8.2s\n",
      "[CV] END criterion=entropy, max_depth=20, min_samples_leaf=2, min_samples_split=2; total time=   7.8s\n",
      "[CV] END criterion=entropy, max_depth=20, min_samples_leaf=2, min_samples_split=5; total time=   8.4s\n",
      "[CV] END criterion=entropy, max_depth=20, min_samples_leaf=2, min_samples_split=5; total time=   7.8s\n",
      "[CV] END criterion=entropy, max_depth=20, min_samples_leaf=2, min_samples_split=5; total time=   7.3s\n",
      "[CV] END criterion=entropy, max_depth=20, min_samples_leaf=2, min_samples_split=5; total time=   8.2s\n",
      "[CV] END criterion=entropy, max_depth=20, min_samples_leaf=2, min_samples_split=5; total time=   7.7s\n",
      "[CV] END criterion=entropy, max_depth=20, min_samples_leaf=2, min_samples_split=10; total time=   8.3s\n",
      "[CV] END criterion=entropy, max_depth=20, min_samples_leaf=2, min_samples_split=10; total time=   7.7s\n",
      "[CV] END criterion=entropy, max_depth=20, min_samples_leaf=2, min_samples_split=10; total time=   7.2s\n",
      "[CV] END criterion=entropy, max_depth=20, min_samples_leaf=2, min_samples_split=10; total time=   8.1s\n",
      "[CV] END criterion=entropy, max_depth=20, min_samples_leaf=2, min_samples_split=10; total time=   7.7s\n",
      "[CV] END criterion=entropy, max_depth=20, min_samples_leaf=4, min_samples_split=2; total time=   8.2s\n",
      "[CV] END criterion=entropy, max_depth=20, min_samples_leaf=4, min_samples_split=2; total time=   7.5s\n",
      "[CV] END criterion=entropy, max_depth=20, min_samples_leaf=4, min_samples_split=2; total time=   7.0s\n",
      "[CV] END criterion=entropy, max_depth=20, min_samples_leaf=4, min_samples_split=2; total time=   7.9s\n",
      "[CV] END criterion=entropy, max_depth=20, min_samples_leaf=4, min_samples_split=2; total time=   7.5s\n",
      "[CV] END criterion=entropy, max_depth=20, min_samples_leaf=4, min_samples_split=5; total time=   8.2s\n",
      "[CV] END criterion=entropy, max_depth=20, min_samples_leaf=4, min_samples_split=5; total time=   7.5s\n",
      "[CV] END criterion=entropy, max_depth=20, min_samples_leaf=4, min_samples_split=5; total time=   7.0s\n",
      "[CV] END criterion=entropy, max_depth=20, min_samples_leaf=4, min_samples_split=5; total time=   7.9s\n",
      "[CV] END criterion=entropy, max_depth=20, min_samples_leaf=4, min_samples_split=5; total time=   7.5s\n",
      "[CV] END criterion=entropy, max_depth=20, min_samples_leaf=4, min_samples_split=10; total time=   8.2s\n",
      "[CV] END criterion=entropy, max_depth=20, min_samples_leaf=4, min_samples_split=10; total time=   7.5s\n",
      "[CV] END criterion=entropy, max_depth=20, min_samples_leaf=4, min_samples_split=10; total time=   7.0s\n",
      "[CV] END criterion=entropy, max_depth=20, min_samples_leaf=4, min_samples_split=10; total time=   7.9s\n",
      "[CV] END criterion=entropy, max_depth=20, min_samples_leaf=4, min_samples_split=10; total time=   7.4s\n",
      "[CV] END criterion=entropy, max_depth=30, min_samples_leaf=1, min_samples_split=2; total time=   9.4s\n",
      "[CV] END criterion=entropy, max_depth=30, min_samples_leaf=1, min_samples_split=2; total time=   8.1s\n",
      "[CV] END criterion=entropy, max_depth=30, min_samples_leaf=1, min_samples_split=2; total time=   7.5s\n",
      "[CV] END criterion=entropy, max_depth=30, min_samples_leaf=1, min_samples_split=2; total time=   8.7s\n",
      "[CV] END criterion=entropy, max_depth=30, min_samples_leaf=1, min_samples_split=2; total time=   8.0s\n",
      "[CV] END criterion=entropy, max_depth=30, min_samples_leaf=1, min_samples_split=5; total time=   9.4s\n",
      "[CV] END criterion=entropy, max_depth=30, min_samples_leaf=1, min_samples_split=5; total time=   8.1s\n",
      "[CV] END criterion=entropy, max_depth=30, min_samples_leaf=1, min_samples_split=5; total time=   7.4s\n",
      "[CV] END criterion=entropy, max_depth=30, min_samples_leaf=1, min_samples_split=5; total time=   8.6s\n",
      "[CV] END criterion=entropy, max_depth=30, min_samples_leaf=1, min_samples_split=5; total time=   8.0s\n",
      "[CV] END criterion=entropy, max_depth=30, min_samples_leaf=1, min_samples_split=10; total time=   9.2s\n",
      "[CV] END criterion=entropy, max_depth=30, min_samples_leaf=1, min_samples_split=10; total time=   7.9s\n",
      "[CV] END criterion=entropy, max_depth=30, min_samples_leaf=1, min_samples_split=10; total time=   7.3s\n",
      "[CV] END criterion=entropy, max_depth=30, min_samples_leaf=1, min_samples_split=10; total time=   8.5s\n",
      "[CV] END criterion=entropy, max_depth=30, min_samples_leaf=1, min_samples_split=10; total time=   7.9s\n",
      "[CV] END criterion=entropy, max_depth=30, min_samples_leaf=2, min_samples_split=2; total time=   9.3s\n",
      "[CV] END criterion=entropy, max_depth=30, min_samples_leaf=2, min_samples_split=2; total time=   7.9s\n",
      "[CV] END criterion=entropy, max_depth=30, min_samples_leaf=2, min_samples_split=2; total time=   7.4s\n",
      "[CV] END criterion=entropy, max_depth=30, min_samples_leaf=2, min_samples_split=2; total time=   8.5s\n",
      "[CV] END criterion=entropy, max_depth=30, min_samples_leaf=2, min_samples_split=2; total time=   7.9s\n",
      "[CV] END criterion=entropy, max_depth=30, min_samples_leaf=2, min_samples_split=5; total time=   9.3s\n",
      "[CV] END criterion=entropy, max_depth=30, min_samples_leaf=2, min_samples_split=5; total time=   8.0s\n",
      "[CV] END criterion=entropy, max_depth=30, min_samples_leaf=2, min_samples_split=5; total time=   7.3s\n",
      "[CV] END criterion=entropy, max_depth=30, min_samples_leaf=2, min_samples_split=5; total time=   8.5s\n",
      "[CV] END criterion=entropy, max_depth=30, min_samples_leaf=2, min_samples_split=5; total time=   7.9s\n",
      "[CV] END criterion=entropy, max_depth=30, min_samples_leaf=2, min_samples_split=10; total time=   9.2s\n",
      "[CV] END criterion=entropy, max_depth=30, min_samples_leaf=2, min_samples_split=10; total time=   7.8s\n",
      "[CV] END criterion=entropy, max_depth=30, min_samples_leaf=2, min_samples_split=10; total time=   7.6s\n",
      "[CV] END criterion=entropy, max_depth=30, min_samples_leaf=2, min_samples_split=10; total time=   8.5s\n",
      "[CV] END criterion=entropy, max_depth=30, min_samples_leaf=2, min_samples_split=10; total time=   7.8s\n",
      "[CV] END criterion=entropy, max_depth=30, min_samples_leaf=4, min_samples_split=2; total time=   9.0s\n",
      "[CV] END criterion=entropy, max_depth=30, min_samples_leaf=4, min_samples_split=2; total time=   7.6s\n",
      "[CV] END criterion=entropy, max_depth=30, min_samples_leaf=4, min_samples_split=2; total time=   7.0s\n",
      "[CV] END criterion=entropy, max_depth=30, min_samples_leaf=4, min_samples_split=2; total time=   8.2s\n",
      "[CV] END criterion=entropy, max_depth=30, min_samples_leaf=4, min_samples_split=2; total time=   7.6s\n",
      "[CV] END criterion=entropy, max_depth=30, min_samples_leaf=4, min_samples_split=5; total time=   9.0s\n",
      "[CV] END criterion=entropy, max_depth=30, min_samples_leaf=4, min_samples_split=5; total time=   7.6s\n",
      "[CV] END criterion=entropy, max_depth=30, min_samples_leaf=4, min_samples_split=5; total time=   7.0s\n",
      "[CV] END criterion=entropy, max_depth=30, min_samples_leaf=4, min_samples_split=5; total time=   8.2s\n",
      "[CV] END criterion=entropy, max_depth=30, min_samples_leaf=4, min_samples_split=5; total time=   7.6s\n",
      "[CV] END criterion=entropy, max_depth=30, min_samples_leaf=4, min_samples_split=10; total time=   9.0s\n",
      "[CV] END criterion=entropy, max_depth=30, min_samples_leaf=4, min_samples_split=10; total time=   7.6s\n",
      "[CV] END criterion=entropy, max_depth=30, min_samples_leaf=4, min_samples_split=10; total time=   7.0s\n",
      "[CV] END criterion=entropy, max_depth=30, min_samples_leaf=4, min_samples_split=10; total time=   8.2s\n",
      "[CV] END criterion=entropy, max_depth=30, min_samples_leaf=4, min_samples_split=10; total time=   7.5s\n",
      "[CV] END criterion=entropy, max_depth=40, min_samples_leaf=1, min_samples_split=2; total time=   9.5s\n",
      "[CV] END criterion=entropy, max_depth=40, min_samples_leaf=1, min_samples_split=2; total time=   8.1s\n",
      "[CV] END criterion=entropy, max_depth=40, min_samples_leaf=1, min_samples_split=2; total time=   7.5s\n",
      "[CV] END criterion=entropy, max_depth=40, min_samples_leaf=1, min_samples_split=2; total time=   8.6s\n",
      "[CV] END criterion=entropy, max_depth=40, min_samples_leaf=1, min_samples_split=2; total time=   8.0s\n",
      "[CV] END criterion=entropy, max_depth=40, min_samples_leaf=1, min_samples_split=5; total time=   9.5s\n",
      "[CV] END criterion=entropy, max_depth=40, min_samples_leaf=1, min_samples_split=5; total time=   8.1s\n",
      "[CV] END criterion=entropy, max_depth=40, min_samples_leaf=1, min_samples_split=5; total time=   7.4s\n",
      "[CV] END criterion=entropy, max_depth=40, min_samples_leaf=1, min_samples_split=5; total time=   8.6s\n",
      "[CV] END criterion=entropy, max_depth=40, min_samples_leaf=1, min_samples_split=5; total time=   8.0s\n",
      "[CV] END criterion=entropy, max_depth=40, min_samples_leaf=1, min_samples_split=10; total time=   9.3s\n",
      "[CV] END criterion=entropy, max_depth=40, min_samples_leaf=1, min_samples_split=10; total time=   7.9s\n",
      "[CV] END criterion=entropy, max_depth=40, min_samples_leaf=1, min_samples_split=10; total time=   7.3s\n",
      "[CV] END criterion=entropy, max_depth=40, min_samples_leaf=1, min_samples_split=10; total time=   8.5s\n",
      "[CV] END criterion=entropy, max_depth=40, min_samples_leaf=1, min_samples_split=10; total time=   7.9s\n",
      "[CV] END criterion=entropy, max_depth=40, min_samples_leaf=2, min_samples_split=2; total time=   9.4s\n",
      "[CV] END criterion=entropy, max_depth=40, min_samples_leaf=2, min_samples_split=2; total time=   8.0s\n",
      "[CV] END criterion=entropy, max_depth=40, min_samples_leaf=2, min_samples_split=2; total time=   7.3s\n",
      "[CV] END criterion=entropy, max_depth=40, min_samples_leaf=2, min_samples_split=2; total time=   8.5s\n",
      "[CV] END criterion=entropy, max_depth=40, min_samples_leaf=2, min_samples_split=2; total time=   7.9s\n",
      "[CV] END criterion=entropy, max_depth=40, min_samples_leaf=2, min_samples_split=5; total time=   9.4s\n",
      "[CV] END criterion=entropy, max_depth=40, min_samples_leaf=2, min_samples_split=5; total time=   7.9s\n",
      "[CV] END criterion=entropy, max_depth=40, min_samples_leaf=2, min_samples_split=5; total time=   7.3s\n",
      "[CV] END criterion=entropy, max_depth=40, min_samples_leaf=2, min_samples_split=5; total time=   8.5s\n",
      "[CV] END criterion=entropy, max_depth=40, min_samples_leaf=2, min_samples_split=5; total time=   7.9s\n",
      "[CV] END criterion=entropy, max_depth=40, min_samples_leaf=2, min_samples_split=10; total time=   9.3s\n",
      "[CV] END criterion=entropy, max_depth=40, min_samples_leaf=2, min_samples_split=10; total time=   7.8s\n",
      "[CV] END criterion=entropy, max_depth=40, min_samples_leaf=2, min_samples_split=10; total time=   7.2s\n",
      "[CV] END criterion=entropy, max_depth=40, min_samples_leaf=2, min_samples_split=10; total time=   8.4s\n",
      "[CV] END criterion=entropy, max_depth=40, min_samples_leaf=2, min_samples_split=10; total time=   7.7s\n",
      "[CV] END criterion=entropy, max_depth=40, min_samples_leaf=4, min_samples_split=2; total time=   9.1s\n",
      "[CV] END criterion=entropy, max_depth=40, min_samples_leaf=4, min_samples_split=2; total time=   7.6s\n",
      "[CV] END criterion=entropy, max_depth=40, min_samples_leaf=4, min_samples_split=2; total time=   7.0s\n",
      "[CV] END criterion=entropy, max_depth=40, min_samples_leaf=4, min_samples_split=2; total time=   8.2s\n",
      "[CV] END criterion=entropy, max_depth=40, min_samples_leaf=4, min_samples_split=2; total time=   7.6s\n",
      "[CV] END criterion=entropy, max_depth=40, min_samples_leaf=4, min_samples_split=5; total time=   9.1s\n",
      "[CV] END criterion=entropy, max_depth=40, min_samples_leaf=4, min_samples_split=5; total time=   7.6s\n",
      "[CV] END criterion=entropy, max_depth=40, min_samples_leaf=4, min_samples_split=5; total time=   7.0s\n",
      "[CV] END criterion=entropy, max_depth=40, min_samples_leaf=4, min_samples_split=5; total time=   8.2s\n",
      "[CV] END criterion=entropy, max_depth=40, min_samples_leaf=4, min_samples_split=5; total time=   7.5s\n",
      "[CV] END criterion=entropy, max_depth=40, min_samples_leaf=4, min_samples_split=10; total time=   9.0s\n",
      "[CV] END criterion=entropy, max_depth=40, min_samples_leaf=4, min_samples_split=10; total time=   7.6s\n",
      "[CV] END criterion=entropy, max_depth=40, min_samples_leaf=4, min_samples_split=10; total time=   7.0s\n",
      "[CV] END criterion=entropy, max_depth=40, min_samples_leaf=4, min_samples_split=10; total time=   8.2s\n",
      "[CV] END criterion=entropy, max_depth=40, min_samples_leaf=4, min_samples_split=10; total time=   7.5s\n",
      "Best Parameters:  {'criterion': 'entropy', 'max_depth': 10, 'min_samples_leaf': 1, 'min_samples_split': 2}\n",
      "Best Score:  0.4257202965195204\n",
      "Accuracy on Test Set:  0.4310747663551402\n",
      "Classification Report: \n",
      "              precision    recall  f1-score   support\n",
      "\n",
      "           0       0.09      0.01      0.02        70\n",
      "           1       0.17      0.11      0.13       269\n",
      "           2       0.25      0.16      0.19       297\n",
      "           3       0.25      0.16      0.20       476\n",
      "           4       0.14      0.04      0.06       173\n",
      "           5       0.00      0.00      0.00        78\n",
      "           6       0.52      0.79      0.62      1205\n",
      "\n",
      "    accuracy                           0.43      2568\n",
      "   macro avg       0.20      0.18      0.18      2568\n",
      "weighted avg       0.35      0.43      0.37      2568\n",
      "\n"
     ]
    }
   ],
   "source": [
    "# Define the parameter grid for Decision Tree\n",
    "param_grid = {\n",
    "    'max_depth': [None, 10, 20, 30, 40],  # Maximum depth of the tree\n",
    "    'min_samples_split': [2, 5, 10],  # Minimum number of samples required to split an internal node\n",
    "    'min_samples_leaf': [1, 2, 4],  # Minimum number of samples required to be at a leaf node\n",
    "    'criterion': ['gini', 'entropy']  # Function to measure the quality of a split\n",
    "}\n",
    "\n",
    "# Initialize the Decision Tree classifier\n",
    "decision_tree = DecisionTreeClassifier(random_state=42)\n",
    "\n",
    "# Initialize GridSearchCV object with Decision Tree classifier and the parameter grid\n",
    "grid_search = GridSearchCV(estimator=decision_tree, param_grid=param_grid, cv=5, scoring='accuracy', verbose=2)\n",
    "\n",
    "# Fit the model with the training data\n",
    "grid_search.fit(X_train, y_train)\n",
    "\n",
    "# Print the best parameters and the best score\n",
    "print(\"Best Parameters: \", grid_search.best_params_)\n",
    "print(\"Best Score: \", grid_search.best_score_)\n",
    "\n",
    "# Predict on the test set with the best parameters\n",
    "y_pred = grid_search.predict(X_test)\n",
    "\n",
    "# Evaluate the classifier with the best parameters\n",
    "print(\"Accuracy on Test Set: \", accuracy_score(y_test, y_pred))\n",
    "print(\"Classification Report: \")\n",
    "print(classification_report(y_test, y_pred))"
   ]
  },
  {
   "cell_type": "markdown",
   "id": "c535a925",
   "metadata": {},
   "source": [
    "### Fully Connected Layers"
   ]
  },
  {
   "cell_type": "markdown",
   "id": "27f12e65",
   "metadata": {},
   "source": [
    "Get an emotion classifier class. Specs of the model can be changed through here."
   ]
  },
  {
   "cell_type": "code",
   "execution_count": null,
   "id": "149ce9d0",
   "metadata": {},
   "outputs": [],
   "source": [
    "class EmotionClassifier(nn.Module):\n",
    "    def __init__(self, input_size, hidden_size, num_classes):\n",
    "        super(EmotionClassifier, self).__init__()\n",
    "        self.fc1 = nn.Linear(input_size, hidden_size)\n",
    "        self.fc2 = nn.Linear(hidden_size, hidden_size)\n",
    "        self.fc3 = nn.Linear(hidden_size, num_classes)\n",
    "\n",
    "    def forward(self, x):\n",
    "        x = F.relu(self.fc1(x))\n",
    "        x = F.relu(self.fc2(x))\n",
    "        x = self.fc3(x)  # Output without activation; softmax will be applied externally if needed\n",
    "        return x"
   ]
  },
  {
   "cell_type": "markdown",
   "id": "47745e8e",
   "metadata": {},
   "source": [
    "Train test split. Convert data to tensors. Get datasets and loaders."
   ]
  },
  {
   "cell_type": "code",
   "execution_count": null,
   "id": "0b0767b7",
   "metadata": {},
   "outputs": [],
   "source": [
    "# Convert data to PyTorch tensors\n",
    "X_train_tensor = torch.tensor(X_train, dtype=torch.float32)\n",
    "y_train_tensor = torch.tensor(y_train, dtype=torch.long)\n",
    "X_test_tensor = torch.tensor(X_test, dtype=torch.float32)\n",
    "y_test_tensor = torch.tensor(y_test, dtype=torch.long)\n",
    "\n",
    "# Wraps tensors into a dataset. Used to combine the input features and labels into a single dataset object for both training and testing data.\n",
    "train_dataset = TensorDataset(X_train_tensor, y_train_tensor)\n",
    "test_dataset = TensorDataset(X_test_tensor, y_test_tensor)\n",
    "\n",
    "# Provides an iterable over the given dataset, supporting automatic batching, sampling, shuffling, and multiprocess data loading.\n",
    "train_loader = DataLoader(train_dataset, batch_size=64, shuffle=True)\n",
    "test_loader = DataLoader(test_dataset, batch_size=64, shuffle=False) "
   ]
  },
  {
   "cell_type": "markdown",
   "id": "76c6415c",
   "metadata": {},
   "source": [
    "Train model"
   ]
  },
  {
   "cell_type": "code",
   "execution_count": null,
   "id": "36bb07ec",
   "metadata": {},
   "outputs": [],
   "source": [
    "model = EmotionClassifier(input_size=X_train.shape[1], hidden_size=256, num_classes=len(set(y)))\n",
    "criterion = nn.CrossEntropyLoss()\n",
    "optimizer = torch.optim.Adam(model.parameters(), lr=0.001)"
   ]
  },
  {
   "cell_type": "code",
   "execution_count": null,
   "id": "7f3d4a38",
   "metadata": {},
   "outputs": [
    {
     "name": "stdout",
     "output_type": "stream",
     "text": [
      "Epoch [0/250], Loss: 1.4900, Accuracy: 46.92367601246106%\n",
      "Epoch [10/250], Loss: 1.5260, Accuracy: 47.27414330218068%\n",
      "Epoch [20/250], Loss: 1.7633, Accuracy: 47.27414330218068%\n",
      "Epoch [30/250], Loss: 1.4860, Accuracy: 48.442367601246104%\n",
      "Epoch [40/250], Loss: 1.6929, Accuracy: 48.5202492211838%\n",
      "Epoch [50/250], Loss: 1.9062, Accuracy: 48.28660436137071%\n",
      "Epoch [60/250], Loss: 1.3402, Accuracy: 48.13084112149533%\n",
      "Epoch [70/250], Loss: 1.5801, Accuracy: 47.624610591900314%\n",
      "Epoch [80/250], Loss: 1.7049, Accuracy: 48.481308411214954%\n",
      "Epoch [90/250], Loss: 1.5788, Accuracy: 48.71495327102804%\n",
      "Epoch [100/250], Loss: 1.5613, Accuracy: 48.90965732087228%\n",
      "Epoch [110/250], Loss: 1.5385, Accuracy: 48.71495327102804%\n",
      "Epoch [120/250], Loss: 1.3571, Accuracy: 49.76635514018692%\n",
      "Epoch [130/250], Loss: 1.1905, Accuracy: 49.299065420560744%\n",
      "Epoch [140/250], Loss: 1.7540, Accuracy: 49.22118380062305%\n",
      "Epoch [150/250], Loss: 1.4226, Accuracy: 49.41588785046729%\n",
      "Epoch [160/250], Loss: 1.2352, Accuracy: 49.22118380062305%\n",
      "Epoch [170/250], Loss: 1.3040, Accuracy: 49.493769470404985%\n",
      "Epoch [180/250], Loss: 1.3211, Accuracy: 48.90965732087228%\n",
      "Epoch [190/250], Loss: 1.2887, Accuracy: 49.06542056074766%\n",
      "Epoch [200/250], Loss: 1.3074, Accuracy: 49.96105919003115%\n",
      "Epoch [210/250], Loss: 1.2919, Accuracy: 49.02647975077882%\n",
      "Epoch [220/250], Loss: 1.4004, Accuracy: 48.481308411214954%\n",
      "Epoch [230/250], Loss: 1.6795, Accuracy: 48.598130841121495%\n",
      "Epoch [240/250], Loss: 1.3829, Accuracy: 48.559190031152646%\n"
     ]
    }
   ],
   "source": [
    "num_epochs = 250\n",
    "accuracy_list = []\n",
    "loss_list = []\n",
    "\n",
    "for epoch in range(num_epochs):\n",
    "    for inputs, labels in train_loader:\n",
    "        optimizer.zero_grad()  # Reset gradients\n",
    "        outputs = model(inputs)  # Forward pass\n",
    "        loss = criterion(outputs, labels)  # Compute loss\n",
    "        loss.backward()  # Backward pass\n",
    "        optimizer.step()  # Update weights\n",
    "\n",
    "    # After updating weights in each epoch, add code to evaluate on the test set or a validation set\n",
    "    model.eval()  # Set the model to evaluation mode\n",
    "    with torch.no_grad():\n",
    "        # Initialize variables to track accuracy, for example\n",
    "        correct, total = 0, 0\n",
    "        for inputs, labels in test_loader:\n",
    "            outputs = model(inputs)\n",
    "            _, predicted = torch.max(outputs.data, 1)\n",
    "            total += labels.size(0)\n",
    "            correct += (predicted == labels).sum().item()\n",
    "    \n",
    "    accuracy = 100 * correct / total\n",
    "\n",
    "    accuracy_list.append(accuracy)\n",
    "    loss_list.append(loss.item())\n",
    "    \n",
    "    model.train()  # Set the model back to training mode\n",
    "    if epoch % 10 == 0:\n",
    "        print(f'Epoch [{epoch}/{num_epochs}], Loss: {loss.item():.4f}, Accuracy: {accuracy}%')\n"
   ]
  },
  {
   "cell_type": "markdown",
   "id": "8dccdd0a",
   "metadata": {},
   "source": [
    "Accuracy Graph"
   ]
  },
  {
   "cell_type": "code",
   "execution_count": null,
   "id": "7688fe73",
   "metadata": {},
   "outputs": [
    {
     "data": {
      "image/png": "[encoded data removed]",
      "text/plain": [
       "<Figure size 1000x600 with 1 Axes>"
      ]
     },
     "metadata": {},
     "output_type": "display_data"
    }
   ],
   "source": [
    "import matplotlib.pyplot as plt\n",
    "\n",
    "x = range(len(accuracy_list))\n",
    "plt.figure(figsize=(10, 6))\n",
    "plt.plot(x, accuracy_list, marker='o', linestyle='', color='b')\n",
    "plt.title('Accuracy per Epoch')\n",
    "plt.xlabel('Epochs')\n",
    "plt.ylabel('Accuracy')\n",
    "plt.grid(True)\n",
    "plt.show()"
   ]
  },
  {
   "cell_type": "markdown",
   "id": "eae28536",
   "metadata": {},
   "source": [
    "Loss Graph"
   ]
  },
  {
   "cell_type": "code",
   "execution_count": null,
   "id": "8bda4eea",
   "metadata": {},
   "outputs": [
    {
     "data": {
      "image/png": "[encoded data removed]",
      "text/plain": [
       "<Figure size 1000x600 with 1 Axes>"
      ]
     },
     "metadata": {},
     "output_type": "display_data"
    }
   ],
   "source": [
    "x = range(len(loss_list))\n",
    "plt.figure(figsize=(10, 6))\n",
    "plt.plot(x, loss_list, marker='o', linestyle='', color='r')\n",
    "plt.title('Loss per Epoch')\n",
    "plt.xlabel('Epochs')\n",
    "plt.ylabel('Loss')\n",
    "plt.grid(True)\n",
    "plt.show()"
   ]
  },
  {
   "cell_type": "code",
   "execution_count": null,
   "id": "b612e200",
   "metadata": {},
   "outputs": [],
   "source": [
    "import tensorflow as tf \n",
    "from tensorflow.keras import datasets, layers, models \n",
    "import matplotlib.pyplot as plt "
   ]
  },
  {
   "cell_type": "code",
   "execution_count": null,
   "id": "fc80c96f",
   "metadata": {},
   "outputs": [
    {
     "data": {
      "text/plain": [
       "(10272, 300)"
      ]
     },
     "execution_count": 68,
     "metadata": {},
     "output_type": "execute_result"
    }
   ],
   "source": [
    "X_train.shape"
   ]
  },
  {
   "cell_type": "code",
   "execution_count": null,
   "id": "08682f09",
   "metadata": {},
   "outputs": [
    {
     "data": {
      "text/plain": [
       "(10272,)"
      ]
     },
     "execution_count": 69,
     "metadata": {},
     "output_type": "execute_result"
    }
   ],
   "source": [
    "y_train.shape"
   ]
  },
  {
   "cell_type": "markdown",
   "id": "047d31af",
   "metadata": {},
   "source": [
    "Just testing out another Fully Connected Layers code from a website"
   ]
  },
  {
   "cell_type": "code",
   "execution_count": null,
   "id": "81668176",
   "metadata": {},
   "outputs": [
    {
     "name": "stdout",
     "output_type": "stream",
     "text": [
      "Epoch 1/250\n",
      "321/321 [==============================] - 1s 2ms/step - loss: 1.5906 - accuracy: 0.4617 - val_loss: 1.5409 - val_accuracy: 0.4692\n",
      "Epoch 2/250\n",
      "321/321 [==============================] - 0s 1ms/step - loss: 1.5515 - accuracy: 0.4629 - val_loss: 1.5363 - val_accuracy: 0.4692\n",
      "Epoch 3/250\n",
      "321/321 [==============================] - 0s 1ms/step - loss: 1.5376 - accuracy: 0.4629 - val_loss: 1.5270 - val_accuracy: 0.4692\n",
      "Epoch 4/250\n",
      "321/321 [==============================] - 0s 1ms/step - loss: 1.5261 - accuracy: 0.4618 - val_loss: 1.5077 - val_accuracy: 0.4657\n",
      "Epoch 5/250\n",
      "321/321 [==============================] - 0s 1ms/step - loss: 1.5133 - accuracy: 0.4618 - val_loss: 1.4965 - val_accuracy: 0.4677\n",
      "Epoch 6/250\n",
      "321/321 [==============================] - 0s 1ms/step - loss: 1.5093 - accuracy: 0.4613 - val_loss: 1.5203 - val_accuracy: 0.4688\n",
      "Epoch 7/250\n",
      "321/321 [==============================] - 0s 1ms/step - loss: 1.5058 - accuracy: 0.4646 - val_loss: 1.4881 - val_accuracy: 0.4743\n",
      "Epoch 8/250\n",
      "321/321 [==============================] - 0s 1ms/step - loss: 1.4976 - accuracy: 0.4622 - val_loss: 1.5352 - val_accuracy: 0.4607\n",
      "Epoch 9/250\n",
      "321/321 [==============================] - 0s 1ms/step - loss: 1.4940 - accuracy: 0.4613 - val_loss: 1.4907 - val_accuracy: 0.4681\n",
      "Epoch 10/250\n",
      "321/321 [==============================] - 0s 1ms/step - loss: 1.4921 - accuracy: 0.4647 - val_loss: 1.4694 - val_accuracy: 0.4759\n",
      "Epoch 11/250\n",
      "321/321 [==============================] - 0s 1ms/step - loss: 1.4849 - accuracy: 0.4648 - val_loss: 1.4764 - val_accuracy: 0.4712\n",
      "Epoch 12/250\n",
      "321/321 [==============================] - 0s 1ms/step - loss: 1.4884 - accuracy: 0.4672 - val_loss: 1.5043 - val_accuracy: 0.4700\n",
      "Epoch 13/250\n",
      "321/321 [==============================] - 0s 1ms/step - loss: 1.4850 - accuracy: 0.4683 - val_loss: 1.4721 - val_accuracy: 0.4794\n",
      "Epoch 14/250\n",
      "321/321 [==============================] - 0s 1ms/step - loss: 1.4794 - accuracy: 0.4640 - val_loss: 1.4786 - val_accuracy: 0.4704\n",
      "Epoch 15/250\n",
      "321/321 [==============================] - 0s 1ms/step - loss: 1.4787 - accuracy: 0.4688 - val_loss: 1.4654 - val_accuracy: 0.4801\n",
      "Epoch 16/250\n",
      "321/321 [==============================] - 0s 1ms/step - loss: 1.4775 - accuracy: 0.4657 - val_loss: 1.4691 - val_accuracy: 0.4759\n",
      "Epoch 17/250\n",
      "321/321 [==============================] - 0s 1ms/step - loss: 1.4736 - accuracy: 0.4687 - val_loss: 1.4612 - val_accuracy: 0.4821\n",
      "Epoch 18/250\n",
      "321/321 [==============================] - 0s 1ms/step - loss: 1.4743 - accuracy: 0.4686 - val_loss: 1.4650 - val_accuracy: 0.4762\n",
      "Epoch 19/250\n",
      "321/321 [==============================] - 0s 1ms/step - loss: 1.4735 - accuracy: 0.4685 - val_loss: 1.4742 - val_accuracy: 0.4735\n",
      "Epoch 20/250\n",
      "321/321 [==============================] - 0s 1ms/step - loss: 1.4722 - accuracy: 0.4694 - val_loss: 1.4615 - val_accuracy: 0.4782\n",
      "Epoch 21/250\n",
      "321/321 [==============================] - 0s 1ms/step - loss: 1.4708 - accuracy: 0.4732 - val_loss: 1.4597 - val_accuracy: 0.4778\n",
      "Epoch 22/250\n",
      "321/321 [==============================] - 0s 1ms/step - loss: 1.4710 - accuracy: 0.4696 - val_loss: 1.4555 - val_accuracy: 0.4805\n",
      "Epoch 23/250\n",
      "321/321 [==============================] - 0s 1ms/step - loss: 1.4680 - accuracy: 0.4695 - val_loss: 1.4598 - val_accuracy: 0.4794\n",
      "Epoch 24/250\n",
      "321/321 [==============================] - 0s 1ms/step - loss: 1.4686 - accuracy: 0.4706 - val_loss: 1.4654 - val_accuracy: 0.4805\n",
      "Epoch 25/250\n",
      "321/321 [==============================] - 0s 1ms/step - loss: 1.4647 - accuracy: 0.4717 - val_loss: 1.4534 - val_accuracy: 0.4864\n",
      "Epoch 26/250\n",
      "321/321 [==============================] - 0s 1ms/step - loss: 1.4652 - accuracy: 0.4719 - val_loss: 1.4535 - val_accuracy: 0.4821\n",
      "Epoch 27/250\n",
      "321/321 [==============================] - 0s 1ms/step - loss: 1.4648 - accuracy: 0.4698 - val_loss: 1.4538 - val_accuracy: 0.4798\n",
      "Epoch 28/250\n",
      "321/321 [==============================] - 0s 1ms/step - loss: 1.4607 - accuracy: 0.4718 - val_loss: 1.4583 - val_accuracy: 0.4762\n",
      "Epoch 29/250\n",
      "321/321 [==============================] - 0s 1ms/step - loss: 1.4610 - accuracy: 0.4740 - val_loss: 1.4542 - val_accuracy: 0.4790\n",
      "Epoch 30/250\n",
      "321/321 [==============================] - 0s 1ms/step - loss: 1.4634 - accuracy: 0.4696 - val_loss: 1.4711 - val_accuracy: 0.4786\n",
      "Epoch 31/250\n",
      "321/321 [==============================] - 0s 1ms/step - loss: 1.4593 - accuracy: 0.4755 - val_loss: 1.4524 - val_accuracy: 0.4871\n",
      "Epoch 32/250\n",
      "321/321 [==============================] - 0s 1ms/step - loss: 1.4633 - accuracy: 0.4738 - val_loss: 1.4540 - val_accuracy: 0.4871\n",
      "Epoch 33/250\n",
      "321/321 [==============================] - 0s 1ms/step - loss: 1.4567 - accuracy: 0.4739 - val_loss: 1.4515 - val_accuracy: 0.4883\n",
      "Epoch 34/250\n",
      "321/321 [==============================] - 0s 1ms/step - loss: 1.4577 - accuracy: 0.4735 - val_loss: 1.4556 - val_accuracy: 0.4778\n",
      "Epoch 35/250\n",
      "321/321 [==============================] - 0s 1ms/step - loss: 1.4579 - accuracy: 0.4741 - val_loss: 1.4543 - val_accuracy: 0.4801\n",
      "Epoch 36/250\n",
      "321/321 [==============================] - 0s 1ms/step - loss: 1.4565 - accuracy: 0.4754 - val_loss: 1.4478 - val_accuracy: 0.4848\n",
      "Epoch 37/250\n",
      "321/321 [==============================] - 0s 1ms/step - loss: 1.4544 - accuracy: 0.4744 - val_loss: 1.4482 - val_accuracy: 0.4840\n",
      "Epoch 38/250\n",
      "321/321 [==============================] - 0s 1ms/step - loss: 1.4545 - accuracy: 0.4767 - val_loss: 1.4518 - val_accuracy: 0.4825\n",
      "Epoch 39/250\n",
      "321/321 [==============================] - 0s 1ms/step - loss: 1.4559 - accuracy: 0.4758 - val_loss: 1.4598 - val_accuracy: 0.4848\n",
      "Epoch 40/250\n",
      "321/321 [==============================] - 0s 1ms/step - loss: 1.4529 - accuracy: 0.4720 - val_loss: 1.4508 - val_accuracy: 0.4836\n",
      "Epoch 41/250\n",
      "321/321 [==============================] - 0s 1ms/step - loss: 1.4522 - accuracy: 0.4748 - val_loss: 1.4443 - val_accuracy: 0.4856\n",
      "Epoch 42/250\n",
      "321/321 [==============================] - 0s 1ms/step - loss: 1.4493 - accuracy: 0.4753 - val_loss: 1.4623 - val_accuracy: 0.4840\n",
      "Epoch 43/250\n",
      "321/321 [==============================] - 0s 1ms/step - loss: 1.4508 - accuracy: 0.4732 - val_loss: 1.4506 - val_accuracy: 0.4786\n",
      "Epoch 44/250\n",
      "321/321 [==============================] - 0s 1ms/step - loss: 1.4513 - accuracy: 0.4749 - val_loss: 1.4792 - val_accuracy: 0.4821\n",
      "Epoch 45/250\n",
      "321/321 [==============================] - 0s 1ms/step - loss: 1.4503 - accuracy: 0.4769 - val_loss: 1.4635 - val_accuracy: 0.4848\n",
      "Epoch 46/250\n",
      "321/321 [==============================] - 0s 1ms/step - loss: 1.4490 - accuracy: 0.4787 - val_loss: 1.4514 - val_accuracy: 0.4883\n",
      "Epoch 47/250\n",
      "321/321 [==============================] - 0s 1ms/step - loss: 1.4489 - accuracy: 0.4757 - val_loss: 1.4570 - val_accuracy: 0.4805\n",
      "Epoch 48/250\n",
      "321/321 [==============================] - 0s 1ms/step - loss: 1.4484 - accuracy: 0.4761 - val_loss: 1.4439 - val_accuracy: 0.4891\n",
      "Epoch 49/250\n",
      "321/321 [==============================] - 0s 1ms/step - loss: 1.4462 - accuracy: 0.4751 - val_loss: 1.4562 - val_accuracy: 0.4856\n",
      "Epoch 50/250\n",
      "321/321 [==============================] - 0s 1ms/step - loss: 1.4464 - accuracy: 0.4778 - val_loss: 1.4528 - val_accuracy: 0.4813\n",
      "Epoch 51/250\n",
      "321/321 [==============================] - 0s 1ms/step - loss: 1.4485 - accuracy: 0.4784 - val_loss: 1.4676 - val_accuracy: 0.4930\n",
      "Epoch 52/250\n",
      "321/321 [==============================] - 0s 1ms/step - loss: 1.4491 - accuracy: 0.4760 - val_loss: 1.4435 - val_accuracy: 0.4883\n",
      "Epoch 53/250\n",
      "321/321 [==============================] - 0s 1ms/step - loss: 1.4449 - accuracy: 0.4761 - val_loss: 1.4485 - val_accuracy: 0.4910\n",
      "Epoch 54/250\n",
      "321/321 [==============================] - 0s 1ms/step - loss: 1.4417 - accuracy: 0.4794 - val_loss: 1.4468 - val_accuracy: 0.4922\n",
      "Epoch 55/250\n",
      "321/321 [==============================] - 0s 1ms/step - loss: 1.4444 - accuracy: 0.4789 - val_loss: 1.4553 - val_accuracy: 0.4934\n",
      "Epoch 56/250\n",
      "321/321 [==============================] - 0s 1ms/step - loss: 1.4433 - accuracy: 0.4785 - val_loss: 1.4533 - val_accuracy: 0.4864\n",
      "Epoch 57/250\n",
      "321/321 [==============================] - 0s 1ms/step - loss: 1.4435 - accuracy: 0.4794 - val_loss: 1.4517 - val_accuracy: 0.4871\n",
      "Epoch 58/250\n",
      "321/321 [==============================] - 0s 1ms/step - loss: 1.4412 - accuracy: 0.4806 - val_loss: 1.4507 - val_accuracy: 0.4856\n",
      "Epoch 59/250\n",
      "321/321 [==============================] - 0s 1ms/step - loss: 1.4425 - accuracy: 0.4808 - val_loss: 1.4525 - val_accuracy: 0.4868\n",
      "Epoch 60/250\n",
      "321/321 [==============================] - 0s 1ms/step - loss: 1.4425 - accuracy: 0.4779 - val_loss: 1.4549 - val_accuracy: 0.4794\n",
      "Epoch 61/250\n",
      "321/321 [==============================] - 0s 1ms/step - loss: 1.4418 - accuracy: 0.4807 - val_loss: 1.4523 - val_accuracy: 0.4945\n",
      "Epoch 62/250\n",
      "321/321 [==============================] - 0s 1ms/step - loss: 1.4389 - accuracy: 0.4769 - val_loss: 1.4481 - val_accuracy: 0.4864\n",
      "Epoch 63/250\n",
      "321/321 [==============================] - 0s 1ms/step - loss: 1.4429 - accuracy: 0.4795 - val_loss: 1.4552 - val_accuracy: 0.4875\n",
      "Epoch 64/250\n",
      "321/321 [==============================] - 0s 1ms/step - loss: 1.4376 - accuracy: 0.4807 - val_loss: 1.4644 - val_accuracy: 0.4879\n",
      "Epoch 65/250\n",
      "321/321 [==============================] - 0s 1ms/step - loss: 1.4384 - accuracy: 0.4813 - val_loss: 1.4515 - val_accuracy: 0.4895\n",
      "Epoch 66/250\n",
      "321/321 [==============================] - 0s 1ms/step - loss: 1.4362 - accuracy: 0.4805 - val_loss: 1.4718 - val_accuracy: 0.4836\n",
      "Epoch 67/250\n",
      "321/321 [==============================] - 0s 1ms/step - loss: 1.4388 - accuracy: 0.4776 - val_loss: 1.4595 - val_accuracy: 0.4817\n",
      "Epoch 68/250\n",
      "321/321 [==============================] - 0s 1ms/step - loss: 1.4362 - accuracy: 0.4803 - val_loss: 1.4576 - val_accuracy: 0.4836\n",
      "Epoch 69/250\n",
      "321/321 [==============================] - 0s 1ms/step - loss: 1.4375 - accuracy: 0.4805 - val_loss: 1.4520 - val_accuracy: 0.4926\n",
      "Epoch 70/250\n",
      "321/321 [==============================] - 0s 1ms/step - loss: 1.4387 - accuracy: 0.4801 - val_loss: 1.4492 - val_accuracy: 0.4848\n",
      "Epoch 71/250\n",
      "321/321 [==============================] - 0s 1ms/step - loss: 1.4338 - accuracy: 0.4801 - val_loss: 1.4560 - val_accuracy: 0.4848\n",
      "Epoch 72/250\n",
      "321/321 [==============================] - 0s 1ms/step - loss: 1.4325 - accuracy: 0.4829 - val_loss: 1.4514 - val_accuracy: 0.4825\n",
      "Epoch 73/250\n",
      "321/321 [==============================] - 0s 1ms/step - loss: 1.4332 - accuracy: 0.4820 - val_loss: 1.4572 - val_accuracy: 0.4840\n",
      "Epoch 74/250\n",
      "321/321 [==============================] - 0s 1ms/step - loss: 1.4323 - accuracy: 0.4844 - val_loss: 1.4679 - val_accuracy: 0.4871\n",
      "Epoch 75/250\n",
      "321/321 [==============================] - 0s 1ms/step - loss: 1.4324 - accuracy: 0.4810 - val_loss: 1.4612 - val_accuracy: 0.4899\n",
      "Epoch 76/250\n",
      "321/321 [==============================] - 0s 1ms/step - loss: 1.4309 - accuracy: 0.4849 - val_loss: 1.4490 - val_accuracy: 0.4934\n",
      "Epoch 77/250\n",
      "321/321 [==============================] - 0s 1ms/step - loss: 1.4278 - accuracy: 0.4836 - val_loss: 1.4670 - val_accuracy: 0.4825\n",
      "Epoch 78/250\n",
      "321/321 [==============================] - 0s 1ms/step - loss: 1.4325 - accuracy: 0.4848 - val_loss: 1.4538 - val_accuracy: 0.4922\n",
      "Epoch 79/250\n",
      "321/321 [==============================] - 0s 1ms/step - loss: 1.4302 - accuracy: 0.4836 - val_loss: 1.4467 - val_accuracy: 0.4926\n",
      "Epoch 80/250\n",
      "321/321 [==============================] - 0s 1ms/step - loss: 1.4279 - accuracy: 0.4839 - val_loss: 1.4490 - val_accuracy: 0.4883\n",
      "Epoch 81/250\n",
      "321/321 [==============================] - 0s 1ms/step - loss: 1.4264 - accuracy: 0.4838 - val_loss: 1.4475 - val_accuracy: 0.4860\n",
      "Epoch 82/250\n",
      "321/321 [==============================] - 0s 1ms/step - loss: 1.4260 - accuracy: 0.4855 - val_loss: 1.4433 - val_accuracy: 0.4942\n",
      "Epoch 83/250\n",
      "321/321 [==============================] - 0s 1ms/step - loss: 1.4263 - accuracy: 0.4880 - val_loss: 1.4621 - val_accuracy: 0.4871\n",
      "Epoch 84/250\n",
      "321/321 [==============================] - 0s 1ms/step - loss: 1.4311 - accuracy: 0.4832 - val_loss: 1.4712 - val_accuracy: 0.4907\n",
      "Epoch 85/250\n",
      "321/321 [==============================] - 0s 1ms/step - loss: 1.4255 - accuracy: 0.4844 - val_loss: 1.4501 - val_accuracy: 0.4910\n",
      "Epoch 86/250\n",
      "321/321 [==============================] - 0s 1ms/step - loss: 1.4223 - accuracy: 0.4868 - val_loss: 1.4598 - val_accuracy: 0.4903\n",
      "Epoch 87/250\n",
      "321/321 [==============================] - 0s 1ms/step - loss: 1.4255 - accuracy: 0.4873 - val_loss: 1.4469 - val_accuracy: 0.4942\n",
      "Epoch 88/250\n",
      "321/321 [==============================] - 0s 1ms/step - loss: 1.4215 - accuracy: 0.4871 - val_loss: 1.4493 - val_accuracy: 0.4922\n",
      "Epoch 89/250\n",
      "321/321 [==============================] - 0s 1ms/step - loss: 1.4216 - accuracy: 0.4863 - val_loss: 1.4631 - val_accuracy: 0.4926\n",
      "Epoch 90/250\n",
      "321/321 [==============================] - 0s 1ms/step - loss: 1.4197 - accuracy: 0.4851 - val_loss: 1.4507 - val_accuracy: 0.4891\n",
      "Epoch 91/250\n",
      "321/321 [==============================] - 0s 1ms/step - loss: 1.4198 - accuracy: 0.4854 - val_loss: 1.4523 - val_accuracy: 0.4907\n",
      "Epoch 92/250\n",
      "321/321 [==============================] - 0s 1ms/step - loss: 1.4199 - accuracy: 0.4871 - val_loss: 1.4511 - val_accuracy: 0.4910\n",
      "Epoch 93/250\n",
      "321/321 [==============================] - 0s 1ms/step - loss: 1.4200 - accuracy: 0.4888 - val_loss: 1.4616 - val_accuracy: 0.4864\n",
      "Epoch 94/250\n",
      "321/321 [==============================] - 0s 1ms/step - loss: 1.4156 - accuracy: 0.4867 - val_loss: 1.4591 - val_accuracy: 0.4942\n",
      "Epoch 95/250\n",
      "321/321 [==============================] - 0s 1ms/step - loss: 1.4221 - accuracy: 0.4844 - val_loss: 1.4728 - val_accuracy: 0.4868\n",
      "Epoch 96/250\n",
      "321/321 [==============================] - 0s 1ms/step - loss: 1.4159 - accuracy: 0.4892 - val_loss: 1.4620 - val_accuracy: 0.4961\n",
      "Epoch 97/250\n",
      "321/321 [==============================] - 0s 1ms/step - loss: 1.4149 - accuracy: 0.4875 - val_loss: 1.4581 - val_accuracy: 0.4914\n",
      "Epoch 98/250\n",
      "321/321 [==============================] - 0s 1ms/step - loss: 1.4163 - accuracy: 0.4884 - val_loss: 1.4527 - val_accuracy: 0.4891\n",
      "Epoch 99/250\n",
      "321/321 [==============================] - 0s 1ms/step - loss: 1.4146 - accuracy: 0.4845 - val_loss: 1.4573 - val_accuracy: 0.4895\n",
      "Epoch 100/250\n",
      "321/321 [==============================] - 0s 1ms/step - loss: 1.4150 - accuracy: 0.4862 - val_loss: 1.4556 - val_accuracy: 0.4899\n",
      "Epoch 101/250\n",
      "321/321 [==============================] - 0s 1ms/step - loss: 1.4082 - accuracy: 0.4915 - val_loss: 1.4514 - val_accuracy: 0.4965\n",
      "Epoch 102/250\n",
      "321/321 [==============================] - 0s 1ms/step - loss: 1.4129 - accuracy: 0.4878 - val_loss: 1.4603 - val_accuracy: 0.4864\n",
      "Epoch 103/250\n",
      "321/321 [==============================] - 0s 1ms/step - loss: 1.4104 - accuracy: 0.4900 - val_loss: 1.4553 - val_accuracy: 0.4922\n",
      "Epoch 104/250\n",
      "321/321 [==============================] - 0s 1ms/step - loss: 1.4083 - accuracy: 0.4893 - val_loss: 1.4636 - val_accuracy: 0.4910\n",
      "Epoch 105/250\n",
      "321/321 [==============================] - 0s 1ms/step - loss: 1.4091 - accuracy: 0.4908 - val_loss: 1.4639 - val_accuracy: 0.4856\n",
      "Epoch 106/250\n",
      "321/321 [==============================] - 0s 1ms/step - loss: 1.4064 - accuracy: 0.4932 - val_loss: 1.4624 - val_accuracy: 0.4860\n",
      "Epoch 107/250\n",
      "321/321 [==============================] - 0s 1ms/step - loss: 1.4087 - accuracy: 0.4893 - val_loss: 1.4699 - val_accuracy: 0.4887\n",
      "Epoch 108/250\n",
      "321/321 [==============================] - 0s 1ms/step - loss: 1.4066 - accuracy: 0.4876 - val_loss: 1.4599 - val_accuracy: 0.4922\n",
      "Epoch 109/250\n",
      "321/321 [==============================] - 0s 1ms/step - loss: 1.4035 - accuracy: 0.4904 - val_loss: 1.4583 - val_accuracy: 0.4891\n",
      "Epoch 110/250\n",
      "321/321 [==============================] - 0s 1ms/step - loss: 1.4061 - accuracy: 0.4888 - val_loss: 1.4673 - val_accuracy: 0.4887\n",
      "Epoch 111/250\n",
      "321/321 [==============================] - 0s 1ms/step - loss: 1.4043 - accuracy: 0.4894 - val_loss: 1.4600 - val_accuracy: 0.4918\n",
      "Epoch 112/250\n",
      "321/321 [==============================] - 0s 1ms/step - loss: 1.4027 - accuracy: 0.4915 - val_loss: 1.4663 - val_accuracy: 0.4879\n",
      "Epoch 113/250\n",
      "321/321 [==============================] - 0s 1ms/step - loss: 1.4027 - accuracy: 0.4918 - val_loss: 1.4751 - val_accuracy: 0.4922\n",
      "Epoch 114/250\n",
      "321/321 [==============================] - 0s 1ms/step - loss: 1.4022 - accuracy: 0.4923 - val_loss: 1.4681 - val_accuracy: 0.4957\n",
      "Epoch 115/250\n",
      "321/321 [==============================] - 0s 1ms/step - loss: 1.4021 - accuracy: 0.4901 - val_loss: 1.4552 - val_accuracy: 0.4922\n",
      "Epoch 116/250\n",
      "321/321 [==============================] - 0s 1ms/step - loss: 1.4004 - accuracy: 0.4910 - val_loss: 1.4619 - val_accuracy: 0.4969\n",
      "Epoch 117/250\n",
      "321/321 [==============================] - 0s 1ms/step - loss: 1.3980 - accuracy: 0.4908 - val_loss: 1.4542 - val_accuracy: 0.4930\n",
      "Epoch 118/250\n",
      "321/321 [==============================] - 0s 1ms/step - loss: 1.4006 - accuracy: 0.4928 - val_loss: 1.4817 - val_accuracy: 0.4860\n",
      "Epoch 119/250\n",
      "321/321 [==============================] - 0s 1ms/step - loss: 1.3985 - accuracy: 0.4928 - val_loss: 1.4628 - val_accuracy: 0.4918\n",
      "Epoch 120/250\n",
      "321/321 [==============================] - 0s 1ms/step - loss: 1.3971 - accuracy: 0.4914 - val_loss: 1.4626 - val_accuracy: 0.4899\n",
      "Epoch 121/250\n",
      "321/321 [==============================] - 0s 1ms/step - loss: 1.3974 - accuracy: 0.4933 - val_loss: 1.4796 - val_accuracy: 0.4829\n",
      "Epoch 122/250\n",
      "321/321 [==============================] - 0s 1ms/step - loss: 1.3949 - accuracy: 0.4918 - val_loss: 1.4821 - val_accuracy: 0.4852\n",
      "Epoch 123/250\n",
      "321/321 [==============================] - 0s 1ms/step - loss: 1.3960 - accuracy: 0.4946 - val_loss: 1.4715 - val_accuracy: 0.4852\n",
      "Epoch 124/250\n",
      "321/321 [==============================] - 0s 1ms/step - loss: 1.3946 - accuracy: 0.4937 - val_loss: 1.4621 - val_accuracy: 0.4852\n",
      "Epoch 125/250\n",
      "321/321 [==============================] - 0s 1ms/step - loss: 1.3944 - accuracy: 0.4962 - val_loss: 1.4645 - val_accuracy: 0.4934\n",
      "Epoch 126/250\n",
      "321/321 [==============================] - 0s 1ms/step - loss: 1.3934 - accuracy: 0.4930 - val_loss: 1.4576 - val_accuracy: 0.4934\n",
      "Epoch 127/250\n",
      "321/321 [==============================] - 0s 1ms/step - loss: 1.3913 - accuracy: 0.4966 - val_loss: 1.4765 - val_accuracy: 0.4875\n",
      "Epoch 128/250\n",
      "321/321 [==============================] - 0s 1ms/step - loss: 1.3888 - accuracy: 0.4933 - val_loss: 1.4710 - val_accuracy: 0.4875\n",
      "Epoch 129/250\n",
      "321/321 [==============================] - 0s 1ms/step - loss: 1.3894 - accuracy: 0.4980 - val_loss: 1.4813 - val_accuracy: 0.4879\n",
      "Epoch 130/250\n",
      "321/321 [==============================] - 0s 1ms/step - loss: 1.3885 - accuracy: 0.4967 - val_loss: 1.4695 - val_accuracy: 0.4864\n",
      "Epoch 131/250\n",
      "321/321 [==============================] - 0s 1ms/step - loss: 1.3875 - accuracy: 0.4960 - val_loss: 1.4613 - val_accuracy: 0.4868\n",
      "Epoch 132/250\n",
      "321/321 [==============================] - 0s 1ms/step - loss: 1.3878 - accuracy: 0.4966 - val_loss: 1.4737 - val_accuracy: 0.4801\n",
      "Epoch 133/250\n",
      "321/321 [==============================] - 0s 1ms/step - loss: 1.3852 - accuracy: 0.4948 - val_loss: 1.4716 - val_accuracy: 0.4914\n",
      "Epoch 134/250\n",
      "321/321 [==============================] - 0s 1ms/step - loss: 1.3866 - accuracy: 0.4975 - val_loss: 1.4742 - val_accuracy: 0.4879\n",
      "Epoch 135/250\n",
      "321/321 [==============================] - 0s 1ms/step - loss: 1.3827 - accuracy: 0.5008 - val_loss: 1.4768 - val_accuracy: 0.4930\n",
      "Epoch 136/250\n",
      "321/321 [==============================] - 0s 1ms/step - loss: 1.3858 - accuracy: 0.4928 - val_loss: 1.4653 - val_accuracy: 0.4879\n",
      "Epoch 137/250\n",
      "321/321 [==============================] - 0s 1ms/step - loss: 1.3813 - accuracy: 0.4981 - val_loss: 1.4663 - val_accuracy: 0.4918\n",
      "Epoch 138/250\n",
      "321/321 [==============================] - 0s 1ms/step - loss: 1.3800 - accuracy: 0.4980 - val_loss: 1.4705 - val_accuracy: 0.4875\n",
      "Epoch 139/250\n",
      "321/321 [==============================] - 0s 1ms/step - loss: 1.3825 - accuracy: 0.4975 - val_loss: 1.4685 - val_accuracy: 0.4856\n",
      "Epoch 140/250\n",
      "321/321 [==============================] - 0s 1ms/step - loss: 1.3779 - accuracy: 0.4965 - val_loss: 1.4769 - val_accuracy: 0.4930\n",
      "Epoch 141/250\n",
      "321/321 [==============================] - 0s 1ms/step - loss: 1.3784 - accuracy: 0.4975 - val_loss: 1.4692 - val_accuracy: 0.4934\n",
      "Epoch 142/250\n",
      "321/321 [==============================] - 0s 1ms/step - loss: 1.3785 - accuracy: 0.4979 - val_loss: 1.4669 - val_accuracy: 0.4895\n",
      "Epoch 143/250\n",
      "321/321 [==============================] - 0s 1ms/step - loss: 1.3733 - accuracy: 0.4989 - val_loss: 1.4713 - val_accuracy: 0.4864\n",
      "Epoch 144/250\n",
      "321/321 [==============================] - 0s 1ms/step - loss: 1.3766 - accuracy: 0.4954 - val_loss: 1.4710 - val_accuracy: 0.4821\n",
      "Epoch 145/250\n",
      "321/321 [==============================] - 0s 1ms/step - loss: 1.3765 - accuracy: 0.4967 - val_loss: 1.4942 - val_accuracy: 0.4821\n",
      "Epoch 146/250\n",
      "321/321 [==============================] - 0s 1ms/step - loss: 1.3732 - accuracy: 0.5018 - val_loss: 1.4780 - val_accuracy: 0.4868\n",
      "Epoch 147/250\n",
      "321/321 [==============================] - 0s 1ms/step - loss: 1.3740 - accuracy: 0.4987 - val_loss: 1.4775 - val_accuracy: 0.4813\n",
      "Epoch 148/250\n",
      "321/321 [==============================] - 0s 1ms/step - loss: 1.3713 - accuracy: 0.5014 - val_loss: 1.4729 - val_accuracy: 0.4864\n",
      "Epoch 149/250\n",
      "321/321 [==============================] - 0s 1ms/step - loss: 1.3714 - accuracy: 0.5019 - val_loss: 1.4847 - val_accuracy: 0.4825\n",
      "Epoch 150/250\n",
      "321/321 [==============================] - 0s 1ms/step - loss: 1.3680 - accuracy: 0.5023 - val_loss: 1.4873 - val_accuracy: 0.4836\n",
      "Epoch 151/250\n",
      "321/321 [==============================] - 0s 1ms/step - loss: 1.3707 - accuracy: 0.4988 - val_loss: 1.4978 - val_accuracy: 0.4759\n",
      "Epoch 152/250\n",
      "321/321 [==============================] - 0s 1ms/step - loss: 1.3693 - accuracy: 0.5029 - val_loss: 1.4789 - val_accuracy: 0.4895\n",
      "Epoch 153/250\n",
      "321/321 [==============================] - 0s 1ms/step - loss: 1.3700 - accuracy: 0.5022 - val_loss: 1.4748 - val_accuracy: 0.4875\n",
      "Epoch 154/250\n",
      "321/321 [==============================] - 0s 1ms/step - loss: 1.3669 - accuracy: 0.5042 - val_loss: 1.4760 - val_accuracy: 0.4813\n",
      "Epoch 155/250\n",
      "321/321 [==============================] - 0s 1ms/step - loss: 1.3624 - accuracy: 0.5057 - val_loss: 1.4792 - val_accuracy: 0.4883\n",
      "Epoch 156/250\n",
      "321/321 [==============================] - 0s 1ms/step - loss: 1.3634 - accuracy: 0.5052 - val_loss: 1.4815 - val_accuracy: 0.4794\n",
      "Epoch 157/250\n",
      "321/321 [==============================] - 0s 1ms/step - loss: 1.3612 - accuracy: 0.5065 - val_loss: 1.4742 - val_accuracy: 0.4899\n",
      "Epoch 158/250\n",
      "321/321 [==============================] - 0s 1ms/step - loss: 1.3646 - accuracy: 0.5011 - val_loss: 1.4787 - val_accuracy: 0.4821\n",
      "Epoch 159/250\n",
      "321/321 [==============================] - 0s 1ms/step - loss: 1.3642 - accuracy: 0.4998 - val_loss: 1.4846 - val_accuracy: 0.4817\n",
      "Epoch 160/250\n",
      "321/321 [==============================] - 0s 1ms/step - loss: 1.3597 - accuracy: 0.5034 - val_loss: 1.4824 - val_accuracy: 0.4821\n",
      "Epoch 161/250\n",
      "321/321 [==============================] - 0s 1ms/step - loss: 1.3620 - accuracy: 0.5033 - val_loss: 1.4909 - val_accuracy: 0.4774\n",
      "Epoch 162/250\n",
      "321/321 [==============================] - 0s 1ms/step - loss: 1.3597 - accuracy: 0.5022 - val_loss: 1.4798 - val_accuracy: 0.4840\n",
      "Epoch 163/250\n",
      "321/321 [==============================] - 0s 1ms/step - loss: 1.3588 - accuracy: 0.5047 - val_loss: 1.4822 - val_accuracy: 0.4907\n",
      "Epoch 164/250\n",
      "321/321 [==============================] - 0s 1ms/step - loss: 1.3549 - accuracy: 0.5044 - val_loss: 1.4842 - val_accuracy: 0.4821\n",
      "Epoch 165/250\n",
      "321/321 [==============================] - 0s 1ms/step - loss: 1.3514 - accuracy: 0.5069 - val_loss: 1.4833 - val_accuracy: 0.4840\n",
      "Epoch 166/250\n",
      "321/321 [==============================] - 0s 1ms/step - loss: 1.3533 - accuracy: 0.5088 - val_loss: 1.4964 - val_accuracy: 0.4821\n",
      "Epoch 167/250\n",
      "321/321 [==============================] - 0s 1ms/step - loss: 1.3514 - accuracy: 0.5066 - val_loss: 1.5062 - val_accuracy: 0.4805\n",
      "Epoch 168/250\n",
      "321/321 [==============================] - 0s 1ms/step - loss: 1.3495 - accuracy: 0.5040 - val_loss: 1.4843 - val_accuracy: 0.4836\n",
      "Epoch 169/250\n",
      "321/321 [==============================] - 0s 1ms/step - loss: 1.3520 - accuracy: 0.5073 - val_loss: 1.4995 - val_accuracy: 0.4821\n",
      "Epoch 170/250\n",
      "321/321 [==============================] - 0s 1ms/step - loss: 1.3504 - accuracy: 0.5039 - val_loss: 1.4767 - val_accuracy: 0.4840\n",
      "Epoch 171/250\n",
      "321/321 [==============================] - 0s 1ms/step - loss: 1.3512 - accuracy: 0.5063 - val_loss: 1.4839 - val_accuracy: 0.4852\n",
      "Epoch 172/250\n",
      "321/321 [==============================] - 0s 1ms/step - loss: 1.3455 - accuracy: 0.5064 - val_loss: 1.4851 - val_accuracy: 0.4833\n",
      "Epoch 173/250\n",
      "321/321 [==============================] - 0s 1ms/step - loss: 1.3419 - accuracy: 0.5088 - val_loss: 1.5008 - val_accuracy: 0.4848\n",
      "Epoch 174/250\n",
      "321/321 [==============================] - 0s 1ms/step - loss: 1.3447 - accuracy: 0.5079 - val_loss: 1.4955 - val_accuracy: 0.4879\n",
      "Epoch 175/250\n",
      "321/321 [==============================] - 0s 1ms/step - loss: 1.3439 - accuracy: 0.5047 - val_loss: 1.5025 - val_accuracy: 0.4856\n",
      "Epoch 176/250\n",
      "321/321 [==============================] - 0s 1ms/step - loss: 1.3443 - accuracy: 0.5109 - val_loss: 1.4923 - val_accuracy: 0.4821\n",
      "Epoch 177/250\n",
      "321/321 [==============================] - 0s 1ms/step - loss: 1.3466 - accuracy: 0.5065 - val_loss: 1.5070 - val_accuracy: 0.4724\n",
      "Epoch 178/250\n",
      "321/321 [==============================] - 0s 1ms/step - loss: 1.3442 - accuracy: 0.5082 - val_loss: 1.4950 - val_accuracy: 0.4829\n",
      "Epoch 179/250\n",
      "321/321 [==============================] - 0s 1ms/step - loss: 1.3417 - accuracy: 0.5078 - val_loss: 1.5188 - val_accuracy: 0.4798\n",
      "Epoch 180/250\n",
      "321/321 [==============================] - 0s 1ms/step - loss: 1.3448 - accuracy: 0.5076 - val_loss: 1.4978 - val_accuracy: 0.4871\n",
      "Epoch 181/250\n",
      "321/321 [==============================] - 0s 1ms/step - loss: 1.3366 - accuracy: 0.5092 - val_loss: 1.5018 - val_accuracy: 0.4829\n",
      "Epoch 182/250\n",
      "321/321 [==============================] - 0s 1ms/step - loss: 1.3382 - accuracy: 0.5083 - val_loss: 1.5131 - val_accuracy: 0.4821\n",
      "Epoch 183/250\n",
      "321/321 [==============================] - 0s 1ms/step - loss: 1.3363 - accuracy: 0.5121 - val_loss: 1.5129 - val_accuracy: 0.4833\n",
      "Epoch 184/250\n",
      "321/321 [==============================] - 0s 1ms/step - loss: 1.3337 - accuracy: 0.5113 - val_loss: 1.5005 - val_accuracy: 0.4871\n",
      "Epoch 185/250\n",
      "321/321 [==============================] - 0s 1ms/step - loss: 1.3307 - accuracy: 0.5109 - val_loss: 1.5064 - val_accuracy: 0.4821\n",
      "Epoch 186/250\n",
      "321/321 [==============================] - 0s 1ms/step - loss: 1.3321 - accuracy: 0.5115 - val_loss: 1.5181 - val_accuracy: 0.4856\n",
      "Epoch 187/250\n",
      "321/321 [==============================] - 0s 1ms/step - loss: 1.3296 - accuracy: 0.5129 - val_loss: 1.5058 - val_accuracy: 0.4833\n",
      "Epoch 188/250\n",
      "321/321 [==============================] - 0s 1ms/step - loss: 1.3316 - accuracy: 0.5119 - val_loss: 1.5091 - val_accuracy: 0.4755\n",
      "Epoch 189/250\n",
      "321/321 [==============================] - 0s 1ms/step - loss: 1.3279 - accuracy: 0.5143 - val_loss: 1.5048 - val_accuracy: 0.4786\n",
      "Epoch 190/250\n",
      "321/321 [==============================] - 0s 1ms/step - loss: 1.3327 - accuracy: 0.5114 - val_loss: 1.5106 - val_accuracy: 0.4778\n",
      "Epoch 191/250\n",
      "321/321 [==============================] - 0s 1ms/step - loss: 1.3280 - accuracy: 0.5124 - val_loss: 1.5252 - val_accuracy: 0.4755\n",
      "Epoch 192/250\n",
      "321/321 [==============================] - 0s 1ms/step - loss: 1.3230 - accuracy: 0.5134 - val_loss: 1.5183 - val_accuracy: 0.4829\n",
      "Epoch 193/250\n",
      "321/321 [==============================] - 0s 1ms/step - loss: 1.3228 - accuracy: 0.5132 - val_loss: 1.5142 - val_accuracy: 0.4825\n",
      "Epoch 194/250\n",
      "321/321 [==============================] - 0s 1ms/step - loss: 1.3239 - accuracy: 0.5129 - val_loss: 1.5279 - val_accuracy: 0.4692\n",
      "Epoch 195/250\n",
      "321/321 [==============================] - 0s 1ms/step - loss: 1.3190 - accuracy: 0.5185 - val_loss: 1.5304 - val_accuracy: 0.4809\n",
      "Epoch 196/250\n",
      "321/321 [==============================] - 0s 1ms/step - loss: 1.3213 - accuracy: 0.5135 - val_loss: 1.5352 - val_accuracy: 0.4786\n",
      "Epoch 197/250\n",
      "321/321 [==============================] - 0s 1ms/step - loss: 1.3206 - accuracy: 0.5177 - val_loss: 1.5122 - val_accuracy: 0.4856\n",
      "Epoch 198/250\n",
      "321/321 [==============================] - 0s 1ms/step - loss: 1.3180 - accuracy: 0.5158 - val_loss: 1.5191 - val_accuracy: 0.4817\n",
      "Epoch 199/250\n",
      "321/321 [==============================] - 0s 1ms/step - loss: 1.3215 - accuracy: 0.5183 - val_loss: 1.5084 - val_accuracy: 0.4805\n",
      "Epoch 200/250\n",
      "321/321 [==============================] - 0s 1ms/step - loss: 1.3179 - accuracy: 0.5159 - val_loss: 1.5092 - val_accuracy: 0.4809\n",
      "Epoch 201/250\n",
      "321/321 [==============================] - 0s 1ms/step - loss: 1.3154 - accuracy: 0.5157 - val_loss: 1.5194 - val_accuracy: 0.4809\n",
      "Epoch 202/250\n",
      "321/321 [==============================] - 0s 1ms/step - loss: 1.3142 - accuracy: 0.5199 - val_loss: 1.5214 - val_accuracy: 0.4829\n",
      "Epoch 203/250\n",
      "321/321 [==============================] - 0s 1ms/step - loss: 1.3124 - accuracy: 0.5149 - val_loss: 1.5143 - val_accuracy: 0.4829\n",
      "Epoch 204/250\n",
      "321/321 [==============================] - 0s 1ms/step - loss: 1.3135 - accuracy: 0.5173 - val_loss: 1.5264 - val_accuracy: 0.4805\n",
      "Epoch 205/250\n",
      "321/321 [==============================] - 0s 1ms/step - loss: 1.3111 - accuracy: 0.5203 - val_loss: 1.5153 - val_accuracy: 0.4762\n",
      "Epoch 206/250\n",
      "321/321 [==============================] - 0s 1ms/step - loss: 1.3138 - accuracy: 0.5161 - val_loss: 1.5239 - val_accuracy: 0.4836\n",
      "Epoch 207/250\n",
      "321/321 [==============================] - 0s 1ms/step - loss: 1.3098 - accuracy: 0.5243 - val_loss: 1.5272 - val_accuracy: 0.4821\n",
      "Epoch 208/250\n",
      "321/321 [==============================] - 0s 1ms/step - loss: 1.3084 - accuracy: 0.5186 - val_loss: 1.5111 - val_accuracy: 0.4759\n",
      "Epoch 209/250\n",
      "321/321 [==============================] - 0s 1ms/step - loss: 1.3067 - accuracy: 0.5215 - val_loss: 1.5338 - val_accuracy: 0.4798\n",
      "Epoch 210/250\n",
      "321/321 [==============================] - 0s 1ms/step - loss: 1.3038 - accuracy: 0.5238 - val_loss: 1.5303 - val_accuracy: 0.4798\n",
      "Epoch 211/250\n",
      "321/321 [==============================] - 0s 1ms/step - loss: 1.3057 - accuracy: 0.5197 - val_loss: 1.5334 - val_accuracy: 0.4871\n",
      "Epoch 212/250\n",
      "321/321 [==============================] - 0s 1ms/step - loss: 1.3021 - accuracy: 0.5227 - val_loss: 1.5298 - val_accuracy: 0.4836\n",
      "Epoch 213/250\n",
      "321/321 [==============================] - 0s 1ms/step - loss: 1.3057 - accuracy: 0.5198 - val_loss: 1.5335 - val_accuracy: 0.4801\n",
      "Epoch 214/250\n",
      "321/321 [==============================] - 0s 1ms/step - loss: 1.2992 - accuracy: 0.5206 - val_loss: 1.5365 - val_accuracy: 0.4743\n",
      "Epoch 215/250\n",
      "321/321 [==============================] - 0s 1ms/step - loss: 1.3003 - accuracy: 0.5231 - val_loss: 1.5281 - val_accuracy: 0.4856\n",
      "Epoch 216/250\n",
      "321/321 [==============================] - 0s 1ms/step - loss: 1.2995 - accuracy: 0.5250 - val_loss: 1.5305 - val_accuracy: 0.4891\n",
      "Epoch 217/250\n",
      "321/321 [==============================] - 0s 1ms/step - loss: 1.2985 - accuracy: 0.5230 - val_loss: 1.5308 - val_accuracy: 0.4778\n",
      "Epoch 218/250\n",
      "321/321 [==============================] - 0s 1ms/step - loss: 1.3005 - accuracy: 0.5225 - val_loss: 1.5290 - val_accuracy: 0.4821\n",
      "Epoch 219/250\n",
      "321/321 [==============================] - 0s 1ms/step - loss: 1.2937 - accuracy: 0.5235 - val_loss: 1.5439 - val_accuracy: 0.4801\n",
      "Epoch 220/250\n",
      "321/321 [==============================] - 0s 1ms/step - loss: 1.2955 - accuracy: 0.5244 - val_loss: 1.5359 - val_accuracy: 0.4778\n",
      "Epoch 221/250\n",
      "321/321 [==============================] - 0s 1ms/step - loss: 1.2951 - accuracy: 0.5232 - val_loss: 1.5481 - val_accuracy: 0.4692\n",
      "Epoch 222/250\n",
      "321/321 [==============================] - 0s 1ms/step - loss: 1.2937 - accuracy: 0.5248 - val_loss: 1.5297 - val_accuracy: 0.4786\n",
      "Epoch 223/250\n",
      "321/321 [==============================] - 0s 1ms/step - loss: 1.2903 - accuracy: 0.5262 - val_loss: 1.5343 - val_accuracy: 0.4809\n",
      "Epoch 224/250\n",
      "321/321 [==============================] - 0s 1ms/step - loss: 1.2934 - accuracy: 0.5241 - val_loss: 1.5282 - val_accuracy: 0.4809\n",
      "Epoch 225/250\n",
      "321/321 [==============================] - 0s 1ms/step - loss: 1.2870 - accuracy: 0.5265 - val_loss: 1.5615 - val_accuracy: 0.4743\n",
      "Epoch 226/250\n",
      "321/321 [==============================] - 0s 1ms/step - loss: 1.2914 - accuracy: 0.5226 - val_loss: 1.5534 - val_accuracy: 0.4794\n",
      "Epoch 227/250\n",
      "321/321 [==============================] - 0s 1ms/step - loss: 1.2867 - accuracy: 0.5290 - val_loss: 1.5495 - val_accuracy: 0.4735\n",
      "Epoch 228/250\n",
      "321/321 [==============================] - 0s 1ms/step - loss: 1.2853 - accuracy: 0.5295 - val_loss: 1.5451 - val_accuracy: 0.4786\n",
      "Epoch 229/250\n",
      "321/321 [==============================] - 0s 1ms/step - loss: 1.2851 - accuracy: 0.5263 - val_loss: 1.5602 - val_accuracy: 0.4688\n",
      "Epoch 230/250\n",
      "321/321 [==============================] - 0s 1ms/step - loss: 1.2912 - accuracy: 0.5254 - val_loss: 1.5704 - val_accuracy: 0.4704\n",
      "Epoch 231/250\n",
      "321/321 [==============================] - 0s 1ms/step - loss: 1.2804 - accuracy: 0.5263 - val_loss: 1.5397 - val_accuracy: 0.4782\n",
      "Epoch 232/250\n",
      "321/321 [==============================] - 0s 1ms/step - loss: 1.2790 - accuracy: 0.5289 - val_loss: 1.5727 - val_accuracy: 0.4743\n",
      "Epoch 233/250\n",
      "321/321 [==============================] - 0s 1ms/step - loss: 1.2845 - accuracy: 0.5321 - val_loss: 1.5546 - val_accuracy: 0.4681\n",
      "Epoch 234/250\n",
      "321/321 [==============================] - 0s 1ms/step - loss: 1.2768 - accuracy: 0.5281 - val_loss: 1.5556 - val_accuracy: 0.4762\n",
      "Epoch 235/250\n",
      "321/321 [==============================] - 0s 1ms/step - loss: 1.2763 - accuracy: 0.5277 - val_loss: 1.5922 - val_accuracy: 0.4716\n",
      "Epoch 236/250\n",
      "321/321 [==============================] - 0s 1ms/step - loss: 1.2832 - accuracy: 0.5337 - val_loss: 1.5481 - val_accuracy: 0.4739\n",
      "Epoch 237/250\n",
      "321/321 [==============================] - 0s 1ms/step - loss: 1.2820 - accuracy: 0.5298 - val_loss: 1.5497 - val_accuracy: 0.4790\n",
      "Epoch 238/250\n",
      "321/321 [==============================] - 0s 1ms/step - loss: 1.2739 - accuracy: 0.5260 - val_loss: 1.5720 - val_accuracy: 0.4759\n",
      "Epoch 239/250\n",
      "321/321 [==============================] - 0s 1ms/step - loss: 1.2757 - accuracy: 0.5261 - val_loss: 1.5704 - val_accuracy: 0.4786\n",
      "Epoch 240/250\n",
      "321/321 [==============================] - 0s 1ms/step - loss: 1.2781 - accuracy: 0.5315 - val_loss: 1.5403 - val_accuracy: 0.4692\n",
      "Epoch 241/250\n",
      "321/321 [==============================] - 0s 1ms/step - loss: 1.2773 - accuracy: 0.5267 - val_loss: 1.5613 - val_accuracy: 0.4712\n",
      "Epoch 242/250\n",
      "321/321 [==============================] - 0s 1ms/step - loss: 1.2734 - accuracy: 0.5290 - val_loss: 1.5704 - val_accuracy: 0.4704\n",
      "Epoch 243/250\n",
      "321/321 [==============================] - 0s 1ms/step - loss: 1.2740 - accuracy: 0.5296 - val_loss: 1.5623 - val_accuracy: 0.4727\n",
      "Epoch 244/250\n",
      "321/321 [==============================] - 0s 1ms/step - loss: 1.2648 - accuracy: 0.5358 - val_loss: 1.5757 - val_accuracy: 0.4786\n",
      "Epoch 245/250\n",
      "321/321 [==============================] - 0s 1ms/step - loss: 1.2687 - accuracy: 0.5329 - val_loss: 1.5538 - val_accuracy: 0.4817\n",
      "Epoch 246/250\n",
      "321/321 [==============================] - 0s 1ms/step - loss: 1.2671 - accuracy: 0.5334 - val_loss: 1.5570 - val_accuracy: 0.4755\n",
      "Epoch 247/250\n",
      "321/321 [==============================] - 0s 1ms/step - loss: 1.2633 - accuracy: 0.5352 - val_loss: 1.5811 - val_accuracy: 0.4708\n",
      "Epoch 248/250\n",
      "321/321 [==============================] - 0s 1ms/step - loss: 1.2647 - accuracy: 0.5358 - val_loss: 1.5685 - val_accuracy: 0.4700\n",
      "Epoch 249/250\n",
      "321/321 [==============================] - 0s 1ms/step - loss: 1.2613 - accuracy: 0.5344 - val_loss: 1.5721 - val_accuracy: 0.4778\n",
      "Epoch 250/250\n",
      "321/321 [==============================] - 0s 1ms/step - loss: 1.2664 - accuracy: 0.5323 - val_loss: 1.5738 - val_accuracy: 0.4704\n"
     ]
    }
   ],
   "source": [
    "# Initialize a sequential model\n",
    "model = models.Sequential()\n",
    "\n",
    "# Add the input layer\n",
    "model.add(layers.Input(shape=(300,)))  # Adjust the input shape to match your feature vector size\n",
    "\n",
    "# Add fully connected (Dense) layers\n",
    "model.add(layers.Dense(256, activation='relu'))  # First hidden layer with 256 units\n",
    "model.add(layers.Dense(128, activation='relu'))  # Second hidden layer with 128 units\n",
    "model.add(layers.Dense(64, activation='relu'))   # Third hidden layer with 64 units\n",
    "\n",
    "# Add the output layer\n",
    "model.add(layers.Dense(10, activation='softmax'))  # Assuming a multi-class classification problem with 10 classes\n",
    "\n",
    "# Compile the model\n",
    "model.compile(optimizer='adam',\n",
    "              loss=tf.keras.losses.SparseCategoricalCrossentropy(),  # Suitable for integer-labeled data\n",
    "              metrics=['accuracy'])\n",
    "\n",
    "# Assuming X_train, y_train, X_test, y_test are already defined and properly preprocessed\n",
    "history = model.fit(X_train, y_train, epochs=250, validation_data=(X_test, y_test))\n",
    "\n"
   ]
  },
  {
   "cell_type": "code",
   "execution_count": null,
   "id": "8b3436fe",
   "metadata": {},
   "outputs": [
    {
     "data": {
      "image/png": "[encoded data removed]",
      "text/plain": [
       "<Figure size 640x480 with 1 Axes>"
      ]
     },
     "metadata": {},
     "output_type": "display_data"
    },
    {
     "name": "stdout",
     "output_type": "stream",
     "text": [
      "81/81 - 0s - loss: 1.5738 - accuracy: 0.4704 - 63ms/epoch - 782us/step\n"
     ]
    }
   ],
   "source": [
    "# Plotting accuracy\n",
    "plt.plot(history.history['accuracy'], label='accuracy')\n",
    "plt.plot(history.history['val_accuracy'], label='val_accuracy')\n",
    "plt.xlabel('Epoch')\n",
    "plt.ylabel('Accuracy')\n",
    "plt.ylim([0, 1])  # Adjust the y-axis range to better fit your accuracy range\n",
    "plt.legend(loc='lower right')\n",
    "plt.show()\n",
    "\n",
    "# Evaluate the model\n",
    "test_loss, test_acc = model.evaluate(X_test, y_test, verbose=2)"
   ]
  }
 ],
 "metadata": {
  "kernelspec": {
   "display_name": "Python 3 (ipykernel)",
   "language": "python",
   "name": "python3"
  },
  "language_info": {
   "codemirror_mode": {
    "name": "ipython",
    "version": 3
   },
   "file_extension": ".py",
   "mimetype": "text/x-python",
   "name": "python",
   "nbconvert_exporter": "python",
   "pygments_lexer": "ipython3",
   "version": "3.11.5"
  },
  "toc": {
   "base_numbering": 1,
   "nav_menu": {},
   "number_sections": true,
   "sideBar": true,
   "skip_h1_title": false,
   "title_cell": "Table of Contents",
   "title_sidebar": "Contents",
   "toc_cell": false,
   "toc_position": {},
   "toc_section_display": true,
   "toc_window_display": false
  }
 },
 "nbformat": 4,
 "nbformat_minor": 5
}
